{
 "cells": [
  {
   "cell_type": "markdown",
   "metadata": {},
   "source": [
    "## Imports"
   ]
  },
  {
   "cell_type": "code",
   "execution_count": 4,
   "metadata": {},
   "outputs": [],
   "source": [
    "from PIL import Image, ImageSequence\n",
    "import os\n",
    "import tqdm\n",
    "from IPython.display import clear_output\n",
    "import pandas as pd\n",
    "import warnings\n",
    "warnings.filterwarnings(\"ignore\")"
   ]
  },
  {
   "cell_type": "markdown",
   "metadata": {},
   "source": [
    "## Extracting Images from TIF Files\n"
   ]
  },
  {
   "cell_type": "markdown",
   "metadata": {},
   "source": [
    "### Extracting From A Single TIF File"
   ]
  },
  {
   "cell_type": "code",
   "execution_count": 2,
   "metadata": {},
   "outputs": [],
   "source": [
    "def get_correct_num(num):\n",
    "    if isinstance(num, int):\n",
    "        num = str(num)\n",
    "    if len(num) == 1:\n",
    "        num = '00' + num\n",
    "    elif len(num) == 2:\n",
    "        num = '0' + num\n",
    "    return num"
   ]
  },
  {
   "cell_type": "code",
   "execution_count": 3,
   "metadata": {},
   "outputs": [],
   "source": [
    "def extract_frames(tif_path, save_path=None, raise_error=False, verbose=False):\n",
    "    \"\"\"\n",
    "    Extracts frames from a tiff file\n",
    "\n",
    "    Parameters\n",
    "    ----------\n",
    "    tif_path : str\n",
    "        Path to the tiff file\n",
    "    save_path : str\n",
    "        Path to save the frames. If None, `save_path` will be defined using\n",
    "        the tiff file name.\n",
    "    raise_error : bool\n",
    "        If True, will raise an error when the enumeration is ended else\n",
    "        will just stop the enumeration.\n",
    "    verbose : bool\n",
    "        If True, will print the progress of the enumeration.\n",
    "\n",
    "    Returns\n",
    "    -------\n",
    "    save_path : str\n",
    "        Path to the folder where the frames were saved.\n",
    "    \"\"\"\n",
    "    tif_file = Image.open(tif_path)\n",
    "    if save_path is None:\n",
    "        save_path = tif_path.replace('.tif', '').split(os.path.sep)[-1]\n",
    "        save_path = os.path.join(\"extracted_images\", save_path)\n",
    "    if not os.path.exists(save_path):\n",
    "        os.mkdir(save_path)\n",
    "    if verbose:\n",
    "        print(\"Extracting to \", save_path)\n",
    "    try:\n",
    "        for i, page in enumerate(ImageSequence.Iterator(tif_file)):\n",
    "            i = get_correct_num(i)\n",
    "            save_path_final = os.path.join(save_path, f'{i}.jpg')\n",
    "            if verbose:\n",
    "                if (int(i)+1)%30==0:\n",
    "                    print(\"Extracting frame:\", int(i)+1)\n",
    "                    clear_output(wait=True)\n",
    "            page.save(save_path_final, 'JPEG')\n",
    "    except TypeError as e:\n",
    "        if raise_error:\n",
    "            raise e\n",
    "        if verbose:\n",
    "            print(\"Extration Done\")\n",
    "    return save_path"
   ]
  },
  {
   "cell_type": "code",
   "execution_count": 65,
   "metadata": {},
   "outputs": [
    {
     "name": "stdout",
     "output_type": "stream",
     "text": [
      "Extration Done\n"
     ]
    },
    {
     "name": "stderr",
     "output_type": "stream",
     "text": [
      "c:\\Users\\harik\\anaconda3\\envs\\project\\lib\\site-packages\\PIL\\TiffImagePlugin.py:822: UserWarning: Corrupt EXIF data.  Expecting to read 2 bytes but only got 0. \n",
      "  warnings.warn(str(msg))\n"
     ]
    },
    {
     "data": {
      "text/plain": [
       "'extracted_images\\\\h1'"
      ]
     },
     "execution_count": 65,
     "metadata": {},
     "output_type": "execute_result"
    }
   ],
   "source": [
    "file_dir = r\"tiff_files\\Varying_Height\\h1.tif\"\n",
    "extract_frames(file_dir, verbose=True)"
   ]
  },
  {
   "cell_type": "markdown",
   "metadata": {},
   "source": [
    "### Extracting All The Files"
   ]
  },
  {
   "cell_type": "code",
   "execution_count": 6,
   "metadata": {},
   "outputs": [
    {
     "data": {
      "text/plain": [
       "['theta1_bounce.tif',\n",
       " 'theta1_pass.tif',\n",
       " 'theta2_bounce.tif',\n",
       " 'theta2_pass.tif',\n",
       " 'theta3_bounce.tif',\n",
       " 'theta3_pass.tif',\n",
       " 'theta5_bounce1.tif',\n",
       " 'theta5_bounce2.tif',\n",
       " 'theta5_pass3.tif',\n",
       " 'theta5_pass4.tif',\n",
       " 'theta5_pass5.tif',\n",
       " 'theta5_pass6.tif',\n",
       " 'theta6_bounce.tif',\n",
       " 'theta6_pass.tif']"
      ]
     },
     "execution_count": 6,
     "metadata": {},
     "output_type": "execute_result"
    }
   ],
   "source": [
    "tiff_files = os.listdir(os.path.join(\"tiff_files\", \"Varying_Angle\"))\n",
    "tiff_files = tiff_files[1:]\n",
    "tiff_files"
   ]
  },
  {
   "cell_type": "code",
   "execution_count": 7,
   "metadata": {},
   "outputs": [
    {
     "name": "stderr",
     "output_type": "stream",
     "text": [
      "Extracting frames: 100%|██████████| 14/14 [00:30<00:00,  2.18s/it]\n"
     ]
    }
   ],
   "source": [
    "for file in tqdm.tqdm(tiff_files, desc=\"Extracting frames\"):\n",
    "    file_dir = r\"tiff_files\\Varying_Angle\\\\\" + file\n",
    "    extract_frames(file_dir)"
   ]
  },
  {
   "cell_type": "markdown",
   "metadata": {},
   "source": [
    "## Creating A Text File for each Folder"
   ]
  },
  {
   "cell_type": "markdown",
   "metadata": {},
   "source": [
    "This text file will be used to store some important information about the images in that sequence of frames. These informations are:\n",
    "1. Range of frames which are relavent to the image.\n",
    "   1. First Frame ID (Defualt should be `000.jpg`)\n",
    "   2. Last Frame ID\n",
    "2. Frame at which the drop is touching the thin film.\n",
    "3. Frame at which the drop is leaving the frame.\n",
    "4. The angle the film makes with horizontal. (Default is 25.017 degrees)\n",
    "\n",
    "Apart from these, some more information will be added later on."
   ]
  },
  {
   "cell_type": "markdown",
   "metadata": {},
   "source": [
    "### The Formate of the Text File"
   ]
  },
  {
   "cell_type": "markdown",
   "metadata": {},
   "source": [
    "```\n",
    "### <SEQUENCE_NAME>\n",
    "### First Frame ID: <FIRST_FRAME_ID>\n",
    "### Last Frame ID: <LAST_FRAME_ID>\n",
    "### Cntact Frame ID: <CONTACT_FRAME>\n",
    "### Leave Frame ID: <LEAVE_FRAME>\n",
    "### Angle: <ANGLE>\n",
    "```"
   ]
  },
  {
   "cell_type": "markdown",
   "metadata": {},
   "source": [
    "Let's create the template."
   ]
  },
  {
   "cell_type": "code",
   "execution_count": 8,
   "metadata": {},
   "outputs": [],
   "source": [
    "def get_text(f):\n",
    "    text = f\"\"\"### {f}\n",
    "### First Frame ID: \n",
    "### Last Frame ID: \n",
    "### Contact Frame ID: \n",
    "### Leave Frame ID: \n",
    "### Angle: \n",
    "\"\"\"\n",
    "    return text"
   ]
  },
  {
   "cell_type": "code",
   "execution_count": 17,
   "metadata": {},
   "outputs": [
    {
     "name": "stderr",
     "output_type": "stream",
     "text": [
      "Creating Text Files...: 100%|██████████| 14/14 [00:00<00:00, 823.20it/s]\n"
     ]
    }
   ],
   "source": [
    "for f in tqdm.tqdm(tiff_files, desc=\"Creating Text Files...\"):\n",
    "    text_file_name = f.replace(\".tif\", \".txt\")\n",
    "    save_path = os.path.join(\"extracted_images\", text_file_name)\n",
    "    # with open(save_path, \"w\") as text_file:\n",
    "    #     text_file.write(get_text(f))"
   ]
  },
  {
   "cell_type": "markdown",
   "metadata": {},
   "source": [
    "## Getting Some Information about the sequences"
   ]
  },
  {
   "cell_type": "code",
   "execution_count": 10,
   "metadata": {},
   "outputs": [
    {
     "data": {
      "text/plain": [
       "['h1',\n",
       " 'h10_short',\n",
       " 'h11_short',\n",
       " 'h12_short',\n",
       " 'h13_short',\n",
       " 'h14_short',\n",
       " 'h15_short',\n",
       " 'h16_short',\n",
       " 'h17_short',\n",
       " 'h18_short',\n",
       " 'h19_short',\n",
       " 'h1_try',\n",
       " 'h2',\n",
       " 'h20_short',\n",
       " 'h21_short',\n",
       " 'h22_short',\n",
       " 'h23_short',\n",
       " 'h24',\n",
       " 'h25_short',\n",
       " 'h3',\n",
       " 'h4',\n",
       " 'h5_short',\n",
       " 'h6',\n",
       " 'h7',\n",
       " 'h7_short',\n",
       " 'h8_short',\n",
       " 'h9_short',\n",
       " 'ref',\n",
       " 'theta1_bounce',\n",
       " 'theta1_pass',\n",
       " 'theta2_bounce',\n",
       " 'theta2_pass',\n",
       " 'theta3_bounce',\n",
       " 'theta3_pass',\n",
       " 'theta5_bounce1',\n",
       " 'theta5_bounce2',\n",
       " 'theta5_pass3',\n",
       " 'theta5_pass4',\n",
       " 'theta5_pass5',\n",
       " 'theta5_pass6',\n",
       " 'theta6_bounce',\n",
       " 'theta6_pass']"
      ]
     },
     "execution_count": 10,
     "metadata": {},
     "output_type": "execute_result"
    }
   ],
   "source": [
    "dirs = os.listdir(\"extracted_images\")\n",
    "dirs = [d for d in dirs if not d.endswith(\".txt\")]\n",
    "dirs"
   ]
  },
  {
   "cell_type": "code",
   "execution_count": 11,
   "metadata": {},
   "outputs": [],
   "source": [
    "num_frames = {}\n",
    "for d in dirs:\n",
    "    num_frames[d] = len(os.listdir(os.path.join(\"extracted_images\", d)))\n"
   ]
  },
  {
   "cell_type": "code",
   "execution_count": 12,
   "metadata": {},
   "outputs": [
    {
     "data": {
      "text/html": [
       "<div>\n",
       "<style scoped>\n",
       "    .dataframe tbody tr th:only-of-type {\n",
       "        vertical-align: middle;\n",
       "    }\n",
       "\n",
       "    .dataframe tbody tr th {\n",
       "        vertical-align: top;\n",
       "    }\n",
       "\n",
       "    .dataframe thead th {\n",
       "        text-align: right;\n",
       "    }\n",
       "</style>\n",
       "<table border=\"1\" class=\"dataframe\">\n",
       "  <thead>\n",
       "    <tr style=\"text-align: right;\">\n",
       "      <th></th>\n",
       "      <th>Number of Frames</th>\n",
       "    </tr>\n",
       "  </thead>\n",
       "  <tbody>\n",
       "    <tr>\n",
       "      <th>h1</th>\n",
       "      <td>219</td>\n",
       "    </tr>\n",
       "    <tr>\n",
       "      <th>h10_short</th>\n",
       "      <td>178</td>\n",
       "    </tr>\n",
       "    <tr>\n",
       "      <th>h11_short</th>\n",
       "      <td>166</td>\n",
       "    </tr>\n",
       "    <tr>\n",
       "      <th>h12_short</th>\n",
       "      <td>100</td>\n",
       "    </tr>\n",
       "    <tr>\n",
       "      <th>h13_short</th>\n",
       "      <td>171</td>\n",
       "    </tr>\n",
       "  </tbody>\n",
       "</table>\n",
       "</div>"
      ],
      "text/plain": [
       "           Number of Frames\n",
       "h1                      219\n",
       "h10_short               178\n",
       "h11_short               166\n",
       "h12_short               100\n",
       "h13_short               171"
      ]
     },
     "execution_count": 12,
     "metadata": {},
     "output_type": "execute_result"
    }
   ],
   "source": [
    "df = pd.DataFrame(num_frames, index=[\"Number of Frames\"]).T\n",
    "df.head()"
   ]
  },
  {
   "cell_type": "code",
   "execution_count": 13,
   "metadata": {},
   "outputs": [],
   "source": [
    "df.to_csv(\"num_frames.csv\")"
   ]
  },
  {
   "cell_type": "code",
   "execution_count": 14,
   "metadata": {},
   "outputs": [
    {
     "data": {
      "text/html": [
       "<div>\n",
       "<style scoped>\n",
       "    .dataframe tbody tr th:only-of-type {\n",
       "        vertical-align: middle;\n",
       "    }\n",
       "\n",
       "    .dataframe tbody tr th {\n",
       "        vertical-align: top;\n",
       "    }\n",
       "\n",
       "    .dataframe thead th {\n",
       "        text-align: right;\n",
       "    }\n",
       "</style>\n",
       "<table border=\"1\" class=\"dataframe\">\n",
       "  <thead>\n",
       "    <tr style=\"text-align: right;\">\n",
       "      <th></th>\n",
       "      <th>Number of Frames</th>\n",
       "    </tr>\n",
       "  </thead>\n",
       "  <tbody>\n",
       "    <tr>\n",
       "      <th>h3</th>\n",
       "      <td>370</td>\n",
       "    </tr>\n",
       "    <tr>\n",
       "      <th>h2</th>\n",
       "      <td>300</td>\n",
       "    </tr>\n",
       "    <tr>\n",
       "      <th>h4</th>\n",
       "      <td>282</td>\n",
       "    </tr>\n",
       "    <tr>\n",
       "      <th>h7</th>\n",
       "      <td>273</td>\n",
       "    </tr>\n",
       "    <tr>\n",
       "      <th>h1</th>\n",
       "      <td>219</td>\n",
       "    </tr>\n",
       "  </tbody>\n",
       "</table>\n",
       "</div>"
      ],
      "text/plain": [
       "    Number of Frames\n",
       "h3               370\n",
       "h2               300\n",
       "h4               282\n",
       "h7               273\n",
       "h1               219"
      ]
     },
     "execution_count": 14,
     "metadata": {},
     "output_type": "execute_result"
    }
   ],
   "source": [
    "df.sort_values(\"Number of Frames\", ascending=False).head()"
   ]
  },
  {
   "cell_type": "code",
   "execution_count": 15,
   "metadata": {},
   "outputs": [
    {
     "data": {
      "text/html": [
       "<div>\n",
       "<style scoped>\n",
       "    .dataframe tbody tr th:only-of-type {\n",
       "        vertical-align: middle;\n",
       "    }\n",
       "\n",
       "    .dataframe tbody tr th {\n",
       "        vertical-align: top;\n",
       "    }\n",
       "\n",
       "    .dataframe thead th {\n",
       "        text-align: right;\n",
       "    }\n",
       "</style>\n",
       "<table border=\"1\" class=\"dataframe\">\n",
       "  <thead>\n",
       "    <tr style=\"text-align: right;\">\n",
       "      <th></th>\n",
       "      <th>Number of Frames</th>\n",
       "    </tr>\n",
       "  </thead>\n",
       "  <tbody>\n",
       "    <tr>\n",
       "      <th>h25_short</th>\n",
       "      <td>40</td>\n",
       "    </tr>\n",
       "    <tr>\n",
       "      <th>theta5_pass5</th>\n",
       "      <td>46</td>\n",
       "    </tr>\n",
       "    <tr>\n",
       "      <th>h24</th>\n",
       "      <td>48</td>\n",
       "    </tr>\n",
       "    <tr>\n",
       "      <th>h23_short</th>\n",
       "      <td>56</td>\n",
       "    </tr>\n",
       "    <tr>\n",
       "      <th>theta3_bounce</th>\n",
       "      <td>67</td>\n",
       "    </tr>\n",
       "  </tbody>\n",
       "</table>\n",
       "</div>"
      ],
      "text/plain": [
       "               Number of Frames\n",
       "h25_short                    40\n",
       "theta5_pass5                 46\n",
       "h24                          48\n",
       "h23_short                    56\n",
       "theta3_bounce                67"
      ]
     },
     "execution_count": 15,
     "metadata": {},
     "output_type": "execute_result"
    }
   ],
   "source": [
    "df.sort_values(\"Number of Frames\", ascending=True).head()"
   ]
  }
 ],
 "metadata": {
  "kernelspec": {
   "display_name": "Python 3.10.4 64-bit",
   "language": "python",
   "name": "python3"
  },
  "language_info": {
   "codemirror_mode": {
    "name": "ipython",
    "version": 3
   },
   "file_extension": ".py",
   "mimetype": "text/x-python",
   "name": "python",
   "nbconvert_exporter": "python",
   "pygments_lexer": "ipython3",
   "version": "3.10.4"
  },
  "orig_nbformat": 4,
  "vscode": {
   "interpreter": {
    "hash": "916dbcbb3f70747c44a77c7bcd40155683ae19c65e1c03b4aa3499c5328201f1"
   }
  }
 },
 "nbformat": 4,
 "nbformat_minor": 2
}
