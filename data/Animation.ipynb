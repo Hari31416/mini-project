{
 "cells": [
  {
   "cell_type": "code",
   "execution_count": 1,
   "metadata": {},
   "outputs": [],
   "source": [
    "import pandas as pd\n",
    "import matplotlib.pyplot as plt\n",
    "import imageio.v2 as imageio\n",
    "import tqdm\n",
    "import shutil\n",
    "import os\n",
    "from IPython.display import Video\n",
    "plt.rcdefaults()\n",
    "from IPython.display import clear_output"
   ]
  },
  {
   "cell_type": "code",
   "execution_count": 2,
   "metadata": {},
   "outputs": [],
   "source": [
    "def animate_images(sequence=None, crops = (700, 300), h = 500, image_dir=None, df_dir = None, file_name = \"animation\", dir=None):\n",
    "    if sequence is None:\n",
    "        IMAGE_DIR = image_dir\n",
    "        DF_DIR = df_dir\n",
    "    else:\n",
    "        sequence = sequence\n",
    "        IMAGE_DIR = \"extracted_images/\" + sequence\n",
    "        DF_DIR = \"results/\" + sequence + \"/centers_using_ap.csv\"\n",
    "    df = pd.read_csv(DF_DIR)\n",
    "    df[\"image_id\"] = df[\"id\"].apply(lambda x: x.split(\"/\")[-1])\n",
    "    def show_image(i, save=False, dir=\".temp\"):\n",
    "        frame_is_none = False\n",
    "        image_name = df[\"image_id\"][i]\n",
    "        image_path = IMAGE_DIR + \"/\" +image_name\n",
    "        x = df[\"x\"][i]\n",
    "        y = df[\"y\"][i]\n",
    "        if str(x).lower() == \"nan\":\n",
    "            frame_is_none = True\n",
    "        image = plt.imread(image_path)\n",
    "        c_x = crops[0]\n",
    "        c_y = crops[1]\n",
    "        plt.figure(figsize=(1.5*6.08, 6.08))\n",
    "        if frame_is_none:\n",
    "            plt.axhline(h//2, c=\"r\")\n",
    "            plt.axvline(h//2, c=\"r\")\n",
    "        plt.scatter(x - c_x, y - c_y, c=\"g\", s=50)\n",
    "        plt.axhline(y-c_y, c=\"b\")\n",
    "        plt.axvline(x-c_x, c=\"b\")\n",
    "        plt.axis(\"off\")\n",
    "        plt.tight_layout()\n",
    "        plt.imshow(image[c_y : c_y + h, c_x : c_x + h], cmap=\"gray\")\n",
    "        plt.title(image_name)\n",
    "        if save:\n",
    "            if not os.path.exists(dir):\n",
    "                os.mkdir(dir)\n",
    "            file_path = dir + \"/\" + image_name\n",
    "            plt.savefig(file_path)\n",
    "            plt.close()\n",
    "            return file_path\n",
    "    images = []\n",
    "    for i in tqdm.tqdm(range(len(df)), desc=\"Creating Images...\"):\n",
    "        images.append(imageio.imread(show_image(i, save=True)))\n",
    "    \n",
    "    if dir is None:\n",
    "        dir = \".\"\n",
    "    # print(\"Creating the video...\")\n",
    "    file_name = dir + \"/\" + file_name + \".mp4\"\n",
    "    imageio.mimsave(file_name, images)\n",
    "    # print(\"Deleting the temporary files...\")\n",
    "    shutil.rmtree(\".temp\")\n",
    "    # print(\"Done!\")\n",
    "    return file_name"
   ]
  },
  {
   "cell_type": "code",
   "execution_count": 3,
   "metadata": {},
   "outputs": [],
   "source": [
    "dirs = list(map(lambda x: x.split(\".\")[0], os.listdir(\"Coordinates\")))"
   ]
  },
  {
   "cell_type": "code",
   "execution_count": 4,
   "metadata": {},
   "outputs": [
    {
     "name": "stdout",
     "output_type": "stream",
     "text": [
      "Done: 4/19\n"
     ]
    },
    {
     "name": "stderr",
     "output_type": "stream",
     "text": [
      "Creating Images...:  41%|████▏     | 124/300 [00:28<00:37,  4.67it/s]"
     ]
    }
   ],
   "source": [
    "i = 1\n",
    "for d in dirs[9:]:\n",
    "    print(\"Done: \" + str(i) + \"/\" + str(len(dirs[9:])))\n",
    "    file = animate_images(sequence = d, file_name=d, dir= \"animation\")\n",
    "    i+=1\n",
    "    clear_output(wait=True)"
   ]
  },
  {
   "cell_type": "code",
   "execution_count": null,
   "metadata": {},
   "outputs": [],
   "source": []
  }
 ],
 "metadata": {
  "kernelspec": {
   "display_name": "Python 3.7.13 ('data-science')",
   "language": "python",
   "name": "python3"
  },
  "language_info": {
   "codemirror_mode": {
    "name": "ipython",
    "version": 3
   },
   "file_extension": ".py",
   "mimetype": "text/x-python",
   "name": "python",
   "nbconvert_exporter": "python",
   "pygments_lexer": "ipython3",
   "version": "3.7.13"
  },
  "orig_nbformat": 4,
  "vscode": {
   "interpreter": {
    "hash": "2efee1efa502125d01e6b4768ba06d9453d29f3642bfd14ad5d4a769de82e88c"
   }
  }
 },
 "nbformat": 4,
 "nbformat_minor": 2
}
