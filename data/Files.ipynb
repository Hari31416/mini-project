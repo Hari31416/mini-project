{
 "cells": [
  {
   "cell_type": "code",
   "execution_count": 1,
   "metadata": {},
   "outputs": [],
   "source": [
    "import os\n",
    "import glob\n",
    "import shutil"
   ]
  },
  {
   "cell_type": "code",
   "execution_count": 6,
   "metadata": {},
   "outputs": [],
   "source": [
    "folders = os.listdir(\"results\")\n",
    "folders = [f for f in folders if os.path.isdir(os.path.join(\"results\", f))]"
   ]
  },
  {
   "cell_type": "code",
   "execution_count": 8,
   "metadata": {},
   "outputs": [],
   "source": [
    "for folder in folders:\n",
    "    os.mkdir(os.path.join(\"Fit_Plots\", folder))"
   ]
  },
  {
   "cell_type": "code",
   "execution_count": 9,
   "metadata": {},
   "outputs": [
    {
     "data": {
      "text/plain": [
       "['Angle_vs_Time_for_Region_I.png',\n",
       " 'Angle_vs_Time_for_Region_III.png',\n",
       " 'centers_using_ap.csv',\n",
       " 'h1_final.csv',\n",
       " 'h1_raw.csv',\n",
       " 'h1_samples.png',\n",
       " 'h1_smoothened.csv',\n",
       " 'info.txt',\n",
       " 'samples_h2.png',\n",
       " 'v_vs_Time_for_Region_I.png',\n",
       " 'v_vs_Time_for_Region_III.png',\n",
       " 'v_x_vs_Time_for_Region_I.png',\n",
       " 'v_x_vs_Time_for_Region_III.png',\n",
       " 'v_y_vs_Time_for_Region_I.png',\n",
       " 'v_y_vs_Time_for_Region_III.png',\n",
       " 'X_and_Y_for_Region_III_Using_Parametric.png',\n",
       " 'X_and_Y_for_Region_I_Using_Parametric.png',\n",
       " 'X_and_Y_vs_Time_for_Region_I.png',\n",
       " 'X_and_Y_vs_Time_for_Region_III.png',\n",
       " 'X_vs_Time_for_Region_I.png',\n",
       " 'X_vs_Time_for_Region_III.png',\n",
       " 'Y_vs_Time_for_Region_I.png',\n",
       " 'Y_vs_Time_for_Region_III.png']"
      ]
     },
     "execution_count": 9,
     "metadata": {},
     "output_type": "execute_result"
    }
   ],
   "source": [
    "os.listdir(\"results/h1\")"
   ]
  },
  {
   "cell_type": "code",
   "execution_count": 10,
   "metadata": {},
   "outputs": [],
   "source": [
    "files = ['X_and_Y_for_Region_III_Using_Parametric.png',\n",
    " 'X_and_Y_for_Region_I_Using_Parametric.png',\n",
    " 'X_and_Y_vs_Time_for_Region_I.png',\n",
    " 'X_and_Y_vs_Time_for_Region_III.png',\n",
    " 'X_vs_Time_for_Region_I.png',\n",
    " 'X_vs_Time_for_Region_III.png',\n",
    " 'Y_vs_Time_for_Region_I.png',\n",
    " 'Y_vs_Time_for_Region_III.png']"
   ]
  },
  {
   "cell_type": "code",
   "execution_count": 11,
   "metadata": {},
   "outputs": [],
   "source": [
    "for dir in folders:\n",
    "    for file in files:\n",
    "        shutil.copy(os.path.join(\"results\", dir, file), os.path.join(\"Fit_Plots\", dir, file))"
   ]
  },
  {
   "cell_type": "code",
   "execution_count": 14,
   "metadata": {},
   "outputs": [],
   "source": [
    "all_files = glob.glob(os.path.join(\"Fit_Plots\", \"*\", \"*\"))\n",
    "for file in all_files:\n",
    "    if \"X_and_Y_vs_Time_for_Region_III.png\" in file:\n",
    "        os.rename(file, file.replace(\"X_and_Y_vs_Time_for_Region_III.png\", \"X_and_Y_for_Region_III.png\"))\n",
    "    if \"X_and_Y_vs_Time_for_Region_I.png\" in file:\n",
    "        os.rename(file, file.replace(\"X_and_Y_vs_Time_for_Region_I.png\", \"X_and_Y_for_Region_I.png\"))"
   ]
  }
 ],
 "metadata": {
  "kernelspec": {
   "display_name": "Python 3.7.13 ('data-science')",
   "language": "python",
   "name": "python3"
  },
  "language_info": {
   "codemirror_mode": {
    "name": "ipython",
    "version": 3
   },
   "file_extension": ".py",
   "mimetype": "text/x-python",
   "name": "python",
   "nbconvert_exporter": "python",
   "pygments_lexer": "ipython3",
   "version": "3.7.13"
  },
  "orig_nbformat": 4,
  "vscode": {
   "interpreter": {
    "hash": "2efee1efa502125d01e6b4768ba06d9453d29f3642bfd14ad5d4a769de82e88c"
   }
  }
 },
 "nbformat": 4,
 "nbformat_minor": 2
}
