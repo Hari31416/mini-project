{
 "cells": [
  {
   "cell_type": "code",
   "execution_count": 1,
   "metadata": {},
   "outputs": [],
   "source": [
    "import os\n",
    "import glob\n",
    "import shutil"
   ]
  },
  {
   "cell_type": "markdown",
   "metadata": {},
   "source": [
    "## Creating the Fit_Plots Folder"
   ]
  },
  {
   "cell_type": "code",
   "execution_count": 6,
   "metadata": {},
   "outputs": [],
   "source": [
    "folders = os.listdir(\"results\")\n",
    "folders = [f for f in folders if os.path.isdir(os.path.join(\"results\", f))]"
   ]
  },
  {
   "cell_type": "code",
   "execution_count": 8,
   "metadata": {},
   "outputs": [],
   "source": [
    "for folder in folders:\n",
    "    os.mkdir(os.path.join(\"Fit_Plots\", folder))"
   ]
  },
  {
   "cell_type": "code",
   "execution_count": 9,
   "metadata": {},
   "outputs": [
    {
     "data": {
      "text/plain": [
       "['Angle_vs_Time_for_Region_I.png',\n",
       " 'Angle_vs_Time_for_Region_III.png',\n",
       " 'centers_using_ap.csv',\n",
       " 'h1_final.csv',\n",
       " 'h1_raw.csv',\n",
       " 'h1_samples.png',\n",
       " 'h1_smoothened.csv',\n",
       " 'info.txt',\n",
       " 'samples_h2.png',\n",
       " 'v_vs_Time_for_Region_I.png',\n",
       " 'v_vs_Time_for_Region_III.png',\n",
       " 'v_x_vs_Time_for_Region_I.png',\n",
       " 'v_x_vs_Time_for_Region_III.png',\n",
       " 'v_y_vs_Time_for_Region_I.png',\n",
       " 'v_y_vs_Time_for_Region_III.png',\n",
       " 'X_and_Y_for_Region_III_Using_Parametric.png',\n",
       " 'X_and_Y_for_Region_I_Using_Parametric.png',\n",
       " 'X_and_Y_vs_Time_for_Region_I.png',\n",
       " 'X_and_Y_vs_Time_for_Region_III.png',\n",
       " 'X_vs_Time_for_Region_I.png',\n",
       " 'X_vs_Time_for_Region_III.png',\n",
       " 'Y_vs_Time_for_Region_I.png',\n",
       " 'Y_vs_Time_for_Region_III.png']"
      ]
     },
     "execution_count": 9,
     "metadata": {},
     "output_type": "execute_result"
    }
   ],
   "source": [
    "os.listdir(\"results/h1\")"
   ]
  },
  {
   "cell_type": "code",
   "execution_count": 10,
   "metadata": {},
   "outputs": [],
   "source": [
    "files = ['X_and_Y_for_Region_III_Using_Parametric.png',\n",
    " 'X_and_Y_for_Region_I_Using_Parametric.png',\n",
    " 'X_and_Y_vs_Time_for_Region_I.png',\n",
    " 'X_and_Y_vs_Time_for_Region_III.png',\n",
    " 'X_vs_Time_for_Region_I.png',\n",
    " 'X_vs_Time_for_Region_III.png',\n",
    " 'Y_vs_Time_for_Region_I.png',\n",
    " 'Y_vs_Time_for_Region_III.png']"
   ]
  },
  {
   "cell_type": "code",
   "execution_count": 11,
   "metadata": {},
   "outputs": [],
   "source": [
    "for dir in folders:\n",
    "    for file in files:\n",
    "        shutil.copy(os.path.join(\"results\", dir, file), os.path.join(\"Fit_Plots\", dir, file))"
   ]
  },
  {
   "cell_type": "code",
   "execution_count": 14,
   "metadata": {},
   "outputs": [],
   "source": [
    "all_files = glob.glob(os.path.join(\"Fit_Plots\", \"*\", \"*\"))\n",
    "for file in all_files:\n",
    "    if \"X_and_Y_vs_Time_for_Region_III.png\" in file:\n",
    "        os.rename(file, file.replace(\"X_and_Y_vs_Time_for_Region_III.png\", \"X_and_Y_for_Region_III.png\"))\n",
    "    if \"X_and_Y_vs_Time_for_Region_I.png\" in file:\n",
    "        os.rename(file, file.replace(\"X_and_Y_vs_Time_for_Region_I.png\", \"X_and_Y_for_Region_I.png\"))"
   ]
  },
  {
   "cell_type": "markdown",
   "metadata": {},
   "source": [
    "## Removing The PNG Files from the results"
   ]
  },
  {
   "cell_type": "code",
   "execution_count": 2,
   "metadata": {},
   "outputs": [],
   "source": [
    "images = glob.glob(\"results/*/*.png\")"
   ]
  },
  {
   "cell_type": "code",
   "execution_count": 4,
   "metadata": {},
   "outputs": [
    {
     "data": {
      "text/plain": [
       "478"
      ]
     },
     "execution_count": 4,
     "metadata": {},
     "output_type": "execute_result"
    }
   ],
   "source": [
    "len(images)"
   ]
  },
  {
   "cell_type": "code",
   "execution_count": 5,
   "metadata": {},
   "outputs": [],
   "source": [
    "for img in images:\n",
    "    os.remove(img)"
   ]
  },
  {
   "cell_type": "markdown",
   "metadata": {},
   "source": [
    "## Copying Info files"
   ]
  },
  {
   "cell_type": "code",
   "execution_count": 2,
   "metadata": {},
   "outputs": [
    {
     "data": {
      "text/plain": [
       "['h1',\n",
       " 'h10_short',\n",
       " 'h11_short',\n",
       " 'h12_short',\n",
       " 'h13_short',\n",
       " 'h14_short',\n",
       " 'h15_short',\n",
       " 'h16_short',\n",
       " 'h17_short',\n",
       " 'h18_short',\n",
       " 'h19_short',\n",
       " 'h1_try',\n",
       " 'h2',\n",
       " 'h20_short',\n",
       " 'h21_short',\n",
       " 'h22_short',\n",
       " 'h23_short',\n",
       " 'h24',\n",
       " 'h25_short',\n",
       " 'h3',\n",
       " 'h4',\n",
       " 'h5_short',\n",
       " 'h6',\n",
       " 'h7',\n",
       " 'h7_short',\n",
       " 'h8_short',\n",
       " 'h9_short',\n",
       " 'info_about_columns.md',\n",
       " 'info_on_raw_data.csv',\n",
       " 'info_on_smooth_data.csv',\n",
       " 'ref',\n",
       " 'ref.txt',\n",
       " 'Speed_at_Contact_Frame_vs_Angle_at_Leave_Frame.png',\n",
       " 'Speed_at_Contact_Frame_vs_Leave_Frame.png',\n",
       " 'theta1_bounce',\n",
       " 'theta1_pass',\n",
       " 'theta2_bounce',\n",
       " 'theta2_pass',\n",
       " 'theta3_bounce',\n",
       " 'theta3_pass',\n",
       " 'theta5_bounce1',\n",
       " 'theta5_bounce2',\n",
       " 'theta5_pass3',\n",
       " 'theta5_pass4',\n",
       " 'theta5_pass5',\n",
       " 'theta5_pass6',\n",
       " 'theta6_bounce',\n",
       " 'theta6_pass']"
      ]
     },
     "execution_count": 2,
     "metadata": {},
     "output_type": "execute_result"
    }
   ],
   "source": [
    "folders = os.listdir(\"results\")\n",
    "folders"
   ]
  },
  {
   "cell_type": "code",
   "execution_count": 3,
   "metadata": {},
   "outputs": [
    {
     "data": {
      "text/plain": [
       "['theta1_bounce',\n",
       " 'theta1_pass',\n",
       " 'theta2_bounce',\n",
       " 'theta2_pass',\n",
       " 'theta3_bounce',\n",
       " 'theta3_pass',\n",
       " 'theta5_bounce1',\n",
       " 'theta5_bounce2',\n",
       " 'theta5_pass3',\n",
       " 'theta5_pass4',\n",
       " 'theta5_pass5',\n",
       " 'theta5_pass6',\n",
       " 'theta6_bounce',\n",
       " 'theta6_pass']"
      ]
     },
     "execution_count": 3,
     "metadata": {},
     "output_type": "execute_result"
    }
   ],
   "source": [
    "folders = [f for f in folders if \"theta\" in f]\n",
    "folders"
   ]
  },
  {
   "cell_type": "code",
   "execution_count": 6,
   "metadata": {},
   "outputs": [],
   "source": [
    "txt_dir = \"extracted_images/\"\n",
    "for f in folders:\n",
    "    or_dir = txt_dir+f+\".txt\"\n",
    "    copy_dir = \"results/\"+f+\"/info.txt\"\n",
    "    shutil.copy(or_dir, copy_dir)"
   ]
  },
  {
   "cell_type": "code",
   "execution_count": null,
   "metadata": {},
   "outputs": [],
   "source": []
  }
 ],
 "metadata": {
  "kernelspec": {
   "display_name": "Python 3.10.4 64-bit",
   "language": "python",
   "name": "python3"
  },
  "language_info": {
   "codemirror_mode": {
    "name": "ipython",
    "version": 3
   },
   "file_extension": ".py",
   "mimetype": "text/x-python",
   "name": "python",
   "nbconvert_exporter": "python",
   "pygments_lexer": "ipython3",
   "version": "3.10.4"
  },
  "orig_nbformat": 4,
  "vscode": {
   "interpreter": {
    "hash": "916dbcbb3f70747c44a77c7bcd40155683ae19c65e1c03b4aa3499c5328201f1"
   }
  }
 },
 "nbformat": 4,
 "nbformat_minor": 2
}
