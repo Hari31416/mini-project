{
 "cells": [
  {
   "cell_type": "code",
   "execution_count": 11,
   "metadata": {},
   "outputs": [],
   "source": [
    "import os\n",
    "import glob\n",
    "import shutil"
   ]
  },
  {
   "cell_type": "markdown",
   "metadata": {},
   "source": [
    "## Copying the Final DF to `final_df`"
   ]
  },
  {
   "cell_type": "code",
   "execution_count": 13,
   "metadata": {},
   "outputs": [
    {
     "data": {
      "text/plain": [
       "['results/h1/h1_final.csv',\n",
       " 'results/h10_short/h10_short_final.csv',\n",
       " 'results/h11_short/h11_short_final.csv',\n",
       " 'results/h12_short/h12_short_final.csv',\n",
       " 'results/h13_short/h13_short_final.csv',\n",
       " 'results/h14_short/h14_short_final.csv',\n",
       " 'results/h15_short/h15_short_final.csv',\n",
       " 'results/h16_short/h16_short_final.csv',\n",
       " 'results/h17_short/h17_short_final.csv',\n",
       " 'results/h18_short/h18_short_final.csv',\n",
       " 'results/h19_short/h19_short_final.csv',\n",
       " 'results/h1_try/h1_try_final.csv',\n",
       " 'results/h2/h2_final.csv',\n",
       " 'results/h20_short/h20_short_final.csv',\n",
       " 'results/h21_short/h21_short_final.csv',\n",
       " 'results/h22_short/h22_short_final.csv',\n",
       " 'results/h23_short/h23_short_final.csv',\n",
       " 'results/h24/h24_final.csv',\n",
       " 'results/h25_short/h25_short_final.csv',\n",
       " 'results/h3/h3_final.csv',\n",
       " 'results/h4/h4_final.csv',\n",
       " 'results/h5_short/h5_short_final.csv',\n",
       " 'results/h6/h6_final.csv',\n",
       " 'results/h7/h7_final.csv',\n",
       " 'results/h7_short/h7_short_final.csv',\n",
       " 'results/h8_short/h8_short_final.csv',\n",
       " 'results/h9_short/h9_short_final.csv',\n",
       " 'results/ref/ref_final.csv',\n",
       " 'results/theta1_bounce/theta1_bounce_final.csv',\n",
       " 'results/theta1_pass/theta1_pass_final.csv',\n",
       " 'results/theta2_bounce/theta2_bounce_final.csv',\n",
       " 'results/theta2_pass/theta2_pass_final.csv',\n",
       " 'results/theta3_bounce/theta3_bounce_final.csv',\n",
       " 'results/theta5_bounce1/theta5_bounce1_final.csv',\n",
       " 'results/theta5_bounce2/theta5_bounce2_final.csv',\n",
       " 'results/theta5_pass3/theta5_pass3_final.csv',\n",
       " 'results/theta5_pass4/theta5_pass4_final.csv',\n",
       " 'results/theta5_pass5/theta5_pass5_final.csv',\n",
       " 'results/theta5_pass6/theta5_pass6_final.csv',\n",
       " 'results/theta6_bounce/theta6_bounce_final.csv',\n",
       " 'results/theta6_pass/theta6_pass_final.csv',\n",
       " 'results/theta3_pass/theta3_pass_final.csv']"
      ]
     },
     "execution_count": 13,
     "metadata": {},
     "output_type": "execute_result"
    }
   ],
   "source": [
    "files = glob.glob(\"results/*/*final.csv\")\n",
    "files"
   ]
  },
  {
   "cell_type": "code",
   "execution_count": 14,
   "metadata": {},
   "outputs": [],
   "source": [
    "for file in files:\n",
    "    file_dir = file.split(\"/\")[1]\n",
    "    file_name = \"final_df/\" + file_dir + \".csv\"\n",
    "    shutil.copy(file, file_name)"
   ]
  },
  {
   "cell_type": "markdown",
   "metadata": {},
   "source": [
    "## Copying Images to `plots`"
   ]
  },
  {
   "cell_type": "code",
   "execution_count": 1,
   "metadata": {},
   "outputs": [],
   "source": [
    "folders = os.listdir(\"results\")\n",
    "folders = [f for f in folders if os.path.isdir(os.path.join(\"results\", f))]"
   ]
  },
  {
   "cell_type": "code",
   "execution_count": 6,
   "metadata": {},
   "outputs": [],
   "source": [
    "for folder in folders:\n",
    "    os.mkdir(os.path.join(\"plots\", folder))"
   ]
  },
  {
   "cell_type": "code",
   "execution_count": 7,
   "metadata": {},
   "outputs": [
    {
     "data": {
      "text/plain": [
       "['Angle_vs_Time_for_Region_I.png',\n",
       " 'Angle_vs_Time_for_Region_III.png',\n",
       " 'ap.csv',\n",
       " 'centers_using_ap.csv',\n",
       " 'h1_final.csv',\n",
       " 'h1_raw.csv',\n",
       " 'h1_samples.png',\n",
       " 'h1_smoothened.csv',\n",
       " 'info.txt',\n",
       " 'v_vs_Time_for_Region_I.png',\n",
       " 'v_vs_Time_for_Region_III.png',\n",
       " 'v_x_vs_Time_for_Region_I.png',\n",
       " 'v_x_vs_Time_for_Region_III.png',\n",
       " 'v_y_vs_Time_for_Region_I.png',\n",
       " 'v_y_vs_Time_for_Region_III.png',\n",
       " 'X_vs_Time_for_Region_I.png',\n",
       " 'X_vs_Time_for_Region_III.png',\n",
       " 'X_vs_Y_for_Region_III_Using_Parabola.png',\n",
       " 'X_vs_Y_for_Region_III_Using_Parametric.png',\n",
       " 'X_vs_Y_for_Region_I_Using_Parabola.png',\n",
       " 'X_vs_Y_for_Region_I_Using_Parametric.png',\n",
       " 'Y_vs_Time_for_Region_I.png',\n",
       " 'Y_vs_Time_for_Region_III.png']"
      ]
     },
     "execution_count": 7,
     "metadata": {},
     "output_type": "execute_result"
    }
   ],
   "source": [
    "os.listdir(\"results/h1\")"
   ]
  },
  {
   "cell_type": "code",
   "execution_count": 8,
   "metadata": {},
   "outputs": [],
   "source": [
    "files = ['X_vs_Time_for_Region_I.png',\n",
    " 'X_vs_Time_for_Region_III.png',\n",
    " 'X_vs_Y_for_Region_III_Using_Parabola.png',\n",
    " 'X_vs_Y_for_Region_III_Using_Parametric.png',\n",
    " 'X_vs_Y_for_Region_I_Using_Parabola.png',\n",
    " 'X_vs_Y_for_Region_I_Using_Parametric.png',\n",
    " 'Y_vs_Time_for_Region_I.png',\n",
    " 'Y_vs_Time_for_Region_III.png']"
   ]
  },
  {
   "cell_type": "code",
   "execution_count": 12,
   "metadata": {},
   "outputs": [
    {
     "name": "stdout",
     "output_type": "stream",
     "text": [
      "File not found\n",
      "File not found\n",
      "File not found\n",
      "File not found\n",
      "File not found\n",
      "File not found\n",
      "File not found\n",
      "File not found\n"
     ]
    }
   ],
   "source": [
    "for dir in folders:\n",
    "    for file in files:\n",
    "        try:\n",
    "            shutil.copy(os.path.join(\"results\", dir, file), os.path.join(\"plots\", dir, file))\n",
    "        except:\n",
    "            print(\"File not found\")"
   ]
  },
  {
   "cell_type": "markdown",
   "metadata": {},
   "source": [
    "## Removing The PNG Files from the results"
   ]
  },
  {
   "cell_type": "code",
   "execution_count": 2,
   "metadata": {},
   "outputs": [],
   "source": [
    "images = glob.glob(\"results/*/*.png\")"
   ]
  },
  {
   "cell_type": "code",
   "execution_count": 4,
   "metadata": {},
   "outputs": [
    {
     "data": {
      "text/plain": [
       "478"
      ]
     },
     "execution_count": 4,
     "metadata": {},
     "output_type": "execute_result"
    }
   ],
   "source": [
    "len(images)"
   ]
  },
  {
   "cell_type": "code",
   "execution_count": 5,
   "metadata": {},
   "outputs": [],
   "source": [
    "for img in images:\n",
    "    os.remove(img)"
   ]
  },
  {
   "cell_type": "markdown",
   "metadata": {},
   "source": [
    "## Copying Info files"
   ]
  },
  {
   "cell_type": "code",
   "execution_count": 2,
   "metadata": {},
   "outputs": [
    {
     "data": {
      "text/plain": [
       "['h1',\n",
       " 'h10_short',\n",
       " 'h11_short',\n",
       " 'h12_short',\n",
       " 'h13_short',\n",
       " 'h14_short',\n",
       " 'h15_short',\n",
       " 'h16_short',\n",
       " 'h17_short',\n",
       " 'h18_short',\n",
       " 'h19_short',\n",
       " 'h1_try',\n",
       " 'h2',\n",
       " 'h20_short',\n",
       " 'h21_short',\n",
       " 'h22_short',\n",
       " 'h23_short',\n",
       " 'h24',\n",
       " 'h25_short',\n",
       " 'h3',\n",
       " 'h4',\n",
       " 'h5_short',\n",
       " 'h6',\n",
       " 'h7',\n",
       " 'h7_short',\n",
       " 'h8_short',\n",
       " 'h9_short',\n",
       " 'info_about_columns.md',\n",
       " 'info_on_raw_data.csv',\n",
       " 'info_on_smooth_data.csv',\n",
       " 'ref',\n",
       " 'ref.txt',\n",
       " 'Speed_at_Contact_Frame_vs_Angle_at_Leave_Frame.png',\n",
       " 'Speed_at_Contact_Frame_vs_Leave_Frame.png',\n",
       " 'theta1_bounce',\n",
       " 'theta1_pass',\n",
       " 'theta2_bounce',\n",
       " 'theta2_pass',\n",
       " 'theta3_bounce',\n",
       " 'theta3_pass',\n",
       " 'theta5_bounce1',\n",
       " 'theta5_bounce2',\n",
       " 'theta5_pass3',\n",
       " 'theta5_pass4',\n",
       " 'theta5_pass5',\n",
       " 'theta5_pass6',\n",
       " 'theta6_bounce',\n",
       " 'theta6_pass']"
      ]
     },
     "execution_count": 2,
     "metadata": {},
     "output_type": "execute_result"
    }
   ],
   "source": [
    "folders = os.listdir(\"results\")\n",
    "folders"
   ]
  },
  {
   "cell_type": "code",
   "execution_count": 3,
   "metadata": {},
   "outputs": [
    {
     "data": {
      "text/plain": [
       "['theta1_bounce',\n",
       " 'theta1_pass',\n",
       " 'theta2_bounce',\n",
       " 'theta2_pass',\n",
       " 'theta3_bounce',\n",
       " 'theta3_pass',\n",
       " 'theta5_bounce1',\n",
       " 'theta5_bounce2',\n",
       " 'theta5_pass3',\n",
       " 'theta5_pass4',\n",
       " 'theta5_pass5',\n",
       " 'theta5_pass6',\n",
       " 'theta6_bounce',\n",
       " 'theta6_pass']"
      ]
     },
     "execution_count": 3,
     "metadata": {},
     "output_type": "execute_result"
    }
   ],
   "source": [
    "folders = [f for f in folders if \"theta\" in f]\n",
    "folders"
   ]
  },
  {
   "cell_type": "code",
   "execution_count": 6,
   "metadata": {},
   "outputs": [],
   "source": [
    "txt_dir = \"extracted_images/\"\n",
    "for f in folders:\n",
    "    or_dir = txt_dir+f+\".txt\"\n",
    "    copy_dir = \"results/\"+f+\"/info.txt\"\n",
    "    shutil.copy(or_dir, copy_dir)"
   ]
  },
  {
   "cell_type": "code",
   "execution_count": null,
   "metadata": {},
   "outputs": [],
   "source": []
  }
 ],
 "metadata": {
  "kernelspec": {
   "display_name": "Python 3.7.13 ('mini-project')",
   "language": "python",
   "name": "python3"
  },
  "language_info": {
   "codemirror_mode": {
    "name": "ipython",
    "version": 3
   },
   "file_extension": ".py",
   "mimetype": "text/x-python",
   "name": "python",
   "nbconvert_exporter": "python",
   "pygments_lexer": "ipython3",
   "version": "3.7.13"
  },
  "orig_nbformat": 4,
  "vscode": {
   "interpreter": {
    "hash": "eade459d97193770edebafd54a2f9dbad63e0650e1a26b3f1ee91b0a79b45cce"
   }
  }
 },
 "nbformat": 4,
 "nbformat_minor": 2
}
