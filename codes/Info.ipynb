{
 "cells": [
  {
   "cell_type": "code",
   "execution_count": 2,
   "metadata": {},
   "outputs": [],
   "source": [
    "import pandas as pd\n",
    "import os"
   ]
  },
  {
   "cell_type": "markdown",
   "metadata": {},
   "source": [
    "$$\n",
    "\\theta = 20\n",
    "$$"
   ]
  },
  {
   "cell_type": "markdown",
   "metadata": {},
   "source": [
    "## Read The TXT File"
   ]
  },
  {
   "cell_type": "code",
   "execution_count": 8,
   "metadata": {},
   "outputs": [
    {
     "data": {
      "text/plain": [
       "'../data/extracted_images/h1.txt'"
      ]
     },
     "execution_count": 8,
     "metadata": {},
     "output_type": "execute_result"
    }
   ],
   "source": [
    "TEXT_DIR = \"../data/extracted_images\"\n",
    "text_files = os.listdir(TEXT_DIR)\n",
    "text_files = [f\"{TEXT_DIR}/{i}\" for i in text_files if \".txt\" in i]\n",
    "text_files[0]"
   ]
  },
  {
   "cell_type": "code",
   "execution_count": 9,
   "metadata": {},
   "outputs": [
    {
     "name": "stdout",
     "output_type": "stream",
     "text": [
      "### h1.tif\n",
      "### First Frame ID: 034.jpg\n",
      "### Last Frame ID: \n",
      "### Contact Frame ID: 073.jpg\n",
      "### Leave Frame ID: \n",
      "### Angle: 25.017\n",
      "\n"
     ]
    }
   ],
   "source": [
    "with open(text_files[0], \"r\") as f:\n",
    "    text = f.read()\n",
    "    print(text)"
   ]
  },
  {
   "cell_type": "markdown",
   "metadata": {},
   "source": [
    "### Get Info"
   ]
  },
  {
   "cell_type": "code",
   "execution_count": 36,
   "metadata": {},
   "outputs": [],
   "source": [
    "info_dict = {\n",
    "    \"first_frame\": 1,\n",
    "    \"last_frame\": 2,\n",
    "    \"contact_frame\": 3,\n",
    "    \"leave_frame\": 4,\n",
    "    \"angle\": 5,\n",
    "}"
   ]
  },
  {
   "cell_type": "code",
   "execution_count": 47,
   "metadata": {},
   "outputs": [],
   "source": [
    "def get_info(file):\n",
    "    information = {}\n",
    "    with open(file, \"r\") as f:\n",
    "        texts = f.readlines()\n",
    "    for key, value in info_dict.items():\n",
    "        line = texts[value]\n",
    "        info = line.split(\":\")[1].strip()\n",
    "        information[key] = info\n",
    "    return information"
   ]
  },
  {
   "cell_type": "code",
   "execution_count": 54,
   "metadata": {},
   "outputs": [
    {
     "data": {
      "text/plain": [
       "{'first_frame': '034.jpg',\n",
       " 'last_frame': '',\n",
       " 'contact_frame': '073.jpg',\n",
       " 'leave_frame': '',\n",
       " 'angle': '22'}"
      ]
     },
     "execution_count": 54,
     "metadata": {},
     "output_type": "execute_result"
    }
   ],
   "source": [
    "get_info(text_files[11])"
   ]
  },
  {
   "cell_type": "markdown",
   "metadata": {},
   "source": [
    "## Read The DataFrame"
   ]
  },
  {
   "cell_type": "code",
   "execution_count": 28,
   "metadata": {},
   "outputs": [
    {
     "data": {
      "text/plain": [
       "'../data/results/centers_using_ap.csv'"
      ]
     },
     "execution_count": 28,
     "metadata": {},
     "output_type": "execute_result"
    }
   ],
   "source": [
    "FOLDER_DIR = os.listdir(\"../data/results\")\n",
    "df_dir = [i for i in FOLDER_DIR if \".\" not in i]\n",
    "DF_NAME = \"centers_using_ap.csv\"\n",
    "DF_DIR = [f\"../data/results/{i}\" for i in FOLDER_DIR]\n",
    "DF_DIR[0]"
   ]
  },
  {
   "cell_type": "code",
   "execution_count": 29,
   "metadata": {},
   "outputs": [],
   "source": [
    "df = pd.read_csv(DF_DIR[0])"
   ]
  },
  {
   "cell_type": "code",
   "execution_count": 30,
   "metadata": {},
   "outputs": [
    {
     "data": {
      "text/html": [
       "<div>\n",
       "<style scoped>\n",
       "    .dataframe tbody tr th:only-of-type {\n",
       "        vertical-align: middle;\n",
       "    }\n",
       "\n",
       "    .dataframe tbody tr th {\n",
       "        vertical-align: top;\n",
       "    }\n",
       "\n",
       "    .dataframe thead th {\n",
       "        text-align: right;\n",
       "    }\n",
       "</style>\n",
       "<table border=\"1\" class=\"dataframe\">\n",
       "  <thead>\n",
       "    <tr style=\"text-align: right;\">\n",
       "      <th></th>\n",
       "      <th>id</th>\n",
       "      <th>x</th>\n",
       "      <th>y</th>\n",
       "      <th>r1</th>\n",
       "      <th>r2</th>\n",
       "      <th>theta</th>\n",
       "    </tr>\n",
       "  </thead>\n",
       "  <tbody>\n",
       "    <tr>\n",
       "      <th>0</th>\n",
       "      <td>../data/images1/0.jpg</td>\n",
       "      <td>869</td>\n",
       "      <td>403</td>\n",
       "      <td>8</td>\n",
       "      <td>12</td>\n",
       "      <td>0.24</td>\n",
       "    </tr>\n",
       "    <tr>\n",
       "      <th>1</th>\n",
       "      <td>../data/images1/1.jpg</td>\n",
       "      <td>869</td>\n",
       "      <td>403</td>\n",
       "      <td>8</td>\n",
       "      <td>12</td>\n",
       "      <td>0.25</td>\n",
       "    </tr>\n",
       "    <tr>\n",
       "      <th>2</th>\n",
       "      <td>../data/images1/2.jpg</td>\n",
       "      <td>869</td>\n",
       "      <td>403</td>\n",
       "      <td>9</td>\n",
       "      <td>12</td>\n",
       "      <td>0.25</td>\n",
       "    </tr>\n",
       "    <tr>\n",
       "      <th>3</th>\n",
       "      <td>../data/images1/3.jpg</td>\n",
       "      <td>869</td>\n",
       "      <td>403</td>\n",
       "      <td>9</td>\n",
       "      <td>12</td>\n",
       "      <td>0.24</td>\n",
       "    </tr>\n",
       "    <tr>\n",
       "      <th>4</th>\n",
       "      <td>../data/images1/4.jpg</td>\n",
       "      <td>869</td>\n",
       "      <td>403</td>\n",
       "      <td>9</td>\n",
       "      <td>12</td>\n",
       "      <td>0.26</td>\n",
       "    </tr>\n",
       "    <tr>\n",
       "      <th>...</th>\n",
       "      <td>...</td>\n",
       "      <td>...</td>\n",
       "      <td>...</td>\n",
       "      <td>...</td>\n",
       "      <td>...</td>\n",
       "      <td>...</td>\n",
       "    </tr>\n",
       "    <tr>\n",
       "      <th>151</th>\n",
       "      <td>../data/images1/154.jpg</td>\n",
       "      <td>1186</td>\n",
       "      <td>583</td>\n",
       "      <td>9</td>\n",
       "      <td>11</td>\n",
       "      <td>2.06</td>\n",
       "    </tr>\n",
       "    <tr>\n",
       "      <th>152</th>\n",
       "      <td>../data/images1/155.jpg</td>\n",
       "      <td>1190</td>\n",
       "      <td>585</td>\n",
       "      <td>9</td>\n",
       "      <td>11</td>\n",
       "      <td>2.15</td>\n",
       "    </tr>\n",
       "    <tr>\n",
       "      <th>153</th>\n",
       "      <td>../data/images1/156.jpg</td>\n",
       "      <td>1194</td>\n",
       "      <td>586</td>\n",
       "      <td>9</td>\n",
       "      <td>11</td>\n",
       "      <td>1.98</td>\n",
       "    </tr>\n",
       "    <tr>\n",
       "      <th>154</th>\n",
       "      <td>../data/images1/157.jpg</td>\n",
       "      <td>1198</td>\n",
       "      <td>588</td>\n",
       "      <td>9</td>\n",
       "      <td>10</td>\n",
       "      <td>0.46</td>\n",
       "    </tr>\n",
       "    <tr>\n",
       "      <th>155</th>\n",
       "      <td>../data/images1/158.jpg</td>\n",
       "      <td>1198</td>\n",
       "      <td>589</td>\n",
       "      <td>5</td>\n",
       "      <td>8</td>\n",
       "      <td>0.18</td>\n",
       "    </tr>\n",
       "  </tbody>\n",
       "</table>\n",
       "<p>156 rows × 6 columns</p>\n",
       "</div>"
      ],
      "text/plain": [
       "                          id     x    y  r1  r2  theta\n",
       "0      ../data/images1/0.jpg   869  403   8  12   0.24\n",
       "1      ../data/images1/1.jpg   869  403   8  12   0.25\n",
       "2      ../data/images1/2.jpg   869  403   9  12   0.25\n",
       "3      ../data/images1/3.jpg   869  403   9  12   0.24\n",
       "4      ../data/images1/4.jpg   869  403   9  12   0.26\n",
       "..                       ...   ...  ...  ..  ..    ...\n",
       "151  ../data/images1/154.jpg  1186  583   9  11   2.06\n",
       "152  ../data/images1/155.jpg  1190  585   9  11   2.15\n",
       "153  ../data/images1/156.jpg  1194  586   9  11   1.98\n",
       "154  ../data/images1/157.jpg  1198  588   9  10   0.46\n",
       "155  ../data/images1/158.jpg  1198  589   5   8   0.18\n",
       "\n",
       "[156 rows x 6 columns]"
      ]
     },
     "execution_count": 30,
     "metadata": {},
     "output_type": "execute_result"
    }
   ],
   "source": [
    "df"
   ]
  },
  {
   "cell_type": "code",
   "execution_count": null,
   "metadata": {},
   "outputs": [],
   "source": []
  }
 ],
 "metadata": {
  "kernelspec": {
   "display_name": "Python 3.8.5",
   "language": "python",
   "name": "python3"
  },
  "language_info": {
   "codemirror_mode": {
    "name": "ipython",
    "version": 3
   },
   "file_extension": ".py",
   "mimetype": "text/x-python",
   "name": "python",
   "nbconvert_exporter": "python",
   "pygments_lexer": "ipython3",
   "version": "3.8.5"
  },
  "orig_nbformat": 4,
  "vscode": {
   "interpreter": {
    "hash": "21040c1b576dca9f4f330277849b9f4819256d524dee23c2b89e431027dafe11"
   }
  }
 },
 "nbformat": 4,
 "nbformat_minor": 2
}
