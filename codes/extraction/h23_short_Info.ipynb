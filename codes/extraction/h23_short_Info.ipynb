{
 "cells": [
  {
   "cell_type": "markdown",
   "metadata": {},
   "source": [
    "# Imports"
   ]
  },
  {
   "cell_type": "code",
   "execution_count": 3,
   "metadata": {},
   "outputs": [],
   "source": [
    "import re\n",
    "import numpy as np\n",
    "import matplotlib.pyplot as plt\n",
    "import pandas as pd\n",
    "from scipy.optimize import curve_fit\n",
    "import warnings\n",
    "warnings.filterwarnings(\"ignore\")\n",
    "plt.rcdefaults()"
   ]
  },
  {
   "cell_type": "markdown",
   "metadata": {},
   "source": [
    "# Defining the Directories"
   ]
  },
  {
   "cell_type": "code",
   "execution_count": 4,
   "metadata": {},
   "outputs": [],
   "source": [
    "sequence = \"h23_short\"\n",
    "DATA_DIR = '../../data/extracted_images/' + sequence\n",
    "RESULT_DIR = '../../data/results/' + sequence"
   ]
  },
  {
   "cell_type": "markdown",
   "metadata": {},
   "source": [
    "# Getting Informations and Reading the Files"
   ]
  },
  {
   "cell_type": "markdown",
   "metadata": {},
   "source": [
    "## Getting Frame Information"
   ]
  },
  {
   "cell_type": "code",
   "execution_count": 5,
   "metadata": {},
   "outputs": [],
   "source": [
    "info_dict = {\n",
    "    \"first_frame\": 1,\n",
    "    \"last_frame\": 2,\n",
    "    \"contact_frame\": 3,\n",
    "    \"leave_frame\": 4,\n",
    "    \"angle\": 5,\n",
    "    \"passthrough\": 6,\n",
    "}"
   ]
  },
  {
   "cell_type": "code",
   "execution_count": 6,
   "metadata": {},
   "outputs": [],
   "source": [
    "def get_info(file):\n",
    "    information = {}\n",
    "    with open(file, \"r\") as f:\n",
    "        texts = f.readlines()\n",
    "    for key, value in info_dict.items():\n",
    "        line = texts[value]\n",
    "        info = line.split(\":\")[1].strip()\n",
    "        information[key] = info\n",
    "    return information\n",
    "\n",
    "information = get_info(f\"{DATA_DIR}.txt\")"
   ]
  },
  {
   "cell_type": "code",
   "execution_count": 7,
   "metadata": {},
   "outputs": [],
   "source": [
    "first_frame = DATA_DIR + \"/\" +information[\"first_frame\"]\n",
    "last_frame = DATA_DIR + \"/\" +information[\"last_frame\"]\n",
    "contact_frame = DATA_DIR + \"/\" +information[\"contact_frame\"]\n",
    "angle = information[\"angle\"]\n",
    "leave_frame = DATA_DIR + \"/\" +information[\"leave_frame\"]\n",
    "passthrough = information[\"passthrough\"]"
   ]
  },
  {
   "cell_type": "code",
   "execution_count": 8,
   "metadata": {},
   "outputs": [
    {
     "data": {
      "text/plain": [
       "('../../data/extracted_images/h23_short/006',\n",
       " '../../data/extracted_images/h23_short/046')"
      ]
     },
     "execution_count": 8,
     "metadata": {},
     "output_type": "execute_result"
    }
   ],
   "source": [
    "first_frame, last_frame"
   ]
  },
  {
   "cell_type": "markdown",
   "metadata": {},
   "source": [
    "## Converting the Frame ID to Integer"
   ]
  },
  {
   "cell_type": "code",
   "execution_count": 9,
   "metadata": {},
   "outputs": [
    {
     "data": {
      "text/plain": [
       "(6, 35, 42)"
      ]
     },
     "execution_count": 9,
     "metadata": {},
     "output_type": "execute_result"
    }
   ],
   "source": [
    "reg = re.compile(r\"\\d{3}\")\n",
    "first_frame_num = int(reg.findall(first_frame)[0])\n",
    "contact_frame_num = int(reg.findall(contact_frame)[0])\n",
    "leave_frame_num = int(reg.findall(leave_frame)[0])\n",
    "first_frame_num, contact_frame_num, leave_frame_num"
   ]
  },
  {
   "cell_type": "markdown",
   "metadata": {},
   "source": [
    "## Reading the DF"
   ]
  },
  {
   "cell_type": "code",
   "execution_count": 10,
   "metadata": {},
   "outputs": [],
   "source": [
    "df_name = sequence+\"_raw.csv\"\n",
    "df = pd.read_csv(RESULT_DIR + '/'+df_name)\n",
    "df_c = df[df[\"x\"].notna()]"
   ]
  },
  {
   "cell_type": "markdown",
   "metadata": {},
   "source": [
    "# Fitting Curves"
   ]
  },
  {
   "cell_type": "markdown",
   "metadata": {},
   "source": [
    "## The Curves to be Fitted"
   ]
  },
  {
   "cell_type": "markdown",
   "metadata": {},
   "source": [
    "We'll assume that downward is the positive direction. In this way, the gravitational acceleration is positive. In x direction, no force is acting and hence the equation of motion is simply:\n",
    "$$\n",
    "x(t) = x_0 + v_{x0}t\n",
    "$$\n",
    "Here $x_0$ is the initial x position, $v_{x0}$ is the initial y velocity."
   ]
  },
  {
   "cell_type": "markdown",
   "metadata": {},
   "source": [
    "Now, in y direction, the equation of motion is:\n",
    "$$\n",
    "y(t) = y_0 + v_{y0}t + \\frac{1}{2}gt^2\n",
    "$$\n",
    "Here, $y_0$ is the initial y position, $v_{y0}$ is the initial y velocity, and $g$ is the acceleration due to gravity."
   ]
  },
  {
   "cell_type": "markdown",
   "metadata": {},
   "source": [
    "We'll optimize these two equations to get the initial velocity and the initial position for x and y direction."
   ]
  },
  {
   "cell_type": "markdown",
   "metadata": {},
   "source": [
    "We can also phrase the same problem by eliminating $t$ from the equation of motions. This way, we'll get $y$ as a function of $x$. Eliminating $t$ from the equation of motion, we get:\n",
    "$$\n",
    "y = y_0 + \\frac{v_y}{v_x}(x - x_0) + \\frac{1}{2}g\\frac{(x - x_0)^2}{v_x^2}\n",
    "$$\n"
   ]
  },
  {
   "cell_type": "markdown",
   "metadata": {},
   "source": [
    "Here, we have rewritten $v_{x0}$ as $v_x$ and $v_{y0}$ as $v_y$. \n",
    "<!-- Defining $\\frac{v_y}{v_x}$ as $m$, which is nothing but $\\tan(\\theta)$ where $\\theta$ is the angle between the y and x velocity, we get:\n",
    "$$\n",
    "y = y_0 + m(x - x_0) + \\frac{1}{2}g\\frac{(x - x_0)^2}{v_x^2}\n",
    "$$ -->"
   ]
  },
  {
   "cell_type": "markdown",
   "metadata": {},
   "source": [
    "This is a parabola with the parameters $y_0$, $m$, $g$ and $v_x$ and $v_y$. We can use `scipy` to get these parameters."
   ]
  },
  {
   "cell_type": "code",
   "execution_count": 11,
   "metadata": {},
   "outputs": [],
   "source": [
    "def the_parabola(x, x0, y0, vy, vx, g):\n",
    "    second_term = (vy/vx)*(x-x0)\n",
    "    third_term = 0.5*g*((x-x0)/vx)**2\n",
    "    return y0 + second_term + third_term\n",
    "the_parabola_vector = np.vectorize(the_parabola)"
   ]
  },
  {
   "cell_type": "markdown",
   "metadata": {},
   "source": [
    "However, it turned out that using the parabola does not give a reasonable result. So, we'll be using the parametric equations."
   ]
  },
  {
   "cell_type": "code",
   "execution_count": 12,
   "metadata": {},
   "outputs": [],
   "source": [
    "def parametric_x(t, x0, vx0):\n",
    "    return x0 + vx0*t\n",
    "parametric_x_vector = np.vectorize(parametric_x)\n",
    "\n",
    "def parametric_y(t, y0, vy0, g):\n",
    "    return y0 + vy0*t+0.5*g*t**2\n",
    "parametric_y_vector = np.vectorize(parametric_y)"
   ]
  },
  {
   "cell_type": "markdown",
   "metadata": {},
   "source": [
    "## Region III"
   ]
  },
  {
   "cell_type": "markdown",
   "metadata": {},
   "source": [
    "### Data For Region III"
   ]
  },
  {
   "cell_type": "code",
   "execution_count": 13,
   "metadata": {},
   "outputs": [],
   "source": [
    "region_3 = df_c[df_c[\"Region\"] == \"III\"]"
   ]
  },
  {
   "cell_type": "code",
   "execution_count": 14,
   "metadata": {},
   "outputs": [],
   "source": [
    "X = region_3[\"x\"].values\n",
    "Y = region_3[\"y\"].values\n",
    "t = region_3[\"time\"].values\n",
    "offset = t[0]\n",
    "tbar = t-offset"
   ]
  },
  {
   "cell_type": "code",
   "execution_count": 15,
   "metadata": {},
   "outputs": [
    {
     "data": {
      "text/plain": [
       "array([0, 1, 2, 3, 4, 6, 7, 8])"
      ]
     },
     "execution_count": 15,
     "metadata": {},
     "output_type": "execute_result"
    }
   ],
   "source": [
    "tbar"
   ]
  },
  {
   "cell_type": "markdown",
   "metadata": {},
   "source": [
    "### Fitting the Curves"
   ]
  },
  {
   "cell_type": "code",
   "execution_count": 16,
   "metadata": {},
   "outputs": [],
   "source": [
    "popt, pcov = curve_fit(the_parabola, X, Y, maxfev=10000)\n",
    "popty, pcovy = curve_fit(parametric_y, tbar, Y)\n",
    "poptx, pcovx = curve_fit(parametric_x, tbar, X)"
   ]
  },
  {
   "cell_type": "code",
   "execution_count": 17,
   "metadata": {},
   "outputs": [
    {
     "data": {
      "text/plain": [
       "array([ 2.50333491e+04, -6.69705082e+06,  4.18670799e+04, -7.38153811e+01,\n",
       "       -1.30762019e+02])"
      ]
     },
     "execution_count": 17,
     "metadata": {},
     "output_type": "execute_result"
    }
   ],
   "source": [
    "popt"
   ]
  },
  {
   "cell_type": "markdown",
   "metadata": {},
   "source": [
    "As you can see, the parameters calculated by the fitting method is ridiculus, even though it fits the parabola well (See the figure below)."
   ]
  },
  {
   "cell_type": "code",
   "execution_count": 18,
   "metadata": {},
   "outputs": [
    {
     "data": {
      "text/plain": [
       "(array([7.58828026e+02, 5.60509313e-01]),\n",
       " array([ 4.66719842e+02,  1.26344889e+01, -2.95283728e-01]))"
      ]
     },
     "execution_count": 18,
     "metadata": {},
     "output_type": "execute_result"
    }
   ],
   "source": [
    "poptx, popty"
   ]
  },
  {
   "cell_type": "markdown",
   "metadata": {},
   "source": [
    "These values are reasonable."
   ]
  },
  {
   "cell_type": "code",
   "execution_count": 19,
   "metadata": {},
   "outputs": [
    {
     "data": {
      "text/plain": [
       "-0.29528372792467583"
      ]
     },
     "execution_count": 19,
     "metadata": {},
     "output_type": "execute_result"
    }
   ],
   "source": [
    "g = popty[2]\n",
    "g"
   ]
  },
  {
   "cell_type": "markdown",
   "metadata": {},
   "source": [
    "### Analyzing the Results"
   ]
  },
  {
   "cell_type": "code",
   "execution_count": 20,
   "metadata": {},
   "outputs": [
    {
     "data": {
      "image/png": "[encoded data removed]",
      "text/plain": [
       "<Figure size 640x480 with 1 Axes>"
      ]
     },
     "metadata": {},
     "output_type": "display_data"
    }
   ],
   "source": [
    "plt.plot(X,Y, 'o', label=\"data\")\n",
    "plt.plot(X, the_parabola_vector(X, *popt),label=\"fit using parabola\")\n",
    "plt.legend();"
   ]
  },
  {
   "cell_type": "code",
   "execution_count": 21,
   "metadata": {},
   "outputs": [
    {
     "data": {
      "image/png": "[encoded data removed]",
      "text/plain": [
       "<Figure size 640x480 with 1 Axes>"
      ]
     },
     "metadata": {},
     "output_type": "display_data"
    }
   ],
   "source": [
    "plt.plot(X,Y, 'o', label=\"data\")\n",
    "plt.plot(parametric_x_vector(tbar, *poptx), parametric_y_vector(tbar, *popty), label=\"fit using parametric\")\n",
    "plt.legend();"
   ]
  },
  {
   "cell_type": "markdown",
   "metadata": {},
   "source": [
    "We can see that using the parametric equations, we can fit the curve accurately."
   ]
  },
  {
   "cell_type": "markdown",
   "metadata": {},
   "source": [
    "### Getting Speeds"
   ]
  },
  {
   "cell_type": "markdown",
   "metadata": {},
   "source": [
    "Next, we'll see how the calculated velocities are? The eqaution for the speeds are:\n",
    "$$\n",
    "v_x(t) = v_{x0}\\\\\n",
    "v_y(t) = v_{y0} + gt\n",
    "$$"
   ]
  },
  {
   "cell_type": "code",
   "execution_count": 22,
   "metadata": {},
   "outputs": [],
   "source": [
    "vy = popty[1]+popty[2]*(tbar)\n",
    "vx = np.ones(len(tbar))*poptx[1]\n",
    "v = np.sqrt(vy**2+vx**2)"
   ]
  },
  {
   "cell_type": "code",
   "execution_count": 23,
   "metadata": {},
   "outputs": [
    {
     "data": {
      "image/png": "[encoded data removed]",
      "text/plain": [
       "<Figure size 640x480 with 1 Axes>"
      ]
     },
     "metadata": {},
     "output_type": "display_data"
    }
   ],
   "source": [
    "plt.plot(tbar, region_3[\"vy\"].values, label=\"vy_data\")\n",
    "plt.plot(tbar, vy, label=\"vy_calculated\")\n",
    "plt.legend()\n",
    "plt.xlabel(\"time\")\n",
    "plt.ylabel(\"vy\");"
   ]
  },
  {
   "cell_type": "code",
   "execution_count": 24,
   "metadata": {},
   "outputs": [
    {
     "data": {
      "image/png": "[encoded data removed]",
      "text/plain": [
       "<Figure size 640x480 with 1 Axes>"
      ]
     },
     "metadata": {},
     "output_type": "display_data"
    }
   ],
   "source": [
    "plt.plot(tbar, region_3[\"vx\"].values, label=\"vx_data\")\n",
    "plt.plot(tbar, vx, label=\"vx_calculated\")\n",
    "plt.legend()\n",
    "plt.xlabel(\"time\")\n",
    "plt.ylabel(\"vx\");"
   ]
  },
  {
   "cell_type": "code",
   "execution_count": 25,
   "metadata": {},
   "outputs": [
    {
     "data": {
      "image/png": "[encoded data removed]",
      "text/plain": [
       "<Figure size 640x480 with 1 Axes>"
      ]
     },
     "metadata": {},
     "output_type": "display_data"
    }
   ],
   "source": [
    "plt.plot(tbar, region_3[\"v\"].values, label=\"v_data\")\n",
    "plt.plot(tbar, v, label=\"v_calculated\")\n",
    "plt.legend()\n",
    "plt.xlabel(\"time\")\n",
    "plt.ylabel(\"v\");"
   ]
  },
  {
   "cell_type": "markdown",
   "metadata": {},
   "source": [
    "They are reasonable."
   ]
  },
  {
   "cell_type": "markdown",
   "metadata": {},
   "source": [
    "### Getting Angles"
   ]
  },
  {
   "cell_type": "markdown",
   "metadata": {},
   "source": [
    "Next, let's calculate the angle between the x and y velocity."
   ]
  },
  {
   "cell_type": "code",
   "execution_count": 26,
   "metadata": {},
   "outputs": [],
   "source": [
    "angles= np.arctan(vy/vx)*180/np.pi"
   ]
  },
  {
   "cell_type": "code",
   "execution_count": 27,
   "metadata": {},
   "outputs": [
    {
     "data": {
      "image/png": "[encoded data removed]",
      "text/plain": [
       "<Figure size 640x480 with 1 Axes>"
      ]
     },
     "metadata": {},
     "output_type": "display_data"
    }
   ],
   "source": [
    "plt.plot(-angles, label = \"calculated\")\n",
    "plt.plot(region_3[\"angle\"].values, label = \"data\")\n",
    "plt.legend();"
   ]
  },
  {
   "cell_type": "markdown",
   "metadata": {},
   "source": [
    "Again, reasonable."
   ]
  },
  {
   "cell_type": "markdown",
   "metadata": {},
   "source": [
    "## Getting the Additional Information"
   ]
  },
  {
   "cell_type": "code",
   "execution_count": 28,
   "metadata": {},
   "outputs": [],
   "source": [
    "new_info_df = pd.DataFrame({\"vx\": vx, \"vy\": vy, \"v\":v, \"angle\": angles, \"time\":t})\n",
    "new_info_df.columns = [\"vx_using_curve\", \"vy_using_curve\", \"v_using_curve\", \"angle_using_curve\", \"time\"]"
   ]
  },
  {
   "cell_type": "code",
   "execution_count": 29,
   "metadata": {},
   "outputs": [
    {
     "data": {
      "text/html": [
       "<div>\n",
       "<style scoped>\n",
       "    .dataframe tbody tr th:only-of-type {\n",
       "        vertical-align: middle;\n",
       "    }\n",
       "\n",
       "    .dataframe tbody tr th {\n",
       "        vertical-align: top;\n",
       "    }\n",
       "\n",
       "    .dataframe thead th {\n",
       "        text-align: right;\n",
       "    }\n",
       "</style>\n",
       "<table border=\"1\" class=\"dataframe\">\n",
       "  <thead>\n",
       "    <tr style=\"text-align: right;\">\n",
       "      <th></th>\n",
       "      <th>vx_using_curve</th>\n",
       "      <th>vy_using_curve</th>\n",
       "      <th>v_using_curve</th>\n",
       "      <th>angle_using_curve</th>\n",
       "      <th>time</th>\n",
       "    </tr>\n",
       "  </thead>\n",
       "  <tbody>\n",
       "    <tr>\n",
       "      <th>0</th>\n",
       "      <td>0.560509</td>\n",
       "      <td>12.634489</td>\n",
       "      <td>12.646916</td>\n",
       "      <td>87.459828</td>\n",
       "      <td>41</td>\n",
       "    </tr>\n",
       "    <tr>\n",
       "      <th>1</th>\n",
       "      <td>0.560509</td>\n",
       "      <td>12.339205</td>\n",
       "      <td>12.351929</td>\n",
       "      <td>87.399123</td>\n",
       "      <td>42</td>\n",
       "    </tr>\n",
       "    <tr>\n",
       "      <th>2</th>\n",
       "      <td>0.560509</td>\n",
       "      <td>12.043921</td>\n",
       "      <td>12.056957</td>\n",
       "      <td>87.335447</td>\n",
       "      <td>43</td>\n",
       "    </tr>\n",
       "    <tr>\n",
       "      <th>3</th>\n",
       "      <td>0.560509</td>\n",
       "      <td>11.748638</td>\n",
       "      <td>11.762001</td>\n",
       "      <td>87.268578</td>\n",
       "      <td>44</td>\n",
       "    </tr>\n",
       "    <tr>\n",
       "      <th>4</th>\n",
       "      <td>0.560509</td>\n",
       "      <td>11.453354</td>\n",
       "      <td>11.467061</td>\n",
       "      <td>87.198269</td>\n",
       "      <td>45</td>\n",
       "    </tr>\n",
       "    <tr>\n",
       "      <th>5</th>\n",
       "      <td>0.560509</td>\n",
       "      <td>10.862787</td>\n",
       "      <td>10.877238</td>\n",
       "      <td>87.046213</td>\n",
       "      <td>47</td>\n",
       "    </tr>\n",
       "    <tr>\n",
       "      <th>6</th>\n",
       "      <td>0.560509</td>\n",
       "      <td>10.567503</td>\n",
       "      <td>10.582357</td>\n",
       "      <td>86.963828</td>\n",
       "      <td>48</td>\n",
       "    </tr>\n",
       "    <tr>\n",
       "      <th>7</th>\n",
       "      <td>0.560509</td>\n",
       "      <td>10.272219</td>\n",
       "      <td>10.287500</td>\n",
       "      <td>86.876721</td>\n",
       "      <td>49</td>\n",
       "    </tr>\n",
       "  </tbody>\n",
       "</table>\n",
       "</div>"
      ],
      "text/plain": [
       "   vx_using_curve  vy_using_curve  v_using_curve  angle_using_curve  time\n",
       "0        0.560509       12.634489      12.646916          87.459828    41\n",
       "1        0.560509       12.339205      12.351929          87.399123    42\n",
       "2        0.560509       12.043921      12.056957          87.335447    43\n",
       "3        0.560509       11.748638      11.762001          87.268578    44\n",
       "4        0.560509       11.453354      11.467061          87.198269    45\n",
       "5        0.560509       10.862787      10.877238          87.046213    47\n",
       "6        0.560509       10.567503      10.582357          86.963828    48\n",
       "7        0.560509       10.272219      10.287500          86.876721    49"
      ]
     },
     "execution_count": 29,
     "metadata": {},
     "output_type": "execute_result"
    }
   ],
   "source": [
    "new_info_df"
   ]
  },
  {
   "cell_type": "code",
   "execution_count": 30,
   "metadata": {},
   "outputs": [
    {
     "data": {
      "text/html": [
       "<div>\n",
       "<style scoped>\n",
       "    .dataframe tbody tr th:only-of-type {\n",
       "        vertical-align: middle;\n",
       "    }\n",
       "\n",
       "    .dataframe tbody tr th {\n",
       "        vertical-align: top;\n",
       "    }\n",
       "\n",
       "    .dataframe thead th {\n",
       "        text-align: right;\n",
       "    }\n",
       "</style>\n",
       "<table border=\"1\" class=\"dataframe\">\n",
       "  <thead>\n",
       "    <tr style=\"text-align: right;\">\n",
       "      <th></th>\n",
       "      <th>27</th>\n",
       "      <th>28</th>\n",
       "      <th>29</th>\n",
       "      <th>30</th>\n",
       "      <th>31</th>\n",
       "    </tr>\n",
       "  </thead>\n",
       "  <tbody>\n",
       "    <tr>\n",
       "      <th>id</th>\n",
       "      <td>../../data/extracted_images/h23_short/044.jpg</td>\n",
       "      <td>../../data/extracted_images/h23_short/045.jpg</td>\n",
       "      <td>../../data/extracted_images/h23_short/047.jpg</td>\n",
       "      <td>../../data/extracted_images/h23_short/048.jpg</td>\n",
       "      <td>../../data/extracted_images/h23_short/049.jpg</td>\n",
       "    </tr>\n",
       "    <tr>\n",
       "      <th>x</th>\n",
       "      <td>760.0</td>\n",
       "      <td>761.0</td>\n",
       "      <td>761.0</td>\n",
       "      <td>762.0</td>\n",
       "      <td>765.0</td>\n",
       "    </tr>\n",
       "    <tr>\n",
       "      <th>y</th>\n",
       "      <td>502.0</td>\n",
       "      <td>515.0</td>\n",
       "      <td>539.0</td>\n",
       "      <td>550.0</td>\n",
       "      <td>556.0</td>\n",
       "    </tr>\n",
       "    <tr>\n",
       "      <th>r1</th>\n",
       "      <td>9.0</td>\n",
       "      <td>12.0</td>\n",
       "      <td>9.0</td>\n",
       "      <td>10.0</td>\n",
       "      <td>6.0</td>\n",
       "    </tr>\n",
       "    <tr>\n",
       "      <th>r2</th>\n",
       "      <td>13.0</td>\n",
       "      <td>10.0</td>\n",
       "      <td>9.0</td>\n",
       "      <td>7.0</td>\n",
       "      <td>1.0</td>\n",
       "    </tr>\n",
       "    <tr>\n",
       "      <th>theta</th>\n",
       "      <td>29.793805</td>\n",
       "      <td>109.434939</td>\n",
       "      <td>32.658594</td>\n",
       "      <td>3.437747</td>\n",
       "      <td>19.480565</td>\n",
       "    </tr>\n",
       "    <tr>\n",
       "      <th>vx</th>\n",
       "      <td>0.428571</td>\n",
       "      <td>0.428571</td>\n",
       "      <td>0.428571</td>\n",
       "      <td>0.428571</td>\n",
       "      <td>0.714286</td>\n",
       "    </tr>\n",
       "    <tr>\n",
       "      <th>vy</th>\n",
       "      <td>11.142857</td>\n",
       "      <td>12.0</td>\n",
       "      <td>12.0</td>\n",
       "      <td>11.714286</td>\n",
       "      <td>11.0</td>\n",
       "    </tr>\n",
       "    <tr>\n",
       "      <th>v</th>\n",
       "      <td>11.151096</td>\n",
       "      <td>12.007651</td>\n",
       "      <td>12.007651</td>\n",
       "      <td>11.722123</td>\n",
       "      <td>11.023167</td>\n",
       "    </tr>\n",
       "    <tr>\n",
       "      <th>angle</th>\n",
       "      <td>-87.797402</td>\n",
       "      <td>-87.954592</td>\n",
       "      <td>-87.954592</td>\n",
       "      <td>-87.904747</td>\n",
       "      <td>-86.284711</td>\n",
       "    </tr>\n",
       "    <tr>\n",
       "      <th>Region</th>\n",
       "      <td>III</td>\n",
       "      <td>III</td>\n",
       "      <td>III</td>\n",
       "      <td>III</td>\n",
       "      <td>III</td>\n",
       "    </tr>\n",
       "    <tr>\n",
       "      <th>time</th>\n",
       "      <td>44</td>\n",
       "      <td>45</td>\n",
       "      <td>47</td>\n",
       "      <td>48</td>\n",
       "      <td>49</td>\n",
       "    </tr>\n",
       "    <tr>\n",
       "      <th>vx_using_curve</th>\n",
       "      <td>0.560509</td>\n",
       "      <td>0.560509</td>\n",
       "      <td>0.560509</td>\n",
       "      <td>0.560509</td>\n",
       "      <td>0.560509</td>\n",
       "    </tr>\n",
       "    <tr>\n",
       "      <th>vy_using_curve</th>\n",
       "      <td>11.748638</td>\n",
       "      <td>11.453354</td>\n",
       "      <td>10.862787</td>\n",
       "      <td>10.567503</td>\n",
       "      <td>10.272219</td>\n",
       "    </tr>\n",
       "    <tr>\n",
       "      <th>v_using_curve</th>\n",
       "      <td>11.762001</td>\n",
       "      <td>11.467061</td>\n",
       "      <td>10.877238</td>\n",
       "      <td>10.582357</td>\n",
       "      <td>10.2875</td>\n",
       "    </tr>\n",
       "    <tr>\n",
       "      <th>angle_using_curve</th>\n",
       "      <td>87.268578</td>\n",
       "      <td>87.198269</td>\n",
       "      <td>87.046213</td>\n",
       "      <td>86.963828</td>\n",
       "      <td>86.876721</td>\n",
       "    </tr>\n",
       "  </tbody>\n",
       "</table>\n",
       "</div>"
      ],
      "text/plain": [
       "                                                              27  \\\n",
       "id                 ../../data/extracted_images/h23_short/044.jpg   \n",
       "x                                                          760.0   \n",
       "y                                                          502.0   \n",
       "r1                                                           9.0   \n",
       "r2                                                          13.0   \n",
       "theta                                                  29.793805   \n",
       "vx                                                      0.428571   \n",
       "vy                                                     11.142857   \n",
       "v                                                      11.151096   \n",
       "angle                                                 -87.797402   \n",
       "Region                                                       III   \n",
       "time                                                          44   \n",
       "vx_using_curve                                          0.560509   \n",
       "vy_using_curve                                         11.748638   \n",
       "v_using_curve                                          11.762001   \n",
       "angle_using_curve                                      87.268578   \n",
       "\n",
       "                                                              28  \\\n",
       "id                 ../../data/extracted_images/h23_short/045.jpg   \n",
       "x                                                          761.0   \n",
       "y                                                          515.0   \n",
       "r1                                                          12.0   \n",
       "r2                                                          10.0   \n",
       "theta                                                 109.434939   \n",
       "vx                                                      0.428571   \n",
       "vy                                                          12.0   \n",
       "v                                                      12.007651   \n",
       "angle                                                 -87.954592   \n",
       "Region                                                       III   \n",
       "time                                                          45   \n",
       "vx_using_curve                                          0.560509   \n",
       "vy_using_curve                                         11.453354   \n",
       "v_using_curve                                          11.467061   \n",
       "angle_using_curve                                      87.198269   \n",
       "\n",
       "                                                              29  \\\n",
       "id                 ../../data/extracted_images/h23_short/047.jpg   \n",
       "x                                                          761.0   \n",
       "y                                                          539.0   \n",
       "r1                                                           9.0   \n",
       "r2                                                           9.0   \n",
       "theta                                                  32.658594   \n",
       "vx                                                      0.428571   \n",
       "vy                                                          12.0   \n",
       "v                                                      12.007651   \n",
       "angle                                                 -87.954592   \n",
       "Region                                                       III   \n",
       "time                                                          47   \n",
       "vx_using_curve                                          0.560509   \n",
       "vy_using_curve                                         10.862787   \n",
       "v_using_curve                                          10.877238   \n",
       "angle_using_curve                                      87.046213   \n",
       "\n",
       "                                                              30  \\\n",
       "id                 ../../data/extracted_images/h23_short/048.jpg   \n",
       "x                                                          762.0   \n",
       "y                                                          550.0   \n",
       "r1                                                          10.0   \n",
       "r2                                                           7.0   \n",
       "theta                                                   3.437747   \n",
       "vx                                                      0.428571   \n",
       "vy                                                     11.714286   \n",
       "v                                                      11.722123   \n",
       "angle                                                 -87.904747   \n",
       "Region                                                       III   \n",
       "time                                                          48   \n",
       "vx_using_curve                                          0.560509   \n",
       "vy_using_curve                                         10.567503   \n",
       "v_using_curve                                          10.582357   \n",
       "angle_using_curve                                      86.963828   \n",
       "\n",
       "                                                              31  \n",
       "id                 ../../data/extracted_images/h23_short/049.jpg  \n",
       "x                                                          765.0  \n",
       "y                                                          556.0  \n",
       "r1                                                           6.0  \n",
       "r2                                                           1.0  \n",
       "theta                                                  19.480565  \n",
       "vx                                                      0.714286  \n",
       "vy                                                          11.0  \n",
       "v                                                      11.023167  \n",
       "angle                                                 -86.284711  \n",
       "Region                                                       III  \n",
       "time                                                          49  \n",
       "vx_using_curve                                          0.560509  \n",
       "vy_using_curve                                         10.272219  \n",
       "v_using_curve                                            10.2875  \n",
       "angle_using_curve                                      86.876721  "
      ]
     },
     "execution_count": 30,
     "metadata": {},
     "output_type": "execute_result"
    }
   ],
   "source": [
    "df_final = pd.merge(df_c, new_info_df, on=\"time\", how=\"left\")\n",
    "df_final.tail().T"
   ]
  },
  {
   "cell_type": "markdown",
   "metadata": {},
   "source": [
    "## Adding the Additional Information"
   ]
  },
  {
   "cell_type": "code",
   "execution_count": 31,
   "metadata": {},
   "outputs": [
    {
     "data": {
      "text/plain": [
       "(0.5605093129955007, 12.634488913967523, 12.646915861470848, 87.45982805229129)"
      ]
     },
     "execution_count": 31,
     "metadata": {},
     "output_type": "execute_result"
    }
   ],
   "source": [
    "x_speed = vx[0]\n",
    "y_speed = vy[0]\n",
    "speed = v[0]\n",
    "angle = angles[0]\n",
    "x_speed, y_speed, speed, angle"
   ]
  },
  {
   "cell_type": "code",
   "execution_count": 32,
   "metadata": {},
   "outputs": [
    {
     "name": "stdout",
     "output_type": "stream",
     "text": [
      "USING CURVE FIT AT LEAVE FRAME\n",
      "### ANGLE: 87.46\n",
      "### VELOCITY: 12.65\n",
      "### X VELOCITY: 0.56\n",
      "### Y VELOCITY: 12.63\n",
      "### g: -0.2953\n",
      "************************************************************\n",
      "\n"
     ]
    }
   ],
   "source": [
    "pattern = \"***\"\n",
    "information = f\"\"\"USING CURVE FIT AT LEAVE FRAME\n",
    "### ANGLE: {np.round(angle, 2)}\n",
    "### VELOCITY: {np.round(speed, 2)}\n",
    "### X VELOCITY: {np.round(x_speed, 2)}\n",
    "### Y VELOCITY: {np.round(y_speed, 2)}\n",
    "### g: {np.round(g, 4)}\n",
    "{pattern*20}\n",
    "\"\"\"\n",
    "print(information)"
   ]
  },
  {
   "cell_type": "markdown",
   "metadata": {},
   "source": [
    "First, create a new string containing just the previous text file. Else we'll duplicate the text file."
   ]
  },
  {
   "cell_type": "code",
   "execution_count": 33,
   "metadata": {},
   "outputs": [
    {
     "name": "stdout",
     "output_type": "stream",
     "text": [
      "### h23_short.tif\n",
      "### First Frame ID: 006\n",
      "### Last Frame ID: 046\n",
      "### Contact Frame ID: 035\n",
      "### Leave Frame ID: 040\n",
      "### Angle:\n"
     ]
    }
   ],
   "source": [
    "with open(RESULT_DIR +\"/info.txt\", \"r+\") as f:\n",
    "    texts = f.readlines()\n",
    "if len(texts)>44:\n",
    "    text = \"\".join(texts[:-6])\n",
    "else:\n",
    "    text = \"\".join(texts)\n",
    "print(text[:125])\n",
    "all_text = text+information"
   ]
  },
  {
   "cell_type": "code",
   "execution_count": 34,
   "metadata": {},
   "outputs": [
    {
     "data": {
      "text/plain": [
       "43"
      ]
     },
     "execution_count": 34,
     "metadata": {},
     "output_type": "execute_result"
    }
   ],
   "source": [
    "len(texts)"
   ]
  },
  {
   "cell_type": "code",
   "execution_count": 35,
   "metadata": {},
   "outputs": [],
   "source": [
    "with open(RESULT_DIR +\"/info.txt\", \"w\") as f:\n",
    "    f.writelines(all_text)"
   ]
  },
  {
   "cell_type": "markdown",
   "metadata": {},
   "source": [
    "### Save the DataFrame"
   ]
  },
  {
   "cell_type": "code",
   "execution_count": 36,
   "metadata": {},
   "outputs": [],
   "source": [
    "df_final.to_csv(RESULT_DIR + f\"/{sequence}_final.csv\", index=False)"
   ]
  }
 ],
 "metadata": {
  "kernelspec": {
   "display_name": "Python 3.7.13 ('data-science')",
   "language": "python",
   "name": "python3"
  },
  "language_info": {
   "codemirror_mode": {
    "name": "ipython",
    "version": 3
   },
   "file_extension": ".py",
   "mimetype": "text/x-python",
   "name": "python",
   "nbconvert_exporter": "python",
   "pygments_lexer": "ipython3",
   "version": "3.7.13"
  },
  "orig_nbformat": 4,
  "vscode": {
   "interpreter": {
    "hash": "2efee1efa502125d01e6b4768ba06d9453d29f3642bfd14ad5d4a769de82e88c"
   }
  }
 },
 "nbformat": 4,
 "nbformat_minor": 2
}
