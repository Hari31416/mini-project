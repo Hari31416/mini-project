{
 "cells": [
  {
   "cell_type": "markdown",
   "metadata": {},
   "source": [
    "# Imports"
   ]
  },
  {
   "cell_type": "code",
   "execution_count": 1,
   "metadata": {},
   "outputs": [],
   "source": [
    "import re\n",
    "import numpy as np\n",
    "import matplotlib.pyplot as plt\n",
    "import pandas as pd\n",
    "from scipy.optimize import curve_fit\n",
    "import warnings\n",
    "warnings.filterwarnings(\"ignore\")\n",
    "plt.rcdefaults()"
   ]
  },
  {
   "cell_type": "markdown",
   "metadata": {},
   "source": [
    "# Defining the Directories"
   ]
  },
  {
   "cell_type": "code",
   "execution_count": 2,
   "metadata": {},
   "outputs": [],
   "source": [
    "sequence = \"h4\"\n",
    "DATA_DIR = '../../data/extracted_images/' + sequence\n",
    "RESULT_DIR = '../../data/results/' + sequence"
   ]
  },
  {
   "cell_type": "markdown",
   "metadata": {},
   "source": [
    "# Getting Informations and Reading the Files"
   ]
  },
  {
   "cell_type": "markdown",
   "metadata": {},
   "source": [
    "## Getting Frame Information"
   ]
  },
  {
   "cell_type": "code",
   "execution_count": 3,
   "metadata": {},
   "outputs": [],
   "source": [
    "info_dict = {\n",
    "    \"first_frame\": 1,\n",
    "    \"last_frame\": 2,\n",
    "    \"contact_frame\": 3,\n",
    "    \"leave_frame\": 4,\n",
    "    \"angle\": 5,\n",
    "    \"passthrough\": 6,\n",
    "}"
   ]
  },
  {
   "cell_type": "code",
   "execution_count": 4,
   "metadata": {},
   "outputs": [],
   "source": [
    "def get_info(file):\n",
    "    information = {}\n",
    "    with open(file, \"r\") as f:\n",
    "        texts = f.readlines()\n",
    "    for key, value in info_dict.items():\n",
    "        line = texts[value]\n",
    "        info = line.split(\":\")[1].strip()\n",
    "        information[key] = info\n",
    "    return information\n",
    "\n",
    "information = get_info(f\"{DATA_DIR}.txt\")"
   ]
  },
  {
   "cell_type": "code",
   "execution_count": 5,
   "metadata": {},
   "outputs": [],
   "source": [
    "first_frame = DATA_DIR + \"/\" +information[\"first_frame\"]\n",
    "last_frame = DATA_DIR + \"/\" +information[\"last_frame\"]\n",
    "contact_frame = DATA_DIR + \"/\" +information[\"contact_frame\"]\n",
    "angle = information[\"angle\"]\n",
    "leave_frame = DATA_DIR + \"/\" +information[\"leave_frame\"]\n",
    "passthrough = information[\"passthrough\"]"
   ]
  },
  {
   "cell_type": "code",
   "execution_count": 6,
   "metadata": {},
   "outputs": [
    {
     "data": {
      "text/plain": [
       "('../../data/extracted_images/h4/070', '../../data/extracted_images/h4/272')"
      ]
     },
     "execution_count": 6,
     "metadata": {},
     "output_type": "execute_result"
    }
   ],
   "source": [
    "first_frame, last_frame"
   ]
  },
  {
   "cell_type": "markdown",
   "metadata": {},
   "source": [
    "## Converting the Frame ID to Integer"
   ]
  },
  {
   "cell_type": "code",
   "execution_count": 7,
   "metadata": {},
   "outputs": [
    {
     "data": {
      "text/plain": [
       "(70, 116, 158)"
      ]
     },
     "execution_count": 7,
     "metadata": {},
     "output_type": "execute_result"
    }
   ],
   "source": [
    "reg = re.compile(r\"\\d{3}\")\n",
    "first_frame_num = int(reg.findall(first_frame)[0])\n",
    "contact_frame_num = int(reg.findall(contact_frame)[0])\n",
    "leave_frame_num = int(reg.findall(leave_frame)[0])\n",
    "first_frame_num, contact_frame_num, leave_frame_num"
   ]
  },
  {
   "cell_type": "markdown",
   "metadata": {},
   "source": [
    "## Reading the DF"
   ]
  },
  {
   "cell_type": "code",
   "execution_count": 8,
   "metadata": {},
   "outputs": [],
   "source": [
    "df_name = sequence+\"_raw.csv\"\n",
    "df = pd.read_csv(RESULT_DIR + '/'+df_name)\n",
    "df_c = df[df[\"x\"].notna()]"
   ]
  },
  {
   "cell_type": "markdown",
   "metadata": {},
   "source": [
    "# Fitting Curves"
   ]
  },
  {
   "cell_type": "markdown",
   "metadata": {},
   "source": [
    "## The Curves to be Fitted"
   ]
  },
  {
   "cell_type": "markdown",
   "metadata": {},
   "source": [
    "We'll assume that downward is the positive direction. In this way, the gravitational acceleration is positive. In x direction, no force is acting and hence the equation of motion is simply:\n",
    "$$\n",
    "x(t) = x_0 + v_{x0}t\n",
    "$$\n",
    "Here $x_0$ is the initial x position, $v_{x0}$ is the initial y velocity."
   ]
  },
  {
   "cell_type": "markdown",
   "metadata": {},
   "source": [
    "Now, in y direction, the equation of motion is:\n",
    "$$\n",
    "y(t) = y_0 + v_{y0}t + \\frac{1}{2}gt^2\n",
    "$$\n",
    "Here, $y_0$ is the initial y position, $v_{y0}$ is the initial y velocity, and $g$ is the acceleration due to gravity."
   ]
  },
  {
   "cell_type": "markdown",
   "metadata": {},
   "source": [
    "We'll optimize these two equations to get the initial velocity and the initial position for x and y direction."
   ]
  },
  {
   "cell_type": "markdown",
   "metadata": {},
   "source": [
    "We can also phrase the same problem by eliminating $t$ from the equation of motions. This way, we'll get $y$ as a function of $x$. Eliminating $t$ from the equation of motion, we get:\n",
    "$$\n",
    "y = y_0 + \\frac{v_y}{v_x}(x - x_0) + \\frac{1}{2}g\\frac{(x - x_0)^2}{v_x^2}\n",
    "$$\n"
   ]
  },
  {
   "cell_type": "markdown",
   "metadata": {},
   "source": [
    "Here, we have rewritten $v_{x0}$ as $v_x$ and $v_{y0}$ as $v_y$. \n",
    "<!-- Defining $\\frac{v_y}{v_x}$ as $m$, which is nothing but $\\tan(\\theta)$ where $\\theta$ is the angle between the y and x velocity, we get:\n",
    "$$\n",
    "y = y_0 + m(x - x_0) + \\frac{1}{2}g\\frac{(x - x_0)^2}{v_x^2}\n",
    "$$ -->"
   ]
  },
  {
   "cell_type": "markdown",
   "metadata": {},
   "source": [
    "This is a parabola with the parameters $y_0$, $m$, $g$ and $v_x$ and $v_y$. We can use `scipy` to get these parameters."
   ]
  },
  {
   "cell_type": "code",
   "execution_count": 9,
   "metadata": {},
   "outputs": [],
   "source": [
    "def the_parabola(x, x0, y0, vy, vx, g):\n",
    "    second_term = (vy/vx)*(x-x0)\n",
    "    third_term = 0.5*g*((x-x0)/vx)**2\n",
    "    return y0 + second_term + third_term\n",
    "the_parabola_vector = np.vectorize(the_parabola)"
   ]
  },
  {
   "cell_type": "markdown",
   "metadata": {},
   "source": [
    "However, it turned out that using the parabola does not give a reasonable result. So, we'll be using the parametric equations."
   ]
  },
  {
   "cell_type": "code",
   "execution_count": 10,
   "metadata": {},
   "outputs": [],
   "source": [
    "def parametric_x(t, x0, vx0):\n",
    "    return x0 + vx0*t\n",
    "parametric_x_vector = np.vectorize(parametric_x)\n",
    "\n",
    "def parametric_y(t, y0, vy0, g):\n",
    "    return y0 + vy0*t+0.5*g*t**2\n",
    "parametric_y_vector = np.vectorize(parametric_y)"
   ]
  },
  {
   "cell_type": "markdown",
   "metadata": {},
   "source": [
    "## Region III"
   ]
  },
  {
   "cell_type": "markdown",
   "metadata": {},
   "source": [
    "### Data For Region III"
   ]
  },
  {
   "cell_type": "code",
   "execution_count": 11,
   "metadata": {},
   "outputs": [],
   "source": [
    "region_3 = df_c[df_c[\"Region\"] == \"III\"]"
   ]
  },
  {
   "cell_type": "code",
   "execution_count": 12,
   "metadata": {},
   "outputs": [],
   "source": [
    "X = region_3[\"x\"].values\n",
    "Y = region_3[\"y\"].values\n",
    "t = region_3[\"time\"].values\n",
    "offset = t[0]\n",
    "tbar = t-offset"
   ]
  },
  {
   "cell_type": "code",
   "execution_count": 13,
   "metadata": {},
   "outputs": [
    {
     "data": {
      "text/plain": [
       "array([ 0,  1,  2,  3,  4,  5,  6,  7,  8,  9, 10, 11, 12, 13, 15, 16, 17,\n",
       "       18, 19, 20, 22, 23, 24, 25, 26, 27, 28, 29, 30, 31, 32, 33, 34, 35,\n",
       "       36, 37, 38, 39, 40, 41, 42, 43, 44, 45, 46, 47, 48, 49, 50, 51, 52,\n",
       "       53, 54, 55, 56, 57, 58, 59, 60, 61, 62, 63, 64, 65, 66, 67, 68, 69,\n",
       "       70, 71, 72, 73, 74])"
      ]
     },
     "execution_count": 13,
     "metadata": {},
     "output_type": "execute_result"
    }
   ],
   "source": [
    "tbar"
   ]
  },
  {
   "cell_type": "markdown",
   "metadata": {},
   "source": [
    "### Fitting the Curves"
   ]
  },
  {
   "cell_type": "code",
   "execution_count": 14,
   "metadata": {},
   "outputs": [],
   "source": [
    "popt, pcov = curve_fit(the_parabola, X, Y, maxfev=10000)\n",
    "popty, pcovy = curve_fit(parametric_y, tbar, Y)\n",
    "poptx, pcovx = curve_fit(parametric_x, tbar, X)"
   ]
  },
  {
   "cell_type": "code",
   "execution_count": 15,
   "metadata": {},
   "outputs": [
    {
     "data": {
      "text/plain": [
       "array([ 389.74207994, 1770.65126433,  519.5468799 , -141.54462715,\n",
       "        114.38118127])"
      ]
     },
     "execution_count": 15,
     "metadata": {},
     "output_type": "execute_result"
    }
   ],
   "source": [
    "popt"
   ]
  },
  {
   "cell_type": "markdown",
   "metadata": {},
   "source": [
    "As you can see, the parameters calculated by the fitting method is ridiculus, even though it fits the parabola well (See the figure below)."
   ]
  },
  {
   "cell_type": "code",
   "execution_count": 16,
   "metadata": {},
   "outputs": [
    {
     "data": {
      "text/plain": [
       "(array([888.08412189,   3.70505807]),\n",
       " array([ 6.47292744e+02, -2.90058566e+00,  7.56076971e-02]))"
      ]
     },
     "execution_count": 16,
     "metadata": {},
     "output_type": "execute_result"
    }
   ],
   "source": [
    "poptx, popty"
   ]
  },
  {
   "cell_type": "markdown",
   "metadata": {},
   "source": [
    "These values are reasonable."
   ]
  },
  {
   "cell_type": "code",
   "execution_count": 17,
   "metadata": {},
   "outputs": [
    {
     "data": {
      "text/plain": [
       "0.07560769713466575"
      ]
     },
     "execution_count": 17,
     "metadata": {},
     "output_type": "execute_result"
    }
   ],
   "source": [
    "g = popty[2]\n",
    "g"
   ]
  },
  {
   "cell_type": "markdown",
   "metadata": {},
   "source": [
    "### Analyzing the Results"
   ]
  },
  {
   "cell_type": "code",
   "execution_count": 18,
   "metadata": {},
   "outputs": [
    {
     "data": {
      "image/png": "[encoded data removed]",
      "text/plain": [
       "<Figure size 640x480 with 1 Axes>"
      ]
     },
     "metadata": {},
     "output_type": "display_data"
    }
   ],
   "source": [
    "plt.plot(X,Y, 'o', label=\"data\")\n",
    "plt.plot(X, the_parabola_vector(X, *popt),label=\"fit using parabola\")\n",
    "plt.legend();"
   ]
  },
  {
   "cell_type": "code",
   "execution_count": 19,
   "metadata": {},
   "outputs": [
    {
     "data": {
      "image/png": "[encoded data removed]",
      "text/plain": [
       "<Figure size 640x480 with 1 Axes>"
      ]
     },
     "metadata": {},
     "output_type": "display_data"
    }
   ],
   "source": [
    "plt.plot(X,Y, 'o', label=\"data\")\n",
    "plt.plot(parametric_x_vector(tbar, *poptx), parametric_y_vector(tbar, *popty), label=\"fit using parametric\")\n",
    "plt.legend();"
   ]
  },
  {
   "cell_type": "markdown",
   "metadata": {},
   "source": [
    "We can see that using the parametric equations, we can fit the curve accurately."
   ]
  },
  {
   "cell_type": "markdown",
   "metadata": {},
   "source": [
    "### Getting Speeds"
   ]
  },
  {
   "cell_type": "markdown",
   "metadata": {},
   "source": [
    "Next, we'll see how the calculated velocities are? The eqaution for the speeds are:\n",
    "$$\n",
    "v_x(t) = v_{x0}\\\\\n",
    "v_y(t) = v_{y0} + gt\n",
    "$$"
   ]
  },
  {
   "cell_type": "code",
   "execution_count": 20,
   "metadata": {},
   "outputs": [],
   "source": [
    "vy = popty[1]+popty[2]*(tbar)\n",
    "vx = np.ones(len(tbar))*poptx[1]\n",
    "v = np.sqrt(vy**2+vx**2)"
   ]
  },
  {
   "cell_type": "code",
   "execution_count": 21,
   "metadata": {},
   "outputs": [
    {
     "data": {
      "image/png": "[encoded data removed]",
      "text/plain": [
       "<Figure size 640x480 with 1 Axes>"
      ]
     },
     "metadata": {},
     "output_type": "display_data"
    }
   ],
   "source": [
    "plt.plot(tbar, region_3[\"vy\"].values, label=\"vy_data\")\n",
    "plt.plot(tbar, vy, label=\"vy_calculated\")\n",
    "plt.legend()\n",
    "plt.xlabel(\"time\")\n",
    "plt.ylabel(\"vy\");"
   ]
  },
  {
   "cell_type": "code",
   "execution_count": 22,
   "metadata": {},
   "outputs": [
    {
     "data": {
      "image/png": "[encoded data removed]",
      "text/plain": [
       "<Figure size 640x480 with 1 Axes>"
      ]
     },
     "metadata": {},
     "output_type": "display_data"
    }
   ],
   "source": [
    "plt.plot(tbar, region_3[\"vx\"].values, label=\"vx_data\")\n",
    "plt.plot(tbar, vx, label=\"vx_calculated\")\n",
    "plt.legend()\n",
    "plt.xlabel(\"time\")\n",
    "plt.ylabel(\"vx\");"
   ]
  },
  {
   "cell_type": "code",
   "execution_count": 23,
   "metadata": {},
   "outputs": [
    {
     "data": {
      "image/png": "[encoded data removed]",
      "text/plain": [
       "<Figure size 640x480 with 1 Axes>"
      ]
     },
     "metadata": {},
     "output_type": "display_data"
    }
   ],
   "source": [
    "plt.plot(tbar, region_3[\"v\"].values, label=\"v_data\")\n",
    "plt.plot(tbar, v, label=\"v_calculated\")\n",
    "plt.legend()\n",
    "plt.xlabel(\"time\")\n",
    "plt.ylabel(\"v\");"
   ]
  },
  {
   "cell_type": "markdown",
   "metadata": {},
   "source": [
    "They are reasonable."
   ]
  },
  {
   "cell_type": "markdown",
   "metadata": {},
   "source": [
    "### Getting Angles"
   ]
  },
  {
   "cell_type": "markdown",
   "metadata": {},
   "source": [
    "Next, let's calculate the angle between the x and y velocity."
   ]
  },
  {
   "cell_type": "code",
   "execution_count": 24,
   "metadata": {},
   "outputs": [],
   "source": [
    "angles= np.arctan(vy/vx)*180/np.pi"
   ]
  },
  {
   "cell_type": "code",
   "execution_count": 25,
   "metadata": {},
   "outputs": [
    {
     "data": {
      "image/png": "[encoded data removed]",
      "text/plain": [
       "<Figure size 640x480 with 1 Axes>"
      ]
     },
     "metadata": {},
     "output_type": "display_data"
    }
   ],
   "source": [
    "plt.plot(-angles, label = \"calculated\")\n",
    "plt.plot(region_3[\"angle\"].values, label = \"data\")\n",
    "plt.legend();"
   ]
  },
  {
   "cell_type": "markdown",
   "metadata": {},
   "source": [
    "Again, reasonable."
   ]
  },
  {
   "cell_type": "markdown",
   "metadata": {},
   "source": [
    "## Getting the Additional Information"
   ]
  },
  {
   "cell_type": "code",
   "execution_count": 26,
   "metadata": {},
   "outputs": [],
   "source": [
    "new_info_df = pd.DataFrame({\"vx\": vx, \"vy\": vy, \"v\":v, \"angle\": angles, \"time\":t})\n",
    "new_info_df.columns = [\"vx_using_curve\", \"vy_using_curve\", \"v_using_curve\", \"angle_using_curve\", \"time\"]"
   ]
  },
  {
   "cell_type": "code",
   "execution_count": 27,
   "metadata": {},
   "outputs": [
    {
     "data": {
      "text/html": [
       "<div>\n",
       "<style scoped>\n",
       "    .dataframe tbody tr th:only-of-type {\n",
       "        vertical-align: middle;\n",
       "    }\n",
       "\n",
       "    .dataframe tbody tr th {\n",
       "        vertical-align: top;\n",
       "    }\n",
       "\n",
       "    .dataframe thead th {\n",
       "        text-align: right;\n",
       "    }\n",
       "</style>\n",
       "<table border=\"1\" class=\"dataframe\">\n",
       "  <thead>\n",
       "    <tr style=\"text-align: right;\">\n",
       "      <th></th>\n",
       "      <th>vx_using_curve</th>\n",
       "      <th>vy_using_curve</th>\n",
       "      <th>v_using_curve</th>\n",
       "      <th>angle_using_curve</th>\n",
       "      <th>time</th>\n",
       "    </tr>\n",
       "  </thead>\n",
       "  <tbody>\n",
       "    <tr>\n",
       "      <th>0</th>\n",
       "      <td>3.705058</td>\n",
       "      <td>-2.900586</td>\n",
       "      <td>4.705407</td>\n",
       "      <td>-38.056392</td>\n",
       "      <td>137</td>\n",
       "    </tr>\n",
       "    <tr>\n",
       "      <th>1</th>\n",
       "      <td>3.705058</td>\n",
       "      <td>-2.824978</td>\n",
       "      <td>4.659180</td>\n",
       "      <td>-37.324261</td>\n",
       "      <td>138</td>\n",
       "    </tr>\n",
       "    <tr>\n",
       "      <th>2</th>\n",
       "      <td>3.705058</td>\n",
       "      <td>-2.749370</td>\n",
       "      <td>4.613729</td>\n",
       "      <td>-36.577581</td>\n",
       "      <td>139</td>\n",
       "    </tr>\n",
       "    <tr>\n",
       "      <th>3</th>\n",
       "      <td>3.705058</td>\n",
       "      <td>-2.673763</td>\n",
       "      <td>4.569077</td>\n",
       "      <td>-35.816176</td>\n",
       "      <td>140</td>\n",
       "    </tr>\n",
       "    <tr>\n",
       "      <th>4</th>\n",
       "      <td>3.705058</td>\n",
       "      <td>-2.598155</td>\n",
       "      <td>4.525247</td>\n",
       "      <td>-35.039882</td>\n",
       "      <td>141</td>\n",
       "    </tr>\n",
       "    <tr>\n",
       "      <th>...</th>\n",
       "      <td>...</td>\n",
       "      <td>...</td>\n",
       "      <td>...</td>\n",
       "      <td>...</td>\n",
       "      <td>...</td>\n",
       "    </tr>\n",
       "    <tr>\n",
       "      <th>68</th>\n",
       "      <td>3.705058</td>\n",
       "      <td>2.391953</td>\n",
       "      <td>4.410090</td>\n",
       "      <td>32.845934</td>\n",
       "      <td>207</td>\n",
       "    </tr>\n",
       "    <tr>\n",
       "      <th>69</th>\n",
       "      <td>3.705058</td>\n",
       "      <td>2.467561</td>\n",
       "      <td>4.451552</td>\n",
       "      <td>33.663531</td>\n",
       "      <td>208</td>\n",
       "    </tr>\n",
       "    <tr>\n",
       "      <th>70</th>\n",
       "      <td>3.705058</td>\n",
       "      <td>2.543169</td>\n",
       "      <td>4.493903</td>\n",
       "      <td>34.465879</td>\n",
       "      <td>209</td>\n",
       "    </tr>\n",
       "    <tr>\n",
       "      <th>71</th>\n",
       "      <td>3.705058</td>\n",
       "      <td>2.618776</td>\n",
       "      <td>4.537118</td>\n",
       "      <td>35.253095</td>\n",
       "      <td>210</td>\n",
       "    </tr>\n",
       "    <tr>\n",
       "      <th>72</th>\n",
       "      <td>3.705058</td>\n",
       "      <td>2.694384</td>\n",
       "      <td>4.581175</td>\n",
       "      <td>36.025312</td>\n",
       "      <td>211</td>\n",
       "    </tr>\n",
       "  </tbody>\n",
       "</table>\n",
       "<p>73 rows × 5 columns</p>\n",
       "</div>"
      ],
      "text/plain": [
       "    vx_using_curve  vy_using_curve  v_using_curve  angle_using_curve  time\n",
       "0         3.705058       -2.900586       4.705407         -38.056392   137\n",
       "1         3.705058       -2.824978       4.659180         -37.324261   138\n",
       "2         3.705058       -2.749370       4.613729         -36.577581   139\n",
       "3         3.705058       -2.673763       4.569077         -35.816176   140\n",
       "4         3.705058       -2.598155       4.525247         -35.039882   141\n",
       "..             ...             ...            ...                ...   ...\n",
       "68        3.705058        2.391953       4.410090          32.845934   207\n",
       "69        3.705058        2.467561       4.451552          33.663531   208\n",
       "70        3.705058        2.543169       4.493903          34.465879   209\n",
       "71        3.705058        2.618776       4.537118          35.253095   210\n",
       "72        3.705058        2.694384       4.581175          36.025312   211\n",
       "\n",
       "[73 rows x 5 columns]"
      ]
     },
     "execution_count": 27,
     "metadata": {},
     "output_type": "execute_result"
    }
   ],
   "source": [
    "new_info_df"
   ]
  },
  {
   "cell_type": "code",
   "execution_count": 28,
   "metadata": {},
   "outputs": [
    {
     "data": {
      "text/html": [
       "<div>\n",
       "<style scoped>\n",
       "    .dataframe tbody tr th:only-of-type {\n",
       "        vertical-align: middle;\n",
       "    }\n",
       "\n",
       "    .dataframe tbody tr th {\n",
       "        vertical-align: top;\n",
       "    }\n",
       "\n",
       "    .dataframe thead th {\n",
       "        text-align: right;\n",
       "    }\n",
       "</style>\n",
       "<table border=\"1\" class=\"dataframe\">\n",
       "  <thead>\n",
       "    <tr style=\"text-align: right;\">\n",
       "      <th></th>\n",
       "      <th>198</th>\n",
       "      <th>199</th>\n",
       "      <th>200</th>\n",
       "      <th>201</th>\n",
       "      <th>202</th>\n",
       "    </tr>\n",
       "  </thead>\n",
       "  <tbody>\n",
       "    <tr>\n",
       "      <th>id</th>\n",
       "      <td>../../data/extracted_images/h4/207.jpg</td>\n",
       "      <td>../../data/extracted_images/h4/208.jpg</td>\n",
       "      <td>../../data/extracted_images/h4/209.jpg</td>\n",
       "      <td>../../data/extracted_images/h4/210.jpg</td>\n",
       "      <td>../../data/extracted_images/h4/211.jpg</td>\n",
       "    </tr>\n",
       "    <tr>\n",
       "      <th>x</th>\n",
       "      <td>1152.0</td>\n",
       "      <td>1155.0</td>\n",
       "      <td>1159.0</td>\n",
       "      <td>1162.0</td>\n",
       "      <td>1162.0</td>\n",
       "    </tr>\n",
       "    <tr>\n",
       "      <th>y</th>\n",
       "      <td>631.0</td>\n",
       "      <td>634.0</td>\n",
       "      <td>637.0</td>\n",
       "      <td>639.0</td>\n",
       "      <td>638.0</td>\n",
       "    </tr>\n",
       "    <tr>\n",
       "      <th>r1</th>\n",
       "      <td>9.0</td>\n",
       "      <td>10.0</td>\n",
       "      <td>11.0</td>\n",
       "      <td>9.0</td>\n",
       "      <td>8.0</td>\n",
       "    </tr>\n",
       "    <tr>\n",
       "      <th>r2</th>\n",
       "      <td>11.0</td>\n",
       "      <td>10.0</td>\n",
       "      <td>10.0</td>\n",
       "      <td>11.0</td>\n",
       "      <td>3.0</td>\n",
       "    </tr>\n",
       "    <tr>\n",
       "      <th>theta</th>\n",
       "      <td>107.716065</td>\n",
       "      <td>-1.718873</td>\n",
       "      <td>112.299728</td>\n",
       "      <td>26.929016</td>\n",
       "      <td>133.499166</td>\n",
       "    </tr>\n",
       "    <tr>\n",
       "      <th>vx</th>\n",
       "      <td>4.0</td>\n",
       "      <td>3.857143</td>\n",
       "      <td>3.857143</td>\n",
       "      <td>3.714286</td>\n",
       "      <td>3.142857</td>\n",
       "    </tr>\n",
       "    <tr>\n",
       "      <th>vy</th>\n",
       "      <td>2.285714</td>\n",
       "      <td>2.428571</td>\n",
       "      <td>2.571429</td>\n",
       "      <td>2.428571</td>\n",
       "      <td>2.0</td>\n",
       "    </tr>\n",
       "    <tr>\n",
       "      <th>v</th>\n",
       "      <td>4.607004</td>\n",
       "      <td>4.558016</td>\n",
       "      <td>4.635709</td>\n",
       "      <td>4.437778</td>\n",
       "      <td>3.725259</td>\n",
       "    </tr>\n",
       "    <tr>\n",
       "      <th>angle</th>\n",
       "      <td>-29.744881</td>\n",
       "      <td>-32.195734</td>\n",
       "      <td>-33.690068</td>\n",
       "      <td>-33.178512</td>\n",
       "      <td>-32.471192</td>\n",
       "    </tr>\n",
       "    <tr>\n",
       "      <th>Region</th>\n",
       "      <td>III</td>\n",
       "      <td>III</td>\n",
       "      <td>III</td>\n",
       "      <td>III</td>\n",
       "      <td>III</td>\n",
       "    </tr>\n",
       "    <tr>\n",
       "      <th>time</th>\n",
       "      <td>207</td>\n",
       "      <td>208</td>\n",
       "      <td>209</td>\n",
       "      <td>210</td>\n",
       "      <td>211</td>\n",
       "    </tr>\n",
       "    <tr>\n",
       "      <th>vx_using_curve</th>\n",
       "      <td>3.705058</td>\n",
       "      <td>3.705058</td>\n",
       "      <td>3.705058</td>\n",
       "      <td>3.705058</td>\n",
       "      <td>3.705058</td>\n",
       "    </tr>\n",
       "    <tr>\n",
       "      <th>vy_using_curve</th>\n",
       "      <td>2.391953</td>\n",
       "      <td>2.467561</td>\n",
       "      <td>2.543169</td>\n",
       "      <td>2.618776</td>\n",
       "      <td>2.694384</td>\n",
       "    </tr>\n",
       "    <tr>\n",
       "      <th>v_using_curve</th>\n",
       "      <td>4.41009</td>\n",
       "      <td>4.451552</td>\n",
       "      <td>4.493903</td>\n",
       "      <td>4.537118</td>\n",
       "      <td>4.581175</td>\n",
       "    </tr>\n",
       "    <tr>\n",
       "      <th>angle_using_curve</th>\n",
       "      <td>32.845934</td>\n",
       "      <td>33.663531</td>\n",
       "      <td>34.465879</td>\n",
       "      <td>35.253095</td>\n",
       "      <td>36.025312</td>\n",
       "    </tr>\n",
       "  </tbody>\n",
       "</table>\n",
       "</div>"
      ],
      "text/plain": [
       "                                                      198  \\\n",
       "id                 ../../data/extracted_images/h4/207.jpg   \n",
       "x                                                  1152.0   \n",
       "y                                                   631.0   \n",
       "r1                                                    9.0   \n",
       "r2                                                   11.0   \n",
       "theta                                          107.716065   \n",
       "vx                                                    4.0   \n",
       "vy                                               2.285714   \n",
       "v                                                4.607004   \n",
       "angle                                          -29.744881   \n",
       "Region                                                III   \n",
       "time                                                  207   \n",
       "vx_using_curve                                   3.705058   \n",
       "vy_using_curve                                   2.391953   \n",
       "v_using_curve                                     4.41009   \n",
       "angle_using_curve                               32.845934   \n",
       "\n",
       "                                                      199  \\\n",
       "id                 ../../data/extracted_images/h4/208.jpg   \n",
       "x                                                  1155.0   \n",
       "y                                                   634.0   \n",
       "r1                                                   10.0   \n",
       "r2                                                   10.0   \n",
       "theta                                           -1.718873   \n",
       "vx                                               3.857143   \n",
       "vy                                               2.428571   \n",
       "v                                                4.558016   \n",
       "angle                                          -32.195734   \n",
       "Region                                                III   \n",
       "time                                                  208   \n",
       "vx_using_curve                                   3.705058   \n",
       "vy_using_curve                                   2.467561   \n",
       "v_using_curve                                    4.451552   \n",
       "angle_using_curve                               33.663531   \n",
       "\n",
       "                                                      200  \\\n",
       "id                 ../../data/extracted_images/h4/209.jpg   \n",
       "x                                                  1159.0   \n",
       "y                                                   637.0   \n",
       "r1                                                   11.0   \n",
       "r2                                                   10.0   \n",
       "theta                                          112.299728   \n",
       "vx                                               3.857143   \n",
       "vy                                               2.571429   \n",
       "v                                                4.635709   \n",
       "angle                                          -33.690068   \n",
       "Region                                                III   \n",
       "time                                                  209   \n",
       "vx_using_curve                                   3.705058   \n",
       "vy_using_curve                                   2.543169   \n",
       "v_using_curve                                    4.493903   \n",
       "angle_using_curve                               34.465879   \n",
       "\n",
       "                                                      201  \\\n",
       "id                 ../../data/extracted_images/h4/210.jpg   \n",
       "x                                                  1162.0   \n",
       "y                                                   639.0   \n",
       "r1                                                    9.0   \n",
       "r2                                                   11.0   \n",
       "theta                                           26.929016   \n",
       "vx                                               3.714286   \n",
       "vy                                               2.428571   \n",
       "v                                                4.437778   \n",
       "angle                                          -33.178512   \n",
       "Region                                                III   \n",
       "time                                                  210   \n",
       "vx_using_curve                                   3.705058   \n",
       "vy_using_curve                                   2.618776   \n",
       "v_using_curve                                    4.537118   \n",
       "angle_using_curve                               35.253095   \n",
       "\n",
       "                                                      202  \n",
       "id                 ../../data/extracted_images/h4/211.jpg  \n",
       "x                                                  1162.0  \n",
       "y                                                   638.0  \n",
       "r1                                                    8.0  \n",
       "r2                                                    3.0  \n",
       "theta                                          133.499166  \n",
       "vx                                               3.142857  \n",
       "vy                                                    2.0  \n",
       "v                                                3.725259  \n",
       "angle                                          -32.471192  \n",
       "Region                                                III  \n",
       "time                                                  211  \n",
       "vx_using_curve                                   3.705058  \n",
       "vy_using_curve                                   2.694384  \n",
       "v_using_curve                                    4.581175  \n",
       "angle_using_curve                               36.025312  "
      ]
     },
     "execution_count": 28,
     "metadata": {},
     "output_type": "execute_result"
    }
   ],
   "source": [
    "df_final = pd.merge(df_c, new_info_df, on=\"time\", how=\"left\")\n",
    "df_final.tail().T"
   ]
  },
  {
   "cell_type": "markdown",
   "metadata": {},
   "source": [
    "## Adding the Additional Information"
   ]
  },
  {
   "cell_type": "code",
   "execution_count": 29,
   "metadata": {},
   "outputs": [
    {
     "data": {
      "text/plain": [
       "(3.705058066539503,\n",
       " -2.9005856579362486,\n",
       " 4.705406723701459,\n",
       " -38.056391897353045)"
      ]
     },
     "execution_count": 29,
     "metadata": {},
     "output_type": "execute_result"
    }
   ],
   "source": [
    "x_speed = vx[0]\n",
    "y_speed = vy[0]\n",
    "speed = v[0]\n",
    "angle = angles[0]\n",
    "x_speed, y_speed, speed, angle"
   ]
  },
  {
   "cell_type": "code",
   "execution_count": 30,
   "metadata": {},
   "outputs": [
    {
     "name": "stdout",
     "output_type": "stream",
     "text": [
      "USING CURVE FIT AT LEAVE FRAME\n",
      "### ANGLE: -38.06\n",
      "### VELOCITY: 4.71\n",
      "### X VELOCITY: 3.71\n",
      "### Y VELOCITY: -2.9\n",
      "### g: 0.0756\n",
      "************************************************************\n",
      "\n"
     ]
    }
   ],
   "source": [
    "pattern = \"***\"\n",
    "information = f\"\"\"USING CURVE FIT AT LEAVE FRAME\n",
    "### ANGLE: {np.round(angle, 2)}\n",
    "### VELOCITY: {np.round(speed, 2)}\n",
    "### X VELOCITY: {np.round(x_speed, 2)}\n",
    "### Y VELOCITY: {np.round(y_speed, 2)}\n",
    "### g: {np.round(g, 4)}\n",
    "{pattern*20}\n",
    "\"\"\"\n",
    "print(information)"
   ]
  },
  {
   "cell_type": "markdown",
   "metadata": {},
   "source": [
    "First, create a new string containing just the previous text file. Else we'll duplicate the text file."
   ]
  },
  {
   "cell_type": "code",
   "execution_count": 31,
   "metadata": {},
   "outputs": [
    {
     "name": "stdout",
     "output_type": "stream",
     "text": [
      "### h4.tif\n",
      "### First Frame ID: 070\n",
      "### Last Frame ID: 272\n",
      "### Contact Frame ID: 116\n",
      "### Leave Frame ID: 136\n",
      "### Angle: 24.5\n",
      "\n",
      "\n"
     ]
    }
   ],
   "source": [
    "with open(RESULT_DIR +\"/info.txt\", \"r+\") as f:\n",
    "    texts = f.readlines()\n",
    "if len(texts)>44:\n",
    "    text = \"\".join(texts[:-6])\n",
    "else:\n",
    "    text = \"\".join(texts)\n",
    "print(text[:125])\n",
    "all_text = text+information"
   ]
  },
  {
   "cell_type": "code",
   "execution_count": 32,
   "metadata": {},
   "outputs": [
    {
     "data": {
      "text/plain": [
       "43"
      ]
     },
     "execution_count": 32,
     "metadata": {},
     "output_type": "execute_result"
    }
   ],
   "source": [
    "len(texts)"
   ]
  },
  {
   "cell_type": "code",
   "execution_count": 33,
   "metadata": {},
   "outputs": [],
   "source": [
    "with open(RESULT_DIR +\"/info.txt\", \"w\") as f:\n",
    "    f.writelines(all_text)"
   ]
  },
  {
   "cell_type": "markdown",
   "metadata": {},
   "source": [
    "### Save the DataFrame"
   ]
  },
  {
   "cell_type": "code",
   "execution_count": 34,
   "metadata": {},
   "outputs": [],
   "source": [
    "df_final.to_csv(RESULT_DIR + f\"/{sequence}_final.csv\", index=False)"
   ]
  }
 ],
 "metadata": {
  "kernelspec": {
   "display_name": "Python 3.7.13 ('data-science')",
   "language": "python",
   "name": "python3"
  },
  "language_info": {
   "codemirror_mode": {
    "name": "ipython",
    "version": 3
   },
   "file_extension": ".py",
   "mimetype": "text/x-python",
   "name": "python",
   "nbconvert_exporter": "python",
   "pygments_lexer": "ipython3",
   "version": "3.7.13"
  },
  "orig_nbformat": 4,
  "vscode": {
   "interpreter": {
    "hash": "2efee1efa502125d01e6b4768ba06d9453d29f3642bfd14ad5d4a769de82e88c"
   }
  }
 },
 "nbformat": 4,
 "nbformat_minor": 2
}
