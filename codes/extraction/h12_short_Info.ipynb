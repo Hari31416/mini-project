{
 "cells": [
  {
   "cell_type": "markdown",
   "metadata": {},
   "source": [
    "# Imports"
   ]
  },
  {
   "cell_type": "code",
   "execution_count": 1,
   "metadata": {},
   "outputs": [],
   "source": [
    "import re\n",
    "import numpy as np\n",
    "import matplotlib.pyplot as plt\n",
    "import pandas as pd\n",
    "from scipy.optimize import curve_fit\n",
    "import warnings\n",
    "warnings.filterwarnings(\"ignore\")\n",
    "plt.rcdefaults()"
   ]
  },
  {
   "cell_type": "markdown",
   "metadata": {},
   "source": [
    "# Defining the Directories"
   ]
  },
  {
   "cell_type": "code",
   "execution_count": 2,
   "metadata": {},
   "outputs": [],
   "source": [
    "sequence = \"h12_short\"\n",
    "DATA_DIR = '../../data/extracted_images/' + sequence\n",
    "RESULT_DIR = '../../data/results/' + sequence"
   ]
  },
  {
   "cell_type": "markdown",
   "metadata": {},
   "source": [
    "# Getting Informations and Reading the Files"
   ]
  },
  {
   "cell_type": "markdown",
   "metadata": {},
   "source": [
    "## Getting Frame Information"
   ]
  },
  {
   "cell_type": "code",
   "execution_count": 3,
   "metadata": {},
   "outputs": [],
   "source": [
    "info_dict = {\n",
    "    \"first_frame\": 1,\n",
    "    \"last_frame\": 2,\n",
    "    \"contact_frame\": 3,\n",
    "    \"leave_frame\": 4,\n",
    "    \"angle\": 5,\n",
    "    \"passthrough\": 6,\n",
    "}"
   ]
  },
  {
   "cell_type": "code",
   "execution_count": 4,
   "metadata": {},
   "outputs": [],
   "source": [
    "def get_info(file):\n",
    "    information = {}\n",
    "    with open(file, \"r\") as f:\n",
    "        texts = f.readlines()\n",
    "    for key, value in info_dict.items():\n",
    "        line = texts[value]\n",
    "        info = line.split(\":\")[1].strip()\n",
    "        information[key] = info\n",
    "    return information\n",
    "\n",
    "information = get_info(f\"{DATA_DIR}.txt\")"
   ]
  },
  {
   "cell_type": "code",
   "execution_count": 5,
   "metadata": {},
   "outputs": [],
   "source": [
    "first_frame = DATA_DIR + \"/\" +information[\"first_frame\"]\n",
    "last_frame = DATA_DIR + \"/\" +information[\"last_frame\"]\n",
    "contact_frame = DATA_DIR + \"/\" +information[\"contact_frame\"]\n",
    "angle = information[\"angle\"]\n",
    "leave_frame = DATA_DIR + \"/\" +information[\"leave_frame\"]\n",
    "passthrough = information[\"passthrough\"]"
   ]
  },
  {
   "cell_type": "code",
   "execution_count": 6,
   "metadata": {},
   "outputs": [
    {
     "data": {
      "text/plain": [
       "('../../data/extracted_images/h12_short/000',\n",
       " '../../data/extracted_images/h12_short/090')"
      ]
     },
     "execution_count": 6,
     "metadata": {},
     "output_type": "execute_result"
    }
   ],
   "source": [
    "first_frame, last_frame"
   ]
  },
  {
   "cell_type": "markdown",
   "metadata": {},
   "source": [
    "## Converting the Frame ID to Integer"
   ]
  },
  {
   "cell_type": "code",
   "execution_count": 7,
   "metadata": {},
   "outputs": [
    {
     "data": {
      "text/plain": [
       "(0, 20, 62)"
      ]
     },
     "execution_count": 7,
     "metadata": {},
     "output_type": "execute_result"
    }
   ],
   "source": [
    "reg = re.compile(r\"\\d{3}\")\n",
    "first_frame_num = int(reg.findall(first_frame)[0])\n",
    "contact_frame_num = int(reg.findall(contact_frame)[0])\n",
    "leave_frame_num = int(reg.findall(leave_frame)[0])\n",
    "first_frame_num, contact_frame_num, leave_frame_num"
   ]
  },
  {
   "cell_type": "markdown",
   "metadata": {},
   "source": [
    "## Reading the DF"
   ]
  },
  {
   "cell_type": "code",
   "execution_count": 8,
   "metadata": {},
   "outputs": [],
   "source": [
    "df_name = sequence+\"_raw.csv\"\n",
    "df = pd.read_csv(RESULT_DIR + '/'+df_name)\n",
    "df_c = df[df[\"x\"].notna()]"
   ]
  },
  {
   "cell_type": "markdown",
   "metadata": {},
   "source": [
    "# Fitting Curves"
   ]
  },
  {
   "cell_type": "markdown",
   "metadata": {},
   "source": [
    "## The Curves to be Fitted"
   ]
  },
  {
   "cell_type": "markdown",
   "metadata": {},
   "source": [
    "We'll assume that downward is the positive direction. In this way, the gravitational acceleration is positive. In x direction, no force is acting and hence the equation of motion is simply:\n",
    "$$\n",
    "x(t) = x_0 + v_{x0}t\n",
    "$$\n",
    "Here $x_0$ is the initial x position, $v_{x0}$ is the initial y velocity."
   ]
  },
  {
   "cell_type": "markdown",
   "metadata": {},
   "source": [
    "Now, in y direction, the equation of motion is:\n",
    "$$\n",
    "y(t) = y_0 + v_{y0}t + \\frac{1}{2}gt^2\n",
    "$$\n",
    "Here, $y_0$ is the initial y position, $v_{y0}$ is the initial y velocity, and $g$ is the acceleration due to gravity."
   ]
  },
  {
   "cell_type": "markdown",
   "metadata": {},
   "source": [
    "We'll optimize these two equations to get the initial velocity and the initial position for x and y direction."
   ]
  },
  {
   "cell_type": "markdown",
   "metadata": {},
   "source": [
    "We can also phrase the same problem by eliminating $t$ from the equation of motions. This way, we'll get $y$ as a function of $x$. Eliminating $t$ from the equation of motion, we get:\n",
    "$$\n",
    "y = y_0 + \\frac{v_y}{v_x}(x - x_0) + \\frac{1}{2}g\\frac{(x - x_0)^2}{v_x^2}\n",
    "$$\n"
   ]
  },
  {
   "cell_type": "markdown",
   "metadata": {},
   "source": [
    "Here, we have rewritten $v_{x0}$ as $v_x$ and $v_{y0}$ as $v_y$. \n",
    "<!-- Defining $\\frac{v_y}{v_x}$ as $m$, which is nothing but $\\tan(\\theta)$ where $\\theta$ is the angle between the y and x velocity, we get:\n",
    "$$\n",
    "y = y_0 + m(x - x_0) + \\frac{1}{2}g\\frac{(x - x_0)^2}{v_x^2}\n",
    "$$ -->"
   ]
  },
  {
   "cell_type": "markdown",
   "metadata": {},
   "source": [
    "This is a parabola with the parameters $y_0$, $m$, $g$ and $v_x$ and $v_y$. We can use `scipy` to get these parameters."
   ]
  },
  {
   "cell_type": "code",
   "execution_count": 9,
   "metadata": {},
   "outputs": [],
   "source": [
    "def the_parabola(x, x0, y0, vy, vx, g):\n",
    "    second_term = (vy/vx)*(x-x0)\n",
    "    third_term = 0.5*g*((x-x0)/vx)**2\n",
    "    return y0 + second_term + third_term\n",
    "the_parabola_vector = np.vectorize(the_parabola)"
   ]
  },
  {
   "cell_type": "markdown",
   "metadata": {},
   "source": [
    "However, it turned out that using the parabola does not give a reasonable result. So, we'll be using the parametric equations."
   ]
  },
  {
   "cell_type": "code",
   "execution_count": 10,
   "metadata": {},
   "outputs": [],
   "source": [
    "def parametric_x(t, x0, vx0):\n",
    "    return x0 + vx0*t\n",
    "parametric_x_vector = np.vectorize(parametric_x)\n",
    "\n",
    "def parametric_y(t, y0, vy0, g):\n",
    "    return y0 + vy0*t+0.5*g*t**2\n",
    "parametric_y_vector = np.vectorize(parametric_y)"
   ]
  },
  {
   "cell_type": "markdown",
   "metadata": {},
   "source": [
    "## Region III"
   ]
  },
  {
   "cell_type": "markdown",
   "metadata": {},
   "source": [
    "### Data For Region III"
   ]
  },
  {
   "cell_type": "code",
   "execution_count": 11,
   "metadata": {},
   "outputs": [],
   "source": [
    "region_3 = df_c[df_c[\"Region\"] == \"III\"]"
   ]
  },
  {
   "cell_type": "code",
   "execution_count": 12,
   "metadata": {},
   "outputs": [],
   "source": [
    "X = region_3[\"x\"].values\n",
    "Y = region_3[\"y\"].values\n",
    "t = region_3[\"time\"].values\n",
    "offset = t[0]\n",
    "tbar = t-offset"
   ]
  },
  {
   "cell_type": "code",
   "execution_count": 13,
   "metadata": {},
   "outputs": [
    {
     "data": {
      "text/plain": [
       "array([ 0,  1,  2,  3,  4,  5,  6,  7,  8,  9, 10, 11, 12, 13, 16, 17, 18,\n",
       "       19, 20, 23, 24, 25, 26, 27, 28, 29, 30, 31, 32, 33, 34, 35, 37, 38,\n",
       "       39, 40, 41, 42])"
      ]
     },
     "execution_count": 13,
     "metadata": {},
     "output_type": "execute_result"
    }
   ],
   "source": [
    "tbar"
   ]
  },
  {
   "cell_type": "markdown",
   "metadata": {},
   "source": [
    "### Fitting the Curves"
   ]
  },
  {
   "cell_type": "code",
   "execution_count": 14,
   "metadata": {},
   "outputs": [],
   "source": [
    "popt, pcov = curve_fit(the_parabola, X, Y, maxfev=10000)\n",
    "popty, pcovy = curve_fit(parametric_y, tbar, Y)\n",
    "poptx, pcovx = curve_fit(parametric_x, tbar, X)"
   ]
  },
  {
   "cell_type": "code",
   "execution_count": 15,
   "metadata": {},
   "outputs": [
    {
     "data": {
      "text/plain": [
       "array([ 270.43647314, 2632.97789815,  854.51905088, -147.95561009,\n",
       "        183.00305341])"
      ]
     },
     "execution_count": 15,
     "metadata": {},
     "output_type": "execute_result"
    }
   ],
   "source": [
    "popt"
   ]
  },
  {
   "cell_type": "markdown",
   "metadata": {},
   "source": [
    "As you can see, the parameters calculated by the fitting method is ridiculus, even though it fits the parabola well (See the figure below)."
   ]
  },
  {
   "cell_type": "code",
   "execution_count": 16,
   "metadata": {},
   "outputs": [
    {
     "data": {
      "text/plain": [
       "(array([910.02724669,   3.22888632]),\n",
       " array([ 6.57579674e+02, -2.68787711e+00,  1.51927359e-01]))"
      ]
     },
     "execution_count": 16,
     "metadata": {},
     "output_type": "execute_result"
    }
   ],
   "source": [
    "poptx, popty"
   ]
  },
  {
   "cell_type": "markdown",
   "metadata": {},
   "source": [
    "These values are reasonable."
   ]
  },
  {
   "cell_type": "code",
   "execution_count": 17,
   "metadata": {},
   "outputs": [
    {
     "data": {
      "text/plain": [
       "0.15192735905813254"
      ]
     },
     "execution_count": 17,
     "metadata": {},
     "output_type": "execute_result"
    }
   ],
   "source": [
    "g = popty[2]\n",
    "g"
   ]
  },
  {
   "cell_type": "markdown",
   "metadata": {},
   "source": [
    "### Analyzing the Results"
   ]
  },
  {
   "cell_type": "code",
   "execution_count": 18,
   "metadata": {},
   "outputs": [
    {
     "data": {
      "image/png": "[encoded data removed]",
      "text/plain": [
       "<Figure size 640x480 with 1 Axes>"
      ]
     },
     "metadata": {},
     "output_type": "display_data"
    }
   ],
   "source": [
    "plt.plot(X,Y, 'o', label=\"data\")\n",
    "plt.plot(X, the_parabola_vector(X, *popt),label=\"fit using parabola\")\n",
    "plt.legend();"
   ]
  },
  {
   "cell_type": "code",
   "execution_count": 19,
   "metadata": {},
   "outputs": [
    {
     "data": {
      "image/png": "[encoded data removed]",
      "text/plain": [
       "<Figure size 640x480 with 1 Axes>"
      ]
     },
     "metadata": {},
     "output_type": "display_data"
    }
   ],
   "source": [
    "plt.plot(X,Y, 'o', label=\"data\")\n",
    "plt.plot(parametric_x_vector(tbar, *poptx), parametric_y_vector(tbar, *popty), label=\"fit using parametric\")\n",
    "plt.legend();"
   ]
  },
  {
   "cell_type": "markdown",
   "metadata": {},
   "source": [
    "We can see that using the parametric equations, we can fit the curve accurately."
   ]
  },
  {
   "cell_type": "markdown",
   "metadata": {},
   "source": [
    "### Getting Speeds"
   ]
  },
  {
   "cell_type": "markdown",
   "metadata": {},
   "source": [
    "Next, we'll see how the calculated velocities are? The eqaution for the speeds are:\n",
    "$$\n",
    "v_x(t) = v_{x0}\\\\\n",
    "v_y(t) = v_{y0} + gt\n",
    "$$"
   ]
  },
  {
   "cell_type": "code",
   "execution_count": 20,
   "metadata": {},
   "outputs": [],
   "source": [
    "vy = popty[1]+popty[2]*(tbar)\n",
    "vx = np.ones(len(tbar))*poptx[1]\n",
    "v = np.sqrt(vy**2+vx**2)"
   ]
  },
  {
   "cell_type": "code",
   "execution_count": 21,
   "metadata": {},
   "outputs": [
    {
     "data": {
      "image/png": "[encoded data removed]",
      "text/plain": [
       "<Figure size 640x480 with 1 Axes>"
      ]
     },
     "metadata": {},
     "output_type": "display_data"
    }
   ],
   "source": [
    "plt.plot(tbar, region_3[\"vy\"].values, label=\"vy_data\")\n",
    "plt.plot(tbar, vy, label=\"vy_calculated\")\n",
    "plt.legend()\n",
    "plt.xlabel(\"time\")\n",
    "plt.ylabel(\"vy\");"
   ]
  },
  {
   "cell_type": "code",
   "execution_count": 22,
   "metadata": {},
   "outputs": [
    {
     "data": {
      "image/png": "[encoded data removed]",
      "text/plain": [
       "<Figure size 640x480 with 1 Axes>"
      ]
     },
     "metadata": {},
     "output_type": "display_data"
    }
   ],
   "source": [
    "plt.plot(tbar, region_3[\"vx\"].values, label=\"vx_data\")\n",
    "plt.plot(tbar, vx, label=\"vx_calculated\")\n",
    "plt.legend()\n",
    "plt.xlabel(\"time\")\n",
    "plt.ylabel(\"vx\");"
   ]
  },
  {
   "cell_type": "code",
   "execution_count": 23,
   "metadata": {},
   "outputs": [
    {
     "data": {
      "image/png": "[encoded data removed]",
      "text/plain": [
       "<Figure size 640x480 with 1 Axes>"
      ]
     },
     "metadata": {},
     "output_type": "display_data"
    }
   ],
   "source": [
    "plt.plot(tbar, region_3[\"v\"].values, label=\"v_data\")\n",
    "plt.plot(tbar, v, label=\"v_calculated\")\n",
    "plt.legend()\n",
    "plt.xlabel(\"time\")\n",
    "plt.ylabel(\"v\");"
   ]
  },
  {
   "cell_type": "markdown",
   "metadata": {},
   "source": [
    "They are reasonable."
   ]
  },
  {
   "cell_type": "markdown",
   "metadata": {},
   "source": [
    "### Getting Angles"
   ]
  },
  {
   "cell_type": "markdown",
   "metadata": {},
   "source": [
    "Next, let's calculate the angle between the x and y velocity."
   ]
  },
  {
   "cell_type": "code",
   "execution_count": 24,
   "metadata": {},
   "outputs": [],
   "source": [
    "angles= np.arctan(vy/vx)*180/np.pi"
   ]
  },
  {
   "cell_type": "code",
   "execution_count": 25,
   "metadata": {},
   "outputs": [
    {
     "data": {
      "image/png": "[encoded data removed]",
      "text/plain": [
       "<Figure size 640x480 with 1 Axes>"
      ]
     },
     "metadata": {},
     "output_type": "display_data"
    }
   ],
   "source": [
    "plt.plot(-angles, label = \"calculated\")\n",
    "plt.plot(region_3[\"angle\"].values, label = \"data\")\n",
    "plt.legend();"
   ]
  },
  {
   "cell_type": "markdown",
   "metadata": {},
   "source": [
    "Again, reasonable."
   ]
  },
  {
   "cell_type": "markdown",
   "metadata": {},
   "source": [
    "## Getting the Additional Information"
   ]
  },
  {
   "cell_type": "code",
   "execution_count": 26,
   "metadata": {},
   "outputs": [],
   "source": [
    "new_info_df = pd.DataFrame({\"vx\": vx, \"vy\": vy, \"v\":v, \"angle\": angles, \"time\":t})\n",
    "new_info_df.columns = [\"vx_using_curve\", \"vy_using_curve\", \"v_using_curve\", \"angle_using_curve\", \"time\"]"
   ]
  },
  {
   "cell_type": "code",
   "execution_count": 27,
   "metadata": {},
   "outputs": [
    {
     "data": {
      "text/html": [
       "<div>\n",
       "<style scoped>\n",
       "    .dataframe tbody tr th:only-of-type {\n",
       "        vertical-align: middle;\n",
       "    }\n",
       "\n",
       "    .dataframe tbody tr th {\n",
       "        vertical-align: top;\n",
       "    }\n",
       "\n",
       "    .dataframe thead th {\n",
       "        text-align: right;\n",
       "    }\n",
       "</style>\n",
       "<table border=\"1\" class=\"dataframe\">\n",
       "  <thead>\n",
       "    <tr style=\"text-align: right;\">\n",
       "      <th></th>\n",
       "      <th>vx_using_curve</th>\n",
       "      <th>vy_using_curve</th>\n",
       "      <th>v_using_curve</th>\n",
       "      <th>angle_using_curve</th>\n",
       "      <th>time</th>\n",
       "    </tr>\n",
       "  </thead>\n",
       "  <tbody>\n",
       "    <tr>\n",
       "      <th>0</th>\n",
       "      <td>3.228886</td>\n",
       "      <td>-2.687877</td>\n",
       "      <td>4.201237</td>\n",
       "      <td>-39.775592</td>\n",
       "      <td>43</td>\n",
       "    </tr>\n",
       "    <tr>\n",
       "      <th>1</th>\n",
       "      <td>3.228886</td>\n",
       "      <td>-2.535950</td>\n",
       "      <td>4.105697</td>\n",
       "      <td>-38.145898</td>\n",
       "      <td>44</td>\n",
       "    </tr>\n",
       "    <tr>\n",
       "      <th>2</th>\n",
       "      <td>3.228886</td>\n",
       "      <td>-2.384022</td>\n",
       "      <td>4.013635</td>\n",
       "      <td>-36.440009</td>\n",
       "      <td>45</td>\n",
       "    </tr>\n",
       "    <tr>\n",
       "      <th>3</th>\n",
       "      <td>3.228886</td>\n",
       "      <td>-2.232095</td>\n",
       "      <td>3.925297</td>\n",
       "      <td>-34.655696</td>\n",
       "      <td>46</td>\n",
       "    </tr>\n",
       "    <tr>\n",
       "      <th>4</th>\n",
       "      <td>3.228886</td>\n",
       "      <td>-2.080168</td>\n",
       "      <td>3.840938</td>\n",
       "      <td>-32.791128</td>\n",
       "      <td>47</td>\n",
       "    </tr>\n",
       "    <tr>\n",
       "      <th>5</th>\n",
       "      <td>3.228886</td>\n",
       "      <td>-1.928240</td>\n",
       "      <td>3.760827</td>\n",
       "      <td>-30.844987</td>\n",
       "      <td>48</td>\n",
       "    </tr>\n",
       "    <tr>\n",
       "      <th>6</th>\n",
       "      <td>3.228886</td>\n",
       "      <td>-1.776313</td>\n",
       "      <td>3.685240</td>\n",
       "      <td>-28.816590</td>\n",
       "      <td>49</td>\n",
       "    </tr>\n",
       "    <tr>\n",
       "      <th>7</th>\n",
       "      <td>3.228886</td>\n",
       "      <td>-1.624386</td>\n",
       "      <td>3.614462</td>\n",
       "      <td>-26.706018</td>\n",
       "      <td>50</td>\n",
       "    </tr>\n",
       "    <tr>\n",
       "      <th>8</th>\n",
       "      <td>3.228886</td>\n",
       "      <td>-1.472458</td>\n",
       "      <td>3.548780</td>\n",
       "      <td>-24.514250</td>\n",
       "      <td>51</td>\n",
       "    </tr>\n",
       "    <tr>\n",
       "      <th>9</th>\n",
       "      <td>3.228886</td>\n",
       "      <td>-1.320531</td>\n",
       "      <td>3.488482</td>\n",
       "      <td>-22.243290</td>\n",
       "      <td>52</td>\n",
       "    </tr>\n",
       "    <tr>\n",
       "      <th>10</th>\n",
       "      <td>3.228886</td>\n",
       "      <td>-1.168604</td>\n",
       "      <td>3.433852</td>\n",
       "      <td>-19.896281</td>\n",
       "      <td>53</td>\n",
       "    </tr>\n",
       "    <tr>\n",
       "      <th>11</th>\n",
       "      <td>3.228886</td>\n",
       "      <td>-1.016676</td>\n",
       "      <td>3.385164</td>\n",
       "      <td>-17.477598</td>\n",
       "      <td>54</td>\n",
       "    </tr>\n",
       "    <tr>\n",
       "      <th>12</th>\n",
       "      <td>3.228886</td>\n",
       "      <td>-0.864749</td>\n",
       "      <td>3.342678</td>\n",
       "      <td>-14.992902</td>\n",
       "      <td>55</td>\n",
       "    </tr>\n",
       "    <tr>\n",
       "      <th>13</th>\n",
       "      <td>3.228886</td>\n",
       "      <td>-0.712821</td>\n",
       "      <td>3.306633</td>\n",
       "      <td>-12.449158</td>\n",
       "      <td>56</td>\n",
       "    </tr>\n",
       "    <tr>\n",
       "      <th>14</th>\n",
       "      <td>3.228886</td>\n",
       "      <td>-0.257039</td>\n",
       "      <td>3.239101</td>\n",
       "      <td>-4.551501</td>\n",
       "      <td>59</td>\n",
       "    </tr>\n",
       "    <tr>\n",
       "      <th>15</th>\n",
       "      <td>3.228886</td>\n",
       "      <td>-0.105112</td>\n",
       "      <td>3.230597</td>\n",
       "      <td>-1.864528</td>\n",
       "      <td>60</td>\n",
       "    </tr>\n",
       "    <tr>\n",
       "      <th>16</th>\n",
       "      <td>3.228886</td>\n",
       "      <td>0.046815</td>\n",
       "      <td>3.229226</td>\n",
       "      <td>0.830669</td>\n",
       "      <td>61</td>\n",
       "    </tr>\n",
       "    <tr>\n",
       "      <th>17</th>\n",
       "      <td>3.228886</td>\n",
       "      <td>0.198743</td>\n",
       "      <td>3.234997</td>\n",
       "      <td>3.522196</td>\n",
       "      <td>62</td>\n",
       "    </tr>\n",
       "    <tr>\n",
       "      <th>18</th>\n",
       "      <td>3.228886</td>\n",
       "      <td>0.350670</td>\n",
       "      <td>3.247873</td>\n",
       "      <td>6.198260</td>\n",
       "      <td>63</td>\n",
       "    </tr>\n",
       "    <tr>\n",
       "      <th>19</th>\n",
       "      <td>3.228886</td>\n",
       "      <td>0.806452</td>\n",
       "      <td>3.328073</td>\n",
       "      <td>14.023393</td>\n",
       "      <td>66</td>\n",
       "    </tr>\n",
       "    <tr>\n",
       "      <th>20</th>\n",
       "      <td>3.228886</td>\n",
       "      <td>0.958380</td>\n",
       "      <td>3.368115</td>\n",
       "      <td>16.531640</td>\n",
       "      <td>67</td>\n",
       "    </tr>\n",
       "    <tr>\n",
       "      <th>21</th>\n",
       "      <td>3.228886</td>\n",
       "      <td>1.110307</td>\n",
       "      <td>3.414453</td>\n",
       "      <td>18.976394</td>\n",
       "      <td>68</td>\n",
       "    </tr>\n",
       "    <tr>\n",
       "      <th>22</th>\n",
       "      <td>3.228886</td>\n",
       "      <td>1.262234</td>\n",
       "      <td>3.466835</td>\n",
       "      <td>21.351491</td>\n",
       "      <td>69</td>\n",
       "    </tr>\n",
       "    <tr>\n",
       "      <th>23</th>\n",
       "      <td>3.228886</td>\n",
       "      <td>1.414162</td>\n",
       "      <td>3.524991</td>\n",
       "      <td>23.652070</td>\n",
       "      <td>70</td>\n",
       "    </tr>\n",
       "    <tr>\n",
       "      <th>24</th>\n",
       "      <td>3.228886</td>\n",
       "      <td>1.566089</td>\n",
       "      <td>3.588641</td>\n",
       "      <td>25.874521</td>\n",
       "      <td>71</td>\n",
       "    </tr>\n",
       "    <tr>\n",
       "      <th>25</th>\n",
       "      <td>3.228886</td>\n",
       "      <td>1.718016</td>\n",
       "      <td>3.657497</td>\n",
       "      <td>28.016418</td>\n",
       "      <td>72</td>\n",
       "    </tr>\n",
       "    <tr>\n",
       "      <th>26</th>\n",
       "      <td>3.228886</td>\n",
       "      <td>1.869944</td>\n",
       "      <td>3.731273</td>\n",
       "      <td>30.076402</td>\n",
       "      <td>73</td>\n",
       "    </tr>\n",
       "    <tr>\n",
       "      <th>27</th>\n",
       "      <td>3.228886</td>\n",
       "      <td>2.021871</td>\n",
       "      <td>3.809681</td>\n",
       "      <td>32.054064</td>\n",
       "      <td>74</td>\n",
       "    </tr>\n",
       "    <tr>\n",
       "      <th>28</th>\n",
       "      <td>3.228886</td>\n",
       "      <td>2.173798</td>\n",
       "      <td>3.892442</td>\n",
       "      <td>33.949809</td>\n",
       "      <td>75</td>\n",
       "    </tr>\n",
       "    <tr>\n",
       "      <th>29</th>\n",
       "      <td>3.228886</td>\n",
       "      <td>2.325726</td>\n",
       "      <td>3.979285</td>\n",
       "      <td>35.764726</td>\n",
       "      <td>76</td>\n",
       "    </tr>\n",
       "    <tr>\n",
       "      <th>30</th>\n",
       "      <td>3.228886</td>\n",
       "      <td>2.477653</td>\n",
       "      <td>4.069947</td>\n",
       "      <td>37.500463</td>\n",
       "      <td>77</td>\n",
       "    </tr>\n",
       "    <tr>\n",
       "      <th>31</th>\n",
       "      <td>3.228886</td>\n",
       "      <td>2.629580</td>\n",
       "      <td>4.164181</td>\n",
       "      <td>39.159109</td>\n",
       "      <td>78</td>\n",
       "    </tr>\n",
       "    <tr>\n",
       "      <th>32</th>\n",
       "      <td>3.228886</td>\n",
       "      <td>2.933435</td>\n",
       "      <td>4.362425</td>\n",
       "      <td>42.255068</td>\n",
       "      <td>80</td>\n",
       "    </tr>\n",
       "    <tr>\n",
       "      <th>33</th>\n",
       "      <td>3.228886</td>\n",
       "      <td>3.085363</td>\n",
       "      <td>4.466001</td>\n",
       "      <td>43.697883</td>\n",
       "      <td>81</td>\n",
       "    </tr>\n",
       "    <tr>\n",
       "      <th>34</th>\n",
       "      <td>3.228886</td>\n",
       "      <td>3.237290</td>\n",
       "      <td>4.572281</td>\n",
       "      <td>45.074463</td>\n",
       "      <td>82</td>\n",
       "    </tr>\n",
       "    <tr>\n",
       "      <th>35</th>\n",
       "      <td>3.228886</td>\n",
       "      <td>3.389217</td>\n",
       "      <td>4.681079</td>\n",
       "      <td>46.387783</td>\n",
       "      <td>83</td>\n",
       "    </tr>\n",
       "    <tr>\n",
       "      <th>36</th>\n",
       "      <td>3.228886</td>\n",
       "      <td>3.541145</td>\n",
       "      <td>4.792224</td>\n",
       "      <td>47.640817</td>\n",
       "      <td>84</td>\n",
       "    </tr>\n",
       "    <tr>\n",
       "      <th>37</th>\n",
       "      <td>3.228886</td>\n",
       "      <td>3.693072</td>\n",
       "      <td>4.905557</td>\n",
       "      <td>48.836504</td>\n",
       "      <td>85</td>\n",
       "    </tr>\n",
       "  </tbody>\n",
       "</table>\n",
       "</div>"
      ],
      "text/plain": [
       "    vx_using_curve  vy_using_curve  v_using_curve  angle_using_curve  time\n",
       "0         3.228886       -2.687877       4.201237         -39.775592    43\n",
       "1         3.228886       -2.535950       4.105697         -38.145898    44\n",
       "2         3.228886       -2.384022       4.013635         -36.440009    45\n",
       "3         3.228886       -2.232095       3.925297         -34.655696    46\n",
       "4         3.228886       -2.080168       3.840938         -32.791128    47\n",
       "5         3.228886       -1.928240       3.760827         -30.844987    48\n",
       "6         3.228886       -1.776313       3.685240         -28.816590    49\n",
       "7         3.228886       -1.624386       3.614462         -26.706018    50\n",
       "8         3.228886       -1.472458       3.548780         -24.514250    51\n",
       "9         3.228886       -1.320531       3.488482         -22.243290    52\n",
       "10        3.228886       -1.168604       3.433852         -19.896281    53\n",
       "11        3.228886       -1.016676       3.385164         -17.477598    54\n",
       "12        3.228886       -0.864749       3.342678         -14.992902    55\n",
       "13        3.228886       -0.712821       3.306633         -12.449158    56\n",
       "14        3.228886       -0.257039       3.239101          -4.551501    59\n",
       "15        3.228886       -0.105112       3.230597          -1.864528    60\n",
       "16        3.228886        0.046815       3.229226           0.830669    61\n",
       "17        3.228886        0.198743       3.234997           3.522196    62\n",
       "18        3.228886        0.350670       3.247873           6.198260    63\n",
       "19        3.228886        0.806452       3.328073          14.023393    66\n",
       "20        3.228886        0.958380       3.368115          16.531640    67\n",
       "21        3.228886        1.110307       3.414453          18.976394    68\n",
       "22        3.228886        1.262234       3.466835          21.351491    69\n",
       "23        3.228886        1.414162       3.524991          23.652070    70\n",
       "24        3.228886        1.566089       3.588641          25.874521    71\n",
       "25        3.228886        1.718016       3.657497          28.016418    72\n",
       "26        3.228886        1.869944       3.731273          30.076402    73\n",
       "27        3.228886        2.021871       3.809681          32.054064    74\n",
       "28        3.228886        2.173798       3.892442          33.949809    75\n",
       "29        3.228886        2.325726       3.979285          35.764726    76\n",
       "30        3.228886        2.477653       4.069947          37.500463    77\n",
       "31        3.228886        2.629580       4.164181          39.159109    78\n",
       "32        3.228886        2.933435       4.362425          42.255068    80\n",
       "33        3.228886        3.085363       4.466001          43.697883    81\n",
       "34        3.228886        3.237290       4.572281          45.074463    82\n",
       "35        3.228886        3.389217       4.681079          46.387783    83\n",
       "36        3.228886        3.541145       4.792224          47.640817    84\n",
       "37        3.228886        3.693072       4.905557          48.836504    85"
      ]
     },
     "execution_count": 27,
     "metadata": {},
     "output_type": "execute_result"
    }
   ],
   "source": [
    "new_info_df"
   ]
  },
  {
   "cell_type": "code",
   "execution_count": 28,
   "metadata": {},
   "outputs": [
    {
     "data": {
      "text/html": [
       "<div>\n",
       "<style scoped>\n",
       "    .dataframe tbody tr th:only-of-type {\n",
       "        vertical-align: middle;\n",
       "    }\n",
       "\n",
       "    .dataframe tbody tr th {\n",
       "        vertical-align: top;\n",
       "    }\n",
       "\n",
       "    .dataframe thead th {\n",
       "        text-align: right;\n",
       "    }\n",
       "</style>\n",
       "<table border=\"1\" class=\"dataframe\">\n",
       "  <thead>\n",
       "    <tr style=\"text-align: right;\">\n",
       "      <th></th>\n",
       "      <th>67</th>\n",
       "      <th>68</th>\n",
       "      <th>69</th>\n",
       "      <th>70</th>\n",
       "      <th>71</th>\n",
       "    </tr>\n",
       "  </thead>\n",
       "  <tbody>\n",
       "    <tr>\n",
       "      <th>id</th>\n",
       "      <td>../../data/extracted_images/h12_short/081.jpg</td>\n",
       "      <td>../../data/extracted_images/h12_short/082.jpg</td>\n",
       "      <td>../../data/extracted_images/h12_short/083.jpg</td>\n",
       "      <td>../../data/extracted_images/h12_short/084.jpg</td>\n",
       "      <td>../../data/extracted_images/h12_short/085.jpg</td>\n",
       "    </tr>\n",
       "    <tr>\n",
       "      <th>x</th>\n",
       "      <td>1026.0</td>\n",
       "      <td>1010.0</td>\n",
       "      <td>1009.0</td>\n",
       "      <td>1008.0</td>\n",
       "      <td>1008.0</td>\n",
       "    </tr>\n",
       "    <tr>\n",
       "      <th>y</th>\n",
       "      <td>670.0</td>\n",
       "      <td>674.0</td>\n",
       "      <td>673.0</td>\n",
       "      <td>673.0</td>\n",
       "      <td>673.0</td>\n",
       "    </tr>\n",
       "    <tr>\n",
       "      <th>r1</th>\n",
       "      <td>6.0</td>\n",
       "      <td>6.0</td>\n",
       "      <td>6.0</td>\n",
       "      <td>7.0</td>\n",
       "      <td>6.0</td>\n",
       "    </tr>\n",
       "    <tr>\n",
       "      <th>r2</th>\n",
       "      <td>20.0</td>\n",
       "      <td>2.0</td>\n",
       "      <td>2.0</td>\n",
       "      <td>2.0</td>\n",
       "      <td>2.0</td>\n",
       "    </tr>\n",
       "    <tr>\n",
       "      <th>theta</th>\n",
       "      <td>81.932965</td>\n",
       "      <td>36.096341</td>\n",
       "      <td>34.377468</td>\n",
       "      <td>32.658594</td>\n",
       "      <td>34.377468</td>\n",
       "    </tr>\n",
       "    <tr>\n",
       "      <th>vx</th>\n",
       "      <td>0.428571</td>\n",
       "      <td>-2.285714</td>\n",
       "      <td>-2.857143</td>\n",
       "      <td>-3.142857</td>\n",
       "      <td>-3.571429</td>\n",
       "    </tr>\n",
       "    <tr>\n",
       "      <th>vy</th>\n",
       "      <td>3.428571</td>\n",
       "      <td>3.571429</td>\n",
       "      <td>3.0</td>\n",
       "      <td>2.714286</td>\n",
       "      <td>2.428571</td>\n",
       "    </tr>\n",
       "    <tr>\n",
       "      <th>v</th>\n",
       "      <td>3.455253</td>\n",
       "      <td>4.240235</td>\n",
       "      <td>4.142857</td>\n",
       "      <td>4.152698</td>\n",
       "      <td>4.318919</td>\n",
       "    </tr>\n",
       "    <tr>\n",
       "      <th>angle</th>\n",
       "      <td>-82.874984</td>\n",
       "      <td>57.380757</td>\n",
       "      <td>46.397181</td>\n",
       "      <td>40.815084</td>\n",
       "      <td>34.215702</td>\n",
       "    </tr>\n",
       "    <tr>\n",
       "      <th>Region</th>\n",
       "      <td>III</td>\n",
       "      <td>III</td>\n",
       "      <td>III</td>\n",
       "      <td>III</td>\n",
       "      <td>III</td>\n",
       "    </tr>\n",
       "    <tr>\n",
       "      <th>time</th>\n",
       "      <td>81</td>\n",
       "      <td>82</td>\n",
       "      <td>83</td>\n",
       "      <td>84</td>\n",
       "      <td>85</td>\n",
       "    </tr>\n",
       "    <tr>\n",
       "      <th>vx_using_curve</th>\n",
       "      <td>3.228886</td>\n",
       "      <td>3.228886</td>\n",
       "      <td>3.228886</td>\n",
       "      <td>3.228886</td>\n",
       "      <td>3.228886</td>\n",
       "    </tr>\n",
       "    <tr>\n",
       "      <th>vy_using_curve</th>\n",
       "      <td>3.085363</td>\n",
       "      <td>3.23729</td>\n",
       "      <td>3.389217</td>\n",
       "      <td>3.541145</td>\n",
       "      <td>3.693072</td>\n",
       "    </tr>\n",
       "    <tr>\n",
       "      <th>v_using_curve</th>\n",
       "      <td>4.466001</td>\n",
       "      <td>4.572281</td>\n",
       "      <td>4.681079</td>\n",
       "      <td>4.792224</td>\n",
       "      <td>4.905557</td>\n",
       "    </tr>\n",
       "    <tr>\n",
       "      <th>angle_using_curve</th>\n",
       "      <td>43.697883</td>\n",
       "      <td>45.074463</td>\n",
       "      <td>46.387783</td>\n",
       "      <td>47.640817</td>\n",
       "      <td>48.836504</td>\n",
       "    </tr>\n",
       "  </tbody>\n",
       "</table>\n",
       "</div>"
      ],
      "text/plain": [
       "                                                              67  \\\n",
       "id                 ../../data/extracted_images/h12_short/081.jpg   \n",
       "x                                                         1026.0   \n",
       "y                                                          670.0   \n",
       "r1                                                           6.0   \n",
       "r2                                                          20.0   \n",
       "theta                                                  81.932965   \n",
       "vx                                                      0.428571   \n",
       "vy                                                      3.428571   \n",
       "v                                                       3.455253   \n",
       "angle                                                 -82.874984   \n",
       "Region                                                       III   \n",
       "time                                                          81   \n",
       "vx_using_curve                                          3.228886   \n",
       "vy_using_curve                                          3.085363   \n",
       "v_using_curve                                           4.466001   \n",
       "angle_using_curve                                      43.697883   \n",
       "\n",
       "                                                              68  \\\n",
       "id                 ../../data/extracted_images/h12_short/082.jpg   \n",
       "x                                                         1010.0   \n",
       "y                                                          674.0   \n",
       "r1                                                           6.0   \n",
       "r2                                                           2.0   \n",
       "theta                                                  36.096341   \n",
       "vx                                                     -2.285714   \n",
       "vy                                                      3.571429   \n",
       "v                                                       4.240235   \n",
       "angle                                                  57.380757   \n",
       "Region                                                       III   \n",
       "time                                                          82   \n",
       "vx_using_curve                                          3.228886   \n",
       "vy_using_curve                                           3.23729   \n",
       "v_using_curve                                           4.572281   \n",
       "angle_using_curve                                      45.074463   \n",
       "\n",
       "                                                              69  \\\n",
       "id                 ../../data/extracted_images/h12_short/083.jpg   \n",
       "x                                                         1009.0   \n",
       "y                                                          673.0   \n",
       "r1                                                           6.0   \n",
       "r2                                                           2.0   \n",
       "theta                                                  34.377468   \n",
       "vx                                                     -2.857143   \n",
       "vy                                                           3.0   \n",
       "v                                                       4.142857   \n",
       "angle                                                  46.397181   \n",
       "Region                                                       III   \n",
       "time                                                          83   \n",
       "vx_using_curve                                          3.228886   \n",
       "vy_using_curve                                          3.389217   \n",
       "v_using_curve                                           4.681079   \n",
       "angle_using_curve                                      46.387783   \n",
       "\n",
       "                                                              70  \\\n",
       "id                 ../../data/extracted_images/h12_short/084.jpg   \n",
       "x                                                         1008.0   \n",
       "y                                                          673.0   \n",
       "r1                                                           7.0   \n",
       "r2                                                           2.0   \n",
       "theta                                                  32.658594   \n",
       "vx                                                     -3.142857   \n",
       "vy                                                      2.714286   \n",
       "v                                                       4.152698   \n",
       "angle                                                  40.815084   \n",
       "Region                                                       III   \n",
       "time                                                          84   \n",
       "vx_using_curve                                          3.228886   \n",
       "vy_using_curve                                          3.541145   \n",
       "v_using_curve                                           4.792224   \n",
       "angle_using_curve                                      47.640817   \n",
       "\n",
       "                                                              71  \n",
       "id                 ../../data/extracted_images/h12_short/085.jpg  \n",
       "x                                                         1008.0  \n",
       "y                                                          673.0  \n",
       "r1                                                           6.0  \n",
       "r2                                                           2.0  \n",
       "theta                                                  34.377468  \n",
       "vx                                                     -3.571429  \n",
       "vy                                                      2.428571  \n",
       "v                                                       4.318919  \n",
       "angle                                                  34.215702  \n",
       "Region                                                       III  \n",
       "time                                                          85  \n",
       "vx_using_curve                                          3.228886  \n",
       "vy_using_curve                                          3.693072  \n",
       "v_using_curve                                           4.905557  \n",
       "angle_using_curve                                      48.836504  "
      ]
     },
     "execution_count": 28,
     "metadata": {},
     "output_type": "execute_result"
    }
   ],
   "source": [
    "df_final = pd.merge(df_c, new_info_df, on=\"time\", how=\"left\")\n",
    "df_final.tail().T"
   ]
  },
  {
   "cell_type": "markdown",
   "metadata": {},
   "source": [
    "## Adding the Additional Information"
   ]
  },
  {
   "cell_type": "code",
   "execution_count": 29,
   "metadata": {},
   "outputs": [
    {
     "data": {
      "text/plain": [
       "(3.2288863220361512, -2.687877107185638, 4.201236749335221, -39.77559156733165)"
      ]
     },
     "execution_count": 29,
     "metadata": {},
     "output_type": "execute_result"
    }
   ],
   "source": [
    "x_speed = vx[0]\n",
    "y_speed = vy[0]\n",
    "speed = v[0]\n",
    "angle = angles[0]\n",
    "x_speed, y_speed, speed, angle"
   ]
  },
  {
   "cell_type": "code",
   "execution_count": 30,
   "metadata": {},
   "outputs": [
    {
     "name": "stdout",
     "output_type": "stream",
     "text": [
      "USING CURVE FIT AT LEAVE FRAME\n",
      "### ANGLE: -39.78\n",
      "### VELOCITY: 4.2\n",
      "### X VELOCITY: 3.23\n",
      "### Y VELOCITY: -2.69\n",
      "### g: 0.1519\n",
      "************************************************************\n",
      "\n"
     ]
    }
   ],
   "source": [
    "pattern = \"***\"\n",
    "information = f\"\"\"USING CURVE FIT AT LEAVE FRAME\n",
    "### ANGLE: {np.round(angle, 2)}\n",
    "### VELOCITY: {np.round(speed, 2)}\n",
    "### X VELOCITY: {np.round(x_speed, 2)}\n",
    "### Y VELOCITY: {np.round(y_speed, 2)}\n",
    "### g: {np.round(g, 4)}\n",
    "{pattern*20}\n",
    "\"\"\"\n",
    "print(information)"
   ]
  },
  {
   "cell_type": "markdown",
   "metadata": {},
   "source": [
    "First, create a new string containing just the previous text file. Else we'll duplicate the text file."
   ]
  },
  {
   "cell_type": "code",
   "execution_count": 31,
   "metadata": {},
   "outputs": [
    {
     "name": "stdout",
     "output_type": "stream",
     "text": [
      "### h12_short.tif\n",
      "### First Frame ID: 000\n",
      "### Last Frame ID: 090\n",
      "### Contact Frame ID: 020\n",
      "### Leave Frame ID: 042\n",
      "### Angle:\n"
     ]
    }
   ],
   "source": [
    "with open(RESULT_DIR +\"/info.txt\", \"r+\") as f:\n",
    "    texts = f.readlines()\n",
    "if len(texts)>44:\n",
    "    text = \"\".join(texts[:-6])\n",
    "else:\n",
    "    text = \"\".join(texts)\n",
    "print(text[:125])\n",
    "all_text = text+information"
   ]
  },
  {
   "cell_type": "code",
   "execution_count": 32,
   "metadata": {},
   "outputs": [
    {
     "data": {
      "text/plain": [
       "43"
      ]
     },
     "execution_count": 32,
     "metadata": {},
     "output_type": "execute_result"
    }
   ],
   "source": [
    "len(texts)"
   ]
  },
  {
   "cell_type": "code",
   "execution_count": 33,
   "metadata": {},
   "outputs": [],
   "source": [
    "with open(RESULT_DIR +\"/info.txt\", \"w\") as f:\n",
    "    f.writelines(all_text)"
   ]
  },
  {
   "cell_type": "markdown",
   "metadata": {},
   "source": [
    "### Save the DataFrame"
   ]
  },
  {
   "cell_type": "code",
   "execution_count": 34,
   "metadata": {},
   "outputs": [],
   "source": [
    "df_final.to_csv(RESULT_DIR + f\"/{sequence}_final.csv\", index=False)"
   ]
  }
 ],
 "metadata": {
  "kernelspec": {
   "display_name": "Python 3.7.13 ('data-science')",
   "language": "python",
   "name": "python3"
  },
  "language_info": {
   "codemirror_mode": {
    "name": "ipython",
    "version": 3
   },
   "file_extension": ".py",
   "mimetype": "text/x-python",
   "name": "python",
   "nbconvert_exporter": "python",
   "pygments_lexer": "ipython3",
   "version": "3.7.13"
  },
  "orig_nbformat": 4,
  "vscode": {
   "interpreter": {
    "hash": "2efee1efa502125d01e6b4768ba06d9453d29f3642bfd14ad5d4a769de82e88c"
   }
  }
 },
 "nbformat": 4,
 "nbformat_minor": 2
}
