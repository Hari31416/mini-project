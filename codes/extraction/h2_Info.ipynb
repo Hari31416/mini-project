{
 "cells": [
  {
   "cell_type": "markdown",
   "metadata": {},
   "source": [
    "# Imports"
   ]
  },
  {
   "cell_type": "code",
   "execution_count": 1,
   "metadata": {},
   "outputs": [],
   "source": [
    "import re\n",
    "import numpy as np\n",
    "import matplotlib.pyplot as plt\n",
    "import pandas as pd\n",
    "from scipy.optimize import curve_fit\n",
    "import warnings\n",
    "warnings.filterwarnings(\"ignore\")\n",
    "plt.rcdefaults()"
   ]
  },
  {
   "cell_type": "markdown",
   "metadata": {},
   "source": [
    "# Defining the Directories"
   ]
  },
  {
   "cell_type": "code",
   "execution_count": 2,
   "metadata": {},
   "outputs": [],
   "source": [
    "sequence = \"h2\"\n",
    "DATA_DIR = '../../data/extracted_images/' + sequence\n",
    "RESULT_DIR = '../../data/results/' + sequence"
   ]
  },
  {
   "cell_type": "markdown",
   "metadata": {},
   "source": [
    "# Getting Informations and Reading the Files"
   ]
  },
  {
   "cell_type": "markdown",
   "metadata": {},
   "source": [
    "## Getting Frame Information"
   ]
  },
  {
   "cell_type": "code",
   "execution_count": 3,
   "metadata": {},
   "outputs": [],
   "source": [
    "info_dict = {\n",
    "    \"first_frame\": 1,\n",
    "    \"last_frame\": 2,\n",
    "    \"contact_frame\": 3,\n",
    "    \"leave_frame\": 4,\n",
    "    \"angle\": 5,\n",
    "    \"passthrough\": 6,\n",
    "}"
   ]
  },
  {
   "cell_type": "code",
   "execution_count": 4,
   "metadata": {},
   "outputs": [],
   "source": [
    "def get_info(file):\n",
    "    information = {}\n",
    "    with open(file, \"r\") as f:\n",
    "        texts = f.readlines()\n",
    "    for key, value in info_dict.items():\n",
    "        line = texts[value]\n",
    "        info = line.split(\":\")[1].strip()\n",
    "        information[key] = info\n",
    "    return information\n",
    "\n",
    "information = get_info(f\"{DATA_DIR}.txt\")"
   ]
  },
  {
   "cell_type": "code",
   "execution_count": 5,
   "metadata": {},
   "outputs": [],
   "source": [
    "first_frame = DATA_DIR + \"/\" +information[\"first_frame\"]\n",
    "last_frame = DATA_DIR + \"/\" +information[\"last_frame\"]\n",
    "contact_frame = DATA_DIR + \"/\" +information[\"contact_frame\"]\n",
    "angle = information[\"angle\"]\n",
    "leave_frame = DATA_DIR + \"/\" +information[\"leave_frame\"]\n",
    "passthrough = information[\"passthrough\"]"
   ]
  },
  {
   "cell_type": "code",
   "execution_count": 6,
   "metadata": {},
   "outputs": [
    {
     "data": {
      "text/plain": [
       "('../../data/extracted_images/h2/000', '../../data/extracted_images/h2/290')"
      ]
     },
     "execution_count": 6,
     "metadata": {},
     "output_type": "execute_result"
    }
   ],
   "source": [
    "first_frame, last_frame"
   ]
  },
  {
   "cell_type": "markdown",
   "metadata": {},
   "source": [
    "## Converting the Frame ID to Integer"
   ]
  },
  {
   "cell_type": "code",
   "execution_count": 7,
   "metadata": {},
   "outputs": [
    {
     "data": {
      "text/plain": [
       "(0, 94, 113)"
      ]
     },
     "execution_count": 7,
     "metadata": {},
     "output_type": "execute_result"
    }
   ],
   "source": [
    "reg = re.compile(r\"\\d{3}\")\n",
    "first_frame_num = int(reg.findall(first_frame)[0])\n",
    "contact_frame_num = int(reg.findall(contact_frame)[0])\n",
    "leave_frame_num = int(reg.findall(leave_frame)[0])\n",
    "first_frame_num, contact_frame_num, leave_frame_num"
   ]
  },
  {
   "cell_type": "markdown",
   "metadata": {},
   "source": [
    "## Reading the DF"
   ]
  },
  {
   "cell_type": "code",
   "execution_count": 8,
   "metadata": {},
   "outputs": [],
   "source": [
    "df_name = sequence+\"_raw.csv\"\n",
    "df = pd.read_csv(RESULT_DIR + '/'+df_name)\n",
    "df_c = df[df[\"x\"].notna()]"
   ]
  },
  {
   "cell_type": "markdown",
   "metadata": {},
   "source": [
    "# Fitting Curves"
   ]
  },
  {
   "cell_type": "markdown",
   "metadata": {},
   "source": [
    "## The Curves to be Fitted"
   ]
  },
  {
   "cell_type": "markdown",
   "metadata": {},
   "source": [
    "We'll assume that downward is the positive direction. In this way, the gravitational acceleration is positive. In x direction, no force is acting and hence the equation of motion is simply:\n",
    "$$\n",
    "x(t) = x_0 + v_{x0}t\n",
    "$$\n",
    "Here $x_0$ is the initial x position, $v_{x0}$ is the initial y velocity."
   ]
  },
  {
   "cell_type": "markdown",
   "metadata": {},
   "source": [
    "Now, in y direction, the equation of motion is:\n",
    "$$\n",
    "y(t) = y_0 + v_{y0}t + \\frac{1}{2}gt^2\n",
    "$$\n",
    "Here, $y_0$ is the initial y position, $v_{y0}$ is the initial y velocity, and $g$ is the acceleration due to gravity."
   ]
  },
  {
   "cell_type": "markdown",
   "metadata": {},
   "source": [
    "We'll optimize these two equations to get the initial velocity and the initial position for x and y direction."
   ]
  },
  {
   "cell_type": "markdown",
   "metadata": {},
   "source": [
    "We can also phrase the same problem by eliminating $t$ from the equation of motions. This way, we'll get $y$ as a function of $x$. Eliminating $t$ from the equation of motion, we get:\n",
    "$$\n",
    "y = y_0 + \\frac{v_y}{v_x}(x - x_0) + \\frac{1}{2}g\\frac{(x - x_0)^2}{v_x^2}\n",
    "$$\n"
   ]
  },
  {
   "cell_type": "markdown",
   "metadata": {},
   "source": [
    "Here, we have rewritten $v_{x0}$ as $v_x$ and $v_{y0}$ as $v_y$. \n",
    "<!-- Defining $\\frac{v_y}{v_x}$ as $m$, which is nothing but $\\tan(\\theta)$ where $\\theta$ is the angle between the y and x velocity, we get:\n",
    "$$\n",
    "y = y_0 + m(x - x_0) + \\frac{1}{2}g\\frac{(x - x_0)^2}{v_x^2}\n",
    "$$ -->"
   ]
  },
  {
   "cell_type": "markdown",
   "metadata": {},
   "source": [
    "This is a parabola with the parameters $y_0$, $m$, $g$ and $v_x$ and $v_y$. We can use `scipy` to get these parameters."
   ]
  },
  {
   "cell_type": "code",
   "execution_count": 9,
   "metadata": {},
   "outputs": [],
   "source": [
    "def the_parabola(x, x0, y0, vy, vx, g):\n",
    "    second_term = (vy/vx)*(x-x0)\n",
    "    third_term = 0.5*g*((x-x0)/vx)**2\n",
    "    return y0 + second_term + third_term\n",
    "the_parabola_vector = np.vectorize(the_parabola)"
   ]
  },
  {
   "cell_type": "markdown",
   "metadata": {},
   "source": [
    "However, it turned out that using the parabola does not give a reasonable result. So, we'll be using the parametric equations."
   ]
  },
  {
   "cell_type": "code",
   "execution_count": 10,
   "metadata": {},
   "outputs": [],
   "source": [
    "def parametric_x(t, x0, vx0):\n",
    "    return x0 + vx0*t\n",
    "parametric_x_vector = np.vectorize(parametric_x)\n",
    "\n",
    "def parametric_y(t, y0, vy0, g):\n",
    "    return y0 + vy0*t+0.5*g*t**2\n",
    "parametric_y_vector = np.vectorize(parametric_y)"
   ]
  },
  {
   "cell_type": "markdown",
   "metadata": {},
   "source": [
    "## Region III"
   ]
  },
  {
   "cell_type": "markdown",
   "metadata": {},
   "source": [
    "### Data For Region III"
   ]
  },
  {
   "cell_type": "code",
   "execution_count": 11,
   "metadata": {},
   "outputs": [],
   "source": [
    "region_3 = df_c[df_c[\"Region\"] == \"III\"]"
   ]
  },
  {
   "cell_type": "code",
   "execution_count": 12,
   "metadata": {},
   "outputs": [],
   "source": [
    "X = region_3[\"x\"].values\n",
    "Y = region_3[\"y\"].values\n",
    "t = region_3[\"time\"].values\n",
    "offset = t[0]\n",
    "tbar = t-offset"
   ]
  },
  {
   "cell_type": "code",
   "execution_count": 13,
   "metadata": {},
   "outputs": [
    {
     "data": {
      "text/plain": [
       "array([ 0,  1,  2,  3,  4,  5,  6,  7,  8,  9, 10, 11, 12, 13, 14, 15, 21,\n",
       "       22, 28, 29, 30, 31, 32, 33, 40, 47, 48, 49, 50, 51, 52, 53, 54, 55,\n",
       "       56, 57, 58, 59, 60, 61, 62, 63, 64, 65, 68, 69])"
      ]
     },
     "execution_count": 13,
     "metadata": {},
     "output_type": "execute_result"
    }
   ],
   "source": [
    "tbar"
   ]
  },
  {
   "cell_type": "markdown",
   "metadata": {},
   "source": [
    "### Fitting the Curves"
   ]
  },
  {
   "cell_type": "code",
   "execution_count": 14,
   "metadata": {},
   "outputs": [],
   "source": [
    "popt, pcov = curve_fit(the_parabola, X, Y, maxfev=10000)\n",
    "popty, pcovy = curve_fit(parametric_y, tbar, Y)\n",
    "poptx, pcovx = curve_fit(parametric_x, tbar, X)"
   ]
  },
  {
   "cell_type": "code",
   "execution_count": 15,
   "metadata": {},
   "outputs": [
    {
     "data": {
      "text/plain": [
       "array([ 697.75615758, 1044.23342058,  398.36551627, -107.89776172,\n",
       "        186.03443667])"
      ]
     },
     "execution_count": 15,
     "metadata": {},
     "output_type": "execute_result"
    }
   ],
   "source": [
    "popt"
   ]
  },
  {
   "cell_type": "markdown",
   "metadata": {},
   "source": [
    "As you can see, the parameters calculated by the fitting method is ridiculus, even though it fits the parabola well (See the figure below)."
   ]
  },
  {
   "cell_type": "code",
   "execution_count": 16,
   "metadata": {},
   "outputs": [
    {
     "data": {
      "text/plain": [
       "(array([895.36638829,   2.1985798 ]),\n",
       " array([ 6.23329697e+02, -1.80799647e-01,  4.19442345e-02]))"
      ]
     },
     "execution_count": 16,
     "metadata": {},
     "output_type": "execute_result"
    }
   ],
   "source": [
    "poptx, popty"
   ]
  },
  {
   "cell_type": "markdown",
   "metadata": {},
   "source": [
    "These values are reasonable."
   ]
  },
  {
   "cell_type": "code",
   "execution_count": 17,
   "metadata": {},
   "outputs": [
    {
     "data": {
      "text/plain": [
       "0.04194423446383877"
      ]
     },
     "execution_count": 17,
     "metadata": {},
     "output_type": "execute_result"
    }
   ],
   "source": [
    "g = popty[2]\n",
    "g"
   ]
  },
  {
   "cell_type": "markdown",
   "metadata": {},
   "source": [
    "### Analyzing the Results"
   ]
  },
  {
   "cell_type": "code",
   "execution_count": 18,
   "metadata": {},
   "outputs": [
    {
     "data": {
      "image/png": "[encoded data removed]",
      "text/plain": [
       "<Figure size 640x480 with 1 Axes>"
      ]
     },
     "metadata": {},
     "output_type": "display_data"
    }
   ],
   "source": [
    "plt.plot(X,Y, 'o', label=\"data\")\n",
    "plt.plot(X, the_parabola_vector(X, *popt),label=\"fit using parabola\")\n",
    "plt.legend();"
   ]
  },
  {
   "cell_type": "code",
   "execution_count": 19,
   "metadata": {},
   "outputs": [
    {
     "data": {
      "image/png": "[encoded data removed]",
      "text/plain": [
       "<Figure size 640x480 with 1 Axes>"
      ]
     },
     "metadata": {},
     "output_type": "display_data"
    }
   ],
   "source": [
    "plt.plot(X,Y, 'o', label=\"data\")\n",
    "plt.plot(parametric_x_vector(tbar, *poptx), parametric_y_vector(tbar, *popty), label=\"fit using parametric\")\n",
    "plt.legend();"
   ]
  },
  {
   "cell_type": "markdown",
   "metadata": {},
   "source": [
    "We can see that using the parametric equations, we can fit the curve accurately."
   ]
  },
  {
   "cell_type": "markdown",
   "metadata": {},
   "source": [
    "### Getting Speeds"
   ]
  },
  {
   "cell_type": "markdown",
   "metadata": {},
   "source": [
    "Next, we'll see how the calculated velocities are? The eqaution for the speeds are:\n",
    "$$\n",
    "v_x(t) = v_{x0}\\\\\n",
    "v_y(t) = v_{y0} + gt\n",
    "$$"
   ]
  },
  {
   "cell_type": "code",
   "execution_count": 20,
   "metadata": {},
   "outputs": [],
   "source": [
    "vy = popty[1]+popty[2]*(tbar)\n",
    "vx = np.ones(len(tbar))*poptx[1]\n",
    "v = np.sqrt(vy**2+vx**2)"
   ]
  },
  {
   "cell_type": "code",
   "execution_count": 21,
   "metadata": {},
   "outputs": [
    {
     "data": {
      "image/png": "[encoded data removed]",
      "text/plain": [
       "<Figure size 640x480 with 1 Axes>"
      ]
     },
     "metadata": {},
     "output_type": "display_data"
    }
   ],
   "source": [
    "plt.plot(tbar, region_3[\"vy\"].values, label=\"vy_data\")\n",
    "plt.plot(tbar, vy, label=\"vy_calculated\")\n",
    "plt.legend()\n",
    "plt.xlabel(\"time\")\n",
    "plt.ylabel(\"vy\");"
   ]
  },
  {
   "cell_type": "code",
   "execution_count": 22,
   "metadata": {},
   "outputs": [
    {
     "data": {
      "image/png": "[encoded data removed]",
      "text/plain": [
       "<Figure size 640x480 with 1 Axes>"
      ]
     },
     "metadata": {},
     "output_type": "display_data"
    }
   ],
   "source": [
    "plt.plot(tbar, region_3[\"vx\"].values, label=\"vx_data\")\n",
    "plt.plot(tbar, vx, label=\"vx_calculated\")\n",
    "plt.legend()\n",
    "plt.xlabel(\"time\")\n",
    "plt.ylabel(\"vx\");"
   ]
  },
  {
   "cell_type": "code",
   "execution_count": 23,
   "metadata": {},
   "outputs": [
    {
     "data": {
      "image/png": "[encoded data removed]",
      "text/plain": [
       "<Figure size 640x480 with 1 Axes>"
      ]
     },
     "metadata": {},
     "output_type": "display_data"
    }
   ],
   "source": [
    "plt.plot(tbar, region_3[\"v\"].values, label=\"v_data\")\n",
    "plt.plot(tbar, v, label=\"v_calculated\")\n",
    "plt.legend()\n",
    "plt.xlabel(\"time\")\n",
    "plt.ylabel(\"v\");"
   ]
  },
  {
   "cell_type": "markdown",
   "metadata": {},
   "source": [
    "They are reasonable."
   ]
  },
  {
   "cell_type": "markdown",
   "metadata": {},
   "source": [
    "### Getting Angles"
   ]
  },
  {
   "cell_type": "markdown",
   "metadata": {},
   "source": [
    "Next, let's calculate the angle between the x and y velocity."
   ]
  },
  {
   "cell_type": "code",
   "execution_count": 24,
   "metadata": {},
   "outputs": [],
   "source": [
    "angles= np.arctan(vy/vx)*180/np.pi"
   ]
  },
  {
   "cell_type": "code",
   "execution_count": 25,
   "metadata": {},
   "outputs": [
    {
     "data": {
      "image/png": "[encoded data removed]",
      "text/plain": [
       "<Figure size 640x480 with 1 Axes>"
      ]
     },
     "metadata": {},
     "output_type": "display_data"
    }
   ],
   "source": [
    "plt.plot(-angles, label = \"calculated\")\n",
    "plt.plot(region_3[\"angle\"].values, label = \"data\")\n",
    "plt.legend();"
   ]
  },
  {
   "cell_type": "markdown",
   "metadata": {},
   "source": [
    "Again, reasonable."
   ]
  },
  {
   "cell_type": "markdown",
   "metadata": {},
   "source": [
    "## Getting the Additional Information"
   ]
  },
  {
   "cell_type": "code",
   "execution_count": 26,
   "metadata": {},
   "outputs": [],
   "source": [
    "new_info_df = pd.DataFrame({\"vx\": vx, \"vy\": vy, \"v\":v, \"angle\": angles, \"time\":t})\n",
    "new_info_df.columns = [\"vx_using_curve\", \"vy_using_curve\", \"v_using_curve\", \"angle_using_curve\", \"time\"]"
   ]
  },
  {
   "cell_type": "code",
   "execution_count": 27,
   "metadata": {},
   "outputs": [
    {
     "data": {
      "text/html": [
       "<div>\n",
       "<style scoped>\n",
       "    .dataframe tbody tr th:only-of-type {\n",
       "        vertical-align: middle;\n",
       "    }\n",
       "\n",
       "    .dataframe tbody tr th {\n",
       "        vertical-align: top;\n",
       "    }\n",
       "\n",
       "    .dataframe thead th {\n",
       "        text-align: right;\n",
       "    }\n",
       "</style>\n",
       "<table border=\"1\" class=\"dataframe\">\n",
       "  <thead>\n",
       "    <tr style=\"text-align: right;\">\n",
       "      <th></th>\n",
       "      <th>vx_using_curve</th>\n",
       "      <th>vy_using_curve</th>\n",
       "      <th>v_using_curve</th>\n",
       "      <th>angle_using_curve</th>\n",
       "      <th>time</th>\n",
       "    </tr>\n",
       "  </thead>\n",
       "  <tbody>\n",
       "    <tr>\n",
       "      <th>0</th>\n",
       "      <td>2.19858</td>\n",
       "      <td>-0.180800</td>\n",
       "      <td>2.206001</td>\n",
       "      <td>-4.701126</td>\n",
       "      <td>114</td>\n",
       "    </tr>\n",
       "    <tr>\n",
       "      <th>1</th>\n",
       "      <td>2.19858</td>\n",
       "      <td>-0.138855</td>\n",
       "      <td>2.202960</td>\n",
       "      <td>-3.613822</td>\n",
       "      <td>115</td>\n",
       "    </tr>\n",
       "    <tr>\n",
       "      <th>2</th>\n",
       "      <td>2.19858</td>\n",
       "      <td>-0.096911</td>\n",
       "      <td>2.200715</td>\n",
       "      <td>-2.523906</td>\n",
       "      <td>116</td>\n",
       "    </tr>\n",
       "    <tr>\n",
       "      <th>3</th>\n",
       "      <td>2.19858</td>\n",
       "      <td>-0.054967</td>\n",
       "      <td>2.199267</td>\n",
       "      <td>-1.432160</td>\n",
       "      <td>117</td>\n",
       "    </tr>\n",
       "    <tr>\n",
       "      <th>4</th>\n",
       "      <td>2.19858</td>\n",
       "      <td>-0.013023</td>\n",
       "      <td>2.198618</td>\n",
       "      <td>-0.339373</td>\n",
       "      <td>118</td>\n",
       "    </tr>\n",
       "    <tr>\n",
       "      <th>5</th>\n",
       "      <td>2.19858</td>\n",
       "      <td>0.028922</td>\n",
       "      <td>2.198770</td>\n",
       "      <td>0.753662</td>\n",
       "      <td>119</td>\n",
       "    </tr>\n",
       "    <tr>\n",
       "      <th>6</th>\n",
       "      <td>2.19858</td>\n",
       "      <td>0.070866</td>\n",
       "      <td>2.199722</td>\n",
       "      <td>1.846148</td>\n",
       "      <td>120</td>\n",
       "    </tr>\n",
       "    <tr>\n",
       "      <th>7</th>\n",
       "      <td>2.19858</td>\n",
       "      <td>0.112810</td>\n",
       "      <td>2.201472</td>\n",
       "      <td>2.937293</td>\n",
       "      <td>121</td>\n",
       "    </tr>\n",
       "    <tr>\n",
       "      <th>8</th>\n",
       "      <td>2.19858</td>\n",
       "      <td>0.154754</td>\n",
       "      <td>2.204020</td>\n",
       "      <td>4.026310</td>\n",
       "      <td>122</td>\n",
       "    </tr>\n",
       "    <tr>\n",
       "      <th>9</th>\n",
       "      <td>2.19858</td>\n",
       "      <td>0.196698</td>\n",
       "      <td>2.207361</td>\n",
       "      <td>5.112421</td>\n",
       "      <td>123</td>\n",
       "    </tr>\n",
       "    <tr>\n",
       "      <th>10</th>\n",
       "      <td>2.19858</td>\n",
       "      <td>0.238643</td>\n",
       "      <td>2.211493</td>\n",
       "      <td>6.194862</td>\n",
       "      <td>124</td>\n",
       "    </tr>\n",
       "    <tr>\n",
       "      <th>11</th>\n",
       "      <td>2.19858</td>\n",
       "      <td>0.280587</td>\n",
       "      <td>2.216412</td>\n",
       "      <td>7.272881</td>\n",
       "      <td>125</td>\n",
       "    </tr>\n",
       "    <tr>\n",
       "      <th>12</th>\n",
       "      <td>2.19858</td>\n",
       "      <td>0.322531</td>\n",
       "      <td>2.222111</td>\n",
       "      <td>8.345749</td>\n",
       "      <td>126</td>\n",
       "    </tr>\n",
       "    <tr>\n",
       "      <th>13</th>\n",
       "      <td>2.19858</td>\n",
       "      <td>0.364475</td>\n",
       "      <td>2.228586</td>\n",
       "      <td>9.412755</td>\n",
       "      <td>127</td>\n",
       "    </tr>\n",
       "    <tr>\n",
       "      <th>14</th>\n",
       "      <td>2.19858</td>\n",
       "      <td>0.406420</td>\n",
       "      <td>2.235829</td>\n",
       "      <td>10.473214</td>\n",
       "      <td>128</td>\n",
       "    </tr>\n",
       "    <tr>\n",
       "      <th>15</th>\n",
       "      <td>2.19858</td>\n",
       "      <td>0.448364</td>\n",
       "      <td>2.243832</td>\n",
       "      <td>11.526467</td>\n",
       "      <td>129</td>\n",
       "    </tr>\n",
       "    <tr>\n",
       "      <th>16</th>\n",
       "      <td>2.19858</td>\n",
       "      <td>0.700029</td>\n",
       "      <td>2.307335</td>\n",
       "      <td>17.661510</td>\n",
       "      <td>135</td>\n",
       "    </tr>\n",
       "    <tr>\n",
       "      <th>17</th>\n",
       "      <td>2.19858</td>\n",
       "      <td>0.741974</td>\n",
       "      <td>2.320405</td>\n",
       "      <td>18.648435</td>\n",
       "      <td>136</td>\n",
       "    </tr>\n",
       "    <tr>\n",
       "      <th>18</th>\n",
       "      <td>2.19858</td>\n",
       "      <td>0.993639</td>\n",
       "      <td>2.412690</td>\n",
       "      <td>24.320390</td>\n",
       "      <td>142</td>\n",
       "    </tr>\n",
       "    <tr>\n",
       "      <th>19</th>\n",
       "      <td>2.19858</td>\n",
       "      <td>1.035583</td>\n",
       "      <td>2.430265</td>\n",
       "      <td>25.221546</td>\n",
       "      <td>143</td>\n",
       "    </tr>\n",
       "    <tr>\n",
       "      <th>20</th>\n",
       "      <td>2.19858</td>\n",
       "      <td>1.077527</td>\n",
       "      <td>2.448432</td>\n",
       "      <td>26.109546</td>\n",
       "      <td>144</td>\n",
       "    </tr>\n",
       "    <tr>\n",
       "      <th>21</th>\n",
       "      <td>2.19858</td>\n",
       "      <td>1.119472</td>\n",
       "      <td>2.467179</td>\n",
       "      <td>26.984259</td>\n",
       "      <td>145</td>\n",
       "    </tr>\n",
       "    <tr>\n",
       "      <th>22</th>\n",
       "      <td>2.19858</td>\n",
       "      <td>1.161416</td>\n",
       "      <td>2.486491</td>\n",
       "      <td>27.845582</td>\n",
       "      <td>146</td>\n",
       "    </tr>\n",
       "    <tr>\n",
       "      <th>23</th>\n",
       "      <td>2.19858</td>\n",
       "      <td>1.203360</td>\n",
       "      <td>2.506358</td>\n",
       "      <td>28.693439</td>\n",
       "      <td>147</td>\n",
       "    </tr>\n",
       "    <tr>\n",
       "      <th>24</th>\n",
       "      <td>2.19858</td>\n",
       "      <td>1.496970</td>\n",
       "      <td>2.659825</td>\n",
       "      <td>34.250179</td>\n",
       "      <td>154</td>\n",
       "    </tr>\n",
       "    <tr>\n",
       "      <th>25</th>\n",
       "      <td>2.19858</td>\n",
       "      <td>1.790579</td>\n",
       "      <td>2.835477</td>\n",
       "      <td>39.160248</td>\n",
       "      <td>161</td>\n",
       "    </tr>\n",
       "    <tr>\n",
       "      <th>26</th>\n",
       "      <td>2.19858</td>\n",
       "      <td>1.832524</td>\n",
       "      <td>2.862149</td>\n",
       "      <td>39.811319</td>\n",
       "      <td>162</td>\n",
       "    </tr>\n",
       "    <tr>\n",
       "      <th>27</th>\n",
       "      <td>2.19858</td>\n",
       "      <td>1.874468</td>\n",
       "      <td>2.889184</td>\n",
       "      <td>40.450287</td>\n",
       "      <td>163</td>\n",
       "    </tr>\n",
       "    <tr>\n",
       "      <th>28</th>\n",
       "      <td>2.19858</td>\n",
       "      <td>1.916412</td>\n",
       "      <td>2.916571</td>\n",
       "      <td>41.077331</td>\n",
       "      <td>164</td>\n",
       "    </tr>\n",
       "    <tr>\n",
       "      <th>29</th>\n",
       "      <td>2.19858</td>\n",
       "      <td>1.958356</td>\n",
       "      <td>2.944302</td>\n",
       "      <td>41.692636</td>\n",
       "      <td>165</td>\n",
       "    </tr>\n",
       "    <tr>\n",
       "      <th>30</th>\n",
       "      <td>2.19858</td>\n",
       "      <td>2.000301</td>\n",
       "      <td>2.972365</td>\n",
       "      <td>42.296391</td>\n",
       "      <td>166</td>\n",
       "    </tr>\n",
       "    <tr>\n",
       "      <th>31</th>\n",
       "      <td>2.19858</td>\n",
       "      <td>2.042245</td>\n",
       "      <td>3.000753</td>\n",
       "      <td>42.888787</td>\n",
       "      <td>167</td>\n",
       "    </tr>\n",
       "    <tr>\n",
       "      <th>32</th>\n",
       "      <td>2.19858</td>\n",
       "      <td>2.084189</td>\n",
       "      <td>3.029455</td>\n",
       "      <td>43.470020</td>\n",
       "      <td>168</td>\n",
       "    </tr>\n",
       "    <tr>\n",
       "      <th>33</th>\n",
       "      <td>2.19858</td>\n",
       "      <td>2.126133</td>\n",
       "      <td>3.058463</td>\n",
       "      <td>44.040285</td>\n",
       "      <td>169</td>\n",
       "    </tr>\n",
       "    <tr>\n",
       "      <th>34</th>\n",
       "      <td>2.19858</td>\n",
       "      <td>2.168077</td>\n",
       "      <td>3.087768</td>\n",
       "      <td>44.599780</td>\n",
       "      <td>170</td>\n",
       "    </tr>\n",
       "    <tr>\n",
       "      <th>35</th>\n",
       "      <td>2.19858</td>\n",
       "      <td>2.210022</td>\n",
       "      <td>3.117363</td>\n",
       "      <td>45.148703</td>\n",
       "      <td>171</td>\n",
       "    </tr>\n",
       "    <tr>\n",
       "      <th>36</th>\n",
       "      <td>2.19858</td>\n",
       "      <td>2.251966</td>\n",
       "      <td>3.147237</td>\n",
       "      <td>45.687254</td>\n",
       "      <td>172</td>\n",
       "    </tr>\n",
       "    <tr>\n",
       "      <th>37</th>\n",
       "      <td>2.19858</td>\n",
       "      <td>2.293910</td>\n",
       "      <td>3.177385</td>\n",
       "      <td>46.215631</td>\n",
       "      <td>173</td>\n",
       "    </tr>\n",
       "    <tr>\n",
       "      <th>38</th>\n",
       "      <td>2.19858</td>\n",
       "      <td>2.335854</td>\n",
       "      <td>3.207798</td>\n",
       "      <td>46.734032</td>\n",
       "      <td>174</td>\n",
       "    </tr>\n",
       "    <tr>\n",
       "      <th>39</th>\n",
       "      <td>2.19858</td>\n",
       "      <td>2.377799</td>\n",
       "      <td>3.238469</td>\n",
       "      <td>47.242655</td>\n",
       "      <td>175</td>\n",
       "    </tr>\n",
       "    <tr>\n",
       "      <th>40</th>\n",
       "      <td>2.19858</td>\n",
       "      <td>2.419743</td>\n",
       "      <td>3.269390</td>\n",
       "      <td>47.741696</td>\n",
       "      <td>176</td>\n",
       "    </tr>\n",
       "    <tr>\n",
       "      <th>41</th>\n",
       "      <td>2.19858</td>\n",
       "      <td>2.461687</td>\n",
       "      <td>3.300554</td>\n",
       "      <td>48.231350</td>\n",
       "      <td>177</td>\n",
       "    </tr>\n",
       "    <tr>\n",
       "      <th>42</th>\n",
       "      <td>2.19858</td>\n",
       "      <td>2.503631</td>\n",
       "      <td>3.331955</td>\n",
       "      <td>48.711809</td>\n",
       "      <td>178</td>\n",
       "    </tr>\n",
       "    <tr>\n",
       "      <th>43</th>\n",
       "      <td>2.19858</td>\n",
       "      <td>2.545576</td>\n",
       "      <td>3.363586</td>\n",
       "      <td>49.183264</td>\n",
       "      <td>179</td>\n",
       "    </tr>\n",
       "    <tr>\n",
       "      <th>44</th>\n",
       "      <td>2.19858</td>\n",
       "      <td>2.671408</td>\n",
       "      <td>3.459794</td>\n",
       "      <td>50.545482</td>\n",
       "      <td>182</td>\n",
       "    </tr>\n",
       "    <tr>\n",
       "      <th>45</th>\n",
       "      <td>2.19858</td>\n",
       "      <td>2.713353</td>\n",
       "      <td>3.492282</td>\n",
       "      <td>50.982784</td>\n",
       "      <td>183</td>\n",
       "    </tr>\n",
       "  </tbody>\n",
       "</table>\n",
       "</div>"
      ],
      "text/plain": [
       "    vx_using_curve  vy_using_curve  v_using_curve  angle_using_curve  time\n",
       "0          2.19858       -0.180800       2.206001          -4.701126   114\n",
       "1          2.19858       -0.138855       2.202960          -3.613822   115\n",
       "2          2.19858       -0.096911       2.200715          -2.523906   116\n",
       "3          2.19858       -0.054967       2.199267          -1.432160   117\n",
       "4          2.19858       -0.013023       2.198618          -0.339373   118\n",
       "5          2.19858        0.028922       2.198770           0.753662   119\n",
       "6          2.19858        0.070866       2.199722           1.846148   120\n",
       "7          2.19858        0.112810       2.201472           2.937293   121\n",
       "8          2.19858        0.154754       2.204020           4.026310   122\n",
       "9          2.19858        0.196698       2.207361           5.112421   123\n",
       "10         2.19858        0.238643       2.211493           6.194862   124\n",
       "11         2.19858        0.280587       2.216412           7.272881   125\n",
       "12         2.19858        0.322531       2.222111           8.345749   126\n",
       "13         2.19858        0.364475       2.228586           9.412755   127\n",
       "14         2.19858        0.406420       2.235829          10.473214   128\n",
       "15         2.19858        0.448364       2.243832          11.526467   129\n",
       "16         2.19858        0.700029       2.307335          17.661510   135\n",
       "17         2.19858        0.741974       2.320405          18.648435   136\n",
       "18         2.19858        0.993639       2.412690          24.320390   142\n",
       "19         2.19858        1.035583       2.430265          25.221546   143\n",
       "20         2.19858        1.077527       2.448432          26.109546   144\n",
       "21         2.19858        1.119472       2.467179          26.984259   145\n",
       "22         2.19858        1.161416       2.486491          27.845582   146\n",
       "23         2.19858        1.203360       2.506358          28.693439   147\n",
       "24         2.19858        1.496970       2.659825          34.250179   154\n",
       "25         2.19858        1.790579       2.835477          39.160248   161\n",
       "26         2.19858        1.832524       2.862149          39.811319   162\n",
       "27         2.19858        1.874468       2.889184          40.450287   163\n",
       "28         2.19858        1.916412       2.916571          41.077331   164\n",
       "29         2.19858        1.958356       2.944302          41.692636   165\n",
       "30         2.19858        2.000301       2.972365          42.296391   166\n",
       "31         2.19858        2.042245       3.000753          42.888787   167\n",
       "32         2.19858        2.084189       3.029455          43.470020   168\n",
       "33         2.19858        2.126133       3.058463          44.040285   169\n",
       "34         2.19858        2.168077       3.087768          44.599780   170\n",
       "35         2.19858        2.210022       3.117363          45.148703   171\n",
       "36         2.19858        2.251966       3.147237          45.687254   172\n",
       "37         2.19858        2.293910       3.177385          46.215631   173\n",
       "38         2.19858        2.335854       3.207798          46.734032   174\n",
       "39         2.19858        2.377799       3.238469          47.242655   175\n",
       "40         2.19858        2.419743       3.269390          47.741696   176\n",
       "41         2.19858        2.461687       3.300554          48.231350   177\n",
       "42         2.19858        2.503631       3.331955          48.711809   178\n",
       "43         2.19858        2.545576       3.363586          49.183264   179\n",
       "44         2.19858        2.671408       3.459794          50.545482   182\n",
       "45         2.19858        2.713353       3.492282          50.982784   183"
      ]
     },
     "execution_count": 27,
     "metadata": {},
     "output_type": "execute_result"
    }
   ],
   "source": [
    "new_info_df"
   ]
  },
  {
   "cell_type": "code",
   "execution_count": 28,
   "metadata": {},
   "outputs": [
    {
     "data": {
      "text/html": [
       "<div>\n",
       "<style scoped>\n",
       "    .dataframe tbody tr th:only-of-type {\n",
       "        vertical-align: middle;\n",
       "    }\n",
       "\n",
       "    .dataframe tbody tr th {\n",
       "        vertical-align: top;\n",
       "    }\n",
       "\n",
       "    .dataframe thead th {\n",
       "        text-align: right;\n",
       "    }\n",
       "</style>\n",
       "<table border=\"1\" class=\"dataframe\">\n",
       "  <thead>\n",
       "    <tr style=\"text-align: right;\">\n",
       "      <th></th>\n",
       "      <th>144</th>\n",
       "      <th>145</th>\n",
       "      <th>146</th>\n",
       "      <th>147</th>\n",
       "      <th>148</th>\n",
       "    </tr>\n",
       "  </thead>\n",
       "  <tbody>\n",
       "    <tr>\n",
       "      <th>id</th>\n",
       "      <td>../../data/extracted_images/h2/177.jpg</td>\n",
       "      <td>../../data/extracted_images/h2/178.jpg</td>\n",
       "      <td>../../data/extracted_images/h2/179.jpg</td>\n",
       "      <td>../../data/extracted_images/h2/182.jpg</td>\n",
       "      <td>../../data/extracted_images/h2/183.jpg</td>\n",
       "    </tr>\n",
       "    <tr>\n",
       "      <th>x</th>\n",
       "      <td>1025.0</td>\n",
       "      <td>1024.0</td>\n",
       "      <td>1026.0</td>\n",
       "      <td>1033.0</td>\n",
       "      <td>1045.0</td>\n",
       "    </tr>\n",
       "    <tr>\n",
       "      <th>y</th>\n",
       "      <td>685.0</td>\n",
       "      <td>683.0</td>\n",
       "      <td>682.0</td>\n",
       "      <td>701.0</td>\n",
       "      <td>731.0</td>\n",
       "    </tr>\n",
       "    <tr>\n",
       "      <th>r1</th>\n",
       "      <td>3.0</td>\n",
       "      <td>4.0</td>\n",
       "      <td>13.0</td>\n",
       "      <td>8.0</td>\n",
       "      <td>7.0</td>\n",
       "    </tr>\n",
       "    <tr>\n",
       "      <th>r2</th>\n",
       "      <td>10.0</td>\n",
       "      <td>13.0</td>\n",
       "      <td>4.0</td>\n",
       "      <td>4.0</td>\n",
       "      <td>36.0</td>\n",
       "    </tr>\n",
       "    <tr>\n",
       "      <th>theta</th>\n",
       "      <td>-34.950426</td>\n",
       "      <td>-44.11775</td>\n",
       "      <td>46.409581</td>\n",
       "      <td>111.153812</td>\n",
       "      <td>-21.199438</td>\n",
       "    </tr>\n",
       "    <tr>\n",
       "      <th>vx</th>\n",
       "      <td>1.285714</td>\n",
       "      <td>1.142857</td>\n",
       "      <td>0.857143</td>\n",
       "      <td>1.428571</td>\n",
       "      <td>3.0</td>\n",
       "    </tr>\n",
       "    <tr>\n",
       "      <th>vy</th>\n",
       "      <td>0.571429</td>\n",
       "      <td>0.428571</td>\n",
       "      <td>-0.142857</td>\n",
       "      <td>2.142857</td>\n",
       "      <td>6.714286</td>\n",
       "    </tr>\n",
       "    <tr>\n",
       "      <th>v</th>\n",
       "      <td>1.40698</td>\n",
       "      <td>1.220572</td>\n",
       "      <td>0.868966</td>\n",
       "      <td>2.575394</td>\n",
       "      <td>7.354022</td>\n",
       "    </tr>\n",
       "    <tr>\n",
       "      <th>angle</th>\n",
       "      <td>-23.962489</td>\n",
       "      <td>-20.556045</td>\n",
       "      <td>9.462322</td>\n",
       "      <td>-56.309932</td>\n",
       "      <td>-65.924502</td>\n",
       "    </tr>\n",
       "    <tr>\n",
       "      <th>Region</th>\n",
       "      <td>III</td>\n",
       "      <td>III</td>\n",
       "      <td>III</td>\n",
       "      <td>III</td>\n",
       "      <td>III</td>\n",
       "    </tr>\n",
       "    <tr>\n",
       "      <th>time</th>\n",
       "      <td>177</td>\n",
       "      <td>178</td>\n",
       "      <td>179</td>\n",
       "      <td>182</td>\n",
       "      <td>183</td>\n",
       "    </tr>\n",
       "    <tr>\n",
       "      <th>vx_using_curve</th>\n",
       "      <td>2.19858</td>\n",
       "      <td>2.19858</td>\n",
       "      <td>2.19858</td>\n",
       "      <td>2.19858</td>\n",
       "      <td>2.19858</td>\n",
       "    </tr>\n",
       "    <tr>\n",
       "      <th>vy_using_curve</th>\n",
       "      <td>2.461687</td>\n",
       "      <td>2.503631</td>\n",
       "      <td>2.545576</td>\n",
       "      <td>2.671408</td>\n",
       "      <td>2.713353</td>\n",
       "    </tr>\n",
       "    <tr>\n",
       "      <th>v_using_curve</th>\n",
       "      <td>3.300554</td>\n",
       "      <td>3.331955</td>\n",
       "      <td>3.363586</td>\n",
       "      <td>3.459794</td>\n",
       "      <td>3.492282</td>\n",
       "    </tr>\n",
       "    <tr>\n",
       "      <th>angle_using_curve</th>\n",
       "      <td>48.23135</td>\n",
       "      <td>48.711809</td>\n",
       "      <td>49.183264</td>\n",
       "      <td>50.545482</td>\n",
       "      <td>50.982784</td>\n",
       "    </tr>\n",
       "  </tbody>\n",
       "</table>\n",
       "</div>"
      ],
      "text/plain": [
       "                                                      144  \\\n",
       "id                 ../../data/extracted_images/h2/177.jpg   \n",
       "x                                                  1025.0   \n",
       "y                                                   685.0   \n",
       "r1                                                    3.0   \n",
       "r2                                                   10.0   \n",
       "theta                                          -34.950426   \n",
       "vx                                               1.285714   \n",
       "vy                                               0.571429   \n",
       "v                                                 1.40698   \n",
       "angle                                          -23.962489   \n",
       "Region                                                III   \n",
       "time                                                  177   \n",
       "vx_using_curve                                    2.19858   \n",
       "vy_using_curve                                   2.461687   \n",
       "v_using_curve                                    3.300554   \n",
       "angle_using_curve                                48.23135   \n",
       "\n",
       "                                                      145  \\\n",
       "id                 ../../data/extracted_images/h2/178.jpg   \n",
       "x                                                  1024.0   \n",
       "y                                                   683.0   \n",
       "r1                                                    4.0   \n",
       "r2                                                   13.0   \n",
       "theta                                           -44.11775   \n",
       "vx                                               1.142857   \n",
       "vy                                               0.428571   \n",
       "v                                                1.220572   \n",
       "angle                                          -20.556045   \n",
       "Region                                                III   \n",
       "time                                                  178   \n",
       "vx_using_curve                                    2.19858   \n",
       "vy_using_curve                                   2.503631   \n",
       "v_using_curve                                    3.331955   \n",
       "angle_using_curve                               48.711809   \n",
       "\n",
       "                                                      146  \\\n",
       "id                 ../../data/extracted_images/h2/179.jpg   \n",
       "x                                                  1026.0   \n",
       "y                                                   682.0   \n",
       "r1                                                   13.0   \n",
       "r2                                                    4.0   \n",
       "theta                                           46.409581   \n",
       "vx                                               0.857143   \n",
       "vy                                              -0.142857   \n",
       "v                                                0.868966   \n",
       "angle                                            9.462322   \n",
       "Region                                                III   \n",
       "time                                                  179   \n",
       "vx_using_curve                                    2.19858   \n",
       "vy_using_curve                                   2.545576   \n",
       "v_using_curve                                    3.363586   \n",
       "angle_using_curve                               49.183264   \n",
       "\n",
       "                                                      147  \\\n",
       "id                 ../../data/extracted_images/h2/182.jpg   \n",
       "x                                                  1033.0   \n",
       "y                                                   701.0   \n",
       "r1                                                    8.0   \n",
       "r2                                                    4.0   \n",
       "theta                                          111.153812   \n",
       "vx                                               1.428571   \n",
       "vy                                               2.142857   \n",
       "v                                                2.575394   \n",
       "angle                                          -56.309932   \n",
       "Region                                                III   \n",
       "time                                                  182   \n",
       "vx_using_curve                                    2.19858   \n",
       "vy_using_curve                                   2.671408   \n",
       "v_using_curve                                    3.459794   \n",
       "angle_using_curve                               50.545482   \n",
       "\n",
       "                                                      148  \n",
       "id                 ../../data/extracted_images/h2/183.jpg  \n",
       "x                                                  1045.0  \n",
       "y                                                   731.0  \n",
       "r1                                                    7.0  \n",
       "r2                                                   36.0  \n",
       "theta                                          -21.199438  \n",
       "vx                                                    3.0  \n",
       "vy                                               6.714286  \n",
       "v                                                7.354022  \n",
       "angle                                          -65.924502  \n",
       "Region                                                III  \n",
       "time                                                  183  \n",
       "vx_using_curve                                    2.19858  \n",
       "vy_using_curve                                   2.713353  \n",
       "v_using_curve                                    3.492282  \n",
       "angle_using_curve                               50.982784  "
      ]
     },
     "execution_count": 28,
     "metadata": {},
     "output_type": "execute_result"
    }
   ],
   "source": [
    "df_final = pd.merge(df_c, new_info_df, on=\"time\", how=\"left\")\n",
    "df_final.tail().T"
   ]
  },
  {
   "cell_type": "markdown",
   "metadata": {},
   "source": [
    "## Adding the Additional Information"
   ]
  },
  {
   "cell_type": "code",
   "execution_count": 29,
   "metadata": {},
   "outputs": [
    {
     "data": {
      "text/plain": [
       "(2.198579797497357,\n",
       " -0.18079964746550803,\n",
       " 2.2060012779885625,\n",
       " -4.701125616663613)"
      ]
     },
     "execution_count": 29,
     "metadata": {},
     "output_type": "execute_result"
    }
   ],
   "source": [
    "x_speed = vx[0]\n",
    "y_speed = vy[0]\n",
    "speed = v[0]\n",
    "angle = angles[0]\n",
    "x_speed, y_speed, speed, angle"
   ]
  },
  {
   "cell_type": "code",
   "execution_count": 30,
   "metadata": {},
   "outputs": [
    {
     "name": "stdout",
     "output_type": "stream",
     "text": [
      "USING CURVE FIT AT LEAVE FRAME\n",
      "### ANGLE: -4.7\n",
      "### VELOCITY: 2.21\n",
      "### X VELOCITY: 2.2\n",
      "### Y VELOCITY: -0.18\n",
      "### g: 0.0419\n",
      "************************************************************\n",
      "\n"
     ]
    }
   ],
   "source": [
    "pattern = \"***\"\n",
    "information = f\"\"\"USING CURVE FIT AT LEAVE FRAME\n",
    "### ANGLE: {np.round(angle, 2)}\n",
    "### VELOCITY: {np.round(speed, 2)}\n",
    "### X VELOCITY: {np.round(x_speed, 2)}\n",
    "### Y VELOCITY: {np.round(y_speed, 2)}\n",
    "### g: {np.round(g, 4)}\n",
    "{pattern*20}\n",
    "\"\"\"\n",
    "print(information)"
   ]
  },
  {
   "cell_type": "markdown",
   "metadata": {},
   "source": [
    "First, create a new string containing just the previous text file. Else we'll duplicate the text file."
   ]
  },
  {
   "cell_type": "code",
   "execution_count": 31,
   "metadata": {},
   "outputs": [
    {
     "name": "stdout",
     "output_type": "stream",
     "text": [
      "### h2.tif\n",
      "### First Frame ID: 000\n",
      "### Last Frame ID: 290\n",
      "### Contact Frame ID: 094\n",
      "### Leave Frame ID: 113\n",
      "### Angle: 27\n",
      "\n",
      "**\n"
     ]
    }
   ],
   "source": [
    "with open(RESULT_DIR +\"/info.txt\", \"r+\") as f:\n",
    "    texts = f.readlines()\n",
    "if len(texts)>44:\n",
    "    text = \"\".join(texts[:-6])\n",
    "else:\n",
    "    text = \"\".join(texts)\n",
    "print(text[:125])\n",
    "all_text = text+information"
   ]
  },
  {
   "cell_type": "code",
   "execution_count": 32,
   "metadata": {},
   "outputs": [
    {
     "data": {
      "text/plain": [
       "43"
      ]
     },
     "execution_count": 32,
     "metadata": {},
     "output_type": "execute_result"
    }
   ],
   "source": [
    "len(texts)"
   ]
  },
  {
   "cell_type": "code",
   "execution_count": 33,
   "metadata": {},
   "outputs": [],
   "source": [
    "with open(RESULT_DIR +\"/info.txt\", \"w\") as f:\n",
    "    f.writelines(all_text)"
   ]
  },
  {
   "cell_type": "markdown",
   "metadata": {},
   "source": [
    "### Save the DataFrame"
   ]
  },
  {
   "cell_type": "code",
   "execution_count": 34,
   "metadata": {},
   "outputs": [],
   "source": [
    "df_final.to_csv(RESULT_DIR + f\"/{sequence}_final.csv\", index=False)"
   ]
  }
 ],
 "metadata": {
  "kernelspec": {
   "display_name": "Python 3.7.13 ('data-science')",
   "language": "python",
   "name": "python3"
  },
  "language_info": {
   "codemirror_mode": {
    "name": "ipython",
    "version": 3
   },
   "file_extension": ".py",
   "mimetype": "text/x-python",
   "name": "python",
   "nbconvert_exporter": "python",
   "pygments_lexer": "ipython3",
   "version": "3.7.13"
  },
  "orig_nbformat": 4,
  "vscode": {
   "interpreter": {
    "hash": "2efee1efa502125d01e6b4768ba06d9453d29f3642bfd14ad5d4a769de82e88c"
   }
  }
 },
 "nbformat": 4,
 "nbformat_minor": 2
}
