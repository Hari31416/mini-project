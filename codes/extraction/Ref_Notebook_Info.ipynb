{
 "cells": [
  {
   "cell_type": "markdown",
   "metadata": {},
   "source": [
    "# Imports"
   ]
  },
  {
   "cell_type": "code",
   "execution_count": 1,
   "metadata": {},
   "outputs": [],
   "source": [
    "import re\n",
    "import numpy as np\n",
    "import matplotlib.pyplot as plt\n",
    "import pandas as pd\n",
    "# from misc_tools import Plotter, Smoother\n",
    "import warnings\n",
    "warnings.filterwarnings(\"ignore\")\n",
    "plt.rcdefaults()"
   ]
  },
  {
   "cell_type": "markdown",
   "metadata": {},
   "source": [
    "# Defining the Directories"
   ]
  },
  {
   "cell_type": "code",
   "execution_count": 2,
   "metadata": {},
   "outputs": [],
   "source": [
    "sequence = \"h15_short\"\n",
    "DATA_DIR = '../../data/extracted_images/' + sequence\n",
    "RESULT_DIR = '../../data/results/' + sequence"
   ]
  },
  {
   "cell_type": "markdown",
   "metadata": {},
   "source": [
    "# Getting Informations and Reading the Files"
   ]
  },
  {
   "cell_type": "markdown",
   "metadata": {},
   "source": [
    "## Getting Frame Information"
   ]
  },
  {
   "cell_type": "code",
   "execution_count": 3,
   "metadata": {},
   "outputs": [],
   "source": [
    "info_dict = {\n",
    "    \"first_frame\": 1,\n",
    "    \"last_frame\": 2,\n",
    "    \"contact_frame\": 3,\n",
    "    \"leave_frame\": 4,\n",
    "    \"angle\": 5,\n",
    "    \"passthrough\": 6,\n",
    "}"
   ]
  },
  {
   "cell_type": "code",
   "execution_count": 4,
   "metadata": {},
   "outputs": [],
   "source": [
    "def get_info(file):\n",
    "    information = {}\n",
    "    with open(file, \"r\") as f:\n",
    "        texts = f.readlines()\n",
    "    for key, value in info_dict.items():\n",
    "        line = texts[value]\n",
    "        info = line.split(\":\")[1].strip()\n",
    "        information[key] = info\n",
    "    return information\n",
    "\n",
    "information = get_info(f\"{DATA_DIR}.txt\")"
   ]
  },
  {
   "cell_type": "code",
   "execution_count": 5,
   "metadata": {},
   "outputs": [],
   "source": [
    "first_frame = DATA_DIR + \"/\" +information[\"first_frame\"]\n",
    "last_frame = DATA_DIR + \"/\" +information[\"last_frame\"]\n",
    "contact_frame = DATA_DIR + \"/\" +information[\"contact_frame\"]\n",
    "angle = information[\"angle\"]\n",
    "leave_frame = DATA_DIR + \"/\" +information[\"leave_frame\"]\n",
    "passthrough = information[\"passthrough\"]"
   ]
  },
  {
   "cell_type": "code",
   "execution_count": 6,
   "metadata": {},
   "outputs": [
    {
     "data": {
      "text/plain": [
       "('../../data/extracted_images/h15_short/007',\n",
       " '../../data/extracted_images/h15_short/132')"
      ]
     },
     "execution_count": 6,
     "metadata": {},
     "output_type": "execute_result"
    }
   ],
   "source": [
    "first_frame, last_frame"
   ]
  },
  {
   "cell_type": "markdown",
   "metadata": {},
   "source": [
    "## Converting the Frame ID to Integer"
   ]
  },
  {
   "cell_type": "code",
   "execution_count": 7,
   "metadata": {},
   "outputs": [
    {
     "data": {
      "text/plain": [
       "(7, 77, 103)"
      ]
     },
     "execution_count": 7,
     "metadata": {},
     "output_type": "execute_result"
    }
   ],
   "source": [
    "reg = re.compile(r\"\\d{3}\")\n",
    "first_frame_num = int(reg.findall(first_frame)[0])\n",
    "contact_frame_num = int(reg.findall(contact_frame)[0])\n",
    "leave_frame_num = int(reg.findall(leave_frame)[0])\n",
    "first_frame_num, contact_frame_num, leave_frame_num"
   ]
  },
  {
   "cell_type": "markdown",
   "metadata": {},
   "source": [
    "## Reading the DF"
   ]
  },
  {
   "cell_type": "code",
   "execution_count": 8,
   "metadata": {},
   "outputs": [],
   "source": [
    "df_name = sequence+\"_raw.csv\"\n",
    "df = pd.read_csv(RESULT_DIR + '/'+df_name)\n",
    "df_c = df[df[\"x\"].notna()]"
   ]
  },
  {
   "cell_type": "markdown",
   "metadata": {},
   "source": [
    "# Fitting Curves"
   ]
  },
  {
   "cell_type": "markdown",
   "metadata": {},
   "source": [
    "## The Curves to be Fitted"
   ]
  },
  {
   "cell_type": "markdown",
   "metadata": {},
   "source": [
    "We'll assume that downward is the positive direction. In this way, the gravitational acceleration is positive. In x direction, no force is acting and hence the equation of motion is simply:\n",
    "$$\n",
    "x(t) = x_0 + v_{x0}t\n",
    "$$\n",
    "Here $x_0$ is the initial x position, $v_{x0}$ is the initial y velocity."
   ]
  },
  {
   "cell_type": "markdown",
   "metadata": {},
   "source": [
    "Now, in y direction, the equation of motion is:\n",
    "$$\n",
    "y(t) = y_0 + v_{y0}t + \\frac{1}{2}gt^2\n",
    "$$\n",
    "Here, $y_0$ is the initial y position, $v_{y0}$ is the initial y velocity, and $g$ is the acceleration due to gravity."
   ]
  },
  {
   "cell_type": "markdown",
   "metadata": {},
   "source": [
    "We'll optimize these two equations to get the initial velocity and the initial position for x and y direction."
   ]
  },
  {
   "cell_type": "markdown",
   "metadata": {},
   "source": [
    "We can also phrase the same problem by eliminating $t$ from the equation of motions. This way, we'll get $y$ as a function of $x$. Eliminating $t$ from the equation of motion, we get:\n",
    "$$\n",
    "y = y_0 + \\frac{v_y}{v_x}(x - x_0) + \\frac{1}{2}g\\frac{(x - x_0)^2}{v_x^2}\n",
    "$$\n"
   ]
  },
  {
   "cell_type": "markdown",
   "metadata": {},
   "source": [
    "Here, we have rewritten $v_{x0}$ as $v_x$ and $v_{y0}$ as $v_y$. \n",
    "<!-- Defining $\\frac{v_y}{v_x}$ as $m$, which is nothing but $\\tan(\\theta)$ where $\\theta$ is the angle between the y and x velocity, we get:\n",
    "$$\n",
    "y = y_0 + m(x - x_0) + \\frac{1}{2}g\\frac{(x - x_0)^2}{v_x^2}\n",
    "$$ -->"
   ]
  },
  {
   "cell_type": "markdown",
   "metadata": {},
   "source": [
    "This is a parabola with the parameters $y_0$, $m$, $g$ and $v_x$ and $v_y$. We can use `scipy` to get these parameters."
   ]
  },
  {
   "cell_type": "code",
   "execution_count": 9,
   "metadata": {},
   "outputs": [],
   "source": [
    "def the_parabola(x, x0, y0, vy, vx, g):\n",
    "    second_term = (vy/vx)*(x-x0)\n",
    "    third_term = 0.5*g*((x-x0)/vx)**2\n",
    "    return y0 + second_term + third_term\n",
    "the_parabola_vector = np.vectorize(the_parabola)"
   ]
  },
  {
   "cell_type": "markdown",
   "metadata": {},
   "source": [
    "However, it turned out that using the parabola does not give a reasonable result. So, we'll be using the parametric equations."
   ]
  },
  {
   "cell_type": "code",
   "execution_count": 10,
   "metadata": {},
   "outputs": [],
   "source": [
    "def parametric_x(t, x0, vx0):\n",
    "    return x0 + vx0*t\n",
    "parametric_x_vector = np.vectorize(parametric_x)\n",
    "\n",
    "def parametric_y(t, y0, vy0, g):\n",
    "    return y0 + vy0*t+0.5*g*t**2\n",
    "parametric_y_vector = np.vectorize(parametric_y)"
   ]
  },
  {
   "cell_type": "markdown",
   "metadata": {},
   "source": [
    "## Region III"
   ]
  },
  {
   "cell_type": "markdown",
   "metadata": {},
   "source": [
    "### Data For Region III"
   ]
  },
  {
   "cell_type": "code",
   "execution_count": 11,
   "metadata": {},
   "outputs": [],
   "source": [
    "region_3 = df_c[df_c[\"Region\"] == \"III\"]"
   ]
  },
  {
   "cell_type": "code",
   "execution_count": 12,
   "metadata": {},
   "outputs": [],
   "source": [
    "X = region_3[\"x\"].values\n",
    "Y = region_3[\"y\"].values\n",
    "t = region_3[\"time\"].values\n",
    "offset = t[0]\n",
    "tbar = t-offset"
   ]
  },
  {
   "cell_type": "code",
   "execution_count": 13,
   "metadata": {},
   "outputs": [
    {
     "data": {
      "text/plain": [
       "array([ 0,  1,  2,  3,  4,  5,  6,  7,  8,  9, 10, 11, 12, 13, 14, 15, 16,\n",
       "       17, 18, 19, 20, 21, 22, 23, 24, 25, 26, 27, 28, 29, 30, 32])"
      ]
     },
     "execution_count": 13,
     "metadata": {},
     "output_type": "execute_result"
    }
   ],
   "source": [
    "tbar"
   ]
  },
  {
   "cell_type": "markdown",
   "metadata": {},
   "source": [
    "### Fitting the Curves"
   ]
  },
  {
   "cell_type": "code",
   "execution_count": 14,
   "metadata": {},
   "outputs": [],
   "source": [
    "from scipy.optimize import curve_fit\n",
    "popt, pcov = curve_fit(the_parabola, X, Y, maxfev=10000)\n",
    "popty, pcovy = curve_fit(parametric_y, tbar, Y)\n",
    "poptx, pcovx = curve_fit(parametric_x, tbar, X)"
   ]
  },
  {
   "cell_type": "code",
   "execution_count": 15,
   "metadata": {},
   "outputs": [
    {
     "data": {
      "text/plain": [
       "array([ 461.11159454,  280.8919519 , -161.29513391, -141.99984689,\n",
       "        -28.09059342])"
      ]
     },
     "execution_count": 15,
     "metadata": {},
     "output_type": "execute_result"
    }
   ],
   "source": [
    "popt"
   ]
  },
  {
   "cell_type": "markdown",
   "metadata": {},
   "source": [
    "As you can see, the parameters calculated by the fitting method is ridiculus, even though it fits the parabola well (See the figure below)."
   ]
  },
  {
   "cell_type": "code",
   "execution_count": 16,
   "metadata": {},
   "outputs": [
    {
     "data": {
      "text/plain": [
       "(array([895.44614407,   3.7398861 ]),\n",
       " array([6.47872519e+02, 1.09079632e+00, 3.43455714e-02]))"
      ]
     },
     "execution_count": 16,
     "metadata": {},
     "output_type": "execute_result"
    }
   ],
   "source": [
    "poptx, popty"
   ]
  },
  {
   "cell_type": "markdown",
   "metadata": {},
   "source": [
    "These values are reasonable."
   ]
  },
  {
   "cell_type": "markdown",
   "metadata": {},
   "source": [
    "### Analyzing the Results"
   ]
  },
  {
   "cell_type": "code",
   "execution_count": 17,
   "metadata": {},
   "outputs": [
    {
     "data": {
      "image/png": "[encoded data removed]",
      "text/plain": [
       "<Figure size 640x480 with 1 Axes>"
      ]
     },
     "metadata": {},
     "output_type": "display_data"
    }
   ],
   "source": [
    "plt.plot(X,Y, 'o', label=\"data\")\n",
    "plt.plot(X, the_parabola_vector(X, *popt),label=\"fit using parabola\")\n",
    "plt.legend();"
   ]
  },
  {
   "cell_type": "code",
   "execution_count": 18,
   "metadata": {},
   "outputs": [
    {
     "data": {
      "image/png": "[encoded data removed]",
      "text/plain": [
       "<Figure size 640x480 with 1 Axes>"
      ]
     },
     "metadata": {},
     "output_type": "display_data"
    }
   ],
   "source": [
    "plt.plot(X,Y, 'o', label=\"data\")\n",
    "plt.plot(parametric_x_vector(tbar, *poptx), parametric_y_vector(tbar, *popty), label=\"fit using parametric\")\n",
    "plt.legend();"
   ]
  },
  {
   "cell_type": "markdown",
   "metadata": {},
   "source": [
    "We can see that using the parametric equations, we can fit the curve accurately."
   ]
  },
  {
   "cell_type": "markdown",
   "metadata": {},
   "source": [
    "### Getting Speeds"
   ]
  },
  {
   "cell_type": "markdown",
   "metadata": {},
   "source": [
    "Next, we'll see how the calculated velocities are? The eqaution for the speeds are:\n",
    "$$\n",
    "v_x(t) = v_{x0}\\\\\n",
    "v_y(t) = v_{y0} + gt\n",
    "$$"
   ]
  },
  {
   "cell_type": "code",
   "execution_count": 19,
   "metadata": {},
   "outputs": [],
   "source": [
    "vy = popty[1]+popty[2]*(tbar)\n",
    "vx = np.ones(len(tbar))*poptx[1]\n",
    "v = np.sqrt(vy**2+vx**2)"
   ]
  },
  {
   "cell_type": "code",
   "execution_count": 20,
   "metadata": {},
   "outputs": [
    {
     "data": {
      "image/png": "[encoded data removed]",
      "text/plain": [
       "<Figure size 640x480 with 1 Axes>"
      ]
     },
     "metadata": {},
     "output_type": "display_data"
    }
   ],
   "source": [
    "plt.plot(region_3[\"vy\"].index-offset, region_3[\"vy\"].values, label=\"vy_data\")\n",
    "plt.plot(vy, label=\"vy_calculated\")\n",
    "plt.legend();"
   ]
  },
  {
   "cell_type": "code",
   "execution_count": 21,
   "metadata": {},
   "outputs": [
    {
     "data": {
      "image/png": "[encoded data removed]",
      "text/plain": [
       "<Figure size 640x480 with 1 Axes>"
      ]
     },
     "metadata": {},
     "output_type": "display_data"
    }
   ],
   "source": [
    "plt.plot(region_3[\"vx\"].index-offset, region_3[\"vx\"].values, label=\"vx_data\")\n",
    "plt.plot(vx, label=\"vx_calculated\")\n",
    "plt.legend();"
   ]
  },
  {
   "cell_type": "code",
   "execution_count": 22,
   "metadata": {},
   "outputs": [
    {
     "data": {
      "image/png": "[encoded data removed]",
      "text/plain": [
       "<Figure size 640x480 with 1 Axes>"
      ]
     },
     "metadata": {},
     "output_type": "display_data"
    }
   ],
   "source": [
    "plt.plot(region_3[\"v\"].index-offset, region_3[\"v\"].values, label=\"v_data\")\n",
    "plt.plot(v, label=\"v_calculated\")\n",
    "plt.legend();"
   ]
  },
  {
   "cell_type": "markdown",
   "metadata": {},
   "source": [
    "They are reasonable."
   ]
  },
  {
   "cell_type": "markdown",
   "metadata": {},
   "source": [
    "### Getting Angles"
   ]
  },
  {
   "cell_type": "markdown",
   "metadata": {},
   "source": [
    "Next, let's calculate the angle between the x and y velocity."
   ]
  },
  {
   "cell_type": "code",
   "execution_count": 23,
   "metadata": {},
   "outputs": [],
   "source": [
    "angles= np.arctan(vy/vx)*180/np.pi"
   ]
  },
  {
   "cell_type": "code",
   "execution_count": 24,
   "metadata": {},
   "outputs": [
    {
     "data": {
      "image/png": "[encoded data removed]",
      "text/plain": [
       "<Figure size 640x480 with 1 Axes>"
      ]
     },
     "metadata": {},
     "output_type": "display_data"
    }
   ],
   "source": [
    "plt.plot(-angles, label = \"calculated\")\n",
    "plt.plot(region_3[\"angle\"].values, label = \"data\")\n",
    "plt.legend();"
   ]
  },
  {
   "cell_type": "markdown",
   "metadata": {},
   "source": [
    "Again, reasonable."
   ]
  },
  {
   "cell_type": "markdown",
   "metadata": {},
   "source": [
    "## Getting the Additional Information"
   ]
  },
  {
   "cell_type": "code",
   "execution_count": 25,
   "metadata": {},
   "outputs": [],
   "source": [
    "new_info_df = pd.DataFrame({\"vx\": vx, \"vy\": vy, \"v\":v, \"angle\": angles, \"time\":t})\n",
    "new_info_df.columns = [\"vx_using_curve\", \"vy_using_curve\", \"v_using_curve\", \"angle_using_curve\", \"time\"]"
   ]
  },
  {
   "cell_type": "code",
   "execution_count": 26,
   "metadata": {},
   "outputs": [
    {
     "data": {
      "text/html": [
       "<div>\n",
       "<style scoped>\n",
       "    .dataframe tbody tr th:only-of-type {\n",
       "        vertical-align: middle;\n",
       "    }\n",
       "\n",
       "    .dataframe tbody tr th {\n",
       "        vertical-align: top;\n",
       "    }\n",
       "\n",
       "    .dataframe thead th {\n",
       "        text-align: right;\n",
       "    }\n",
       "</style>\n",
       "<table border=\"1\" class=\"dataframe\">\n",
       "  <thead>\n",
       "    <tr style=\"text-align: right;\">\n",
       "      <th></th>\n",
       "      <th>vx_using_curve</th>\n",
       "      <th>vy_using_curve</th>\n",
       "      <th>v_using_curve</th>\n",
       "      <th>angle_using_curve</th>\n",
       "      <th>time</th>\n",
       "    </tr>\n",
       "  </thead>\n",
       "  <tbody>\n",
       "    <tr>\n",
       "      <th>0</th>\n",
       "      <td>3.739886</td>\n",
       "      <td>1.090796</td>\n",
       "      <td>3.895714</td>\n",
       "      <td>16.260151</td>\n",
       "      <td>101</td>\n",
       "    </tr>\n",
       "    <tr>\n",
       "      <th>1</th>\n",
       "      <td>3.739886</td>\n",
       "      <td>1.125142</td>\n",
       "      <td>3.905470</td>\n",
       "      <td>16.743874</td>\n",
       "      <td>102</td>\n",
       "    </tr>\n",
       "    <tr>\n",
       "      <th>2</th>\n",
       "      <td>3.739886</td>\n",
       "      <td>1.159487</td>\n",
       "      <td>3.915502</td>\n",
       "      <td>17.225152</td>\n",
       "      <td>103</td>\n",
       "    </tr>\n",
       "    <tr>\n",
       "      <th>3</th>\n",
       "      <td>3.739886</td>\n",
       "      <td>1.193833</td>\n",
       "      <td>3.925810</td>\n",
       "      <td>17.703937</td>\n",
       "      <td>104</td>\n",
       "    </tr>\n",
       "    <tr>\n",
       "      <th>4</th>\n",
       "      <td>3.739886</td>\n",
       "      <td>1.228179</td>\n",
       "      <td>3.936391</td>\n",
       "      <td>18.180180</td>\n",
       "      <td>105</td>\n",
       "    </tr>\n",
       "    <tr>\n",
       "      <th>5</th>\n",
       "      <td>3.739886</td>\n",
       "      <td>1.262524</td>\n",
       "      <td>3.947241</td>\n",
       "      <td>18.653838</td>\n",
       "      <td>106</td>\n",
       "    </tr>\n",
       "    <tr>\n",
       "      <th>6</th>\n",
       "      <td>3.739886</td>\n",
       "      <td>1.296870</td>\n",
       "      <td>3.958361</td>\n",
       "      <td>19.124867</td>\n",
       "      <td>107</td>\n",
       "    </tr>\n",
       "    <tr>\n",
       "      <th>7</th>\n",
       "      <td>3.739886</td>\n",
       "      <td>1.331215</td>\n",
       "      <td>3.969746</td>\n",
       "      <td>19.593226</td>\n",
       "      <td>108</td>\n",
       "    </tr>\n",
       "    <tr>\n",
       "      <th>8</th>\n",
       "      <td>3.739886</td>\n",
       "      <td>1.365561</td>\n",
       "      <td>3.981395</td>\n",
       "      <td>20.058875</td>\n",
       "      <td>109</td>\n",
       "    </tr>\n",
       "    <tr>\n",
       "      <th>9</th>\n",
       "      <td>3.739886</td>\n",
       "      <td>1.399906</td>\n",
       "      <td>3.993305</td>\n",
       "      <td>20.521776</td>\n",
       "      <td>110</td>\n",
       "    </tr>\n",
       "    <tr>\n",
       "      <th>10</th>\n",
       "      <td>3.739886</td>\n",
       "      <td>1.434252</td>\n",
       "      <td>4.005475</td>\n",
       "      <td>20.981895</td>\n",
       "      <td>111</td>\n",
       "    </tr>\n",
       "    <tr>\n",
       "      <th>11</th>\n",
       "      <td>3.739886</td>\n",
       "      <td>1.468598</td>\n",
       "      <td>4.017901</td>\n",
       "      <td>21.439197</td>\n",
       "      <td>112</td>\n",
       "    </tr>\n",
       "    <tr>\n",
       "      <th>12</th>\n",
       "      <td>3.739886</td>\n",
       "      <td>1.502943</td>\n",
       "      <td>4.030581</td>\n",
       "      <td>21.893651</td>\n",
       "      <td>113</td>\n",
       "    </tr>\n",
       "    <tr>\n",
       "      <th>13</th>\n",
       "      <td>3.739886</td>\n",
       "      <td>1.537289</td>\n",
       "      <td>4.043514</td>\n",
       "      <td>22.345225</td>\n",
       "      <td>114</td>\n",
       "    </tr>\n",
       "    <tr>\n",
       "      <th>14</th>\n",
       "      <td>3.739886</td>\n",
       "      <td>1.571634</td>\n",
       "      <td>4.056696</td>\n",
       "      <td>22.793893</td>\n",
       "      <td>115</td>\n",
       "    </tr>\n",
       "    <tr>\n",
       "      <th>15</th>\n",
       "      <td>3.739886</td>\n",
       "      <td>1.605980</td>\n",
       "      <td>4.070125</td>\n",
       "      <td>23.239627</td>\n",
       "      <td>116</td>\n",
       "    </tr>\n",
       "    <tr>\n",
       "      <th>16</th>\n",
       "      <td>3.739886</td>\n",
       "      <td>1.640325</td>\n",
       "      <td>4.083799</td>\n",
       "      <td>23.682403</td>\n",
       "      <td>117</td>\n",
       "    </tr>\n",
       "    <tr>\n",
       "      <th>17</th>\n",
       "      <td>3.739886</td>\n",
       "      <td>1.674671</td>\n",
       "      <td>4.097715</td>\n",
       "      <td>24.122198</td>\n",
       "      <td>118</td>\n",
       "    </tr>\n",
       "    <tr>\n",
       "      <th>18</th>\n",
       "      <td>3.739886</td>\n",
       "      <td>1.709017</td>\n",
       "      <td>4.111871</td>\n",
       "      <td>24.558990</td>\n",
       "      <td>119</td>\n",
       "    </tr>\n",
       "    <tr>\n",
       "      <th>19</th>\n",
       "      <td>3.739886</td>\n",
       "      <td>1.743362</td>\n",
       "      <td>4.126265</td>\n",
       "      <td>24.992759</td>\n",
       "      <td>120</td>\n",
       "    </tr>\n",
       "    <tr>\n",
       "      <th>20</th>\n",
       "      <td>3.739886</td>\n",
       "      <td>1.777708</td>\n",
       "      <td>4.140893</td>\n",
       "      <td>25.423489</td>\n",
       "      <td>121</td>\n",
       "    </tr>\n",
       "    <tr>\n",
       "      <th>21</th>\n",
       "      <td>3.739886</td>\n",
       "      <td>1.812053</td>\n",
       "      <td>4.155753</td>\n",
       "      <td>25.851162</td>\n",
       "      <td>122</td>\n",
       "    </tr>\n",
       "    <tr>\n",
       "      <th>22</th>\n",
       "      <td>3.739886</td>\n",
       "      <td>1.846399</td>\n",
       "      <td>4.170844</td>\n",
       "      <td>26.275764</td>\n",
       "      <td>123</td>\n",
       "    </tr>\n",
       "    <tr>\n",
       "      <th>23</th>\n",
       "      <td>3.739886</td>\n",
       "      <td>1.880744</td>\n",
       "      <td>4.186161</td>\n",
       "      <td>26.697282</td>\n",
       "      <td>124</td>\n",
       "    </tr>\n",
       "    <tr>\n",
       "      <th>24</th>\n",
       "      <td>3.739886</td>\n",
       "      <td>1.915090</td>\n",
       "      <td>4.201704</td>\n",
       "      <td>27.115704</td>\n",
       "      <td>125</td>\n",
       "    </tr>\n",
       "    <tr>\n",
       "      <th>25</th>\n",
       "      <td>3.739886</td>\n",
       "      <td>1.949436</td>\n",
       "      <td>4.217469</td>\n",
       "      <td>27.531019</td>\n",
       "      <td>126</td>\n",
       "    </tr>\n",
       "    <tr>\n",
       "      <th>26</th>\n",
       "      <td>3.739886</td>\n",
       "      <td>1.983781</td>\n",
       "      <td>4.233454</td>\n",
       "      <td>27.943220</td>\n",
       "      <td>127</td>\n",
       "    </tr>\n",
       "    <tr>\n",
       "      <th>27</th>\n",
       "      <td>3.739886</td>\n",
       "      <td>2.018127</td>\n",
       "      <td>4.249657</td>\n",
       "      <td>28.352298</td>\n",
       "      <td>128</td>\n",
       "    </tr>\n",
       "    <tr>\n",
       "      <th>28</th>\n",
       "      <td>3.739886</td>\n",
       "      <td>2.052472</td>\n",
       "      <td>4.266074</td>\n",
       "      <td>28.758249</td>\n",
       "      <td>129</td>\n",
       "    </tr>\n",
       "    <tr>\n",
       "      <th>29</th>\n",
       "      <td>3.739886</td>\n",
       "      <td>2.086818</td>\n",
       "      <td>4.282704</td>\n",
       "      <td>29.161067</td>\n",
       "      <td>130</td>\n",
       "    </tr>\n",
       "    <tr>\n",
       "      <th>30</th>\n",
       "      <td>3.739886</td>\n",
       "      <td>2.121163</td>\n",
       "      <td>4.299544</td>\n",
       "      <td>29.560749</td>\n",
       "      <td>131</td>\n",
       "    </tr>\n",
       "    <tr>\n",
       "      <th>31</th>\n",
       "      <td>3.739886</td>\n",
       "      <td>2.189855</td>\n",
       "      <td>4.333845</td>\n",
       "      <td>30.350699</td>\n",
       "      <td>133</td>\n",
       "    </tr>\n",
       "  </tbody>\n",
       "</table>\n",
       "</div>"
      ],
      "text/plain": [
       "    vx_using_curve  vy_using_curve  v_using_curve  angle_using_curve  time\n",
       "0         3.739886        1.090796       3.895714          16.260151   101\n",
       "1         3.739886        1.125142       3.905470          16.743874   102\n",
       "2         3.739886        1.159487       3.915502          17.225152   103\n",
       "3         3.739886        1.193833       3.925810          17.703937   104\n",
       "4         3.739886        1.228179       3.936391          18.180180   105\n",
       "5         3.739886        1.262524       3.947241          18.653838   106\n",
       "6         3.739886        1.296870       3.958361          19.124867   107\n",
       "7         3.739886        1.331215       3.969746          19.593226   108\n",
       "8         3.739886        1.365561       3.981395          20.058875   109\n",
       "9         3.739886        1.399906       3.993305          20.521776   110\n",
       "10        3.739886        1.434252       4.005475          20.981895   111\n",
       "11        3.739886        1.468598       4.017901          21.439197   112\n",
       "12        3.739886        1.502943       4.030581          21.893651   113\n",
       "13        3.739886        1.537289       4.043514          22.345225   114\n",
       "14        3.739886        1.571634       4.056696          22.793893   115\n",
       "15        3.739886        1.605980       4.070125          23.239627   116\n",
       "16        3.739886        1.640325       4.083799          23.682403   117\n",
       "17        3.739886        1.674671       4.097715          24.122198   118\n",
       "18        3.739886        1.709017       4.111871          24.558990   119\n",
       "19        3.739886        1.743362       4.126265          24.992759   120\n",
       "20        3.739886        1.777708       4.140893          25.423489   121\n",
       "21        3.739886        1.812053       4.155753          25.851162   122\n",
       "22        3.739886        1.846399       4.170844          26.275764   123\n",
       "23        3.739886        1.880744       4.186161          26.697282   124\n",
       "24        3.739886        1.915090       4.201704          27.115704   125\n",
       "25        3.739886        1.949436       4.217469          27.531019   126\n",
       "26        3.739886        1.983781       4.233454          27.943220   127\n",
       "27        3.739886        2.018127       4.249657          28.352298   128\n",
       "28        3.739886        2.052472       4.266074          28.758249   129\n",
       "29        3.739886        2.086818       4.282704          29.161067   130\n",
       "30        3.739886        2.121163       4.299544          29.560749   131\n",
       "31        3.739886        2.189855       4.333845          30.350699   133"
      ]
     },
     "execution_count": 26,
     "metadata": {},
     "output_type": "execute_result"
    }
   ],
   "source": [
    "new_info_df"
   ]
  },
  {
   "cell_type": "code",
   "execution_count": 27,
   "metadata": {},
   "outputs": [
    {
     "data": {
      "text/html": [
       "<div>\n",
       "<style scoped>\n",
       "    .dataframe tbody tr th:only-of-type {\n",
       "        vertical-align: middle;\n",
       "    }\n",
       "\n",
       "    .dataframe tbody tr th {\n",
       "        vertical-align: top;\n",
       "    }\n",
       "\n",
       "    .dataframe thead th {\n",
       "        text-align: right;\n",
       "    }\n",
       "</style>\n",
       "<table border=\"1\" class=\"dataframe\">\n",
       "  <thead>\n",
       "    <tr style=\"text-align: right;\">\n",
       "      <th></th>\n",
       "      <th>106</th>\n",
       "      <th>107</th>\n",
       "      <th>108</th>\n",
       "      <th>109</th>\n",
       "      <th>110</th>\n",
       "    </tr>\n",
       "  </thead>\n",
       "  <tbody>\n",
       "    <tr>\n",
       "      <th>id</th>\n",
       "      <td>../../data/extracted_images/h15_short/128.jpg</td>\n",
       "      <td>../../data/extracted_images/h15_short/129.jpg</td>\n",
       "      <td>../../data/extracted_images/h15_short/130.jpg</td>\n",
       "      <td>../../data/extracted_images/h15_short/131.jpg</td>\n",
       "      <td>../../data/extracted_images/h15_short/133.jpg</td>\n",
       "    </tr>\n",
       "    <tr>\n",
       "      <th>x</th>\n",
       "      <td>994.0</td>\n",
       "      <td>998.0</td>\n",
       "      <td>1001.0</td>\n",
       "      <td>1006.0</td>\n",
       "      <td>1013.0</td>\n",
       "    </tr>\n",
       "    <tr>\n",
       "      <th>y</th>\n",
       "      <td>690.0</td>\n",
       "      <td>692.0</td>\n",
       "      <td>693.0</td>\n",
       "      <td>699.0</td>\n",
       "      <td>698.0</td>\n",
       "    </tr>\n",
       "    <tr>\n",
       "      <th>r1</th>\n",
       "      <td>11.0</td>\n",
       "      <td>8.0</td>\n",
       "      <td>10.0</td>\n",
       "      <td>12.0</td>\n",
       "      <td>3.0</td>\n",
       "    </tr>\n",
       "    <tr>\n",
       "      <th>r2</th>\n",
       "      <td>8.0</td>\n",
       "      <td>10.0</td>\n",
       "      <td>7.0</td>\n",
       "      <td>9.0</td>\n",
       "      <td>1.0</td>\n",
       "    </tr>\n",
       "    <tr>\n",
       "      <th>theta</th>\n",
       "      <td>18.907607</td>\n",
       "      <td>85.943669</td>\n",
       "      <td>128.342546</td>\n",
       "      <td>89.954374</td>\n",
       "      <td>4.583662</td>\n",
       "    </tr>\n",
       "    <tr>\n",
       "      <th>vx</th>\n",
       "      <td>3.142857</td>\n",
       "      <td>3.285714</td>\n",
       "      <td>3.285714</td>\n",
       "      <td>3.714286</td>\n",
       "      <td>3.428571</td>\n",
       "    </tr>\n",
       "    <tr>\n",
       "      <th>vy</th>\n",
       "      <td>1.714286</td>\n",
       "      <td>1.857143</td>\n",
       "      <td>2.0</td>\n",
       "      <td>2.857143</td>\n",
       "      <td>1.571429</td>\n",
       "    </tr>\n",
       "    <tr>\n",
       "      <th>v</th>\n",
       "      <td>3.57999</td>\n",
       "      <td>3.774241</td>\n",
       "      <td>3.846546</td>\n",
       "      <td>4.686063</td>\n",
       "      <td>3.771537</td>\n",
       "    </tr>\n",
       "    <tr>\n",
       "      <th>angle</th>\n",
       "      <td>-28.61046</td>\n",
       "      <td>-29.475889</td>\n",
       "      <td>-31.328693</td>\n",
       "      <td>-37.568592</td>\n",
       "      <td>-24.623565</td>\n",
       "    </tr>\n",
       "    <tr>\n",
       "      <th>Region</th>\n",
       "      <td>III</td>\n",
       "      <td>III</td>\n",
       "      <td>III</td>\n",
       "      <td>III</td>\n",
       "      <td>III</td>\n",
       "    </tr>\n",
       "    <tr>\n",
       "      <th>time</th>\n",
       "      <td>128</td>\n",
       "      <td>129</td>\n",
       "      <td>130</td>\n",
       "      <td>131</td>\n",
       "      <td>133</td>\n",
       "    </tr>\n",
       "    <tr>\n",
       "      <th>vx_using_curve</th>\n",
       "      <td>3.739886</td>\n",
       "      <td>3.739886</td>\n",
       "      <td>3.739886</td>\n",
       "      <td>3.739886</td>\n",
       "      <td>3.739886</td>\n",
       "    </tr>\n",
       "    <tr>\n",
       "      <th>vy_using_curve</th>\n",
       "      <td>2.018127</td>\n",
       "      <td>2.052472</td>\n",
       "      <td>2.086818</td>\n",
       "      <td>2.121163</td>\n",
       "      <td>2.189855</td>\n",
       "    </tr>\n",
       "    <tr>\n",
       "      <th>v_using_curve</th>\n",
       "      <td>4.249657</td>\n",
       "      <td>4.266074</td>\n",
       "      <td>4.282704</td>\n",
       "      <td>4.299544</td>\n",
       "      <td>4.333845</td>\n",
       "    </tr>\n",
       "    <tr>\n",
       "      <th>angle_using_curve</th>\n",
       "      <td>28.352298</td>\n",
       "      <td>28.758249</td>\n",
       "      <td>29.161067</td>\n",
       "      <td>29.560749</td>\n",
       "      <td>30.350699</td>\n",
       "    </tr>\n",
       "  </tbody>\n",
       "</table>\n",
       "</div>"
      ],
      "text/plain": [
       "                                                             106  \\\n",
       "id                 ../../data/extracted_images/h15_short/128.jpg   \n",
       "x                                                          994.0   \n",
       "y                                                          690.0   \n",
       "r1                                                          11.0   \n",
       "r2                                                           8.0   \n",
       "theta                                                  18.907607   \n",
       "vx                                                      3.142857   \n",
       "vy                                                      1.714286   \n",
       "v                                                        3.57999   \n",
       "angle                                                  -28.61046   \n",
       "Region                                                       III   \n",
       "time                                                         128   \n",
       "vx_using_curve                                          3.739886   \n",
       "vy_using_curve                                          2.018127   \n",
       "v_using_curve                                           4.249657   \n",
       "angle_using_curve                                      28.352298   \n",
       "\n",
       "                                                             107  \\\n",
       "id                 ../../data/extracted_images/h15_short/129.jpg   \n",
       "x                                                          998.0   \n",
       "y                                                          692.0   \n",
       "r1                                                           8.0   \n",
       "r2                                                          10.0   \n",
       "theta                                                  85.943669   \n",
       "vx                                                      3.285714   \n",
       "vy                                                      1.857143   \n",
       "v                                                       3.774241   \n",
       "angle                                                 -29.475889   \n",
       "Region                                                       III   \n",
       "time                                                         129   \n",
       "vx_using_curve                                          3.739886   \n",
       "vy_using_curve                                          2.052472   \n",
       "v_using_curve                                           4.266074   \n",
       "angle_using_curve                                      28.758249   \n",
       "\n",
       "                                                             108  \\\n",
       "id                 ../../data/extracted_images/h15_short/130.jpg   \n",
       "x                                                         1001.0   \n",
       "y                                                          693.0   \n",
       "r1                                                          10.0   \n",
       "r2                                                           7.0   \n",
       "theta                                                 128.342546   \n",
       "vx                                                      3.285714   \n",
       "vy                                                           2.0   \n",
       "v                                                       3.846546   \n",
       "angle                                                 -31.328693   \n",
       "Region                                                       III   \n",
       "time                                                         130   \n",
       "vx_using_curve                                          3.739886   \n",
       "vy_using_curve                                          2.086818   \n",
       "v_using_curve                                           4.282704   \n",
       "angle_using_curve                                      29.161067   \n",
       "\n",
       "                                                             109  \\\n",
       "id                 ../../data/extracted_images/h15_short/131.jpg   \n",
       "x                                                         1006.0   \n",
       "y                                                          699.0   \n",
       "r1                                                          12.0   \n",
       "r2                                                           9.0   \n",
       "theta                                                  89.954374   \n",
       "vx                                                      3.714286   \n",
       "vy                                                      2.857143   \n",
       "v                                                       4.686063   \n",
       "angle                                                 -37.568592   \n",
       "Region                                                       III   \n",
       "time                                                         131   \n",
       "vx_using_curve                                          3.739886   \n",
       "vy_using_curve                                          2.121163   \n",
       "v_using_curve                                           4.299544   \n",
       "angle_using_curve                                      29.560749   \n",
       "\n",
       "                                                             110  \n",
       "id                 ../../data/extracted_images/h15_short/133.jpg  \n",
       "x                                                         1013.0  \n",
       "y                                                          698.0  \n",
       "r1                                                           3.0  \n",
       "r2                                                           1.0  \n",
       "theta                                                   4.583662  \n",
       "vx                                                      3.428571  \n",
       "vy                                                      1.571429  \n",
       "v                                                       3.771537  \n",
       "angle                                                 -24.623565  \n",
       "Region                                                       III  \n",
       "time                                                         133  \n",
       "vx_using_curve                                          3.739886  \n",
       "vy_using_curve                                          2.189855  \n",
       "v_using_curve                                           4.333845  \n",
       "angle_using_curve                                      30.350699  "
      ]
     },
     "execution_count": 27,
     "metadata": {},
     "output_type": "execute_result"
    }
   ],
   "source": [
    "df_final = pd.merge(df_c, new_info_df, on=\"time\", how=\"left\")\n",
    "df_final.tail().T"
   ]
  },
  {
   "cell_type": "markdown",
   "metadata": {},
   "source": [
    "## Adding the Additional Information"
   ]
  },
  {
   "cell_type": "code",
   "execution_count": 28,
   "metadata": {},
   "outputs": [
    {
     "data": {
      "text/plain": [
       "(3.739886096024518, 1.0907963186346656, 3.895713621402945, 16.260151158740513)"
      ]
     },
     "execution_count": 28,
     "metadata": {},
     "output_type": "execute_result"
    }
   ],
   "source": [
    "x_speed = vx[0]\n",
    "y_speed = vy[0]\n",
    "speed = v[0]\n",
    "angle = angles[0]\n",
    "x_speed, y_speed, speed, angle"
   ]
  },
  {
   "cell_type": "code",
   "execution_count": 29,
   "metadata": {},
   "outputs": [
    {
     "name": "stdout",
     "output_type": "stream",
     "text": [
      "USING CURVE FIT AT LEAVE FRAME\n",
      "### ANGLE: 16.26\n",
      "### VELOCITY: 3.9\n",
      "### X VELOCITY: 3.74\n",
      "### Y VELOCITY: 1.09\n",
      "************************************************************\n",
      "\n"
     ]
    }
   ],
   "source": [
    "pattern = \"***\"\n",
    "information = f\"\"\"USING CURVE FIT AT LEAVE FRAME\n",
    "### ANGLE: {np.round(angle, 2)}\n",
    "### VELOCITY: {np.round(speed, 2)}\n",
    "### X VELOCITY: {np.round(x_speed, 2)}\n",
    "### Y VELOCITY: {np.round(y_speed, 2)}\n",
    "{pattern*20}\n",
    "\"\"\"\n",
    "print(information)"
   ]
  },
  {
   "cell_type": "markdown",
   "metadata": {},
   "source": [
    "First, create a new string containing just the previous text file. Else we'll duplicate the text file."
   ]
  },
  {
   "cell_type": "code",
   "execution_count": 30,
   "metadata": {},
   "outputs": [
    {
     "name": "stdout",
     "output_type": "stream",
     "text": [
      "### h15_short.tif\n",
      "### First Frame ID: 007\n",
      "### Last Frame ID: 132\n",
      "### Contact Frame ID: 077\n",
      "### Leave Frame ID: 100\n",
      "### Angle:\n"
     ]
    }
   ],
   "source": [
    "with open(RESULT_DIR +\"/info.txt\", \"r+\") as f:\n",
    "    texts = f.readlines()\n",
    "if len(texts)>44:\n",
    "    text = \"\".join(texts[:-6])\n",
    "else:\n",
    "    text = \"\".join(texts)\n",
    "print(text[:125])\n",
    "all_text = text+information"
   ]
  },
  {
   "cell_type": "code",
   "execution_count": 31,
   "metadata": {},
   "outputs": [
    {
     "data": {
      "text/plain": [
       "43"
      ]
     },
     "execution_count": 31,
     "metadata": {},
     "output_type": "execute_result"
    }
   ],
   "source": [
    "len(texts)"
   ]
  },
  {
   "cell_type": "code",
   "execution_count": 32,
   "metadata": {},
   "outputs": [],
   "source": [
    "with open(RESULT_DIR +\"/info.txt\", \"w\") as f:\n",
    "    f.writelines(all_text)"
   ]
  },
  {
   "cell_type": "markdown",
   "metadata": {},
   "source": [
    "### Save the DataFrame"
   ]
  },
  {
   "cell_type": "code",
   "execution_count": 33,
   "metadata": {},
   "outputs": [],
   "source": [
    "df_final.to_csv(RESULT_DIR + f\"/{sequence}_final.csv\", index=False)"
   ]
  }
 ],
 "metadata": {
  "kernelspec": {
   "display_name": "Python 3.7.13 ('data-science')",
   "language": "python",
   "name": "python3"
  },
  "language_info": {
   "codemirror_mode": {
    "name": "ipython",
    "version": 3
   },
   "file_extension": ".py",
   "mimetype": "text/x-python",
   "name": "python",
   "nbconvert_exporter": "python",
   "pygments_lexer": "ipython3",
   "version": "3.7.13"
  },
  "orig_nbformat": 4,
  "vscode": {
   "interpreter": {
    "hash": "2efee1efa502125d01e6b4768ba06d9453d29f3642bfd14ad5d4a769de82e88c"
   }
  }
 },
 "nbformat": 4,
 "nbformat_minor": 2
}
