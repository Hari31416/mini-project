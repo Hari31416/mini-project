{
 "cells": [
  {
   "cell_type": "markdown",
   "metadata": {},
   "source": [
    "# Imports"
   ]
  },
  {
   "cell_type": "code",
   "execution_count": 1,
   "metadata": {},
   "outputs": [],
   "source": [
    "import re\n",
    "import numpy as np\n",
    "import matplotlib.pyplot as plt\n",
    "import pandas as pd\n",
    "from scipy.optimize import curve_fit\n",
    "import warnings\n",
    "warnings.filterwarnings(\"ignore\")\n",
    "plt.rcdefaults()"
   ]
  },
  {
   "cell_type": "markdown",
   "metadata": {},
   "source": [
    "# Defining the Directories"
   ]
  },
  {
   "cell_type": "code",
   "execution_count": 2,
   "metadata": {},
   "outputs": [],
   "source": [
    "sequence = \"ref\"\n",
    "DATA_DIR = '../../data/extracted_images/' + sequence\n",
    "RESULT_DIR = '../../data/results/' + sequence"
   ]
  },
  {
   "cell_type": "markdown",
   "metadata": {},
   "source": [
    "# Getting Informations and Reading the Files"
   ]
  },
  {
   "cell_type": "markdown",
   "metadata": {},
   "source": [
    "## Getting Frame Information"
   ]
  },
  {
   "cell_type": "code",
   "execution_count": 3,
   "metadata": {},
   "outputs": [],
   "source": [
    "info_dict = {\n",
    "    \"first_frame\": 1,\n",
    "    \"last_frame\": 2,\n",
    "    \"contact_frame\": 3,\n",
    "    \"leave_frame\": 4,\n",
    "    \"angle\": 5,\n",
    "    \"passthrough\": 6,\n",
    "}"
   ]
  },
  {
   "cell_type": "code",
   "execution_count": 4,
   "metadata": {},
   "outputs": [],
   "source": [
    "def get_info(file):\n",
    "    information = {}\n",
    "    with open(file, \"r\") as f:\n",
    "        texts = f.readlines()\n",
    "    for key, value in info_dict.items():\n",
    "        line = texts[value]\n",
    "        info = line.split(\":\")[1].strip()\n",
    "        information[key] = info\n",
    "    return information\n",
    "\n",
    "information = get_info(f\"{DATA_DIR}.txt\")"
   ]
  },
  {
   "cell_type": "code",
   "execution_count": 5,
   "metadata": {},
   "outputs": [],
   "source": [
    "first_frame = DATA_DIR + \"/\" +information[\"first_frame\"]\n",
    "last_frame = DATA_DIR + \"/\" +information[\"last_frame\"]\n",
    "contact_frame = DATA_DIR + \"/\" +information[\"contact_frame\"]\n",
    "angle = information[\"angle\"]\n",
    "leave_frame = DATA_DIR + \"/\" +information[\"leave_frame\"]\n",
    "passthrough = information[\"passthrough\"]"
   ]
  },
  {
   "cell_type": "markdown",
   "metadata": {},
   "source": [
    "## Converting the Frame ID to Integer"
   ]
  },
  {
   "cell_type": "code",
   "execution_count": 6,
   "metadata": {},
   "outputs": [
    {
     "data": {
      "text/plain": [
       "(17, 68, 107)"
      ]
     },
     "execution_count": 6,
     "metadata": {},
     "output_type": "execute_result"
    }
   ],
   "source": [
    "reg = re.compile(r\"\\d{3}\")\n",
    "first_frame_num = int(reg.findall(first_frame)[0])\n",
    "contact_frame_num = int(reg.findall(contact_frame)[0])\n",
    "leave_frame_num = int(reg.findall(leave_frame)[0])\n",
    "first_frame_num, contact_frame_num, leave_frame_num"
   ]
  },
  {
   "cell_type": "markdown",
   "metadata": {},
   "source": [
    "## Reading the DF"
   ]
  },
  {
   "cell_type": "code",
   "execution_count": 7,
   "metadata": {},
   "outputs": [],
   "source": [
    "df_name = sequence+\"_raw.csv\"\n",
    "df = pd.read_csv(RESULT_DIR + '/'+df_name)\n",
    "df_c = df[df[\"x\"].notna()]"
   ]
  },
  {
   "cell_type": "markdown",
   "metadata": {},
   "source": [
    "# Fitting Curves"
   ]
  },
  {
   "cell_type": "markdown",
   "metadata": {},
   "source": [
    "## The Curves to be Fitted"
   ]
  },
  {
   "cell_type": "markdown",
   "metadata": {},
   "source": [
    "We'll assume that downward is the positive direction. In this way, the gravitational acceleration is positive. In x direction, no force is acting and hence the equation of motion is simply:\n",
    "$$\n",
    "x(t) = x_0 + v_{x0}t\n",
    "$$\n",
    "Here $x_0$ is the initial x position, $v_{x0}$ is the initial y velocity."
   ]
  },
  {
   "cell_type": "markdown",
   "metadata": {},
   "source": [
    "Now, in y direction, the equation of motion is:\n",
    "$$\n",
    "y(t) = y_0 + v_{y0}t + \\frac{1}{2}gt^2\n",
    "$$\n",
    "Here, $y_0$ is the initial y position, $v_{y0}$ is the initial y velocity, and $g$ is the acceleration due to gravity."
   ]
  },
  {
   "cell_type": "markdown",
   "metadata": {},
   "source": [
    "We'll optimize these two equations to get the initial velocity and the initial position for x and y direction."
   ]
  },
  {
   "cell_type": "markdown",
   "metadata": {},
   "source": [
    "We can also phrase the same problem by eliminating $t$ from the equation of motions. This way, we'll get $y$ as a function of $x$. Eliminating $t$ from the equation of motion, we get:\n",
    "$$\n",
    "y = y_0 + \\frac{v_y}{v_x}(x - x_0) + \\frac{1}{2}g\\frac{(x - x_0)^2}{v_x^2}\n",
    "$$\n"
   ]
  },
  {
   "cell_type": "markdown",
   "metadata": {},
   "source": [
    "Here, we have rewritten $v_{x0}$ as $v_x$ and $v_{y0}$ as $v_y$. \n",
    "<!-- Defining $\\frac{v_y}{v_x}$ as $m$, which is nothing but $\\tan(\\theta)$ where $\\theta$ is the angle between the y and x velocity, we get:\n",
    "$$\n",
    "y = y_0 + m(x - x_0) + \\frac{1}{2}g\\frac{(x - x_0)^2}{v_x^2}\n",
    "$$ -->"
   ]
  },
  {
   "cell_type": "markdown",
   "metadata": {},
   "source": [
    "This is a parabola with the parameters $y_0$, $m$, $g$ and $v_x$ and $v_y$. We can use `scipy` to get these parameters."
   ]
  },
  {
   "cell_type": "code",
   "execution_count": 8,
   "metadata": {},
   "outputs": [],
   "source": [
    "def the_parabola(x, x0, y0, vx, vy, g):\n",
    "    second_term = (vy/vx)*(x-x0)\n",
    "    third_term = (g/vx**2)*((x-x0)**2)/2\n",
    "    return y0 + second_term + third_term\n",
    "the_parabola_vector = np.vectorize(the_parabola)"
   ]
  },
  {
   "cell_type": "markdown",
   "metadata": {},
   "source": [
    "However, it turned out that using the parabola does not give a reasonable result. So, we'll be using the parametric equations."
   ]
  },
  {
   "cell_type": "code",
   "execution_count": 9,
   "metadata": {},
   "outputs": [],
   "source": [
    "def parametric_x(t, x0, vx0):\n",
    "    return x0 + vx0*t\n",
    "parametric_x_vector = np.vectorize(parametric_x)\n",
    "\n",
    "def parametric_y(t, y0, vy0, g):\n",
    "    return y0 + vy0*t+0.5*g*t**2\n",
    "parametric_y_vector = np.vectorize(parametric_y)"
   ]
  },
  {
   "cell_type": "markdown",
   "metadata": {},
   "source": [
    "## Region III"
   ]
  },
  {
   "cell_type": "markdown",
   "metadata": {},
   "source": [
    "### Data For Region III"
   ]
  },
  {
   "cell_type": "code",
   "execution_count": 17,
   "metadata": {},
   "outputs": [
    {
     "data": {
      "text/html": [
       "<div>\n",
       "<style scoped>\n",
       "    .dataframe tbody tr th:only-of-type {\n",
       "        vertical-align: middle;\n",
       "    }\n",
       "\n",
       "    .dataframe tbody tr th {\n",
       "        vertical-align: top;\n",
       "    }\n",
       "\n",
       "    .dataframe thead th {\n",
       "        text-align: right;\n",
       "    }\n",
       "</style>\n",
       "<table border=\"1\" class=\"dataframe\">\n",
       "  <thead>\n",
       "    <tr style=\"text-align: right;\">\n",
       "      <th></th>\n",
       "      <th>id</th>\n",
       "      <th>x</th>\n",
       "      <th>y</th>\n",
       "      <th>r1</th>\n",
       "      <th>r2</th>\n",
       "      <th>theta</th>\n",
       "      <th>vx</th>\n",
       "      <th>vy</th>\n",
       "      <th>v</th>\n",
       "      <th>angle</th>\n",
       "      <th>Region</th>\n",
       "      <th>time</th>\n",
       "    </tr>\n",
       "  </thead>\n",
       "  <tbody>\n",
       "    <tr>\n",
       "      <th>80</th>\n",
       "      <td>../../data/extracted_images/ref/091.jpg</td>\n",
       "      <td>897.0</td>\n",
       "      <td>643.0</td>\n",
       "      <td>11.0</td>\n",
       "      <td>10.0</td>\n",
       "      <td>84.797754</td>\n",
       "      <td>2.571429</td>\n",
       "      <td>0.857143</td>\n",
       "      <td>2.710524</td>\n",
       "      <td>-18.434949</td>\n",
       "      <td>III</td>\n",
       "      <td>91</td>\n",
       "    </tr>\n",
       "    <tr>\n",
       "      <th>81</th>\n",
       "      <td>../../data/extracted_images/ref/092.jpg</td>\n",
       "      <td>901.0</td>\n",
       "      <td>642.0</td>\n",
       "      <td>11.0</td>\n",
       "      <td>10.0</td>\n",
       "      <td>73.338598</td>\n",
       "      <td>-0.571429</td>\n",
       "      <td>0.285714</td>\n",
       "      <td>0.638877</td>\n",
       "      <td>26.565051</td>\n",
       "      <td>III</td>\n",
       "      <td>92</td>\n",
       "    </tr>\n",
       "    <tr>\n",
       "      <th>82</th>\n",
       "      <td>../../data/extracted_images/ref/093.jpg</td>\n",
       "      <td>904.0</td>\n",
       "      <td>642.0</td>\n",
       "      <td>10.0</td>\n",
       "      <td>11.0</td>\n",
       "      <td>132.353251</td>\n",
       "      <td>3.000000</td>\n",
       "      <td>0.285714</td>\n",
       "      <td>3.013575</td>\n",
       "      <td>-5.440332</td>\n",
       "      <td>III</td>\n",
       "      <td>93</td>\n",
       "    </tr>\n",
       "    <tr>\n",
       "      <th>83</th>\n",
       "      <td>../../data/extracted_images/ref/094.jpg</td>\n",
       "      <td>907.0</td>\n",
       "      <td>640.0</td>\n",
       "      <td>9.0</td>\n",
       "      <td>11.0</td>\n",
       "      <td>111.726770</td>\n",
       "      <td>-1.857143</td>\n",
       "      <td>-0.428571</td>\n",
       "      <td>1.905952</td>\n",
       "      <td>-12.994617</td>\n",
       "      <td>III</td>\n",
       "      <td>94</td>\n",
       "    </tr>\n",
       "    <tr>\n",
       "      <th>84</th>\n",
       "      <td>../../data/extracted_images/ref/095.jpg</td>\n",
       "      <td>911.0</td>\n",
       "      <td>639.0</td>\n",
       "      <td>8.0</td>\n",
       "      <td>11.0</td>\n",
       "      <td>111.153812</td>\n",
       "      <td>-1.571429</td>\n",
       "      <td>-0.714286</td>\n",
       "      <td>1.726149</td>\n",
       "      <td>-24.443955</td>\n",
       "      <td>III</td>\n",
       "      <td>95</td>\n",
       "    </tr>\n",
       "    <tr>\n",
       "      <th>...</th>\n",
       "      <td>...</td>\n",
       "      <td>...</td>\n",
       "      <td>...</td>\n",
       "      <td>...</td>\n",
       "      <td>...</td>\n",
       "      <td>...</td>\n",
       "      <td>...</td>\n",
       "      <td>...</td>\n",
       "      <td>...</td>\n",
       "      <td>...</td>\n",
       "      <td>...</td>\n",
       "      <td>...</td>\n",
       "    </tr>\n",
       "    <tr>\n",
       "      <th>141</th>\n",
       "      <td>../../data/extracted_images/ref/154.jpg</td>\n",
       "      <td>1186.0</td>\n",
       "      <td>583.0</td>\n",
       "      <td>9.0</td>\n",
       "      <td>11.0</td>\n",
       "      <td>119.748179</td>\n",
       "      <td>4.714286</td>\n",
       "      <td>1.142857</td>\n",
       "      <td>4.850836</td>\n",
       "      <td>-13.626995</td>\n",
       "      <td>III</td>\n",
       "      <td>154</td>\n",
       "    </tr>\n",
       "    <tr>\n",
       "      <th>142</th>\n",
       "      <td>../../data/extracted_images/ref/155.jpg</td>\n",
       "      <td>1190.0</td>\n",
       "      <td>585.0</td>\n",
       "      <td>9.0</td>\n",
       "      <td>11.0</td>\n",
       "      <td>122.612968</td>\n",
       "      <td>4.571429</td>\n",
       "      <td>1.285714</td>\n",
       "      <td>4.748791</td>\n",
       "      <td>-15.708638</td>\n",
       "      <td>III</td>\n",
       "      <td>155</td>\n",
       "    </tr>\n",
       "    <tr>\n",
       "      <th>143</th>\n",
       "      <td>../../data/extracted_images/ref/156.jpg</td>\n",
       "      <td>1194.0</td>\n",
       "      <td>586.0</td>\n",
       "      <td>9.0</td>\n",
       "      <td>11.0</td>\n",
       "      <td>110.580854</td>\n",
       "      <td>4.571429</td>\n",
       "      <td>1.285714</td>\n",
       "      <td>4.748791</td>\n",
       "      <td>-15.708638</td>\n",
       "      <td>III</td>\n",
       "      <td>156</td>\n",
       "    </tr>\n",
       "    <tr>\n",
       "      <th>144</th>\n",
       "      <td>../../data/extracted_images/ref/157.jpg</td>\n",
       "      <td>1198.0</td>\n",
       "      <td>588.0</td>\n",
       "      <td>9.0</td>\n",
       "      <td>10.0</td>\n",
       "      <td>26.356059</td>\n",
       "      <td>4.428571</td>\n",
       "      <td>1.428571</td>\n",
       "      <td>4.653285</td>\n",
       "      <td>-17.878697</td>\n",
       "      <td>III</td>\n",
       "      <td>157</td>\n",
       "    </tr>\n",
       "    <tr>\n",
       "      <th>145</th>\n",
       "      <td>../../data/extracted_images/ref/158.jpg</td>\n",
       "      <td>1198.0</td>\n",
       "      <td>589.0</td>\n",
       "      <td>5.0</td>\n",
       "      <td>8.0</td>\n",
       "      <td>9.740283</td>\n",
       "      <td>3.714286</td>\n",
       "      <td>1.428571</td>\n",
       "      <td>3.979540</td>\n",
       "      <td>-21.037511</td>\n",
       "      <td>III</td>\n",
       "      <td>158</td>\n",
       "    </tr>\n",
       "  </tbody>\n",
       "</table>\n",
       "<p>66 rows × 12 columns</p>\n",
       "</div>"
      ],
      "text/plain": [
       "                                          id       x      y    r1    r2  \\\n",
       "80   ../../data/extracted_images/ref/091.jpg   897.0  643.0  11.0  10.0   \n",
       "81   ../../data/extracted_images/ref/092.jpg   901.0  642.0  11.0  10.0   \n",
       "82   ../../data/extracted_images/ref/093.jpg   904.0  642.0  10.0  11.0   \n",
       "83   ../../data/extracted_images/ref/094.jpg   907.0  640.0   9.0  11.0   \n",
       "84   ../../data/extracted_images/ref/095.jpg   911.0  639.0   8.0  11.0   \n",
       "..                                       ...     ...    ...   ...   ...   \n",
       "141  ../../data/extracted_images/ref/154.jpg  1186.0  583.0   9.0  11.0   \n",
       "142  ../../data/extracted_images/ref/155.jpg  1190.0  585.0   9.0  11.0   \n",
       "143  ../../data/extracted_images/ref/156.jpg  1194.0  586.0   9.0  11.0   \n",
       "144  ../../data/extracted_images/ref/157.jpg  1198.0  588.0   9.0  10.0   \n",
       "145  ../../data/extracted_images/ref/158.jpg  1198.0  589.0   5.0   8.0   \n",
       "\n",
       "          theta        vx        vy         v      angle Region  time  \n",
       "80    84.797754  2.571429  0.857143  2.710524 -18.434949    III    91  \n",
       "81    73.338598 -0.571429  0.285714  0.638877  26.565051    III    92  \n",
       "82   132.353251  3.000000  0.285714  3.013575  -5.440332    III    93  \n",
       "83   111.726770 -1.857143 -0.428571  1.905952 -12.994617    III    94  \n",
       "84   111.153812 -1.571429 -0.714286  1.726149 -24.443955    III    95  \n",
       "..          ...       ...       ...       ...        ...    ...   ...  \n",
       "141  119.748179  4.714286  1.142857  4.850836 -13.626995    III   154  \n",
       "142  122.612968  4.571429  1.285714  4.748791 -15.708638    III   155  \n",
       "143  110.580854  4.571429  1.285714  4.748791 -15.708638    III   156  \n",
       "144   26.356059  4.428571  1.428571  4.653285 -17.878697    III   157  \n",
       "145    9.740283  3.714286  1.428571  3.979540 -21.037511    III   158  \n",
       "\n",
       "[66 rows x 12 columns]"
      ]
     },
     "execution_count": 17,
     "metadata": {},
     "output_type": "execute_result"
    }
   ],
   "source": [
    "region_3= df_c[df_c[\"Region\"]==\"III\"]\n",
    "region_3"
   ]
  },
  {
   "cell_type": "code",
   "execution_count": 58,
   "metadata": {},
   "outputs": [],
   "source": [
    "X = df_c[\"x\"].values\n",
    "Y = df_c[\"y\"].values\n",
    "t = df_c[\"time\"].values\n",
    "offset = t[0]\n",
    "tbar = t-offset"
   ]
  },
  {
   "cell_type": "code",
   "execution_count": 59,
   "metadata": {},
   "outputs": [
    {
     "data": {
      "text/plain": [
       "array([ 0,  1,  3,  4,  5,  6,  7,  8,  9, 10, 11, 12, 13, 14, 15, 16, 17,\n",
       "       18, 19, 20, 21, 22, 23, 24, 25, 26, 27, 28, 29, 30, 31, 32, 33, 34,\n",
       "       35, 36, 37, 38, 39, 40, 41, 42, 43, 44, 45, 46, 47, 48, 49, 50, 51],\n",
       "      dtype=int64)"
      ]
     },
     "execution_count": 59,
     "metadata": {},
     "output_type": "execute_result"
    }
   ],
   "source": [
    "tbar"
   ]
  },
  {
   "cell_type": "markdown",
   "metadata": {},
   "source": [
    "### Fitting the Curves"
   ]
  },
  {
   "cell_type": "code",
   "execution_count": 86,
   "metadata": {},
   "outputs": [],
   "source": [
    "popt, pcov = curve_fit(the_parabola, X, Y, maxfev=10000)\n",
    "popty, pcovy = curve_fit(parametric_y, tbar, Y)\n",
    "poptx, pcovx = curve_fit(parametric_x, tbar, X)"
   ]
  },
  {
   "cell_type": "code",
   "execution_count": 87,
   "metadata": {},
   "outputs": [
    {
     "data": {
      "text/plain": [
       "array([-0.57485785,  0.00412939])"
      ]
     },
     "execution_count": 87,
     "metadata": {},
     "output_type": "execute_result"
    }
   ],
   "source": [
    "popt"
   ]
  },
  {
   "cell_type": "code",
   "execution_count": 88,
   "metadata": {},
   "outputs": [
    {
     "data": {
      "text/plain": [
       "-0.5515695081329387"
      ]
     },
     "execution_count": 88,
     "metadata": {},
     "output_type": "execute_result"
    }
   ],
   "source": [
    "popty[1]/poptx[1]"
   ]
  },
  {
   "cell_type": "code",
   "execution_count": 90,
   "metadata": {},
   "outputs": [
    {
     "data": {
      "text/plain": [
       "0.003972037989539363"
      ]
     },
     "execution_count": 90,
     "metadata": {},
     "output_type": "execute_result"
    }
   ],
   "source": [
    "popty[2]/poptx[1]**2"
   ]
  },
  {
   "cell_type": "markdown",
   "metadata": {},
   "source": [
    "As you can see, the parameters calculated by the fitting method is ridiculus, even though it fits the parabola well (See the figure below)."
   ]
  },
  {
   "cell_type": "code",
   "execution_count": 62,
   "metadata": {},
   "outputs": [
    {
     "data": {
      "text/plain": [
       "(array([965.90218519,   4.67370737]),\n",
       " array([ 6.08515386e+02, -2.57787447e+00,  8.67633729e-02]))"
      ]
     },
     "execution_count": 62,
     "metadata": {},
     "output_type": "execute_result"
    }
   ],
   "source": [
    "poptx, popty"
   ]
  },
  {
   "cell_type": "markdown",
   "metadata": {},
   "source": [
    "These values are reasonable."
   ]
  },
  {
   "cell_type": "code",
   "execution_count": 71,
   "metadata": {},
   "outputs": [
    {
     "data": {
      "text/plain": [
       "0.08676337293846638"
      ]
     },
     "execution_count": 71,
     "metadata": {},
     "output_type": "execute_result"
    }
   ],
   "source": [
    "g = popty[2]\n",
    "g"
   ]
  },
  {
   "cell_type": "code",
   "execution_count": 92,
   "metadata": {},
   "outputs": [
    {
     "data": {
      "text/plain": [
       "9.977787887923634"
      ]
     },
     "execution_count": 92,
     "metadata": {},
     "output_type": "execute_result"
    }
   ],
   "source": [
    "fps = 1000\n",
    "pixels = 0.0115\n",
    "# g_calc = 0.08676337293846638\n",
    "g*pixels*fps**2/100"
   ]
  },
  {
   "cell_type": "code",
   "execution_count": 68,
   "metadata": {},
   "outputs": [
    {
     "data": {
      "text/plain": [
       "[<matplotlib.lines.Line2D at 0x297a0d28670>]"
      ]
     },
     "execution_count": 68,
     "metadata": {},
     "output_type": "execute_result"
    },
    {
     "data": {
      "image/png": "[encoded data removed]",
      "text/plain": [
       "<Figure size 720x720 with 1 Axes>"
      ]
     },
     "metadata": {
      "needs_background": "light"
     },
     "output_type": "display_data"
    }
   ],
   "source": [
    "plt.figure(figsize=(10,10))\n",
    "plt.scatter(tbar, X)\n",
    "plt.plot(tbar, parametric_x_vector(tbar, *poptx), \"r\")"
   ]
  },
  {
   "cell_type": "code",
   "execution_count": 70,
   "metadata": {},
   "outputs": [
    {
     "data": {
      "text/plain": [
       "[<matplotlib.lines.Line2D at 0x297a0bdf100>]"
      ]
     },
     "execution_count": 70,
     "metadata": {},
     "output_type": "execute_result"
    },
    {
     "data": {
      "image/png": "[encoded data removed]",
      "text/plain": [
       "<Figure size 720x720 with 1 Axes>"
      ]
     },
     "metadata": {
      "needs_background": "light"
     },
     "output_type": "display_data"
    }
   ],
   "source": [
    "plt.figure(figsize=(10,10))\n",
    "plt.scatter(tbar, Y)\n",
    "plt.plot(tbar, parametric_y_vector(tbar, *popty), \"r\")"
   ]
  },
  {
   "cell_type": "markdown",
   "metadata": {},
   "source": [
    "### Analyzing the Results"
   ]
  },
  {
   "cell_type": "code",
   "execution_count": 84,
   "metadata": {},
   "outputs": [
    {
     "data": {
      "image/png": "[encoded data removed]",
      "text/plain": [
       "<Figure size 720x720 with 1 Axes>"
      ]
     },
     "metadata": {
      "needs_background": "light"
     },
     "output_type": "display_data"
    }
   ],
   "source": [
    "plt.figure(figsize=(10,10))\n",
    "plt.plot(X,Y, 'o', label=\"data\")\n",
    "plt.plot(X, the_parabola_vector(X, *popt),label=\"fit using parabola\")\n",
    "plt.legend();"
   ]
  },
  {
   "cell_type": "code",
   "execution_count": 66,
   "metadata": {},
   "outputs": [
    {
     "data": {
      "image/png": "[encoded data removed]",
      "text/plain": [
       "<Figure size 432x288 with 1 Axes>"
      ]
     },
     "metadata": {
      "needs_background": "light"
     },
     "output_type": "display_data"
    }
   ],
   "source": [
    "plt.plot(X,Y, 'o', label=\"data\")\n",
    "plt.plot(parametric_x_vector(tbar, *poptx), parametric_y_vector(tbar, *popty), label=\"fit using parametric\")\n",
    "plt.legend();"
   ]
  },
  {
   "cell_type": "markdown",
   "metadata": {},
   "source": [
    "We can see that using the parametric equations, we can fit the curve accurately."
   ]
  },
  {
   "cell_type": "markdown",
   "metadata": {},
   "source": [
    "### Getting Speeds"
   ]
  },
  {
   "cell_type": "markdown",
   "metadata": {},
   "source": [
    "Next, we'll see how the calculated velocities are? The eqaution for the speeds are:\n",
    "$$\n",
    "v_x(t) = v_{x0}\\\\\n",
    "v_y(t) = v_{y0} + gt\n",
    "$$"
   ]
  },
  {
   "cell_type": "code",
   "execution_count": 72,
   "metadata": {},
   "outputs": [],
   "source": [
    "vy = popty[1]+popty[2]*(tbar)\n",
    "vx = np.ones(len(tbar))*poptx[1]\n",
    "v = np.sqrt(vy**2+vx**2)"
   ]
  },
  {
   "cell_type": "code",
   "execution_count": 73,
   "metadata": {},
   "outputs": [
    {
     "data": {
      "image/png": "[encoded data removed]",
      "text/plain": [
       "<Figure size 432x288 with 1 Axes>"
      ]
     },
     "metadata": {
      "needs_background": "light"
     },
     "output_type": "display_data"
    }
   ],
   "source": [
    "plt.plot(tbar, df_c[\"vy\"].values, label=\"vy_data\")\n",
    "plt.plot(tbar, vy, label=\"vy_calculated\")\n",
    "plt.legend()\n",
    "plt.xlabel(\"time\")\n",
    "plt.ylabel(\"vy\");"
   ]
  },
  {
   "cell_type": "code",
   "execution_count": 74,
   "metadata": {},
   "outputs": [
    {
     "data": {
      "image/png": "[encoded data removed]",
      "text/plain": [
       "<Figure size 432x288 with 1 Axes>"
      ]
     },
     "metadata": {
      "needs_background": "light"
     },
     "output_type": "display_data"
    }
   ],
   "source": [
    "plt.plot(tbar, df_c[\"vx\"].values, label=\"vx_data\")\n",
    "plt.plot(tbar, vx, label=\"vx_calculated\")\n",
    "plt.legend()\n",
    "plt.xlabel(\"time\")\n",
    "plt.ylabel(\"vx\");"
   ]
  },
  {
   "cell_type": "code",
   "execution_count": 24,
   "metadata": {},
   "outputs": [
    {
     "data": {
      "image/png": "[encoded data removed]",
      "text/plain": [
       "<Figure size 640x480 with 1 Axes>"
      ]
     },
     "metadata": {},
     "output_type": "display_data"
    }
   ],
   "source": [
    "plt.plot(tbar, region_3[\"v\"].values, label=\"v_data\")\n",
    "plt.plot(tbar, v, label=\"v_calculated\")\n",
    "plt.legend()\n",
    "plt.xlabel(\"time\")\n",
    "plt.ylabel(\"v\");"
   ]
  },
  {
   "cell_type": "markdown",
   "metadata": {},
   "source": [
    "They are reasonable."
   ]
  },
  {
   "cell_type": "markdown",
   "metadata": {},
   "source": [
    "### Getting Angles"
   ]
  },
  {
   "cell_type": "markdown",
   "metadata": {},
   "source": [
    "Next, let's calculate the angle between the x and y velocity."
   ]
  },
  {
   "cell_type": "code",
   "execution_count": 75,
   "metadata": {},
   "outputs": [],
   "source": [
    "angles= np.arctan(vy/vx)*180/np.pi"
   ]
  },
  {
   "cell_type": "code",
   "execution_count": 76,
   "metadata": {},
   "outputs": [
    {
     "data": {
      "image/png": "[encoded data removed]",
      "text/plain": [
       "<Figure size 432x288 with 1 Axes>"
      ]
     },
     "metadata": {
      "needs_background": "light"
     },
     "output_type": "display_data"
    }
   ],
   "source": [
    "plt.plot(-angles, label = \"calculated\")\n",
    "plt.plot(df_c[\"angle\"].values, label = \"data\")\n",
    "plt.legend();"
   ]
  },
  {
   "cell_type": "markdown",
   "metadata": {},
   "source": [
    "Again, reasonable."
   ]
  },
  {
   "cell_type": "markdown",
   "metadata": {},
   "source": [
    "## Getting the Additional Information"
   ]
  },
  {
   "cell_type": "code",
   "execution_count": 27,
   "metadata": {},
   "outputs": [],
   "source": [
    "new_info_df = pd.DataFrame({\"vx\": vx, \"vy\": vy, \"v\":v, \"angle\": angles, \"time\":t})\n",
    "new_info_df.columns = [\"vx_using_curve\", \"vy_using_curve\", \"v_using_curve\", \"angle_using_curve\", \"time\"]"
   ]
  },
  {
   "cell_type": "code",
   "execution_count": 28,
   "metadata": {},
   "outputs": [
    {
     "data": {
      "text/html": [
       "<div>\n",
       "<style scoped>\n",
       "    .dataframe tbody tr th:only-of-type {\n",
       "        vertical-align: middle;\n",
       "    }\n",
       "\n",
       "    .dataframe tbody tr th {\n",
       "        vertical-align: top;\n",
       "    }\n",
       "\n",
       "    .dataframe thead th {\n",
       "        text-align: right;\n",
       "    }\n",
       "</style>\n",
       "<table border=\"1\" class=\"dataframe\">\n",
       "  <thead>\n",
       "    <tr style=\"text-align: right;\">\n",
       "      <th></th>\n",
       "      <th>vx_using_curve</th>\n",
       "      <th>vy_using_curve</th>\n",
       "      <th>v_using_curve</th>\n",
       "      <th>angle_using_curve</th>\n",
       "      <th>time</th>\n",
       "    </tr>\n",
       "  </thead>\n",
       "  <tbody>\n",
       "    <tr>\n",
       "      <th>0</th>\n",
       "      <td>4.658387</td>\n",
       "      <td>-3.525478</td>\n",
       "      <td>5.842051</td>\n",
       "      <td>-37.118519</td>\n",
       "      <td>91</td>\n",
       "    </tr>\n",
       "    <tr>\n",
       "      <th>1</th>\n",
       "      <td>4.658387</td>\n",
       "      <td>-3.449146</td>\n",
       "      <td>5.796307</td>\n",
       "      <td>-36.516853</td>\n",
       "      <td>92</td>\n",
       "    </tr>\n",
       "    <tr>\n",
       "      <th>2</th>\n",
       "      <td>4.658387</td>\n",
       "      <td>-3.372814</td>\n",
       "      <td>5.751212</td>\n",
       "      <td>-35.905683</td>\n",
       "      <td>93</td>\n",
       "    </tr>\n",
       "    <tr>\n",
       "      <th>3</th>\n",
       "      <td>4.658387</td>\n",
       "      <td>-3.296482</td>\n",
       "      <td>5.706782</td>\n",
       "      <td>-35.284925</td>\n",
       "      <td>94</td>\n",
       "    </tr>\n",
       "    <tr>\n",
       "      <th>4</th>\n",
       "      <td>4.658387</td>\n",
       "      <td>-3.220150</td>\n",
       "      <td>5.663032</td>\n",
       "      <td>-34.654501</td>\n",
       "      <td>95</td>\n",
       "    </tr>\n",
       "    <tr>\n",
       "      <th>...</th>\n",
       "      <td>...</td>\n",
       "      <td>...</td>\n",
       "      <td>...</td>\n",
       "      <td>...</td>\n",
       "      <td>...</td>\n",
       "    </tr>\n",
       "    <tr>\n",
       "      <th>61</th>\n",
       "      <td>4.658387</td>\n",
       "      <td>1.283434</td>\n",
       "      <td>4.831953</td>\n",
       "      <td>15.403433</td>\n",
       "      <td>154</td>\n",
       "    </tr>\n",
       "    <tr>\n",
       "      <th>62</th>\n",
       "      <td>4.658387</td>\n",
       "      <td>1.359766</td>\n",
       "      <td>4.852786</td>\n",
       "      <td>16.272328</td>\n",
       "      <td>155</td>\n",
       "    </tr>\n",
       "    <tr>\n",
       "      <th>63</th>\n",
       "      <td>4.658387</td>\n",
       "      <td>1.436098</td>\n",
       "      <td>4.874725</td>\n",
       "      <td>17.133598</td>\n",
       "      <td>156</td>\n",
       "    </tr>\n",
       "    <tr>\n",
       "      <th>64</th>\n",
       "      <td>4.658387</td>\n",
       "      <td>1.512430</td>\n",
       "      <td>4.897755</td>\n",
       "      <td>17.986960</td>\n",
       "      <td>157</td>\n",
       "    </tr>\n",
       "    <tr>\n",
       "      <th>65</th>\n",
       "      <td>4.658387</td>\n",
       "      <td>1.588761</td>\n",
       "      <td>4.921862</td>\n",
       "      <td>18.832148</td>\n",
       "      <td>158</td>\n",
       "    </tr>\n",
       "  </tbody>\n",
       "</table>\n",
       "<p>66 rows × 5 columns</p>\n",
       "</div>"
      ],
      "text/plain": [
       "    vx_using_curve  vy_using_curve  v_using_curve  angle_using_curve  time\n",
       "0         4.658387       -3.525478       5.842051         -37.118519    91\n",
       "1         4.658387       -3.449146       5.796307         -36.516853    92\n",
       "2         4.658387       -3.372814       5.751212         -35.905683    93\n",
       "3         4.658387       -3.296482       5.706782         -35.284925    94\n",
       "4         4.658387       -3.220150       5.663032         -34.654501    95\n",
       "..             ...             ...            ...                ...   ...\n",
       "61        4.658387        1.283434       4.831953          15.403433   154\n",
       "62        4.658387        1.359766       4.852786          16.272328   155\n",
       "63        4.658387        1.436098       4.874725          17.133598   156\n",
       "64        4.658387        1.512430       4.897755          17.986960   157\n",
       "65        4.658387        1.588761       4.921862          18.832148   158\n",
       "\n",
       "[66 rows x 5 columns]"
      ]
     },
     "execution_count": 28,
     "metadata": {},
     "output_type": "execute_result"
    }
   ],
   "source": [
    "new_info_df"
   ]
  },
  {
   "cell_type": "code",
   "execution_count": 29,
   "metadata": {},
   "outputs": [
    {
     "data": {
      "text/html": [
       "<div>\n",
       "<style scoped>\n",
       "    .dataframe tbody tr th:only-of-type {\n",
       "        vertical-align: middle;\n",
       "    }\n",
       "\n",
       "    .dataframe tbody tr th {\n",
       "        vertical-align: top;\n",
       "    }\n",
       "\n",
       "    .dataframe thead th {\n",
       "        text-align: right;\n",
       "    }\n",
       "</style>\n",
       "<table border=\"1\" class=\"dataframe\">\n",
       "  <thead>\n",
       "    <tr style=\"text-align: right;\">\n",
       "      <th></th>\n",
       "      <th>141</th>\n",
       "      <th>142</th>\n",
       "      <th>143</th>\n",
       "      <th>144</th>\n",
       "      <th>145</th>\n",
       "    </tr>\n",
       "  </thead>\n",
       "  <tbody>\n",
       "    <tr>\n",
       "      <th>id</th>\n",
       "      <td>../../data/extracted_images/ref/154.jpg</td>\n",
       "      <td>../../data/extracted_images/ref/155.jpg</td>\n",
       "      <td>../../data/extracted_images/ref/156.jpg</td>\n",
       "      <td>../../data/extracted_images/ref/157.jpg</td>\n",
       "      <td>../../data/extracted_images/ref/158.jpg</td>\n",
       "    </tr>\n",
       "    <tr>\n",
       "      <th>x</th>\n",
       "      <td>1186.0</td>\n",
       "      <td>1190.0</td>\n",
       "      <td>1194.0</td>\n",
       "      <td>1198.0</td>\n",
       "      <td>1198.0</td>\n",
       "    </tr>\n",
       "    <tr>\n",
       "      <th>y</th>\n",
       "      <td>583.0</td>\n",
       "      <td>585.0</td>\n",
       "      <td>586.0</td>\n",
       "      <td>588.0</td>\n",
       "      <td>589.0</td>\n",
       "    </tr>\n",
       "    <tr>\n",
       "      <th>r1</th>\n",
       "      <td>9.0</td>\n",
       "      <td>9.0</td>\n",
       "      <td>9.0</td>\n",
       "      <td>9.0</td>\n",
       "      <td>5.0</td>\n",
       "    </tr>\n",
       "    <tr>\n",
       "      <th>r2</th>\n",
       "      <td>11.0</td>\n",
       "      <td>11.0</td>\n",
       "      <td>11.0</td>\n",
       "      <td>10.0</td>\n",
       "      <td>8.0</td>\n",
       "    </tr>\n",
       "    <tr>\n",
       "      <th>theta</th>\n",
       "      <td>119.748179</td>\n",
       "      <td>122.612968</td>\n",
       "      <td>110.580854</td>\n",
       "      <td>26.356059</td>\n",
       "      <td>9.740283</td>\n",
       "    </tr>\n",
       "    <tr>\n",
       "      <th>vx</th>\n",
       "      <td>4.714286</td>\n",
       "      <td>4.571429</td>\n",
       "      <td>4.571429</td>\n",
       "      <td>4.428571</td>\n",
       "      <td>3.714286</td>\n",
       "    </tr>\n",
       "    <tr>\n",
       "      <th>vy</th>\n",
       "      <td>1.142857</td>\n",
       "      <td>1.285714</td>\n",
       "      <td>1.285714</td>\n",
       "      <td>1.428571</td>\n",
       "      <td>1.428571</td>\n",
       "    </tr>\n",
       "    <tr>\n",
       "      <th>v</th>\n",
       "      <td>4.850836</td>\n",
       "      <td>4.748791</td>\n",
       "      <td>4.748791</td>\n",
       "      <td>4.653285</td>\n",
       "      <td>3.97954</td>\n",
       "    </tr>\n",
       "    <tr>\n",
       "      <th>angle</th>\n",
       "      <td>-13.626995</td>\n",
       "      <td>-15.708638</td>\n",
       "      <td>-15.708638</td>\n",
       "      <td>-17.878697</td>\n",
       "      <td>-21.037511</td>\n",
       "    </tr>\n",
       "    <tr>\n",
       "      <th>Region</th>\n",
       "      <td>III</td>\n",
       "      <td>III</td>\n",
       "      <td>III</td>\n",
       "      <td>III</td>\n",
       "      <td>III</td>\n",
       "    </tr>\n",
       "    <tr>\n",
       "      <th>time</th>\n",
       "      <td>154</td>\n",
       "      <td>155</td>\n",
       "      <td>156</td>\n",
       "      <td>157</td>\n",
       "      <td>158</td>\n",
       "    </tr>\n",
       "    <tr>\n",
       "      <th>vx_using_curve</th>\n",
       "      <td>4.658387</td>\n",
       "      <td>4.658387</td>\n",
       "      <td>4.658387</td>\n",
       "      <td>4.658387</td>\n",
       "      <td>4.658387</td>\n",
       "    </tr>\n",
       "    <tr>\n",
       "      <th>vy_using_curve</th>\n",
       "      <td>1.283434</td>\n",
       "      <td>1.359766</td>\n",
       "      <td>1.436098</td>\n",
       "      <td>1.51243</td>\n",
       "      <td>1.588761</td>\n",
       "    </tr>\n",
       "    <tr>\n",
       "      <th>v_using_curve</th>\n",
       "      <td>4.831953</td>\n",
       "      <td>4.852786</td>\n",
       "      <td>4.874725</td>\n",
       "      <td>4.897755</td>\n",
       "      <td>4.921862</td>\n",
       "    </tr>\n",
       "    <tr>\n",
       "      <th>angle_using_curve</th>\n",
       "      <td>15.403433</td>\n",
       "      <td>16.272328</td>\n",
       "      <td>17.133598</td>\n",
       "      <td>17.98696</td>\n",
       "      <td>18.832148</td>\n",
       "    </tr>\n",
       "  </tbody>\n",
       "</table>\n",
       "</div>"
      ],
      "text/plain": [
       "                                                       141  \\\n",
       "id                 ../../data/extracted_images/ref/154.jpg   \n",
       "x                                                   1186.0   \n",
       "y                                                    583.0   \n",
       "r1                                                     9.0   \n",
       "r2                                                    11.0   \n",
       "theta                                           119.748179   \n",
       "vx                                                4.714286   \n",
       "vy                                                1.142857   \n",
       "v                                                 4.850836   \n",
       "angle                                           -13.626995   \n",
       "Region                                                 III   \n",
       "time                                                   154   \n",
       "vx_using_curve                                    4.658387   \n",
       "vy_using_curve                                    1.283434   \n",
       "v_using_curve                                     4.831953   \n",
       "angle_using_curve                                15.403433   \n",
       "\n",
       "                                                       142  \\\n",
       "id                 ../../data/extracted_images/ref/155.jpg   \n",
       "x                                                   1190.0   \n",
       "y                                                    585.0   \n",
       "r1                                                     9.0   \n",
       "r2                                                    11.0   \n",
       "theta                                           122.612968   \n",
       "vx                                                4.571429   \n",
       "vy                                                1.285714   \n",
       "v                                                 4.748791   \n",
       "angle                                           -15.708638   \n",
       "Region                                                 III   \n",
       "time                                                   155   \n",
       "vx_using_curve                                    4.658387   \n",
       "vy_using_curve                                    1.359766   \n",
       "v_using_curve                                     4.852786   \n",
       "angle_using_curve                                16.272328   \n",
       "\n",
       "                                                       143  \\\n",
       "id                 ../../data/extracted_images/ref/156.jpg   \n",
       "x                                                   1194.0   \n",
       "y                                                    586.0   \n",
       "r1                                                     9.0   \n",
       "r2                                                    11.0   \n",
       "theta                                           110.580854   \n",
       "vx                                                4.571429   \n",
       "vy                                                1.285714   \n",
       "v                                                 4.748791   \n",
       "angle                                           -15.708638   \n",
       "Region                                                 III   \n",
       "time                                                   156   \n",
       "vx_using_curve                                    4.658387   \n",
       "vy_using_curve                                    1.436098   \n",
       "v_using_curve                                     4.874725   \n",
       "angle_using_curve                                17.133598   \n",
       "\n",
       "                                                       144  \\\n",
       "id                 ../../data/extracted_images/ref/157.jpg   \n",
       "x                                                   1198.0   \n",
       "y                                                    588.0   \n",
       "r1                                                     9.0   \n",
       "r2                                                    10.0   \n",
       "theta                                            26.356059   \n",
       "vx                                                4.428571   \n",
       "vy                                                1.428571   \n",
       "v                                                 4.653285   \n",
       "angle                                           -17.878697   \n",
       "Region                                                 III   \n",
       "time                                                   157   \n",
       "vx_using_curve                                    4.658387   \n",
       "vy_using_curve                                     1.51243   \n",
       "v_using_curve                                     4.897755   \n",
       "angle_using_curve                                 17.98696   \n",
       "\n",
       "                                                       145  \n",
       "id                 ../../data/extracted_images/ref/158.jpg  \n",
       "x                                                   1198.0  \n",
       "y                                                    589.0  \n",
       "r1                                                     5.0  \n",
       "r2                                                     8.0  \n",
       "theta                                             9.740283  \n",
       "vx                                                3.714286  \n",
       "vy                                                1.428571  \n",
       "v                                                  3.97954  \n",
       "angle                                           -21.037511  \n",
       "Region                                                 III  \n",
       "time                                                   158  \n",
       "vx_using_curve                                    4.658387  \n",
       "vy_using_curve                                    1.588761  \n",
       "v_using_curve                                     4.921862  \n",
       "angle_using_curve                                18.832148  "
      ]
     },
     "execution_count": 29,
     "metadata": {},
     "output_type": "execute_result"
    }
   ],
   "source": [
    "df_final = pd.merge(df_c, new_info_df, on=\"time\", how=\"left\")\n",
    "df_final.tail().T"
   ]
  },
  {
   "cell_type": "markdown",
   "metadata": {},
   "source": [
    "## Adding the Additional Information"
   ]
  },
  {
   "cell_type": "code",
   "execution_count": 30,
   "metadata": {},
   "outputs": [
    {
     "data": {
      "text/plain": [
       "(4.6583866068438775,\n",
       " -3.5254775721888096,\n",
       " 5.842050829189072,\n",
       " -37.118518888052165)"
      ]
     },
     "execution_count": 30,
     "metadata": {},
     "output_type": "execute_result"
    }
   ],
   "source": [
    "x_speed = vx[0]\n",
    "y_speed = vy[0]\n",
    "speed = v[0]\n",
    "angle = angles[0]\n",
    "x_speed, y_speed, speed, angle"
   ]
  },
  {
   "cell_type": "code",
   "execution_count": 38,
   "metadata": {},
   "outputs": [
    {
     "name": "stdout",
     "output_type": "stream",
     "text": [
      "USING CURVE FIT AT LEAVE FRAME\n",
      "### ANGLE: -37.12\n",
      "### VELOCITY: 5.84\n",
      "### X VELOCITY: 4.66\n",
      "### Y VELOCITY: -3.53\n",
      "### g: 0.0763\n",
      "************************************************************\n",
      "\n"
     ]
    }
   ],
   "source": [
    "pattern = \"***\"\n",
    "information = f\"\"\"USING CURVE FIT AT LEAVE FRAME\n",
    "### ANGLE: {np.round(angle, 2)}\n",
    "### VELOCITY: {np.round(speed, 2)}\n",
    "### X VELOCITY: {np.round(x_speed, 2)}\n",
    "### Y VELOCITY: {np.round(y_speed, 2)}\n",
    "### g: {np.round(g, 4)}\n",
    "{pattern*20}\n",
    "\"\"\"\n",
    "print(information)"
   ]
  },
  {
   "cell_type": "markdown",
   "metadata": {},
   "source": [
    "First, create a new string containing just the previous text file. Else we'll duplicate the text file."
   ]
  },
  {
   "cell_type": "code",
   "execution_count": 32,
   "metadata": {},
   "outputs": [
    {
     "name": "stdout",
     "output_type": "stream",
     "text": [
      "### ref.tif\n",
      "### First Frame ID: 017\n",
      "### Last Frame ID: 161\n",
      "### Contact Frame ID: 068\n",
      "### Leave Frame ID: 090\n",
      "### Angle: 24.5\n",
      "\n"
     ]
    }
   ],
   "source": [
    "with open(RESULT_DIR +\"/info.txt\", \"r+\") as f:\n",
    "    texts = f.readlines()\n",
    "if len(texts)>44:\n",
    "    text = \"\".join(texts[:-6])\n",
    "else:\n",
    "    text = \"\".join(texts)\n",
    "print(text[:125])\n",
    "all_text = text+information"
   ]
  },
  {
   "cell_type": "code",
   "execution_count": 33,
   "metadata": {},
   "outputs": [
    {
     "data": {
      "text/plain": [
       "49"
      ]
     },
     "execution_count": 33,
     "metadata": {},
     "output_type": "execute_result"
    }
   ],
   "source": [
    "len(texts)"
   ]
  },
  {
   "cell_type": "code",
   "execution_count": 34,
   "metadata": {},
   "outputs": [],
   "source": [
    "with open(RESULT_DIR +\"/info.txt\", \"w\") as f:\n",
    "    f.writelines(all_text)"
   ]
  },
  {
   "cell_type": "markdown",
   "metadata": {},
   "source": [
    "### Save the DataFrame"
   ]
  },
  {
   "cell_type": "code",
   "execution_count": 35,
   "metadata": {},
   "outputs": [],
   "source": [
    "df_final.to_csv(RESULT_DIR + f\"/{sequence}_final.csv\", index=False)"
   ]
  }
 ],
 "metadata": {
  "kernelspec": {
   "display_name": "Python 3.7.13 ('data-science')",
   "language": "python",
   "name": "python3"
  },
  "language_info": {
   "codemirror_mode": {
    "name": "ipython",
    "version": 3
   },
   "file_extension": ".py",
   "mimetype": "text/x-python",
   "name": "python",
   "nbconvert_exporter": "python",
   "pygments_lexer": "ipython3",
   "version": "3.7.13"
  },
  "orig_nbformat": 4,
  "vscode": {
   "interpreter": {
    "hash": "2efee1efa502125d01e6b4768ba06d9453d29f3642bfd14ad5d4a769de82e88c"
   }
  }
 },
 "nbformat": 4,
 "nbformat_minor": 2
}
