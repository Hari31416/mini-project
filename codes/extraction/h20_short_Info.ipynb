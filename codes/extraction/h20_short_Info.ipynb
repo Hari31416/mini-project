{
 "cells": [
  {
   "cell_type": "markdown",
   "metadata": {},
   "source": [
    "# Imports"
   ]
  },
  {
   "cell_type": "code",
   "execution_count": 1,
   "metadata": {},
   "outputs": [],
   "source": [
    "import re\n",
    "import numpy as np\n",
    "import matplotlib.pyplot as plt\n",
    "import pandas as pd\n",
    "from scipy.optimize import curve_fit\n",
    "import warnings\n",
    "warnings.filterwarnings(\"ignore\")\n",
    "plt.rcdefaults()"
   ]
  },
  {
   "cell_type": "markdown",
   "metadata": {},
   "source": [
    "# Defining the Directories"
   ]
  },
  {
   "cell_type": "code",
   "execution_count": 2,
   "metadata": {},
   "outputs": [],
   "source": [
    "sequence = \"h20_short\"\n",
    "DATA_DIR = '../../data/extracted_images/' + sequence\n",
    "RESULT_DIR = '../../data/results/' + sequence"
   ]
  },
  {
   "cell_type": "markdown",
   "metadata": {},
   "source": [
    "# Getting Informations and Reading the Files"
   ]
  },
  {
   "cell_type": "markdown",
   "metadata": {},
   "source": [
    "## Getting Frame Information"
   ]
  },
  {
   "cell_type": "code",
   "execution_count": 3,
   "metadata": {},
   "outputs": [],
   "source": [
    "info_dict = {\n",
    "    \"first_frame\": 1,\n",
    "    \"last_frame\": 2,\n",
    "    \"contact_frame\": 3,\n",
    "    \"leave_frame\": 4,\n",
    "    \"angle\": 5,\n",
    "    \"passthrough\": 6,\n",
    "}"
   ]
  },
  {
   "cell_type": "code",
   "execution_count": 4,
   "metadata": {},
   "outputs": [],
   "source": [
    "def get_info(file):\n",
    "    information = {}\n",
    "    with open(file, \"r\") as f:\n",
    "        texts = f.readlines()\n",
    "    for key, value in info_dict.items():\n",
    "        line = texts[value]\n",
    "        info = line.split(\":\")[1].strip()\n",
    "        information[key] = info\n",
    "    return information\n",
    "\n",
    "information = get_info(f\"{DATA_DIR}.txt\")"
   ]
  },
  {
   "cell_type": "code",
   "execution_count": 5,
   "metadata": {},
   "outputs": [],
   "source": [
    "first_frame = DATA_DIR + \"/\" +information[\"first_frame\"]\n",
    "last_frame = DATA_DIR + \"/\" +information[\"last_frame\"]\n",
    "contact_frame = DATA_DIR + \"/\" +information[\"contact_frame\"]\n",
    "angle = information[\"angle\"]\n",
    "leave_frame = DATA_DIR + \"/\" +information[\"leave_frame\"]\n",
    "passthrough = information[\"passthrough\"]"
   ]
  },
  {
   "cell_type": "code",
   "execution_count": 6,
   "metadata": {},
   "outputs": [
    {
     "data": {
      "text/plain": [
       "('../../data/extracted_images/h20_short/007',\n",
       " '../../data/extracted_images/h20_short/130')"
      ]
     },
     "execution_count": 6,
     "metadata": {},
     "output_type": "execute_result"
    }
   ],
   "source": [
    "first_frame, last_frame"
   ]
  },
  {
   "cell_type": "markdown",
   "metadata": {},
   "source": [
    "## Converting the Frame ID to Integer"
   ]
  },
  {
   "cell_type": "code",
   "execution_count": 7,
   "metadata": {},
   "outputs": [
    {
     "data": {
      "text/plain": [
       "(7, 88, 104)"
      ]
     },
     "execution_count": 7,
     "metadata": {},
     "output_type": "execute_result"
    }
   ],
   "source": [
    "reg = re.compile(r\"\\d{3}\")\n",
    "first_frame_num = int(reg.findall(first_frame)[0])\n",
    "contact_frame_num = int(reg.findall(contact_frame)[0])\n",
    "leave_frame_num = int(reg.findall(leave_frame)[0])\n",
    "first_frame_num, contact_frame_num, leave_frame_num"
   ]
  },
  {
   "cell_type": "markdown",
   "metadata": {},
   "source": [
    "## Reading the DF"
   ]
  },
  {
   "cell_type": "code",
   "execution_count": 8,
   "metadata": {},
   "outputs": [],
   "source": [
    "df_name = sequence+\"_raw.csv\"\n",
    "df = pd.read_csv(RESULT_DIR + '/'+df_name)\n",
    "df_c = df[df[\"x\"].notna()]"
   ]
  },
  {
   "cell_type": "markdown",
   "metadata": {},
   "source": [
    "# Fitting Curves"
   ]
  },
  {
   "cell_type": "markdown",
   "metadata": {},
   "source": [
    "## The Curves to be Fitted"
   ]
  },
  {
   "cell_type": "markdown",
   "metadata": {},
   "source": [
    "We'll assume that downward is the positive direction. In this way, the gravitational acceleration is positive. In x direction, no force is acting and hence the equation of motion is simply:\n",
    "$$\n",
    "x(t) = x_0 + v_{x0}t\n",
    "$$\n",
    "Here $x_0$ is the initial x position, $v_{x0}$ is the initial y velocity."
   ]
  },
  {
   "cell_type": "markdown",
   "metadata": {},
   "source": [
    "Now, in y direction, the equation of motion is:\n",
    "$$\n",
    "y(t) = y_0 + v_{y0}t + \\frac{1}{2}gt^2\n",
    "$$\n",
    "Here, $y_0$ is the initial y position, $v_{y0}$ is the initial y velocity, and $g$ is the acceleration due to gravity."
   ]
  },
  {
   "cell_type": "markdown",
   "metadata": {},
   "source": [
    "We'll optimize these two equations to get the initial velocity and the initial position for x and y direction."
   ]
  },
  {
   "cell_type": "markdown",
   "metadata": {},
   "source": [
    "We can also phrase the same problem by eliminating $t$ from the equation of motions. This way, we'll get $y$ as a function of $x$. Eliminating $t$ from the equation of motion, we get:\n",
    "$$\n",
    "y = y_0 + \\frac{v_y}{v_x}(x - x_0) + \\frac{1}{2}g\\frac{(x - x_0)^2}{v_x^2}\n",
    "$$\n"
   ]
  },
  {
   "cell_type": "markdown",
   "metadata": {},
   "source": [
    "Here, we have rewritten $v_{x0}$ as $v_x$ and $v_{y0}$ as $v_y$. \n",
    "<!-- Defining $\\frac{v_y}{v_x}$ as $m$, which is nothing but $\\tan(\\theta)$ where $\\theta$ is the angle between the y and x velocity, we get:\n",
    "$$\n",
    "y = y_0 + m(x - x_0) + \\frac{1}{2}g\\frac{(x - x_0)^2}{v_x^2}\n",
    "$$ -->"
   ]
  },
  {
   "cell_type": "markdown",
   "metadata": {},
   "source": [
    "This is a parabola with the parameters $y_0$, $m$, $g$ and $v_x$ and $v_y$. We can use `scipy` to get these parameters."
   ]
  },
  {
   "cell_type": "code",
   "execution_count": 9,
   "metadata": {},
   "outputs": [],
   "source": [
    "def the_parabola(x, x0, y0, vy, vx, g):\n",
    "    second_term = (vy/vx)*(x-x0)\n",
    "    third_term = 0.5*g*((x-x0)/vx)**2\n",
    "    return y0 + second_term + third_term\n",
    "the_parabola_vector = np.vectorize(the_parabola)"
   ]
  },
  {
   "cell_type": "markdown",
   "metadata": {},
   "source": [
    "However, it turned out that using the parabola does not give a reasonable result. So, we'll be using the parametric equations."
   ]
  },
  {
   "cell_type": "code",
   "execution_count": 10,
   "metadata": {},
   "outputs": [],
   "source": [
    "def parametric_x(t, x0, vx0):\n",
    "    return x0 + vx0*t\n",
    "parametric_x_vector = np.vectorize(parametric_x)\n",
    "\n",
    "def parametric_y(t, y0, vy0, g):\n",
    "    return y0 + vy0*t+0.5*g*t**2\n",
    "parametric_y_vector = np.vectorize(parametric_y)"
   ]
  },
  {
   "cell_type": "markdown",
   "metadata": {},
   "source": [
    "## Region III"
   ]
  },
  {
   "cell_type": "markdown",
   "metadata": {},
   "source": [
    "### Data For Region III"
   ]
  },
  {
   "cell_type": "code",
   "execution_count": 11,
   "metadata": {},
   "outputs": [],
   "source": [
    "region_3 = df_c[df_c[\"Region\"] == \"III\"]"
   ]
  },
  {
   "cell_type": "code",
   "execution_count": 12,
   "metadata": {},
   "outputs": [],
   "source": [
    "X = region_3[\"x\"].values\n",
    "Y = region_3[\"y\"].values\n",
    "t = region_3[\"time\"].values\n",
    "offset = t[0]\n",
    "tbar = t-offset"
   ]
  },
  {
   "cell_type": "code",
   "execution_count": 13,
   "metadata": {},
   "outputs": [
    {
     "data": {
      "text/plain": [
       "array([ 0,  1,  2,  3,  4,  5,  6,  7,  8,  9, 10, 11, 12, 13])"
      ]
     },
     "execution_count": 13,
     "metadata": {},
     "output_type": "execute_result"
    }
   ],
   "source": [
    "tbar"
   ]
  },
  {
   "cell_type": "markdown",
   "metadata": {},
   "source": [
    "### Fitting the Curves"
   ]
  },
  {
   "cell_type": "code",
   "execution_count": 14,
   "metadata": {},
   "outputs": [],
   "source": [
    "popt, pcov = curve_fit(the_parabola, X, Y, maxfev=10000)\n",
    "popty, pcovy = curve_fit(parametric_y, tbar, Y)\n",
    "poptx, pcovx = curve_fit(parametric_x, tbar, X)"
   ]
  },
  {
   "cell_type": "code",
   "execution_count": 15,
   "metadata": {},
   "outputs": [
    {
     "data": {
      "text/plain": [
       "array([ 8.58848500e+03, -1.55805042e+06,  2.28072925e+04, -5.61129445e+01,\n",
       "       -1.66855621e+02])"
      ]
     },
     "execution_count": 15,
     "metadata": {},
     "output_type": "execute_result"
    }
   ],
   "source": [
    "popt"
   ]
  },
  {
   "cell_type": "markdown",
   "metadata": {},
   "source": [
    "As you can see, the parameters calculated by the fitting method is ridiculus, even though it fits the parabola well (See the figure below)."
   ]
  },
  {
   "cell_type": "code",
   "execution_count": 16,
   "metadata": {},
   "outputs": [
    {
     "data": {
      "text/plain": [
       "(array([881.97142753,   3.9384617 ]),\n",
       " array([ 6.48150000e+02,  4.12939560e+00, -1.92307692e-02]))"
      ]
     },
     "execution_count": 16,
     "metadata": {},
     "output_type": "execute_result"
    }
   ],
   "source": [
    "poptx, popty"
   ]
  },
  {
   "cell_type": "markdown",
   "metadata": {},
   "source": [
    "These values are reasonable."
   ]
  },
  {
   "cell_type": "code",
   "execution_count": 17,
   "metadata": {},
   "outputs": [
    {
     "data": {
      "text/plain": [
       "-0.019230769232993827"
      ]
     },
     "execution_count": 17,
     "metadata": {},
     "output_type": "execute_result"
    }
   ],
   "source": [
    "g = popty[2]\n",
    "g"
   ]
  },
  {
   "cell_type": "markdown",
   "metadata": {},
   "source": [
    "### Analyzing the Results"
   ]
  },
  {
   "cell_type": "code",
   "execution_count": 18,
   "metadata": {},
   "outputs": [
    {
     "data": {
      "image/png": "[encoded data removed]",
      "text/plain": [
       "<Figure size 640x480 with 1 Axes>"
      ]
     },
     "metadata": {},
     "output_type": "display_data"
    }
   ],
   "source": [
    "plt.plot(X,Y, 'o', label=\"data\")\n",
    "plt.plot(X, the_parabola_vector(X, *popt),label=\"fit using parabola\")\n",
    "plt.legend();"
   ]
  },
  {
   "cell_type": "code",
   "execution_count": 19,
   "metadata": {},
   "outputs": [
    {
     "data": {
      "image/png": "[encoded data removed]",
      "text/plain": [
       "<Figure size 640x480 with 1 Axes>"
      ]
     },
     "metadata": {},
     "output_type": "display_data"
    }
   ],
   "source": [
    "plt.plot(X,Y, 'o', label=\"data\")\n",
    "plt.plot(parametric_x_vector(tbar, *poptx), parametric_y_vector(tbar, *popty), label=\"fit using parametric\")\n",
    "plt.legend();"
   ]
  },
  {
   "cell_type": "markdown",
   "metadata": {},
   "source": [
    "We can see that using the parametric equations, we can fit the curve accurately."
   ]
  },
  {
   "cell_type": "markdown",
   "metadata": {},
   "source": [
    "### Getting Speeds"
   ]
  },
  {
   "cell_type": "markdown",
   "metadata": {},
   "source": [
    "Next, we'll see how the calculated velocities are? The eqaution for the speeds are:\n",
    "$$\n",
    "v_x(t) = v_{x0}\\\\\n",
    "v_y(t) = v_{y0} + gt\n",
    "$$"
   ]
  },
  {
   "cell_type": "code",
   "execution_count": 20,
   "metadata": {},
   "outputs": [],
   "source": [
    "vy = popty[1]+popty[2]*(tbar)\n",
    "vx = np.ones(len(tbar))*poptx[1]\n",
    "v = np.sqrt(vy**2+vx**2)"
   ]
  },
  {
   "cell_type": "code",
   "execution_count": 21,
   "metadata": {},
   "outputs": [
    {
     "data": {
      "image/png": "[encoded data removed]",
      "text/plain": [
       "<Figure size 640x480 with 1 Axes>"
      ]
     },
     "metadata": {},
     "output_type": "display_data"
    }
   ],
   "source": [
    "plt.plot(tbar, region_3[\"vy\"].values, label=\"vy_data\")\n",
    "plt.plot(tbar, vy, label=\"vy_calculated\")\n",
    "plt.legend()\n",
    "plt.xlabel(\"time\")\n",
    "plt.ylabel(\"vy\");"
   ]
  },
  {
   "cell_type": "code",
   "execution_count": 22,
   "metadata": {},
   "outputs": [
    {
     "data": {
      "image/png": "[encoded data removed]",
      "text/plain": [
       "<Figure size 640x480 with 1 Axes>"
      ]
     },
     "metadata": {},
     "output_type": "display_data"
    }
   ],
   "source": [
    "plt.plot(tbar, region_3[\"vx\"].values, label=\"vx_data\")\n",
    "plt.plot(tbar, vx, label=\"vx_calculated\")\n",
    "plt.legend()\n",
    "plt.xlabel(\"time\")\n",
    "plt.ylabel(\"vx\");"
   ]
  },
  {
   "cell_type": "code",
   "execution_count": 23,
   "metadata": {},
   "outputs": [
    {
     "data": {
      "image/png": "[encoded data removed]",
      "text/plain": [
       "<Figure size 640x480 with 1 Axes>"
      ]
     },
     "metadata": {},
     "output_type": "display_data"
    }
   ],
   "source": [
    "plt.plot(tbar, region_3[\"v\"].values, label=\"v_data\")\n",
    "plt.plot(tbar, v, label=\"v_calculated\")\n",
    "plt.legend()\n",
    "plt.xlabel(\"time\")\n",
    "plt.ylabel(\"v\");"
   ]
  },
  {
   "cell_type": "markdown",
   "metadata": {},
   "source": [
    "They are reasonable."
   ]
  },
  {
   "cell_type": "markdown",
   "metadata": {},
   "source": [
    "### Getting Angles"
   ]
  },
  {
   "cell_type": "markdown",
   "metadata": {},
   "source": [
    "Next, let's calculate the angle between the x and y velocity."
   ]
  },
  {
   "cell_type": "code",
   "execution_count": 24,
   "metadata": {},
   "outputs": [],
   "source": [
    "angles= np.arctan(vy/vx)*180/np.pi"
   ]
  },
  {
   "cell_type": "code",
   "execution_count": 25,
   "metadata": {},
   "outputs": [
    {
     "data": {
      "image/png": "[encoded data removed]",
      "text/plain": [
       "<Figure size 640x480 with 1 Axes>"
      ]
     },
     "metadata": {},
     "output_type": "display_data"
    }
   ],
   "source": [
    "plt.plot(-angles, label = \"calculated\")\n",
    "plt.plot(region_3[\"angle\"].values, label = \"data\")\n",
    "plt.legend();"
   ]
  },
  {
   "cell_type": "markdown",
   "metadata": {},
   "source": [
    "Again, reasonable."
   ]
  },
  {
   "cell_type": "markdown",
   "metadata": {},
   "source": [
    "## Getting the Additional Information"
   ]
  },
  {
   "cell_type": "code",
   "execution_count": 26,
   "metadata": {},
   "outputs": [],
   "source": [
    "new_info_df = pd.DataFrame({\"vx\": vx, \"vy\": vy, \"v\":v, \"angle\": angles, \"time\":t})\n",
    "new_info_df.columns = [\"vx_using_curve\", \"vy_using_curve\", \"v_using_curve\", \"angle_using_curve\", \"time\"]"
   ]
  },
  {
   "cell_type": "code",
   "execution_count": 27,
   "metadata": {},
   "outputs": [
    {
     "data": {
      "text/html": [
       "<div>\n",
       "<style scoped>\n",
       "    .dataframe tbody tr th:only-of-type {\n",
       "        vertical-align: middle;\n",
       "    }\n",
       "\n",
       "    .dataframe tbody tr th {\n",
       "        vertical-align: top;\n",
       "    }\n",
       "\n",
       "    .dataframe thead th {\n",
       "        text-align: right;\n",
       "    }\n",
       "</style>\n",
       "<table border=\"1\" class=\"dataframe\">\n",
       "  <thead>\n",
       "    <tr style=\"text-align: right;\">\n",
       "      <th></th>\n",
       "      <th>vx_using_curve</th>\n",
       "      <th>vy_using_curve</th>\n",
       "      <th>v_using_curve</th>\n",
       "      <th>angle_using_curve</th>\n",
       "      <th>time</th>\n",
       "    </tr>\n",
       "  </thead>\n",
       "  <tbody>\n",
       "    <tr>\n",
       "      <th>0</th>\n",
       "      <td>3.938462</td>\n",
       "      <td>4.129396</td>\n",
       "      <td>5.706434</td>\n",
       "      <td>46.355709</td>\n",
       "      <td>102</td>\n",
       "    </tr>\n",
       "    <tr>\n",
       "      <th>1</th>\n",
       "      <td>3.938462</td>\n",
       "      <td>4.110165</td>\n",
       "      <td>5.692533</td>\n",
       "      <td>46.222118</td>\n",
       "      <td>103</td>\n",
       "    </tr>\n",
       "    <tr>\n",
       "      <th>2</th>\n",
       "      <td>3.938462</td>\n",
       "      <td>4.090934</td>\n",
       "      <td>5.678664</td>\n",
       "      <td>46.087874</td>\n",
       "      <td>104</td>\n",
       "    </tr>\n",
       "    <tr>\n",
       "      <th>3</th>\n",
       "      <td>3.938462</td>\n",
       "      <td>4.071703</td>\n",
       "      <td>5.664826</td>\n",
       "      <td>45.952974</td>\n",
       "      <td>105</td>\n",
       "    </tr>\n",
       "    <tr>\n",
       "      <th>4</th>\n",
       "      <td>3.938462</td>\n",
       "      <td>4.052473</td>\n",
       "      <td>5.651019</td>\n",
       "      <td>45.817413</td>\n",
       "      <td>106</td>\n",
       "    </tr>\n",
       "    <tr>\n",
       "      <th>5</th>\n",
       "      <td>3.938462</td>\n",
       "      <td>4.033242</td>\n",
       "      <td>5.637244</td>\n",
       "      <td>45.681190</td>\n",
       "      <td>107</td>\n",
       "    </tr>\n",
       "    <tr>\n",
       "      <th>6</th>\n",
       "      <td>3.938462</td>\n",
       "      <td>4.014011</td>\n",
       "      <td>5.623501</td>\n",
       "      <td>45.544299</td>\n",
       "      <td>108</td>\n",
       "    </tr>\n",
       "    <tr>\n",
       "      <th>7</th>\n",
       "      <td>3.938462</td>\n",
       "      <td>3.994780</td>\n",
       "      <td>5.609791</td>\n",
       "      <td>45.406739</td>\n",
       "      <td>109</td>\n",
       "    </tr>\n",
       "    <tr>\n",
       "      <th>8</th>\n",
       "      <td>3.938462</td>\n",
       "      <td>3.975549</td>\n",
       "      <td>5.596112</td>\n",
       "      <td>45.268506</td>\n",
       "      <td>110</td>\n",
       "    </tr>\n",
       "    <tr>\n",
       "      <th>9</th>\n",
       "      <td>3.938462</td>\n",
       "      <td>3.956319</td>\n",
       "      <td>5.582467</td>\n",
       "      <td>45.129595</td>\n",
       "      <td>111</td>\n",
       "    </tr>\n",
       "    <tr>\n",
       "      <th>10</th>\n",
       "      <td>3.938462</td>\n",
       "      <td>3.937088</td>\n",
       "      <td>5.568855</td>\n",
       "      <td>44.990006</td>\n",
       "      <td>112</td>\n",
       "    </tr>\n",
       "    <tr>\n",
       "      <th>11</th>\n",
       "      <td>3.938462</td>\n",
       "      <td>3.917857</td>\n",
       "      <td>5.555275</td>\n",
       "      <td>44.849732</td>\n",
       "      <td>113</td>\n",
       "    </tr>\n",
       "    <tr>\n",
       "      <th>12</th>\n",
       "      <td>3.938462</td>\n",
       "      <td>3.898626</td>\n",
       "      <td>5.541730</td>\n",
       "      <td>44.708772</td>\n",
       "      <td>114</td>\n",
       "    </tr>\n",
       "    <tr>\n",
       "      <th>13</th>\n",
       "      <td>3.938462</td>\n",
       "      <td>3.879396</td>\n",
       "      <td>5.528218</td>\n",
       "      <td>44.567123</td>\n",
       "      <td>115</td>\n",
       "    </tr>\n",
       "  </tbody>\n",
       "</table>\n",
       "</div>"
      ],
      "text/plain": [
       "    vx_using_curve  vy_using_curve  v_using_curve  angle_using_curve  time\n",
       "0         3.938462        4.129396       5.706434          46.355709   102\n",
       "1         3.938462        4.110165       5.692533          46.222118   103\n",
       "2         3.938462        4.090934       5.678664          46.087874   104\n",
       "3         3.938462        4.071703       5.664826          45.952974   105\n",
       "4         3.938462        4.052473       5.651019          45.817413   106\n",
       "5         3.938462        4.033242       5.637244          45.681190   107\n",
       "6         3.938462        4.014011       5.623501          45.544299   108\n",
       "7         3.938462        3.994780       5.609791          45.406739   109\n",
       "8         3.938462        3.975549       5.596112          45.268506   110\n",
       "9         3.938462        3.956319       5.582467          45.129595   111\n",
       "10        3.938462        3.937088       5.568855          44.990006   112\n",
       "11        3.938462        3.917857       5.555275          44.849732   113\n",
       "12        3.938462        3.898626       5.541730          44.708772   114\n",
       "13        3.938462        3.879396       5.528218          44.567123   115"
      ]
     },
     "execution_count": 27,
     "metadata": {},
     "output_type": "execute_result"
    }
   ],
   "source": [
    "new_info_df"
   ]
  },
  {
   "cell_type": "code",
   "execution_count": 28,
   "metadata": {},
   "outputs": [
    {
     "data": {
      "text/html": [
       "<div>\n",
       "<style scoped>\n",
       "    .dataframe tbody tr th:only-of-type {\n",
       "        vertical-align: middle;\n",
       "    }\n",
       "\n",
       "    .dataframe tbody tr th {\n",
       "        vertical-align: top;\n",
       "    }\n",
       "\n",
       "    .dataframe thead th {\n",
       "        text-align: right;\n",
       "    }\n",
       "</style>\n",
       "<table border=\"1\" class=\"dataframe\">\n",
       "  <thead>\n",
       "    <tr style=\"text-align: right;\">\n",
       "      <th></th>\n",
       "      <th>104</th>\n",
       "      <th>105</th>\n",
       "      <th>106</th>\n",
       "      <th>107</th>\n",
       "      <th>108</th>\n",
       "    </tr>\n",
       "  </thead>\n",
       "  <tbody>\n",
       "    <tr>\n",
       "      <th>id</th>\n",
       "      <td>../../data/extracted_images/h20_short/111.jpg</td>\n",
       "      <td>../../data/extracted_images/h20_short/112.jpg</td>\n",
       "      <td>../../data/extracted_images/h20_short/113.jpg</td>\n",
       "      <td>../../data/extracted_images/h20_short/114.jpg</td>\n",
       "      <td>../../data/extracted_images/h20_short/115.jpg</td>\n",
       "    </tr>\n",
       "    <tr>\n",
       "      <th>x</th>\n",
       "      <td>949.0</td>\n",
       "      <td>950.0</td>\n",
       "      <td>898.0</td>\n",
       "      <td>899.0</td>\n",
       "      <td>903.0</td>\n",
       "    </tr>\n",
       "    <tr>\n",
       "      <th>y</th>\n",
       "      <td>684.0</td>\n",
       "      <td>685.0</td>\n",
       "      <td>695.0</td>\n",
       "      <td>699.0</td>\n",
       "      <td>699.0</td>\n",
       "    </tr>\n",
       "    <tr>\n",
       "      <th>r1</th>\n",
       "      <td>16.0</td>\n",
       "      <td>65.0</td>\n",
       "      <td>8.0</td>\n",
       "      <td>13.0</td>\n",
       "      <td>3.0</td>\n",
       "    </tr>\n",
       "    <tr>\n",
       "      <th>r2</th>\n",
       "      <td>67.0</td>\n",
       "      <td>14.0</td>\n",
       "      <td>13.0</td>\n",
       "      <td>7.0</td>\n",
       "      <td>7.0</td>\n",
       "    </tr>\n",
       "    <tr>\n",
       "      <th>theta</th>\n",
       "      <td>87.089585</td>\n",
       "      <td>-4.583662</td>\n",
       "      <td>34.950426</td>\n",
       "      <td>-44.690708</td>\n",
       "      <td>89.954374</td>\n",
       "    </tr>\n",
       "    <tr>\n",
       "      <th>vx</th>\n",
       "      <td>10.0</td>\n",
       "      <td>9.857143</td>\n",
       "      <td>1.857143</td>\n",
       "      <td>1.857143</td>\n",
       "      <td>-4.714286</td>\n",
       "    </tr>\n",
       "    <tr>\n",
       "      <th>vy</th>\n",
       "      <td>4.142857</td>\n",
       "      <td>3.428571</td>\n",
       "      <td>3.714286</td>\n",
       "      <td>4.0</td>\n",
       "      <td>4.0</td>\n",
       "    </tr>\n",
       "    <tr>\n",
       "      <th>v</th>\n",
       "      <td>10.824198</td>\n",
       "      <td>10.436396</td>\n",
       "      <td>4.152698</td>\n",
       "      <td>4.4101</td>\n",
       "      <td>6.182596</td>\n",
       "    </tr>\n",
       "    <tr>\n",
       "      <th>angle</th>\n",
       "      <td>-22.503528</td>\n",
       "      <td>-19.179008</td>\n",
       "      <td>-63.434949</td>\n",
       "      <td>-65.095231</td>\n",
       "      <td>40.3141</td>\n",
       "    </tr>\n",
       "    <tr>\n",
       "      <th>Region</th>\n",
       "      <td>III</td>\n",
       "      <td>III</td>\n",
       "      <td>III</td>\n",
       "      <td>III</td>\n",
       "      <td>III</td>\n",
       "    </tr>\n",
       "    <tr>\n",
       "      <th>time</th>\n",
       "      <td>111</td>\n",
       "      <td>112</td>\n",
       "      <td>113</td>\n",
       "      <td>114</td>\n",
       "      <td>115</td>\n",
       "    </tr>\n",
       "    <tr>\n",
       "      <th>vx_using_curve</th>\n",
       "      <td>3.938462</td>\n",
       "      <td>3.938462</td>\n",
       "      <td>3.938462</td>\n",
       "      <td>3.938462</td>\n",
       "      <td>3.938462</td>\n",
       "    </tr>\n",
       "    <tr>\n",
       "      <th>vy_using_curve</th>\n",
       "      <td>3.956319</td>\n",
       "      <td>3.937088</td>\n",
       "      <td>3.917857</td>\n",
       "      <td>3.898626</td>\n",
       "      <td>3.879396</td>\n",
       "    </tr>\n",
       "    <tr>\n",
       "      <th>v_using_curve</th>\n",
       "      <td>5.582467</td>\n",
       "      <td>5.568855</td>\n",
       "      <td>5.555275</td>\n",
       "      <td>5.54173</td>\n",
       "      <td>5.528218</td>\n",
       "    </tr>\n",
       "    <tr>\n",
       "      <th>angle_using_curve</th>\n",
       "      <td>45.129595</td>\n",
       "      <td>44.990006</td>\n",
       "      <td>44.849732</td>\n",
       "      <td>44.708772</td>\n",
       "      <td>44.567123</td>\n",
       "    </tr>\n",
       "  </tbody>\n",
       "</table>\n",
       "</div>"
      ],
      "text/plain": [
       "                                                             104  \\\n",
       "id                 ../../data/extracted_images/h20_short/111.jpg   \n",
       "x                                                          949.0   \n",
       "y                                                          684.0   \n",
       "r1                                                          16.0   \n",
       "r2                                                          67.0   \n",
       "theta                                                  87.089585   \n",
       "vx                                                          10.0   \n",
       "vy                                                      4.142857   \n",
       "v                                                      10.824198   \n",
       "angle                                                 -22.503528   \n",
       "Region                                                       III   \n",
       "time                                                         111   \n",
       "vx_using_curve                                          3.938462   \n",
       "vy_using_curve                                          3.956319   \n",
       "v_using_curve                                           5.582467   \n",
       "angle_using_curve                                      45.129595   \n",
       "\n",
       "                                                             105  \\\n",
       "id                 ../../data/extracted_images/h20_short/112.jpg   \n",
       "x                                                          950.0   \n",
       "y                                                          685.0   \n",
       "r1                                                          65.0   \n",
       "r2                                                          14.0   \n",
       "theta                                                  -4.583662   \n",
       "vx                                                      9.857143   \n",
       "vy                                                      3.428571   \n",
       "v                                                      10.436396   \n",
       "angle                                                 -19.179008   \n",
       "Region                                                       III   \n",
       "time                                                         112   \n",
       "vx_using_curve                                          3.938462   \n",
       "vy_using_curve                                          3.937088   \n",
       "v_using_curve                                           5.568855   \n",
       "angle_using_curve                                      44.990006   \n",
       "\n",
       "                                                             106  \\\n",
       "id                 ../../data/extracted_images/h20_short/113.jpg   \n",
       "x                                                          898.0   \n",
       "y                                                          695.0   \n",
       "r1                                                           8.0   \n",
       "r2                                                          13.0   \n",
       "theta                                                  34.950426   \n",
       "vx                                                      1.857143   \n",
       "vy                                                      3.714286   \n",
       "v                                                       4.152698   \n",
       "angle                                                 -63.434949   \n",
       "Region                                                       III   \n",
       "time                                                         113   \n",
       "vx_using_curve                                          3.938462   \n",
       "vy_using_curve                                          3.917857   \n",
       "v_using_curve                                           5.555275   \n",
       "angle_using_curve                                      44.849732   \n",
       "\n",
       "                                                             107  \\\n",
       "id                 ../../data/extracted_images/h20_short/114.jpg   \n",
       "x                                                          899.0   \n",
       "y                                                          699.0   \n",
       "r1                                                          13.0   \n",
       "r2                                                           7.0   \n",
       "theta                                                 -44.690708   \n",
       "vx                                                      1.857143   \n",
       "vy                                                           4.0   \n",
       "v                                                         4.4101   \n",
       "angle                                                 -65.095231   \n",
       "Region                                                       III   \n",
       "time                                                         114   \n",
       "vx_using_curve                                          3.938462   \n",
       "vy_using_curve                                          3.898626   \n",
       "v_using_curve                                            5.54173   \n",
       "angle_using_curve                                      44.708772   \n",
       "\n",
       "                                                             108  \n",
       "id                 ../../data/extracted_images/h20_short/115.jpg  \n",
       "x                                                          903.0  \n",
       "y                                                          699.0  \n",
       "r1                                                           3.0  \n",
       "r2                                                           7.0  \n",
       "theta                                                  89.954374  \n",
       "vx                                                     -4.714286  \n",
       "vy                                                           4.0  \n",
       "v                                                       6.182596  \n",
       "angle                                                    40.3141  \n",
       "Region                                                       III  \n",
       "time                                                         115  \n",
       "vx_using_curve                                          3.938462  \n",
       "vy_using_curve                                          3.879396  \n",
       "v_using_curve                                           5.528218  \n",
       "angle_using_curve                                      44.567123  "
      ]
     },
     "execution_count": 28,
     "metadata": {},
     "output_type": "execute_result"
    }
   ],
   "source": [
    "df_final = pd.merge(df_c, new_info_df, on=\"time\", how=\"left\")\n",
    "df_final.tail().T"
   ]
  },
  {
   "cell_type": "markdown",
   "metadata": {},
   "source": [
    "## Adding the Additional Information"
   ]
  },
  {
   "cell_type": "code",
   "execution_count": 29,
   "metadata": {},
   "outputs": [
    {
     "data": {
      "text/plain": [
       "(3.9384616985051766, 4.129395604402465, 5.706433965994059, 46.35570881841771)"
      ]
     },
     "execution_count": 29,
     "metadata": {},
     "output_type": "execute_result"
    }
   ],
   "source": [
    "x_speed = vx[0]\n",
    "y_speed = vy[0]\n",
    "speed = v[0]\n",
    "angle = angles[0]\n",
    "x_speed, y_speed, speed, angle"
   ]
  },
  {
   "cell_type": "code",
   "execution_count": 30,
   "metadata": {},
   "outputs": [
    {
     "name": "stdout",
     "output_type": "stream",
     "text": [
      "USING CURVE FIT AT LEAVE FRAME\n",
      "### ANGLE: 46.36\n",
      "### VELOCITY: 5.71\n",
      "### X VELOCITY: 3.94\n",
      "### Y VELOCITY: 4.13\n",
      "### g: -0.0192\n",
      "************************************************************\n",
      "\n"
     ]
    }
   ],
   "source": [
    "pattern = \"***\"\n",
    "information = f\"\"\"USING CURVE FIT AT LEAVE FRAME\n",
    "### ANGLE: {np.round(angle, 2)}\n",
    "### VELOCITY: {np.round(speed, 2)}\n",
    "### X VELOCITY: {np.round(x_speed, 2)}\n",
    "### Y VELOCITY: {np.round(y_speed, 2)}\n",
    "### g: {np.round(g, 4)}\n",
    "{pattern*20}\n",
    "\"\"\"\n",
    "print(information)"
   ]
  },
  {
   "cell_type": "markdown",
   "metadata": {},
   "source": [
    "First, create a new string containing just the previous text file. Else we'll duplicate the text file."
   ]
  },
  {
   "cell_type": "code",
   "execution_count": 31,
   "metadata": {},
   "outputs": [
    {
     "name": "stdout",
     "output_type": "stream",
     "text": [
      "### h20_short.tif\n",
      "### First Frame ID: 007\n",
      "### Last Frame ID: 130\n",
      "### Contact Frame ID: 088\n",
      "### Leave Frame ID: 101\n",
      "### Angle:\n"
     ]
    }
   ],
   "source": [
    "with open(RESULT_DIR +\"/info.txt\", \"r+\") as f:\n",
    "    texts = f.readlines()\n",
    "if len(texts)>44:\n",
    "    text = \"\".join(texts[:-6])\n",
    "else:\n",
    "    text = \"\".join(texts)\n",
    "print(text[:125])\n",
    "all_text = text+information"
   ]
  },
  {
   "cell_type": "code",
   "execution_count": 32,
   "metadata": {},
   "outputs": [
    {
     "data": {
      "text/plain": [
       "43"
      ]
     },
     "execution_count": 32,
     "metadata": {},
     "output_type": "execute_result"
    }
   ],
   "source": [
    "len(texts)"
   ]
  },
  {
   "cell_type": "code",
   "execution_count": 33,
   "metadata": {},
   "outputs": [],
   "source": [
    "with open(RESULT_DIR +\"/info.txt\", \"w\") as f:\n",
    "    f.writelines(all_text)"
   ]
  },
  {
   "cell_type": "markdown",
   "metadata": {},
   "source": [
    "### Save the DataFrame"
   ]
  },
  {
   "cell_type": "code",
   "execution_count": 34,
   "metadata": {},
   "outputs": [],
   "source": [
    "df_final.to_csv(RESULT_DIR + f\"/{sequence}_final.csv\", index=False)"
   ]
  }
 ],
 "metadata": {
  "kernelspec": {
   "display_name": "Python 3.7.13 ('data-science')",
   "language": "python",
   "name": "python3"
  },
  "language_info": {
   "codemirror_mode": {
    "name": "ipython",
    "version": 3
   },
   "file_extension": ".py",
   "mimetype": "text/x-python",
   "name": "python",
   "nbconvert_exporter": "python",
   "pygments_lexer": "ipython3",
   "version": "3.7.13"
  },
  "orig_nbformat": 4,
  "vscode": {
   "interpreter": {
    "hash": "2efee1efa502125d01e6b4768ba06d9453d29f3642bfd14ad5d4a769de82e88c"
   }
  }
 },
 "nbformat": 4,
 "nbformat_minor": 2
}
