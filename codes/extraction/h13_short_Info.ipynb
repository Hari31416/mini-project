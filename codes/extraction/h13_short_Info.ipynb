{
 "cells": [
  {
   "cell_type": "markdown",
   "metadata": {},
   "source": [
    "# Imports"
   ]
  },
  {
   "cell_type": "code",
   "execution_count": 1,
   "metadata": {},
   "outputs": [],
   "source": [
    "import re\n",
    "import numpy as np\n",
    "import matplotlib.pyplot as plt\n",
    "import pandas as pd\n",
    "from scipy.optimize import curve_fit\n",
    "import warnings\n",
    "warnings.filterwarnings(\"ignore\")\n",
    "plt.rcdefaults()"
   ]
  },
  {
   "cell_type": "markdown",
   "metadata": {},
   "source": [
    "# Defining the Directories"
   ]
  },
  {
   "cell_type": "code",
   "execution_count": 2,
   "metadata": {},
   "outputs": [],
   "source": [
    "sequence = \"h13_short\"\n",
    "DATA_DIR = '../../data/extracted_images/' + sequence\n",
    "RESULT_DIR = '../../data/results/' + sequence"
   ]
  },
  {
   "cell_type": "markdown",
   "metadata": {},
   "source": [
    "# Getting Informations and Reading the Files"
   ]
  },
  {
   "cell_type": "markdown",
   "metadata": {},
   "source": [
    "## Getting Frame Information"
   ]
  },
  {
   "cell_type": "code",
   "execution_count": 3,
   "metadata": {},
   "outputs": [],
   "source": [
    "info_dict = {\n",
    "    \"first_frame\": 1,\n",
    "    \"last_frame\": 2,\n",
    "    \"contact_frame\": 3,\n",
    "    \"leave_frame\": 4,\n",
    "    \"angle\": 5,\n",
    "    \"passthrough\": 6,\n",
    "}"
   ]
  },
  {
   "cell_type": "code",
   "execution_count": 4,
   "metadata": {},
   "outputs": [],
   "source": [
    "def get_info(file):\n",
    "    information = {}\n",
    "    with open(file, \"r\") as f:\n",
    "        texts = f.readlines()\n",
    "    for key, value in info_dict.items():\n",
    "        line = texts[value]\n",
    "        info = line.split(\":\")[1].strip()\n",
    "        information[key] = info\n",
    "    return information\n",
    "\n",
    "information = get_info(f\"{DATA_DIR}.txt\")"
   ]
  },
  {
   "cell_type": "code",
   "execution_count": 5,
   "metadata": {},
   "outputs": [],
   "source": [
    "first_frame = DATA_DIR + \"/\" +information[\"first_frame\"]\n",
    "last_frame = DATA_DIR + \"/\" +information[\"last_frame\"]\n",
    "contact_frame = DATA_DIR + \"/\" +information[\"contact_frame\"]\n",
    "angle = information[\"angle\"]\n",
    "leave_frame = DATA_DIR + \"/\" +information[\"leave_frame\"]\n",
    "passthrough = information[\"passthrough\"]"
   ]
  },
  {
   "cell_type": "code",
   "execution_count": 6,
   "metadata": {},
   "outputs": [
    {
     "data": {
      "text/plain": [
       "('../../data/extracted_images/h13_short/010',\n",
       " '../../data/extracted_images/h13_short/161')"
      ]
     },
     "execution_count": 6,
     "metadata": {},
     "output_type": "execute_result"
    }
   ],
   "source": [
    "first_frame, last_frame"
   ]
  },
  {
   "cell_type": "markdown",
   "metadata": {},
   "source": [
    "## Converting the Frame ID to Integer"
   ]
  },
  {
   "cell_type": "code",
   "execution_count": 7,
   "metadata": {},
   "outputs": [
    {
     "data": {
      "text/plain": [
       "(10, 77, 116)"
      ]
     },
     "execution_count": 7,
     "metadata": {},
     "output_type": "execute_result"
    }
   ],
   "source": [
    "reg = re.compile(r\"\\d{3}\")\n",
    "first_frame_num = int(reg.findall(first_frame)[0])\n",
    "contact_frame_num = int(reg.findall(contact_frame)[0])\n",
    "leave_frame_num = int(reg.findall(leave_frame)[0])\n",
    "first_frame_num, contact_frame_num, leave_frame_num"
   ]
  },
  {
   "cell_type": "markdown",
   "metadata": {},
   "source": [
    "## Reading the DF"
   ]
  },
  {
   "cell_type": "code",
   "execution_count": 8,
   "metadata": {},
   "outputs": [],
   "source": [
    "df_name = sequence+\"_raw.csv\"\n",
    "df = pd.read_csv(RESULT_DIR + '/'+df_name)\n",
    "df_c = df[df[\"x\"].notna()]"
   ]
  },
  {
   "cell_type": "markdown",
   "metadata": {},
   "source": [
    "# Fitting Curves"
   ]
  },
  {
   "cell_type": "markdown",
   "metadata": {},
   "source": [
    "## The Curves to be Fitted"
   ]
  },
  {
   "cell_type": "markdown",
   "metadata": {},
   "source": [
    "We'll assume that downward is the positive direction. In this way, the gravitational acceleration is positive. In x direction, no force is acting and hence the equation of motion is simply:\n",
    "$$\n",
    "x(t) = x_0 + v_{x0}t\n",
    "$$\n",
    "Here $x_0$ is the initial x position, $v_{x0}$ is the initial y velocity."
   ]
  },
  {
   "cell_type": "markdown",
   "metadata": {},
   "source": [
    "Now, in y direction, the equation of motion is:\n",
    "$$\n",
    "y(t) = y_0 + v_{y0}t + \\frac{1}{2}gt^2\n",
    "$$\n",
    "Here, $y_0$ is the initial y position, $v_{y0}$ is the initial y velocity, and $g$ is the acceleration due to gravity."
   ]
  },
  {
   "cell_type": "markdown",
   "metadata": {},
   "source": [
    "We'll optimize these two equations to get the initial velocity and the initial position for x and y direction."
   ]
  },
  {
   "cell_type": "markdown",
   "metadata": {},
   "source": [
    "We can also phrase the same problem by eliminating $t$ from the equation of motions. This way, we'll get $y$ as a function of $x$. Eliminating $t$ from the equation of motion, we get:\n",
    "$$\n",
    "y = y_0 + \\frac{v_y}{v_x}(x - x_0) + \\frac{1}{2}g\\frac{(x - x_0)^2}{v_x^2}\n",
    "$$\n"
   ]
  },
  {
   "cell_type": "markdown",
   "metadata": {},
   "source": [
    "Here, we have rewritten $v_{x0}$ as $v_x$ and $v_{y0}$ as $v_y$. \n",
    "<!-- Defining $\\frac{v_y}{v_x}$ as $m$, which is nothing but $\\tan(\\theta)$ where $\\theta$ is the angle between the y and x velocity, we get:\n",
    "$$\n",
    "y = y_0 + m(x - x_0) + \\frac{1}{2}g\\frac{(x - x_0)^2}{v_x^2}\n",
    "$$ -->"
   ]
  },
  {
   "cell_type": "markdown",
   "metadata": {},
   "source": [
    "This is a parabola with the parameters $y_0$, $m$, $g$ and $v_x$ and $v_y$. We can use `scipy` to get these parameters."
   ]
  },
  {
   "cell_type": "code",
   "execution_count": 9,
   "metadata": {},
   "outputs": [],
   "source": [
    "def the_parabola(x, x0, y0, vy, vx, g):\n",
    "    second_term = (vy/vx)*(x-x0)\n",
    "    third_term = 0.5*g*((x-x0)/vx)**2\n",
    "    return y0 + second_term + third_term\n",
    "the_parabola_vector = np.vectorize(the_parabola)"
   ]
  },
  {
   "cell_type": "markdown",
   "metadata": {},
   "source": [
    "However, it turned out that using the parabola does not give a reasonable result. So, we'll be using the parametric equations."
   ]
  },
  {
   "cell_type": "code",
   "execution_count": 10,
   "metadata": {},
   "outputs": [],
   "source": [
    "def parametric_x(t, x0, vx0):\n",
    "    return x0 + vx0*t\n",
    "parametric_x_vector = np.vectorize(parametric_x)\n",
    "\n",
    "def parametric_y(t, y0, vy0, g):\n",
    "    return y0 + vy0*t+0.5*g*t**2\n",
    "parametric_y_vector = np.vectorize(parametric_y)"
   ]
  },
  {
   "cell_type": "markdown",
   "metadata": {},
   "source": [
    "## Region III"
   ]
  },
  {
   "cell_type": "markdown",
   "metadata": {},
   "source": [
    "### Data For Region III"
   ]
  },
  {
   "cell_type": "code",
   "execution_count": 11,
   "metadata": {},
   "outputs": [],
   "source": [
    "region_3 = df_c[df_c[\"Region\"] == \"III\"]"
   ]
  },
  {
   "cell_type": "code",
   "execution_count": 12,
   "metadata": {},
   "outputs": [],
   "source": [
    "X = region_3[\"x\"].values\n",
    "Y = region_3[\"y\"].values\n",
    "t = region_3[\"time\"].values\n",
    "offset = t[0]\n",
    "tbar = t-offset"
   ]
  },
  {
   "cell_type": "code",
   "execution_count": 13,
   "metadata": {},
   "outputs": [
    {
     "data": {
      "text/plain": [
       "array([ 0,  1,  2,  3,  4,  5,  6,  7,  8,  9, 10, 11, 12, 15, 16, 17, 18,\n",
       "       19, 22, 23, 24, 25, 26, 27, 28, 29, 30, 31, 32, 33, 34, 35, 36, 37,\n",
       "       38, 39, 40, 41, 42, 43, 44, 45, 46, 47, 48, 49, 50, 51, 52, 53, 54,\n",
       "       55, 56, 57])"
      ]
     },
     "execution_count": 13,
     "metadata": {},
     "output_type": "execute_result"
    }
   ],
   "source": [
    "tbar"
   ]
  },
  {
   "cell_type": "markdown",
   "metadata": {},
   "source": [
    "### Fitting the Curves"
   ]
  },
  {
   "cell_type": "code",
   "execution_count": 14,
   "metadata": {},
   "outputs": [],
   "source": [
    "popt, pcov = curve_fit(the_parabola, X, Y, maxfev=10000)\n",
    "popty, pcovy = curve_fit(parametric_y, tbar, Y)\n",
    "poptx, pcovx = curve_fit(parametric_x, tbar, X)"
   ]
  },
  {
   "cell_type": "code",
   "execution_count": 15,
   "metadata": {},
   "outputs": [
    {
     "data": {
      "text/plain": [
       "array([1681.50389291,  944.33134675,   59.15454777,   46.50681486,\n",
       "          5.02018294])"
      ]
     },
     "execution_count": 15,
     "metadata": {},
     "output_type": "execute_result"
    }
   ],
   "source": [
    "popt"
   ]
  },
  {
   "cell_type": "markdown",
   "metadata": {},
   "source": [
    "As you can see, the parameters calculated by the fitting method is ridiculus, even though it fits the parabola well (See the figure below)."
   ]
  },
  {
   "cell_type": "code",
   "execution_count": 16,
   "metadata": {},
   "outputs": [
    {
     "data": {
      "text/plain": [
       "(array([886.1477875 ,   5.47382932]),\n",
       " array([ 6.64416807e+02, -2.92565913e+00,  6.26670998e-02]))"
      ]
     },
     "execution_count": 16,
     "metadata": {},
     "output_type": "execute_result"
    }
   ],
   "source": [
    "poptx, popty"
   ]
  },
  {
   "cell_type": "markdown",
   "metadata": {},
   "source": [
    "These values are reasonable."
   ]
  },
  {
   "cell_type": "code",
   "execution_count": 17,
   "metadata": {},
   "outputs": [
    {
     "data": {
      "text/plain": [
       "0.06266709979790797"
      ]
     },
     "execution_count": 17,
     "metadata": {},
     "output_type": "execute_result"
    }
   ],
   "source": [
    "g = popty[2]\n",
    "g"
   ]
  },
  {
   "cell_type": "markdown",
   "metadata": {},
   "source": [
    "### Analyzing the Results"
   ]
  },
  {
   "cell_type": "code",
   "execution_count": 18,
   "metadata": {},
   "outputs": [
    {
     "data": {
      "image/png": "[encoded data removed]",
      "text/plain": [
       "<Figure size 640x480 with 1 Axes>"
      ]
     },
     "metadata": {},
     "output_type": "display_data"
    }
   ],
   "source": [
    "plt.plot(X,Y, 'o', label=\"data\")\n",
    "plt.plot(X, the_parabola_vector(X, *popt),label=\"fit using parabola\")\n",
    "plt.legend();"
   ]
  },
  {
   "cell_type": "code",
   "execution_count": 19,
   "metadata": {},
   "outputs": [
    {
     "data": {
      "image/png": "[encoded data removed]",
      "text/plain": [
       "<Figure size 640x480 with 1 Axes>"
      ]
     },
     "metadata": {},
     "output_type": "display_data"
    }
   ],
   "source": [
    "plt.plot(X,Y, 'o', label=\"data\")\n",
    "plt.plot(parametric_x_vector(tbar, *poptx), parametric_y_vector(tbar, *popty), label=\"fit using parametric\")\n",
    "plt.legend();"
   ]
  },
  {
   "cell_type": "markdown",
   "metadata": {},
   "source": [
    "We can see that using the parametric equations, we can fit the curve accurately."
   ]
  },
  {
   "cell_type": "markdown",
   "metadata": {},
   "source": [
    "### Getting Speeds"
   ]
  },
  {
   "cell_type": "markdown",
   "metadata": {},
   "source": [
    "Next, we'll see how the calculated velocities are? The eqaution for the speeds are:\n",
    "$$\n",
    "v_x(t) = v_{x0}\\\\\n",
    "v_y(t) = v_{y0} + gt\n",
    "$$"
   ]
  },
  {
   "cell_type": "code",
   "execution_count": 20,
   "metadata": {},
   "outputs": [],
   "source": [
    "vy = popty[1]+popty[2]*(tbar)\n",
    "vx = np.ones(len(tbar))*poptx[1]\n",
    "v = np.sqrt(vy**2+vx**2)"
   ]
  },
  {
   "cell_type": "code",
   "execution_count": 21,
   "metadata": {},
   "outputs": [
    {
     "data": {
      "image/png": "[encoded data removed]",
      "text/plain": [
       "<Figure size 640x480 with 1 Axes>"
      ]
     },
     "metadata": {},
     "output_type": "display_data"
    }
   ],
   "source": [
    "plt.plot(tbar, region_3[\"vy\"].values, label=\"vy_data\")\n",
    "plt.plot(tbar, vy, label=\"vy_calculated\")\n",
    "plt.legend()\n",
    "plt.xlabel(\"time\")\n",
    "plt.ylabel(\"vy\");"
   ]
  },
  {
   "cell_type": "code",
   "execution_count": 22,
   "metadata": {},
   "outputs": [
    {
     "data": {
      "image/png": "[encoded data removed]",
      "text/plain": [
       "<Figure size 640x480 with 1 Axes>"
      ]
     },
     "metadata": {},
     "output_type": "display_data"
    }
   ],
   "source": [
    "plt.plot(tbar, region_3[\"vx\"].values, label=\"vx_data\")\n",
    "plt.plot(tbar, vx, label=\"vx_calculated\")\n",
    "plt.legend()\n",
    "plt.xlabel(\"time\")\n",
    "plt.ylabel(\"vx\");"
   ]
  },
  {
   "cell_type": "code",
   "execution_count": 23,
   "metadata": {},
   "outputs": [
    {
     "data": {
      "image/png": "[encoded data removed]",
      "text/plain": [
       "<Figure size 640x480 with 1 Axes>"
      ]
     },
     "metadata": {},
     "output_type": "display_data"
    }
   ],
   "source": [
    "plt.plot(tbar, region_3[\"v\"].values, label=\"v_data\")\n",
    "plt.plot(tbar, v, label=\"v_calculated\")\n",
    "plt.legend()\n",
    "plt.xlabel(\"time\")\n",
    "plt.ylabel(\"v\");"
   ]
  },
  {
   "cell_type": "markdown",
   "metadata": {},
   "source": [
    "They are reasonable."
   ]
  },
  {
   "cell_type": "markdown",
   "metadata": {},
   "source": [
    "### Getting Angles"
   ]
  },
  {
   "cell_type": "markdown",
   "metadata": {},
   "source": [
    "Next, let's calculate the angle between the x and y velocity."
   ]
  },
  {
   "cell_type": "code",
   "execution_count": 24,
   "metadata": {},
   "outputs": [],
   "source": [
    "angles= np.arctan(vy/vx)*180/np.pi"
   ]
  },
  {
   "cell_type": "code",
   "execution_count": 25,
   "metadata": {},
   "outputs": [
    {
     "data": {
      "image/png": "[encoded data removed]",
      "text/plain": [
       "<Figure size 640x480 with 1 Axes>"
      ]
     },
     "metadata": {},
     "output_type": "display_data"
    }
   ],
   "source": [
    "plt.plot(-angles, label = \"calculated\")\n",
    "plt.plot(region_3[\"angle\"].values, label = \"data\")\n",
    "plt.legend();"
   ]
  },
  {
   "cell_type": "markdown",
   "metadata": {},
   "source": [
    "Again, reasonable."
   ]
  },
  {
   "cell_type": "markdown",
   "metadata": {},
   "source": [
    "## Getting the Additional Information"
   ]
  },
  {
   "cell_type": "code",
   "execution_count": 26,
   "metadata": {},
   "outputs": [],
   "source": [
    "new_info_df = pd.DataFrame({\"vx\": vx, \"vy\": vy, \"v\":v, \"angle\": angles, \"time\":t})\n",
    "new_info_df.columns = [\"vx_using_curve\", \"vy_using_curve\", \"v_using_curve\", \"angle_using_curve\", \"time\"]"
   ]
  },
  {
   "cell_type": "code",
   "execution_count": 27,
   "metadata": {},
   "outputs": [
    {
     "data": {
      "text/html": [
       "<div>\n",
       "<style scoped>\n",
       "    .dataframe tbody tr th:only-of-type {\n",
       "        vertical-align: middle;\n",
       "    }\n",
       "\n",
       "    .dataframe tbody tr th {\n",
       "        vertical-align: top;\n",
       "    }\n",
       "\n",
       "    .dataframe thead th {\n",
       "        text-align: right;\n",
       "    }\n",
       "</style>\n",
       "<table border=\"1\" class=\"dataframe\">\n",
       "  <thead>\n",
       "    <tr style=\"text-align: right;\">\n",
       "      <th></th>\n",
       "      <th>vx_using_curve</th>\n",
       "      <th>vy_using_curve</th>\n",
       "      <th>v_using_curve</th>\n",
       "      <th>angle_using_curve</th>\n",
       "      <th>time</th>\n",
       "    </tr>\n",
       "  </thead>\n",
       "  <tbody>\n",
       "    <tr>\n",
       "      <th>0</th>\n",
       "      <td>5.473829</td>\n",
       "      <td>-2.925659</td>\n",
       "      <td>6.206633</td>\n",
       "      <td>-28.123668</td>\n",
       "      <td>98</td>\n",
       "    </tr>\n",
       "    <tr>\n",
       "      <th>1</th>\n",
       "      <td>5.473829</td>\n",
       "      <td>-2.862992</td>\n",
       "      <td>6.177340</td>\n",
       "      <td>-27.611041</td>\n",
       "      <td>99</td>\n",
       "    </tr>\n",
       "    <tr>\n",
       "      <th>2</th>\n",
       "      <td>5.473829</td>\n",
       "      <td>-2.800325</td>\n",
       "      <td>6.148547</td>\n",
       "      <td>-27.093571</td>\n",
       "      <td>100</td>\n",
       "    </tr>\n",
       "    <tr>\n",
       "      <th>3</th>\n",
       "      <td>5.473829</td>\n",
       "      <td>-2.737658</td>\n",
       "      <td>6.120260</td>\n",
       "      <td>-26.571274</td>\n",
       "      <td>101</td>\n",
       "    </tr>\n",
       "    <tr>\n",
       "      <th>4</th>\n",
       "      <td>5.473829</td>\n",
       "      <td>-2.674991</td>\n",
       "      <td>6.092486</td>\n",
       "      <td>-26.044171</td>\n",
       "      <td>102</td>\n",
       "    </tr>\n",
       "    <tr>\n",
       "      <th>5</th>\n",
       "      <td>5.473829</td>\n",
       "      <td>-2.612324</td>\n",
       "      <td>6.065232</td>\n",
       "      <td>-25.512286</td>\n",
       "      <td>103</td>\n",
       "    </tr>\n",
       "    <tr>\n",
       "      <th>6</th>\n",
       "      <td>5.473829</td>\n",
       "      <td>-2.549657</td>\n",
       "      <td>6.038506</td>\n",
       "      <td>-24.975646</td>\n",
       "      <td>104</td>\n",
       "    </tr>\n",
       "    <tr>\n",
       "      <th>7</th>\n",
       "      <td>5.473829</td>\n",
       "      <td>-2.486989</td>\n",
       "      <td>6.012314</td>\n",
       "      <td>-24.434283</td>\n",
       "      <td>105</td>\n",
       "    </tr>\n",
       "    <tr>\n",
       "      <th>8</th>\n",
       "      <td>5.473829</td>\n",
       "      <td>-2.424322</td>\n",
       "      <td>5.986664</td>\n",
       "      <td>-23.888232</td>\n",
       "      <td>106</td>\n",
       "    </tr>\n",
       "    <tr>\n",
       "      <th>9</th>\n",
       "      <td>5.473829</td>\n",
       "      <td>-2.361655</td>\n",
       "      <td>5.961562</td>\n",
       "      <td>-23.337532</td>\n",
       "      <td>107</td>\n",
       "    </tr>\n",
       "    <tr>\n",
       "      <th>10</th>\n",
       "      <td>5.473829</td>\n",
       "      <td>-2.298988</td>\n",
       "      <td>5.937016</td>\n",
       "      <td>-22.782226</td>\n",
       "      <td>108</td>\n",
       "    </tr>\n",
       "    <tr>\n",
       "      <th>11</th>\n",
       "      <td>5.473829</td>\n",
       "      <td>-2.236321</td>\n",
       "      <td>5.913031</td>\n",
       "      <td>-22.222363</td>\n",
       "      <td>109</td>\n",
       "    </tr>\n",
       "    <tr>\n",
       "      <th>12</th>\n",
       "      <td>5.473829</td>\n",
       "      <td>-2.173654</td>\n",
       "      <td>5.889616</td>\n",
       "      <td>-21.657994</td>\n",
       "      <td>110</td>\n",
       "    </tr>\n",
       "    <tr>\n",
       "      <th>13</th>\n",
       "      <td>5.473829</td>\n",
       "      <td>-1.985653</td>\n",
       "      <td>5.822854</td>\n",
       "      <td>-19.938435</td>\n",
       "      <td>113</td>\n",
       "    </tr>\n",
       "    <tr>\n",
       "      <th>14</th>\n",
       "      <td>5.473829</td>\n",
       "      <td>-1.922986</td>\n",
       "      <td>5.801783</td>\n",
       "      <td>-19.356648</td>\n",
       "      <td>114</td>\n",
       "    </tr>\n",
       "    <tr>\n",
       "      <th>15</th>\n",
       "      <td>5.473829</td>\n",
       "      <td>-1.860318</td>\n",
       "      <td>5.781314</td>\n",
       "      <td>-18.770681</td>\n",
       "      <td>115</td>\n",
       "    </tr>\n",
       "    <tr>\n",
       "      <th>16</th>\n",
       "      <td>5.473829</td>\n",
       "      <td>-1.797651</td>\n",
       "      <td>5.761454</td>\n",
       "      <td>-18.180613</td>\n",
       "      <td>116</td>\n",
       "    </tr>\n",
       "    <tr>\n",
       "      <th>17</th>\n",
       "      <td>5.473829</td>\n",
       "      <td>-1.734984</td>\n",
       "      <td>5.742210</td>\n",
       "      <td>-17.586526</td>\n",
       "      <td>117</td>\n",
       "    </tr>\n",
       "    <tr>\n",
       "      <th>18</th>\n",
       "      <td>5.473829</td>\n",
       "      <td>-1.546983</td>\n",
       "      <td>5.688230</td>\n",
       "      <td>-15.781055</td>\n",
       "      <td>120</td>\n",
       "    </tr>\n",
       "    <tr>\n",
       "      <th>19</th>\n",
       "      <td>5.473829</td>\n",
       "      <td>-1.484316</td>\n",
       "      <td>5.671508</td>\n",
       "      <td>-15.171819</td>\n",
       "      <td>121</td>\n",
       "    </tr>\n",
       "    <tr>\n",
       "      <th>20</th>\n",
       "      <td>5.473829</td>\n",
       "      <td>-1.421649</td>\n",
       "      <td>5.655430</td>\n",
       "      <td>-14.559049</td>\n",
       "      <td>122</td>\n",
       "    </tr>\n",
       "    <tr>\n",
       "      <th>21</th>\n",
       "      <td>5.473829</td>\n",
       "      <td>-1.358982</td>\n",
       "      <td>5.640003</td>\n",
       "      <td>-13.942856</td>\n",
       "      <td>123</td>\n",
       "    </tr>\n",
       "    <tr>\n",
       "      <th>22</th>\n",
       "      <td>5.473829</td>\n",
       "      <td>-1.296315</td>\n",
       "      <td>5.625232</td>\n",
       "      <td>-13.323355</td>\n",
       "      <td>124</td>\n",
       "    </tr>\n",
       "    <tr>\n",
       "      <th>23</th>\n",
       "      <td>5.473829</td>\n",
       "      <td>-1.233647</td>\n",
       "      <td>5.611122</td>\n",
       "      <td>-12.700665</td>\n",
       "      <td>125</td>\n",
       "    </tr>\n",
       "    <tr>\n",
       "      <th>24</th>\n",
       "      <td>5.473829</td>\n",
       "      <td>-1.170980</td>\n",
       "      <td>5.597678</td>\n",
       "      <td>-12.074909</td>\n",
       "      <td>126</td>\n",
       "    </tr>\n",
       "    <tr>\n",
       "      <th>25</th>\n",
       "      <td>5.473829</td>\n",
       "      <td>-1.108313</td>\n",
       "      <td>5.584905</td>\n",
       "      <td>-11.446217</td>\n",
       "      <td>127</td>\n",
       "    </tr>\n",
       "    <tr>\n",
       "      <th>26</th>\n",
       "      <td>5.473829</td>\n",
       "      <td>-1.045646</td>\n",
       "      <td>5.572807</td>\n",
       "      <td>-10.814718</td>\n",
       "      <td>128</td>\n",
       "    </tr>\n",
       "    <tr>\n",
       "      <th>27</th>\n",
       "      <td>5.473829</td>\n",
       "      <td>-0.982979</td>\n",
       "      <td>5.561390</td>\n",
       "      <td>-10.180549</td>\n",
       "      <td>129</td>\n",
       "    </tr>\n",
       "    <tr>\n",
       "      <th>28</th>\n",
       "      <td>5.473829</td>\n",
       "      <td>-0.920312</td>\n",
       "      <td>5.550656</td>\n",
       "      <td>-9.543849</td>\n",
       "      <td>130</td>\n",
       "    </tr>\n",
       "    <tr>\n",
       "      <th>29</th>\n",
       "      <td>5.473829</td>\n",
       "      <td>-0.857645</td>\n",
       "      <td>5.540610</td>\n",
       "      <td>-8.904761</td>\n",
       "      <td>131</td>\n",
       "    </tr>\n",
       "    <tr>\n",
       "      <th>30</th>\n",
       "      <td>5.473829</td>\n",
       "      <td>-0.794978</td>\n",
       "      <td>5.531256</td>\n",
       "      <td>-8.263432</td>\n",
       "      <td>132</td>\n",
       "    </tr>\n",
       "    <tr>\n",
       "      <th>31</th>\n",
       "      <td>5.473829</td>\n",
       "      <td>-0.732311</td>\n",
       "      <td>5.522598</td>\n",
       "      <td>-7.620011</td>\n",
       "      <td>133</td>\n",
       "    </tr>\n",
       "    <tr>\n",
       "      <th>32</th>\n",
       "      <td>5.473829</td>\n",
       "      <td>-0.669644</td>\n",
       "      <td>5.514638</td>\n",
       "      <td>-6.974650</td>\n",
       "      <td>134</td>\n",
       "    </tr>\n",
       "    <tr>\n",
       "      <th>33</th>\n",
       "      <td>5.473829</td>\n",
       "      <td>-0.606976</td>\n",
       "      <td>5.507379</td>\n",
       "      <td>-6.327507</td>\n",
       "      <td>135</td>\n",
       "    </tr>\n",
       "    <tr>\n",
       "      <th>34</th>\n",
       "      <td>5.473829</td>\n",
       "      <td>-0.544309</td>\n",
       "      <td>5.500825</td>\n",
       "      <td>-5.678738</td>\n",
       "      <td>136</td>\n",
       "    </tr>\n",
       "    <tr>\n",
       "      <th>35</th>\n",
       "      <td>5.473829</td>\n",
       "      <td>-0.481642</td>\n",
       "      <td>5.494978</td>\n",
       "      <td>-5.028505</td>\n",
       "      <td>137</td>\n",
       "    </tr>\n",
       "    <tr>\n",
       "      <th>36</th>\n",
       "      <td>5.473829</td>\n",
       "      <td>-0.418975</td>\n",
       "      <td>5.489840</td>\n",
       "      <td>-4.376971</td>\n",
       "      <td>138</td>\n",
       "    </tr>\n",
       "    <tr>\n",
       "      <th>37</th>\n",
       "      <td>5.473829</td>\n",
       "      <td>-0.356308</td>\n",
       "      <td>5.485414</td>\n",
       "      <td>-3.724301</td>\n",
       "      <td>139</td>\n",
       "    </tr>\n",
       "    <tr>\n",
       "      <th>38</th>\n",
       "      <td>5.473829</td>\n",
       "      <td>-0.293641</td>\n",
       "      <td>5.481700</td>\n",
       "      <td>-3.070661</td>\n",
       "      <td>140</td>\n",
       "    </tr>\n",
       "    <tr>\n",
       "      <th>39</th>\n",
       "      <td>5.473829</td>\n",
       "      <td>-0.230974</td>\n",
       "      <td>5.478700</td>\n",
       "      <td>-2.416221</td>\n",
       "      <td>141</td>\n",
       "    </tr>\n",
       "    <tr>\n",
       "      <th>40</th>\n",
       "      <td>5.473829</td>\n",
       "      <td>-0.168307</td>\n",
       "      <td>5.476416</td>\n",
       "      <td>-1.761149</td>\n",
       "      <td>142</td>\n",
       "    </tr>\n",
       "    <tr>\n",
       "      <th>41</th>\n",
       "      <td>5.473829</td>\n",
       "      <td>-0.105640</td>\n",
       "      <td>5.474849</td>\n",
       "      <td>-1.105616</td>\n",
       "      <td>143</td>\n",
       "    </tr>\n",
       "    <tr>\n",
       "      <th>42</th>\n",
       "      <td>5.473829</td>\n",
       "      <td>-0.042973</td>\n",
       "      <td>5.473998</td>\n",
       "      <td>-0.449794</td>\n",
       "      <td>144</td>\n",
       "    </tr>\n",
       "    <tr>\n",
       "      <th>43</th>\n",
       "      <td>5.473829</td>\n",
       "      <td>0.019695</td>\n",
       "      <td>5.473865</td>\n",
       "      <td>0.206146</td>\n",
       "      <td>145</td>\n",
       "    </tr>\n",
       "    <tr>\n",
       "      <th>44</th>\n",
       "      <td>5.473829</td>\n",
       "      <td>0.082362</td>\n",
       "      <td>5.474449</td>\n",
       "      <td>0.862033</td>\n",
       "      <td>146</td>\n",
       "    </tr>\n",
       "    <tr>\n",
       "      <th>45</th>\n",
       "      <td>5.473829</td>\n",
       "      <td>0.145029</td>\n",
       "      <td>5.475750</td>\n",
       "      <td>1.517693</td>\n",
       "      <td>147</td>\n",
       "    </tr>\n",
       "    <tr>\n",
       "      <th>46</th>\n",
       "      <td>5.473829</td>\n",
       "      <td>0.207696</td>\n",
       "      <td>5.477768</td>\n",
       "      <td>2.172956</td>\n",
       "      <td>148</td>\n",
       "    </tr>\n",
       "    <tr>\n",
       "      <th>47</th>\n",
       "      <td>5.473829</td>\n",
       "      <td>0.270363</td>\n",
       "      <td>5.480502</td>\n",
       "      <td>2.827651</td>\n",
       "      <td>149</td>\n",
       "    </tr>\n",
       "    <tr>\n",
       "      <th>48</th>\n",
       "      <td>5.473829</td>\n",
       "      <td>0.333030</td>\n",
       "      <td>5.483951</td>\n",
       "      <td>3.481608</td>\n",
       "      <td>150</td>\n",
       "    </tr>\n",
       "    <tr>\n",
       "      <th>49</th>\n",
       "      <td>5.473829</td>\n",
       "      <td>0.395697</td>\n",
       "      <td>5.488113</td>\n",
       "      <td>4.134657</td>\n",
       "      <td>151</td>\n",
       "    </tr>\n",
       "    <tr>\n",
       "      <th>50</th>\n",
       "      <td>5.473829</td>\n",
       "      <td>0.458364</td>\n",
       "      <td>5.492987</td>\n",
       "      <td>4.786633</td>\n",
       "      <td>152</td>\n",
       "    </tr>\n",
       "    <tr>\n",
       "      <th>51</th>\n",
       "      <td>5.473829</td>\n",
       "      <td>0.521031</td>\n",
       "      <td>5.498571</td>\n",
       "      <td>5.437368</td>\n",
       "      <td>153</td>\n",
       "    </tr>\n",
       "    <tr>\n",
       "      <th>52</th>\n",
       "      <td>5.473829</td>\n",
       "      <td>0.583698</td>\n",
       "      <td>5.504863</td>\n",
       "      <td>6.086700</td>\n",
       "      <td>154</td>\n",
       "    </tr>\n",
       "    <tr>\n",
       "      <th>53</th>\n",
       "      <td>5.473829</td>\n",
       "      <td>0.646366</td>\n",
       "      <td>5.511860</td>\n",
       "      <td>6.734466</td>\n",
       "      <td>155</td>\n",
       "    </tr>\n",
       "  </tbody>\n",
       "</table>\n",
       "</div>"
      ],
      "text/plain": [
       "    vx_using_curve  vy_using_curve  v_using_curve  angle_using_curve  time\n",
       "0         5.473829       -2.925659       6.206633         -28.123668    98\n",
       "1         5.473829       -2.862992       6.177340         -27.611041    99\n",
       "2         5.473829       -2.800325       6.148547         -27.093571   100\n",
       "3         5.473829       -2.737658       6.120260         -26.571274   101\n",
       "4         5.473829       -2.674991       6.092486         -26.044171   102\n",
       "5         5.473829       -2.612324       6.065232         -25.512286   103\n",
       "6         5.473829       -2.549657       6.038506         -24.975646   104\n",
       "7         5.473829       -2.486989       6.012314         -24.434283   105\n",
       "8         5.473829       -2.424322       5.986664         -23.888232   106\n",
       "9         5.473829       -2.361655       5.961562         -23.337532   107\n",
       "10        5.473829       -2.298988       5.937016         -22.782226   108\n",
       "11        5.473829       -2.236321       5.913031         -22.222363   109\n",
       "12        5.473829       -2.173654       5.889616         -21.657994   110\n",
       "13        5.473829       -1.985653       5.822854         -19.938435   113\n",
       "14        5.473829       -1.922986       5.801783         -19.356648   114\n",
       "15        5.473829       -1.860318       5.781314         -18.770681   115\n",
       "16        5.473829       -1.797651       5.761454         -18.180613   116\n",
       "17        5.473829       -1.734984       5.742210         -17.586526   117\n",
       "18        5.473829       -1.546983       5.688230         -15.781055   120\n",
       "19        5.473829       -1.484316       5.671508         -15.171819   121\n",
       "20        5.473829       -1.421649       5.655430         -14.559049   122\n",
       "21        5.473829       -1.358982       5.640003         -13.942856   123\n",
       "22        5.473829       -1.296315       5.625232         -13.323355   124\n",
       "23        5.473829       -1.233647       5.611122         -12.700665   125\n",
       "24        5.473829       -1.170980       5.597678         -12.074909   126\n",
       "25        5.473829       -1.108313       5.584905         -11.446217   127\n",
       "26        5.473829       -1.045646       5.572807         -10.814718   128\n",
       "27        5.473829       -0.982979       5.561390         -10.180549   129\n",
       "28        5.473829       -0.920312       5.550656          -9.543849   130\n",
       "29        5.473829       -0.857645       5.540610          -8.904761   131\n",
       "30        5.473829       -0.794978       5.531256          -8.263432   132\n",
       "31        5.473829       -0.732311       5.522598          -7.620011   133\n",
       "32        5.473829       -0.669644       5.514638          -6.974650   134\n",
       "33        5.473829       -0.606976       5.507379          -6.327507   135\n",
       "34        5.473829       -0.544309       5.500825          -5.678738   136\n",
       "35        5.473829       -0.481642       5.494978          -5.028505   137\n",
       "36        5.473829       -0.418975       5.489840          -4.376971   138\n",
       "37        5.473829       -0.356308       5.485414          -3.724301   139\n",
       "38        5.473829       -0.293641       5.481700          -3.070661   140\n",
       "39        5.473829       -0.230974       5.478700          -2.416221   141\n",
       "40        5.473829       -0.168307       5.476416          -1.761149   142\n",
       "41        5.473829       -0.105640       5.474849          -1.105616   143\n",
       "42        5.473829       -0.042973       5.473998          -0.449794   144\n",
       "43        5.473829        0.019695       5.473865           0.206146   145\n",
       "44        5.473829        0.082362       5.474449           0.862033   146\n",
       "45        5.473829        0.145029       5.475750           1.517693   147\n",
       "46        5.473829        0.207696       5.477768           2.172956   148\n",
       "47        5.473829        0.270363       5.480502           2.827651   149\n",
       "48        5.473829        0.333030       5.483951           3.481608   150\n",
       "49        5.473829        0.395697       5.488113           4.134657   151\n",
       "50        5.473829        0.458364       5.492987           4.786633   152\n",
       "51        5.473829        0.521031       5.498571           5.437368   153\n",
       "52        5.473829        0.583698       5.504863           6.086700   154\n",
       "53        5.473829        0.646366       5.511860           6.734466   155"
      ]
     },
     "execution_count": 27,
     "metadata": {},
     "output_type": "execute_result"
    }
   ],
   "source": [
    "new_info_df"
   ]
  },
  {
   "cell_type": "code",
   "execution_count": 28,
   "metadata": {},
   "outputs": [
    {
     "data": {
      "text/html": [
       "<div>\n",
       "<style scoped>\n",
       "    .dataframe tbody tr th:only-of-type {\n",
       "        vertical-align: middle;\n",
       "    }\n",
       "\n",
       "    .dataframe tbody tr th {\n",
       "        vertical-align: top;\n",
       "    }\n",
       "\n",
       "    .dataframe thead th {\n",
       "        text-align: right;\n",
       "    }\n",
       "</style>\n",
       "<table border=\"1\" class=\"dataframe\">\n",
       "  <thead>\n",
       "    <tr style=\"text-align: right;\">\n",
       "      <th></th>\n",
       "      <th>138</th>\n",
       "      <th>139</th>\n",
       "      <th>140</th>\n",
       "      <th>141</th>\n",
       "      <th>142</th>\n",
       "    </tr>\n",
       "  </thead>\n",
       "  <tbody>\n",
       "    <tr>\n",
       "      <th>id</th>\n",
       "      <td>../../data/extracted_images/h13_short/151.jpg</td>\n",
       "      <td>../../data/extracted_images/h13_short/152.jpg</td>\n",
       "      <td>../../data/extracted_images/h13_short/153.jpg</td>\n",
       "      <td>../../data/extracted_images/h13_short/154.jpg</td>\n",
       "      <td>../../data/extracted_images/h13_short/155.jpg</td>\n",
       "    </tr>\n",
       "    <tr>\n",
       "      <th>x</th>\n",
       "      <td>1178.0</td>\n",
       "      <td>1183.0</td>\n",
       "      <td>1189.0</td>\n",
       "      <td>1194.0</td>\n",
       "      <td>1196.0</td>\n",
       "    </tr>\n",
       "    <tr>\n",
       "      <th>y</th>\n",
       "      <td>599.0</td>\n",
       "      <td>600.0</td>\n",
       "      <td>600.0</td>\n",
       "      <td>601.0</td>\n",
       "      <td>601.0</td>\n",
       "    </tr>\n",
       "    <tr>\n",
       "      <th>r1</th>\n",
       "      <td>11.0</td>\n",
       "      <td>9.0</td>\n",
       "      <td>10.0</td>\n",
       "      <td>9.0</td>\n",
       "      <td>6.0</td>\n",
       "    </tr>\n",
       "    <tr>\n",
       "      <th>r2</th>\n",
       "      <td>9.0</td>\n",
       "      <td>11.0</td>\n",
       "      <td>10.0</td>\n",
       "      <td>10.0</td>\n",
       "      <td>9.0</td>\n",
       "    </tr>\n",
       "    <tr>\n",
       "      <th>theta</th>\n",
       "      <td>50.993244</td>\n",
       "      <td>-31.512679</td>\n",
       "      <td>84.224796</td>\n",
       "      <td>39.534088</td>\n",
       "      <td>19.480565</td>\n",
       "    </tr>\n",
       "    <tr>\n",
       "      <th>vx</th>\n",
       "      <td>5.571429</td>\n",
       "      <td>5.428571</td>\n",
       "      <td>5.571429</td>\n",
       "      <td>5.428571</td>\n",
       "      <td>5.0</td>\n",
       "    </tr>\n",
       "    <tr>\n",
       "      <th>vy</th>\n",
       "      <td>0.428571</td>\n",
       "      <td>0.571429</td>\n",
       "      <td>0.571429</td>\n",
       "      <td>0.714286</td>\n",
       "      <td>0.714286</td>\n",
       "    </tr>\n",
       "    <tr>\n",
       "      <th>v</th>\n",
       "      <td>5.587888</td>\n",
       "      <td>5.458564</td>\n",
       "      <td>5.600656</td>\n",
       "      <td>5.475362</td>\n",
       "      <td>5.050763</td>\n",
       "    </tr>\n",
       "    <tr>\n",
       "      <th>angle</th>\n",
       "      <td>-4.398705</td>\n",
       "      <td>-6.009006</td>\n",
       "      <td>-5.856014</td>\n",
       "      <td>-7.495858</td>\n",
       "      <td>-8.130102</td>\n",
       "    </tr>\n",
       "    <tr>\n",
       "      <th>Region</th>\n",
       "      <td>III</td>\n",
       "      <td>III</td>\n",
       "      <td>III</td>\n",
       "      <td>III</td>\n",
       "      <td>III</td>\n",
       "    </tr>\n",
       "    <tr>\n",
       "      <th>time</th>\n",
       "      <td>151</td>\n",
       "      <td>152</td>\n",
       "      <td>153</td>\n",
       "      <td>154</td>\n",
       "      <td>155</td>\n",
       "    </tr>\n",
       "    <tr>\n",
       "      <th>vx_using_curve</th>\n",
       "      <td>5.473829</td>\n",
       "      <td>5.473829</td>\n",
       "      <td>5.473829</td>\n",
       "      <td>5.473829</td>\n",
       "      <td>5.473829</td>\n",
       "    </tr>\n",
       "    <tr>\n",
       "      <th>vy_using_curve</th>\n",
       "      <td>0.395697</td>\n",
       "      <td>0.458364</td>\n",
       "      <td>0.521031</td>\n",
       "      <td>0.583698</td>\n",
       "      <td>0.646366</td>\n",
       "    </tr>\n",
       "    <tr>\n",
       "      <th>v_using_curve</th>\n",
       "      <td>5.488113</td>\n",
       "      <td>5.492987</td>\n",
       "      <td>5.498571</td>\n",
       "      <td>5.504863</td>\n",
       "      <td>5.51186</td>\n",
       "    </tr>\n",
       "    <tr>\n",
       "      <th>angle_using_curve</th>\n",
       "      <td>4.134657</td>\n",
       "      <td>4.786633</td>\n",
       "      <td>5.437368</td>\n",
       "      <td>6.0867</td>\n",
       "      <td>6.734466</td>\n",
       "    </tr>\n",
       "  </tbody>\n",
       "</table>\n",
       "</div>"
      ],
      "text/plain": [
       "                                                             138  \\\n",
       "id                 ../../data/extracted_images/h13_short/151.jpg   \n",
       "x                                                         1178.0   \n",
       "y                                                          599.0   \n",
       "r1                                                          11.0   \n",
       "r2                                                           9.0   \n",
       "theta                                                  50.993244   \n",
       "vx                                                      5.571429   \n",
       "vy                                                      0.428571   \n",
       "v                                                       5.587888   \n",
       "angle                                                  -4.398705   \n",
       "Region                                                       III   \n",
       "time                                                         151   \n",
       "vx_using_curve                                          5.473829   \n",
       "vy_using_curve                                          0.395697   \n",
       "v_using_curve                                           5.488113   \n",
       "angle_using_curve                                       4.134657   \n",
       "\n",
       "                                                             139  \\\n",
       "id                 ../../data/extracted_images/h13_short/152.jpg   \n",
       "x                                                         1183.0   \n",
       "y                                                          600.0   \n",
       "r1                                                           9.0   \n",
       "r2                                                          11.0   \n",
       "theta                                                 -31.512679   \n",
       "vx                                                      5.428571   \n",
       "vy                                                      0.571429   \n",
       "v                                                       5.458564   \n",
       "angle                                                  -6.009006   \n",
       "Region                                                       III   \n",
       "time                                                         152   \n",
       "vx_using_curve                                          5.473829   \n",
       "vy_using_curve                                          0.458364   \n",
       "v_using_curve                                           5.492987   \n",
       "angle_using_curve                                       4.786633   \n",
       "\n",
       "                                                             140  \\\n",
       "id                 ../../data/extracted_images/h13_short/153.jpg   \n",
       "x                                                         1189.0   \n",
       "y                                                          600.0   \n",
       "r1                                                          10.0   \n",
       "r2                                                          10.0   \n",
       "theta                                                  84.224796   \n",
       "vx                                                      5.571429   \n",
       "vy                                                      0.571429   \n",
       "v                                                       5.600656   \n",
       "angle                                                  -5.856014   \n",
       "Region                                                       III   \n",
       "time                                                         153   \n",
       "vx_using_curve                                          5.473829   \n",
       "vy_using_curve                                          0.521031   \n",
       "v_using_curve                                           5.498571   \n",
       "angle_using_curve                                       5.437368   \n",
       "\n",
       "                                                             141  \\\n",
       "id                 ../../data/extracted_images/h13_short/154.jpg   \n",
       "x                                                         1194.0   \n",
       "y                                                          601.0   \n",
       "r1                                                           9.0   \n",
       "r2                                                          10.0   \n",
       "theta                                                  39.534088   \n",
       "vx                                                      5.428571   \n",
       "vy                                                      0.714286   \n",
       "v                                                       5.475362   \n",
       "angle                                                  -7.495858   \n",
       "Region                                                       III   \n",
       "time                                                         154   \n",
       "vx_using_curve                                          5.473829   \n",
       "vy_using_curve                                          0.583698   \n",
       "v_using_curve                                           5.504863   \n",
       "angle_using_curve                                         6.0867   \n",
       "\n",
       "                                                             142  \n",
       "id                 ../../data/extracted_images/h13_short/155.jpg  \n",
       "x                                                         1196.0  \n",
       "y                                                          601.0  \n",
       "r1                                                           6.0  \n",
       "r2                                                           9.0  \n",
       "theta                                                  19.480565  \n",
       "vx                                                           5.0  \n",
       "vy                                                      0.714286  \n",
       "v                                                       5.050763  \n",
       "angle                                                  -8.130102  \n",
       "Region                                                       III  \n",
       "time                                                         155  \n",
       "vx_using_curve                                          5.473829  \n",
       "vy_using_curve                                          0.646366  \n",
       "v_using_curve                                            5.51186  \n",
       "angle_using_curve                                       6.734466  "
      ]
     },
     "execution_count": 28,
     "metadata": {},
     "output_type": "execute_result"
    }
   ],
   "source": [
    "df_final = pd.merge(df_c, new_info_df, on=\"time\", how=\"left\")\n",
    "df_final.tail().T"
   ]
  },
  {
   "cell_type": "markdown",
   "metadata": {},
   "source": [
    "## Adding the Additional Information"
   ]
  },
  {
   "cell_type": "code",
   "execution_count": 29,
   "metadata": {},
   "outputs": [
    {
     "data": {
      "text/plain": [
       "(5.473829321828268, -2.925659126300037, 6.206632643214001, -28.123668054758)"
      ]
     },
     "execution_count": 29,
     "metadata": {},
     "output_type": "execute_result"
    }
   ],
   "source": [
    "x_speed = vx[0]\n",
    "y_speed = vy[0]\n",
    "speed = v[0]\n",
    "angle = angles[0]\n",
    "x_speed, y_speed, speed, angle"
   ]
  },
  {
   "cell_type": "code",
   "execution_count": 30,
   "metadata": {},
   "outputs": [
    {
     "name": "stdout",
     "output_type": "stream",
     "text": [
      "USING CURVE FIT AT LEAVE FRAME\n",
      "### ANGLE: -28.12\n",
      "### VELOCITY: 6.21\n",
      "### X VELOCITY: 5.47\n",
      "### Y VELOCITY: -2.93\n",
      "### g: 0.0627\n",
      "************************************************************\n",
      "\n"
     ]
    }
   ],
   "source": [
    "pattern = \"***\"\n",
    "information = f\"\"\"USING CURVE FIT AT LEAVE FRAME\n",
    "### ANGLE: {np.round(angle, 2)}\n",
    "### VELOCITY: {np.round(speed, 2)}\n",
    "### X VELOCITY: {np.round(x_speed, 2)}\n",
    "### Y VELOCITY: {np.round(y_speed, 2)}\n",
    "### g: {np.round(g, 4)}\n",
    "{pattern*20}\n",
    "\"\"\"\n",
    "print(information)"
   ]
  },
  {
   "cell_type": "markdown",
   "metadata": {},
   "source": [
    "First, create a new string containing just the previous text file. Else we'll duplicate the text file."
   ]
  },
  {
   "cell_type": "code",
   "execution_count": 31,
   "metadata": {},
   "outputs": [
    {
     "name": "stdout",
     "output_type": "stream",
     "text": [
      "### h13_short.tif\n",
      "### First Frame ID: 010\n",
      "### Last Frame ID: 161\n",
      "### Contact Frame ID: 077\n",
      "### Leave Frame ID: 097\n",
      "### Angle:\n"
     ]
    }
   ],
   "source": [
    "with open(RESULT_DIR +\"/info.txt\", \"r+\") as f:\n",
    "    texts = f.readlines()\n",
    "if len(texts)>44:\n",
    "    text = \"\".join(texts[:-6])\n",
    "else:\n",
    "    text = \"\".join(texts)\n",
    "print(text[:125])\n",
    "all_text = text+information"
   ]
  },
  {
   "cell_type": "code",
   "execution_count": 32,
   "metadata": {},
   "outputs": [
    {
     "data": {
      "text/plain": [
       "43"
      ]
     },
     "execution_count": 32,
     "metadata": {},
     "output_type": "execute_result"
    }
   ],
   "source": [
    "len(texts)"
   ]
  },
  {
   "cell_type": "code",
   "execution_count": 33,
   "metadata": {},
   "outputs": [],
   "source": [
    "with open(RESULT_DIR +\"/info.txt\", \"w\") as f:\n",
    "    f.writelines(all_text)"
   ]
  },
  {
   "cell_type": "markdown",
   "metadata": {},
   "source": [
    "### Save the DataFrame"
   ]
  },
  {
   "cell_type": "code",
   "execution_count": 34,
   "metadata": {},
   "outputs": [],
   "source": [
    "df_final.to_csv(RESULT_DIR + f\"/{sequence}_final.csv\", index=False)"
   ]
  }
 ],
 "metadata": {
  "kernelspec": {
   "display_name": "Python 3.7.13 ('data-science')",
   "language": "python",
   "name": "python3"
  },
  "language_info": {
   "codemirror_mode": {
    "name": "ipython",
    "version": 3
   },
   "file_extension": ".py",
   "mimetype": "text/x-python",
   "name": "python",
   "nbconvert_exporter": "python",
   "pygments_lexer": "ipython3",
   "version": "3.7.13"
  },
  "orig_nbformat": 4,
  "vscode": {
   "interpreter": {
    "hash": "2efee1efa502125d01e6b4768ba06d9453d29f3642bfd14ad5d4a769de82e88c"
   }
  }
 },
 "nbformat": 4,
 "nbformat_minor": 2
}
