{
 "cells": [
  {
   "cell_type": "code",
   "execution_count": 4,
   "metadata": {},
   "outputs": [],
   "source": [
    "import os\n",
    "import shutil"
   ]
  },
  {
   "cell_type": "code",
   "execution_count": 5,
   "metadata": {},
   "outputs": [
    {
     "data": {
      "text/plain": [
       "['centers_using_ap.csv',\n",
       " 'centers_using_dc.csv',\n",
       " 'centers_using_si.csv',\n",
       " 'convolution.csv',\n",
       " 'convolution.png',\n",
       " 'h1',\n",
       " 'h10_short',\n",
       " 'h11_short',\n",
       " 'h12_short',\n",
       " 'h13_short',\n",
       " 'h14_short',\n",
       " 'h15_short',\n",
       " 'h16_short',\n",
       " 'h17_short',\n",
       " 'h18_short',\n",
       " 'h19_short',\n",
       " 'h1_try',\n",
       " 'h2',\n",
       " 'h20_short',\n",
       " 'h21_short',\n",
       " 'h22_short',\n",
       " 'h23_short',\n",
       " 'h24',\n",
       " 'h25_short',\n",
       " 'h3',\n",
       " 'h4',\n",
       " 'h5_short',\n",
       " 'h6',\n",
       " 'h7',\n",
       " 'h7_short',\n",
       " 'h8_short',\n",
       " 'h9_short',\n",
       " 'info_about_columns.md',\n",
       " 'info_on_raw_data.csv',\n",
       " 'info_on_smooth_data.csv',\n",
       " 'ref',\n",
       " 'ref.txt',\n",
       " 'using_ap.png',\n",
       " 'using_dc.png',\n",
       " 'using_si.png',\n",
       " 'x_y_using_ap.png',\n",
       " 'x_y_using_dc.png',\n",
       " 'x_y_using_si.png']"
      ]
     },
     "execution_count": 5,
     "metadata": {},
     "output_type": "execute_result"
    }
   ],
   "source": [
    "files = os.listdir(\"../../data/results\")\n",
    "files"
   ]
  },
  {
   "cell_type": "code",
   "execution_count": 6,
   "metadata": {},
   "outputs": [
    {
     "data": {
      "text/plain": [
       "['h1',\n",
       " 'h10_short',\n",
       " 'h11_short',\n",
       " 'h12_short',\n",
       " 'h13_short',\n",
       " 'h14_short',\n",
       " 'h15_short',\n",
       " 'h16_short',\n",
       " 'h17_short',\n",
       " 'h18_short',\n",
       " 'h19_short',\n",
       " 'h1_try',\n",
       " 'h2',\n",
       " 'h20_short',\n",
       " 'h21_short',\n",
       " 'h22_short',\n",
       " 'h23_short',\n",
       " 'h24',\n",
       " 'h25_short',\n",
       " 'h3',\n",
       " 'h4',\n",
       " 'h5_short',\n",
       " 'h6',\n",
       " 'h7',\n",
       " 'h7_short',\n",
       " 'h8_short',\n",
       " 'h9_short',\n",
       " 'ref']"
      ]
     },
     "execution_count": 6,
     "metadata": {},
     "output_type": "execute_result"
    }
   ],
   "source": [
    "folders = [f for f in files if \".\" not in f]\n",
    "folders"
   ]
  },
  {
   "cell_type": "code",
   "execution_count": 7,
   "metadata": {},
   "outputs": [],
   "source": [
    "original_file = \"Ref_Notebook.ipynb\"\n",
    "for f in folders:\n",
    "    new_file_name = f + \".ipynb\"\n",
    "    shutil.copy(original_file, new_file_name)"
   ]
  },
  {
   "cell_type": "code",
   "execution_count": 1,
   "metadata": {},
   "outputs": [],
   "source": [
    "from life_saving_tools.files.notebook import Notebook"
   ]
  },
  {
   "cell_type": "code",
   "execution_count": 2,
   "metadata": {},
   "outputs": [],
   "source": [
    "n = Notebook()"
   ]
  },
  {
   "cell_type": "code",
   "execution_count": 3,
   "metadata": {},
   "outputs": [
    {
     "name": "stdout",
     "output_type": "stream",
     "text": [
      "Converting the Notebook to HTML.\n",
      "Looking for the Headers and their positions.\n",
      "Getting correct order of the Headers.\n",
      "Creating the Contents.\n",
      "Content copied to clipboard.\n"
     ]
    }
   ],
   "source": [
    "n.create_content(\"Ref_Notebook.ipynb\")"
   ]
  },
  {
   "cell_type": "code",
   "execution_count": null,
   "metadata": {},
   "outputs": [],
   "source": []
  }
 ],
 "metadata": {
  "kernelspec": {
   "display_name": "Python 3.8.5",
   "language": "python",
   "name": "python3"
  },
  "language_info": {
   "codemirror_mode": {
    "name": "ipython",
    "version": 3
   },
   "file_extension": ".py",
   "mimetype": "text/x-python",
   "name": "python",
   "nbconvert_exporter": "python",
   "pygments_lexer": "ipython3",
   "version": "3.8.5"
  },
  "orig_nbformat": 4,
  "vscode": {
   "interpreter": {
    "hash": "21040c1b576dca9f4f330277849b9f4819256d524dee23c2b89e431027dafe11"
   }
  }
 },
 "nbformat": 4,
 "nbformat_minor": 2
}
