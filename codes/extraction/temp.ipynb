{
 "cells": [
  {
   "cell_type": "code",
   "execution_count": 2,
   "metadata": {},
   "outputs": [],
   "source": [
    "import os\n",
    "import shutil"
   ]
  },
  {
   "cell_type": "code",
   "execution_count": 3,
   "metadata": {},
   "outputs": [
    {
     "data": {
      "text/plain": [
       "['h3',\n",
       " 'centers_using_si.csv',\n",
       " 'h23_short',\n",
       " 'h6',\n",
       " 'h4',\n",
       " 'h24',\n",
       " 'h1',\n",
       " 'convolution.png',\n",
       " 'h16_short',\n",
       " 'h22_short',\n",
       " 'using_ap.png',\n",
       " 'h13_short',\n",
       " 'h11_short',\n",
       " 'h20_short',\n",
       " 'x_y_using_si.png',\n",
       " 'h17_short',\n",
       " 'h10_short',\n",
       " 'convolution.csv',\n",
       " 'h1_try',\n",
       " 'centers_using_dc.csv',\n",
       " 'using_dc.png',\n",
       " 'h18_short',\n",
       " 'h15_short',\n",
       " 'h9_short',\n",
       " 'h21_short',\n",
       " 'h7',\n",
       " 'h7_short',\n",
       " 'ref',\n",
       " 'h14_short',\n",
       " 'h8_short',\n",
       " 'x_y_using_dc.png',\n",
       " 'new.csv',\n",
       " 'h12_short',\n",
       " 'ref.txt',\n",
       " 'h25_short',\n",
       " 'x_y_using_ap.png',\n",
       " 'centers_using_ap.csv',\n",
       " 'h2',\n",
       " 'h19_short',\n",
       " 'using_si.png',\n",
       " 'h5_short']"
      ]
     },
     "execution_count": 3,
     "metadata": {},
     "output_type": "execute_result"
    }
   ],
   "source": [
    "files = os.listdir(\"../../data/results\")\n",
    "files"
   ]
  },
  {
   "cell_type": "code",
   "execution_count": 4,
   "metadata": {},
   "outputs": [
    {
     "data": {
      "text/plain": [
       "['h3',\n",
       " 'h23_short',\n",
       " 'h6',\n",
       " 'h4',\n",
       " 'h24',\n",
       " 'h1',\n",
       " 'h16_short',\n",
       " 'h22_short',\n",
       " 'h13_short',\n",
       " 'h11_short',\n",
       " 'h20_short',\n",
       " 'h17_short',\n",
       " 'h10_short',\n",
       " 'h1_try',\n",
       " 'h18_short',\n",
       " 'h15_short',\n",
       " 'h9_short',\n",
       " 'h21_short',\n",
       " 'h7',\n",
       " 'h7_short',\n",
       " 'ref',\n",
       " 'h14_short',\n",
       " 'h8_short',\n",
       " 'h12_short',\n",
       " 'h25_short',\n",
       " 'h2',\n",
       " 'h19_short',\n",
       " 'h5_short']"
      ]
     },
     "execution_count": 4,
     "metadata": {},
     "output_type": "execute_result"
    }
   ],
   "source": [
    "folders = [f for f in files if \".\" not in f]\n",
    "folders"
   ]
  },
  {
   "cell_type": "code",
   "execution_count": 6,
   "metadata": {},
   "outputs": [],
   "source": [
    "original_file = \"Ref_Notebook.ipynb\"\n",
    "folders = [\n",
    "    \"h14_short\",\n",
    "    \"h15_short\",\n",
    "    \"h16_short\",\n",
    "    \"h17_short\",\n",
    "    \"h18_short\",\n",
    "    \"h19_short\",\n",
    "    \"h21_short\",\n",
    "    \"h22_short\",\n",
    "    \"h23_short\",\n",
    " ]\n",
    "for f in folders:\n",
    "    new_file_name = f + \".ipynb\"\n",
    "    shutil.copy(original_file, new_file_name)"
   ]
  },
  {
   "cell_type": "code",
   "execution_count": null,
   "metadata": {},
   "outputs": [],
   "source": []
  }
 ],
 "metadata": {
  "kernelspec": {
   "display_name": "Python 3.10.4 64-bit",
   "language": "python",
   "name": "python3"
  },
  "language_info": {
   "codemirror_mode": {
    "name": "ipython",
    "version": 3
   },
   "file_extension": ".py",
   "mimetype": "text/x-python",
   "name": "python",
   "nbconvert_exporter": "python",
   "pygments_lexer": "ipython3",
   "version": "3.10.4"
  },
  "orig_nbformat": 4,
  "vscode": {
   "interpreter": {
    "hash": "916dbcbb3f70747c44a77c7bcd40155683ae19c65e1c03b4aa3499c5328201f1"
   }
  }
 },
 "nbformat": 4,
 "nbformat_minor": 2
}
