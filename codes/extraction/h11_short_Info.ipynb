{
 "cells": [
  {
   "cell_type": "markdown",
   "metadata": {},
   "source": [
    "# Imports"
   ]
  },
  {
   "cell_type": "code",
   "execution_count": 1,
   "metadata": {},
   "outputs": [],
   "source": [
    "import re\n",
    "import numpy as np\n",
    "import matplotlib.pyplot as plt\n",
    "import pandas as pd\n",
    "from scipy.optimize import curve_fit\n",
    "import warnings\n",
    "warnings.filterwarnings(\"ignore\")\n",
    "plt.rcdefaults()"
   ]
  },
  {
   "cell_type": "markdown",
   "metadata": {},
   "source": [
    "# Defining the Directories"
   ]
  },
  {
   "cell_type": "code",
   "execution_count": 2,
   "metadata": {},
   "outputs": [],
   "source": [
    "sequence = \"h11_short\"\n",
    "DATA_DIR = '../../data/extracted_images/' + sequence\n",
    "RESULT_DIR = '../../data/results/' + sequence"
   ]
  },
  {
   "cell_type": "markdown",
   "metadata": {},
   "source": [
    "# Getting Informations and Reading the Files"
   ]
  },
  {
   "cell_type": "markdown",
   "metadata": {},
   "source": [
    "## Getting Frame Information"
   ]
  },
  {
   "cell_type": "code",
   "execution_count": 3,
   "metadata": {},
   "outputs": [],
   "source": [
    "info_dict = {\n",
    "    \"first_frame\": 1,\n",
    "    \"last_frame\": 2,\n",
    "    \"contact_frame\": 3,\n",
    "    \"leave_frame\": 4,\n",
    "    \"angle\": 5,\n",
    "    \"passthrough\": 6,\n",
    "}"
   ]
  },
  {
   "cell_type": "code",
   "execution_count": 4,
   "metadata": {},
   "outputs": [],
   "source": [
    "def get_info(file):\n",
    "    information = {}\n",
    "    with open(file, \"r\") as f:\n",
    "        texts = f.readlines()\n",
    "    for key, value in info_dict.items():\n",
    "        line = texts[value]\n",
    "        info = line.split(\":\")[1].strip()\n",
    "        information[key] = info\n",
    "    return information\n",
    "\n",
    "information = get_info(f\"{DATA_DIR}.txt\")"
   ]
  },
  {
   "cell_type": "code",
   "execution_count": 5,
   "metadata": {},
   "outputs": [],
   "source": [
    "first_frame = DATA_DIR + \"/\" +information[\"first_frame\"]\n",
    "last_frame = DATA_DIR + \"/\" +information[\"last_frame\"]\n",
    "contact_frame = DATA_DIR + \"/\" +information[\"contact_frame\"]\n",
    "angle = information[\"angle\"]\n",
    "leave_frame = DATA_DIR + \"/\" +information[\"leave_frame\"]\n",
    "passthrough = information[\"passthrough\"]"
   ]
  },
  {
   "cell_type": "code",
   "execution_count": 6,
   "metadata": {},
   "outputs": [
    {
     "data": {
      "text/plain": [
       "('../../data/extracted_images/h11_short/011',\n",
       " '../../data/extracted_images/h11_short/156')"
      ]
     },
     "execution_count": 6,
     "metadata": {},
     "output_type": "execute_result"
    }
   ],
   "source": [
    "first_frame, last_frame"
   ]
  },
  {
   "cell_type": "markdown",
   "metadata": {},
   "source": [
    "## Converting the Frame ID to Integer"
   ]
  },
  {
   "cell_type": "code",
   "execution_count": 7,
   "metadata": {},
   "outputs": [
    {
     "data": {
      "text/plain": [
       "(11, 72, 112)"
      ]
     },
     "execution_count": 7,
     "metadata": {},
     "output_type": "execute_result"
    }
   ],
   "source": [
    "reg = re.compile(r\"\\d{3}\")\n",
    "first_frame_num = int(reg.findall(first_frame)[0])\n",
    "contact_frame_num = int(reg.findall(contact_frame)[0])\n",
    "leave_frame_num = int(reg.findall(leave_frame)[0])\n",
    "first_frame_num, contact_frame_num, leave_frame_num"
   ]
  },
  {
   "cell_type": "markdown",
   "metadata": {},
   "source": [
    "## Reading the DF"
   ]
  },
  {
   "cell_type": "code",
   "execution_count": 8,
   "metadata": {},
   "outputs": [],
   "source": [
    "df_name = sequence+\"_raw.csv\"\n",
    "df = pd.read_csv(RESULT_DIR + '/'+df_name)\n",
    "df_c = df[df[\"x\"].notna()]"
   ]
  },
  {
   "cell_type": "markdown",
   "metadata": {},
   "source": [
    "# Fitting Curves"
   ]
  },
  {
   "cell_type": "markdown",
   "metadata": {},
   "source": [
    "## The Curves to be Fitted"
   ]
  },
  {
   "cell_type": "markdown",
   "metadata": {},
   "source": [
    "We'll assume that downward is the positive direction. In this way, the gravitational acceleration is positive. In x direction, no force is acting and hence the equation of motion is simply:\n",
    "$$\n",
    "x(t) = x_0 + v_{x0}t\n",
    "$$\n",
    "Here $x_0$ is the initial x position, $v_{x0}$ is the initial y velocity."
   ]
  },
  {
   "cell_type": "markdown",
   "metadata": {},
   "source": [
    "Now, in y direction, the equation of motion is:\n",
    "$$\n",
    "y(t) = y_0 + v_{y0}t + \\frac{1}{2}gt^2\n",
    "$$\n",
    "Here, $y_0$ is the initial y position, $v_{y0}$ is the initial y velocity, and $g$ is the acceleration due to gravity."
   ]
  },
  {
   "cell_type": "markdown",
   "metadata": {},
   "source": [
    "We'll optimize these two equations to get the initial velocity and the initial position for x and y direction."
   ]
  },
  {
   "cell_type": "markdown",
   "metadata": {},
   "source": [
    "We can also phrase the same problem by eliminating $t$ from the equation of motions. This way, we'll get $y$ as a function of $x$. Eliminating $t$ from the equation of motion, we get:\n",
    "$$\n",
    "y = y_0 + \\frac{v_y}{v_x}(x - x_0) + \\frac{1}{2}g\\frac{(x - x_0)^2}{v_x^2}\n",
    "$$\n"
   ]
  },
  {
   "cell_type": "markdown",
   "metadata": {},
   "source": [
    "Here, we have rewritten $v_{x0}$ as $v_x$ and $v_{y0}$ as $v_y$. \n",
    "<!-- Defining $\\frac{v_y}{v_x}$ as $m$, which is nothing but $\\tan(\\theta)$ where $\\theta$ is the angle between the y and x velocity, we get:\n",
    "$$\n",
    "y = y_0 + m(x - x_0) + \\frac{1}{2}g\\frac{(x - x_0)^2}{v_x^2}\n",
    "$$ -->"
   ]
  },
  {
   "cell_type": "markdown",
   "metadata": {},
   "source": [
    "This is a parabola with the parameters $y_0$, $m$, $g$ and $v_x$ and $v_y$. We can use `scipy` to get these parameters."
   ]
  },
  {
   "cell_type": "code",
   "execution_count": 9,
   "metadata": {},
   "outputs": [],
   "source": [
    "def the_parabola(x, x0, y0, vy, vx, g):\n",
    "    second_term = (vy/vx)*(x-x0)\n",
    "    third_term = 0.5*g*((x-x0)/vx)**2\n",
    "    return y0 + second_term + third_term\n",
    "the_parabola_vector = np.vectorize(the_parabola)"
   ]
  },
  {
   "cell_type": "markdown",
   "metadata": {},
   "source": [
    "However, it turned out that using the parabola does not give a reasonable result. So, we'll be using the parametric equations."
   ]
  },
  {
   "cell_type": "code",
   "execution_count": 10,
   "metadata": {},
   "outputs": [],
   "source": [
    "def parametric_x(t, x0, vx0):\n",
    "    return x0 + vx0*t\n",
    "parametric_x_vector = np.vectorize(parametric_x)\n",
    "\n",
    "def parametric_y(t, y0, vy0, g):\n",
    "    return y0 + vy0*t+0.5*g*t**2\n",
    "parametric_y_vector = np.vectorize(parametric_y)"
   ]
  },
  {
   "cell_type": "markdown",
   "metadata": {},
   "source": [
    "## Region III"
   ]
  },
  {
   "cell_type": "markdown",
   "metadata": {},
   "source": [
    "### Data For Region III"
   ]
  },
  {
   "cell_type": "code",
   "execution_count": 11,
   "metadata": {},
   "outputs": [],
   "source": [
    "region_3 = df_c[df_c[\"Region\"] == \"III\"]"
   ]
  },
  {
   "cell_type": "code",
   "execution_count": 12,
   "metadata": {},
   "outputs": [],
   "source": [
    "X = region_3[\"x\"].values\n",
    "Y = region_3[\"y\"].values\n",
    "t = region_3[\"time\"].values\n",
    "offset = t[0]\n",
    "tbar = t-offset"
   ]
  },
  {
   "cell_type": "code",
   "execution_count": 13,
   "metadata": {},
   "outputs": [
    {
     "data": {
      "text/plain": [
       "array([ 0,  1,  2,  3,  4,  5,  6,  7,  8,  9, 10, 11, 12, 13, 14, 16, 17,\n",
       "       18, 19, 20, 21, 23, 24, 25, 26, 27, 28, 29, 30, 31, 32, 33, 34, 35,\n",
       "       36, 37, 38, 39, 40, 41, 42, 43, 44, 45, 46, 47, 48, 49, 50, 51, 52,\n",
       "       53, 54, 55, 56, 57, 58])"
      ]
     },
     "execution_count": 13,
     "metadata": {},
     "output_type": "execute_result"
    }
   ],
   "source": [
    "tbar"
   ]
  },
  {
   "cell_type": "markdown",
   "metadata": {},
   "source": [
    "### Fitting the Curves"
   ]
  },
  {
   "cell_type": "code",
   "execution_count": 14,
   "metadata": {},
   "outputs": [],
   "source": [
    "popt, pcov = curve_fit(the_parabola, X, Y, maxfev=10000)\n",
    "popty, pcovy = curve_fit(parametric_y, tbar, Y)\n",
    "poptx, pcovx = curve_fit(parametric_x, tbar, X)"
   ]
  },
  {
   "cell_type": "code",
   "execution_count": 15,
   "metadata": {},
   "outputs": [
    {
     "data": {
      "text/plain": [
       "array([ 469.14915542, 1666.89741443,  536.92783493, -133.88626393,\n",
       "        138.9300334 ])"
      ]
     },
     "execution_count": 15,
     "metadata": {},
     "output_type": "execute_result"
    }
   ],
   "source": [
    "popt"
   ]
  },
  {
   "cell_type": "markdown",
   "metadata": {},
   "source": [
    "As you can see, the parameters calculated by the fitting method is ridiculus, even though it fits the parabola well (See the figure below)."
   ]
  },
  {
   "cell_type": "code",
   "execution_count": 16,
   "metadata": {},
   "outputs": [
    {
     "data": {
      "text/plain": [
       "(array([913.21506027,   3.30390774]),\n",
       " array([ 6.62249070e+02, -3.15146563e+00,  1.29759360e-01]))"
      ]
     },
     "execution_count": 16,
     "metadata": {},
     "output_type": "execute_result"
    }
   ],
   "source": [
    "poptx, popty"
   ]
  },
  {
   "cell_type": "markdown",
   "metadata": {},
   "source": [
    "These values are reasonable."
   ]
  },
  {
   "cell_type": "code",
   "execution_count": 17,
   "metadata": {},
   "outputs": [
    {
     "data": {
      "text/plain": [
       "0.1297593595330171"
      ]
     },
     "execution_count": 17,
     "metadata": {},
     "output_type": "execute_result"
    }
   ],
   "source": [
    "g = popty[2]\n",
    "g"
   ]
  },
  {
   "cell_type": "markdown",
   "metadata": {},
   "source": [
    "### Analyzing the Results"
   ]
  },
  {
   "cell_type": "code",
   "execution_count": 18,
   "metadata": {},
   "outputs": [
    {
     "data": {
      "image/png": "[encoded data removed]",
      "text/plain": [
       "<Figure size 640x480 with 1 Axes>"
      ]
     },
     "metadata": {},
     "output_type": "display_data"
    }
   ],
   "source": [
    "plt.plot(X,Y, 'o', label=\"data\")\n",
    "plt.plot(X, the_parabola_vector(X, *popt),label=\"fit using parabola\")\n",
    "plt.legend();"
   ]
  },
  {
   "cell_type": "code",
   "execution_count": 19,
   "metadata": {},
   "outputs": [
    {
     "data": {
      "image/png": "[encoded data removed]",
      "text/plain": [
       "<Figure size 640x480 with 1 Axes>"
      ]
     },
     "metadata": {},
     "output_type": "display_data"
    }
   ],
   "source": [
    "plt.plot(X,Y, 'o', label=\"data\")\n",
    "plt.plot(parametric_x_vector(tbar, *poptx), parametric_y_vector(tbar, *popty), label=\"fit using parametric\")\n",
    "plt.legend();"
   ]
  },
  {
   "cell_type": "markdown",
   "metadata": {},
   "source": [
    "We can see that using the parametric equations, we can fit the curve accurately."
   ]
  },
  {
   "cell_type": "markdown",
   "metadata": {},
   "source": [
    "### Getting Speeds"
   ]
  },
  {
   "cell_type": "markdown",
   "metadata": {},
   "source": [
    "Next, we'll see how the calculated velocities are? The eqaution for the speeds are:\n",
    "$$\n",
    "v_x(t) = v_{x0}\\\\\n",
    "v_y(t) = v_{y0} + gt\n",
    "$$"
   ]
  },
  {
   "cell_type": "code",
   "execution_count": 20,
   "metadata": {},
   "outputs": [],
   "source": [
    "vy = popty[1]+popty[2]*(tbar)\n",
    "vx = np.ones(len(tbar))*poptx[1]\n",
    "v = np.sqrt(vy**2+vx**2)"
   ]
  },
  {
   "cell_type": "code",
   "execution_count": 21,
   "metadata": {},
   "outputs": [
    {
     "data": {
      "image/png": "[encoded data removed]",
      "text/plain": [
       "<Figure size 640x480 with 1 Axes>"
      ]
     },
     "metadata": {},
     "output_type": "display_data"
    }
   ],
   "source": [
    "plt.plot(tbar, region_3[\"vy\"].values, label=\"vy_data\")\n",
    "plt.plot(tbar, vy, label=\"vy_calculated\")\n",
    "plt.legend()\n",
    "plt.xlabel(\"time\")\n",
    "plt.ylabel(\"vy\");"
   ]
  },
  {
   "cell_type": "code",
   "execution_count": 22,
   "metadata": {},
   "outputs": [
    {
     "data": {
      "image/png": "[encoded data removed]",
      "text/plain": [
       "<Figure size 640x480 with 1 Axes>"
      ]
     },
     "metadata": {},
     "output_type": "display_data"
    }
   ],
   "source": [
    "plt.plot(tbar, region_3[\"vx\"].values, label=\"vx_data\")\n",
    "plt.plot(tbar, vx, label=\"vx_calculated\")\n",
    "plt.legend()\n",
    "plt.xlabel(\"time\")\n",
    "plt.ylabel(\"vx\");"
   ]
  },
  {
   "cell_type": "code",
   "execution_count": 23,
   "metadata": {},
   "outputs": [
    {
     "data": {
      "image/png": "[encoded data removed]",
      "text/plain": [
       "<Figure size 640x480 with 1 Axes>"
      ]
     },
     "metadata": {},
     "output_type": "display_data"
    }
   ],
   "source": [
    "plt.plot(tbar, region_3[\"v\"].values, label=\"v_data\")\n",
    "plt.plot(tbar, v, label=\"v_calculated\")\n",
    "plt.legend()\n",
    "plt.xlabel(\"time\")\n",
    "plt.ylabel(\"v\");"
   ]
  },
  {
   "cell_type": "markdown",
   "metadata": {},
   "source": [
    "They are reasonable."
   ]
  },
  {
   "cell_type": "markdown",
   "metadata": {},
   "source": [
    "### Getting Angles"
   ]
  },
  {
   "cell_type": "markdown",
   "metadata": {},
   "source": [
    "Next, let's calculate the angle between the x and y velocity."
   ]
  },
  {
   "cell_type": "code",
   "execution_count": 24,
   "metadata": {},
   "outputs": [],
   "source": [
    "angles= np.arctan(vy/vx)*180/np.pi"
   ]
  },
  {
   "cell_type": "code",
   "execution_count": 25,
   "metadata": {},
   "outputs": [
    {
     "data": {
      "image/png": "[encoded data removed]",
      "text/plain": [
       "<Figure size 640x480 with 1 Axes>"
      ]
     },
     "metadata": {},
     "output_type": "display_data"
    }
   ],
   "source": [
    "plt.plot(-angles, label = \"calculated\")\n",
    "plt.plot(region_3[\"angle\"].values, label = \"data\")\n",
    "plt.legend();"
   ]
  },
  {
   "cell_type": "markdown",
   "metadata": {},
   "source": [
    "Again, reasonable."
   ]
  },
  {
   "cell_type": "markdown",
   "metadata": {},
   "source": [
    "## Getting the Additional Information"
   ]
  },
  {
   "cell_type": "code",
   "execution_count": 26,
   "metadata": {},
   "outputs": [],
   "source": [
    "new_info_df = pd.DataFrame({\"vx\": vx, \"vy\": vy, \"v\":v, \"angle\": angles, \"time\":t})\n",
    "new_info_df.columns = [\"vx_using_curve\", \"vy_using_curve\", \"v_using_curve\", \"angle_using_curve\", \"time\"]"
   ]
  },
  {
   "cell_type": "code",
   "execution_count": 27,
   "metadata": {},
   "outputs": [
    {
     "data": {
      "text/html": [
       "<div>\n",
       "<style scoped>\n",
       "    .dataframe tbody tr th:only-of-type {\n",
       "        vertical-align: middle;\n",
       "    }\n",
       "\n",
       "    .dataframe tbody tr th {\n",
       "        vertical-align: top;\n",
       "    }\n",
       "\n",
       "    .dataframe thead th {\n",
       "        text-align: right;\n",
       "    }\n",
       "</style>\n",
       "<table border=\"1\" class=\"dataframe\">\n",
       "  <thead>\n",
       "    <tr style=\"text-align: right;\">\n",
       "      <th></th>\n",
       "      <th>vx_using_curve</th>\n",
       "      <th>vy_using_curve</th>\n",
       "      <th>v_using_curve</th>\n",
       "      <th>angle_using_curve</th>\n",
       "      <th>time</th>\n",
       "    </tr>\n",
       "  </thead>\n",
       "  <tbody>\n",
       "    <tr>\n",
       "      <th>0</th>\n",
       "      <td>3.303908</td>\n",
       "      <td>-3.151466</td>\n",
       "      <td>4.565911</td>\n",
       "      <td>-43.647225</td>\n",
       "      <td>93</td>\n",
       "    </tr>\n",
       "    <tr>\n",
       "      <th>1</th>\n",
       "      <td>3.303908</td>\n",
       "      <td>-3.021706</td>\n",
       "      <td>4.477333</td>\n",
       "      <td>-42.445586</td>\n",
       "      <td>94</td>\n",
       "    </tr>\n",
       "    <tr>\n",
       "      <th>2</th>\n",
       "      <td>3.303908</td>\n",
       "      <td>-2.891947</td>\n",
       "      <td>4.390804</td>\n",
       "      <td>-41.196017</td>\n",
       "      <td>95</td>\n",
       "    </tr>\n",
       "    <tr>\n",
       "      <th>3</th>\n",
       "      <td>3.303908</td>\n",
       "      <td>-2.762188</td>\n",
       "      <td>4.306447</td>\n",
       "      <td>-39.896855</td>\n",
       "      <td>96</td>\n",
       "    </tr>\n",
       "    <tr>\n",
       "      <th>4</th>\n",
       "      <td>3.303908</td>\n",
       "      <td>-2.632428</td>\n",
       "      <td>4.224392</td>\n",
       "      <td>-38.546506</td>\n",
       "      <td>97</td>\n",
       "    </tr>\n",
       "    <tr>\n",
       "      <th>5</th>\n",
       "      <td>3.303908</td>\n",
       "      <td>-2.502669</td>\n",
       "      <td>4.144775</td>\n",
       "      <td>-37.143474</td>\n",
       "      <td>98</td>\n",
       "    </tr>\n",
       "    <tr>\n",
       "      <th>6</th>\n",
       "      <td>3.303908</td>\n",
       "      <td>-2.372909</td>\n",
       "      <td>4.067740</td>\n",
       "      <td>-35.686399</td>\n",
       "      <td>99</td>\n",
       "    </tr>\n",
       "    <tr>\n",
       "      <th>7</th>\n",
       "      <td>3.303908</td>\n",
       "      <td>-2.243150</td>\n",
       "      <td>3.993436</td>\n",
       "      <td>-34.174092</td>\n",
       "      <td>100</td>\n",
       "    </tr>\n",
       "    <tr>\n",
       "      <th>8</th>\n",
       "      <td>3.303908</td>\n",
       "      <td>-2.113391</td>\n",
       "      <td>3.922018</td>\n",
       "      <td>-32.605583</td>\n",
       "      <td>101</td>\n",
       "    </tr>\n",
       "    <tr>\n",
       "      <th>9</th>\n",
       "      <td>3.303908</td>\n",
       "      <td>-1.983631</td>\n",
       "      <td>3.853648</td>\n",
       "      <td>-30.980161</td>\n",
       "      <td>102</td>\n",
       "    </tr>\n",
       "    <tr>\n",
       "      <th>10</th>\n",
       "      <td>3.303908</td>\n",
       "      <td>-1.853872</td>\n",
       "      <td>3.788489</td>\n",
       "      <td>-29.297434</td>\n",
       "      <td>103</td>\n",
       "    </tr>\n",
       "    <tr>\n",
       "      <th>11</th>\n",
       "      <td>3.303908</td>\n",
       "      <td>-1.724113</td>\n",
       "      <td>3.726710</td>\n",
       "      <td>-27.557374</td>\n",
       "      <td>104</td>\n",
       "    </tr>\n",
       "    <tr>\n",
       "      <th>12</th>\n",
       "      <td>3.303908</td>\n",
       "      <td>-1.594353</td>\n",
       "      <td>3.668483</td>\n",
       "      <td>-25.760373</td>\n",
       "      <td>105</td>\n",
       "    </tr>\n",
       "    <tr>\n",
       "      <th>13</th>\n",
       "      <td>3.303908</td>\n",
       "      <td>-1.464594</td>\n",
       "      <td>3.613979</td>\n",
       "      <td>-23.907299</td>\n",
       "      <td>106</td>\n",
       "    </tr>\n",
       "    <tr>\n",
       "      <th>14</th>\n",
       "      <td>3.303908</td>\n",
       "      <td>-1.334835</td>\n",
       "      <td>3.563368</td>\n",
       "      <td>-21.999541</td>\n",
       "      <td>107</td>\n",
       "    </tr>\n",
       "    <tr>\n",
       "      <th>15</th>\n",
       "      <td>3.303908</td>\n",
       "      <td>-1.075316</td>\n",
       "      <td>3.474494</td>\n",
       "      <td>-18.028405</td>\n",
       "      <td>109</td>\n",
       "    </tr>\n",
       "    <tr>\n",
       "      <th>16</th>\n",
       "      <td>3.303908</td>\n",
       "      <td>-0.945557</td>\n",
       "      <td>3.436551</td>\n",
       "      <td>-15.970771</td>\n",
       "      <td>110</td>\n",
       "    </tr>\n",
       "    <tr>\n",
       "      <th>17</th>\n",
       "      <td>3.303908</td>\n",
       "      <td>-0.815797</td>\n",
       "      <td>3.403136</td>\n",
       "      <td>-13.869972</td>\n",
       "      <td>111</td>\n",
       "    </tr>\n",
       "    <tr>\n",
       "      <th>18</th>\n",
       "      <td>3.303908</td>\n",
       "      <td>-0.686038</td>\n",
       "      <td>3.374382</td>\n",
       "      <td>-11.730450</td>\n",
       "      <td>112</td>\n",
       "    </tr>\n",
       "    <tr>\n",
       "      <th>19</th>\n",
       "      <td>3.303908</td>\n",
       "      <td>-0.556278</td>\n",
       "      <td>3.350411</td>\n",
       "      <td>-9.557243</td>\n",
       "      <td>113</td>\n",
       "    </tr>\n",
       "    <tr>\n",
       "      <th>20</th>\n",
       "      <td>3.303908</td>\n",
       "      <td>-0.426519</td>\n",
       "      <td>3.331325</td>\n",
       "      <td>-7.355934</td>\n",
       "      <td>114</td>\n",
       "    </tr>\n",
       "    <tr>\n",
       "      <th>21</th>\n",
       "      <td>3.303908</td>\n",
       "      <td>-0.167000</td>\n",
       "      <td>3.308126</td>\n",
       "      <td>-2.893628</td>\n",
       "      <td>116</td>\n",
       "    </tr>\n",
       "    <tr>\n",
       "      <th>22</th>\n",
       "      <td>3.303908</td>\n",
       "      <td>-0.037241</td>\n",
       "      <td>3.304118</td>\n",
       "      <td>-0.645799</td>\n",
       "      <td>117</td>\n",
       "    </tr>\n",
       "    <tr>\n",
       "      <th>23</th>\n",
       "      <td>3.303908</td>\n",
       "      <td>0.092518</td>\n",
       "      <td>3.305203</td>\n",
       "      <td>1.604018</td>\n",
       "      <td>118</td>\n",
       "    </tr>\n",
       "    <tr>\n",
       "      <th>24</th>\n",
       "      <td>3.303908</td>\n",
       "      <td>0.222278</td>\n",
       "      <td>3.311376</td>\n",
       "      <td>3.848901</td>\n",
       "      <td>119</td>\n",
       "    </tr>\n",
       "    <tr>\n",
       "      <th>25</th>\n",
       "      <td>3.303908</td>\n",
       "      <td>0.352037</td>\n",
       "      <td>3.322610</td>\n",
       "      <td>6.082017</td>\n",
       "      <td>120</td>\n",
       "    </tr>\n",
       "    <tr>\n",
       "      <th>26</th>\n",
       "      <td>3.303908</td>\n",
       "      <td>0.481796</td>\n",
       "      <td>3.338852</td>\n",
       "      <td>8.296747</td>\n",
       "      <td>121</td>\n",
       "    </tr>\n",
       "    <tr>\n",
       "      <th>27</th>\n",
       "      <td>3.303908</td>\n",
       "      <td>0.611556</td>\n",
       "      <td>3.360031</td>\n",
       "      <td>10.486799</td>\n",
       "      <td>122</td>\n",
       "    </tr>\n",
       "    <tr>\n",
       "      <th>28</th>\n",
       "      <td>3.303908</td>\n",
       "      <td>0.741315</td>\n",
       "      <td>3.386053</td>\n",
       "      <td>12.646309</td>\n",
       "      <td>123</td>\n",
       "    </tr>\n",
       "    <tr>\n",
       "      <th>29</th>\n",
       "      <td>3.303908</td>\n",
       "      <td>0.871075</td>\n",
       "      <td>3.416808</td>\n",
       "      <td>14.769917</td>\n",
       "      <td>124</td>\n",
       "    </tr>\n",
       "    <tr>\n",
       "      <th>30</th>\n",
       "      <td>3.303908</td>\n",
       "      <td>1.000834</td>\n",
       "      <td>3.452170</td>\n",
       "      <td>16.852835</td>\n",
       "      <td>125</td>\n",
       "    </tr>\n",
       "    <tr>\n",
       "      <th>31</th>\n",
       "      <td>3.303908</td>\n",
       "      <td>1.130593</td>\n",
       "      <td>3.491998</td>\n",
       "      <td>18.890884</td>\n",
       "      <td>126</td>\n",
       "    </tr>\n",
       "    <tr>\n",
       "      <th>32</th>\n",
       "      <td>3.303908</td>\n",
       "      <td>1.260353</td>\n",
       "      <td>3.536141</td>\n",
       "      <td>20.880518</td>\n",
       "      <td>127</td>\n",
       "    </tr>\n",
       "    <tr>\n",
       "      <th>33</th>\n",
       "      <td>3.303908</td>\n",
       "      <td>1.390112</td>\n",
       "      <td>3.584441</td>\n",
       "      <td>22.818818</td>\n",
       "      <td>128</td>\n",
       "    </tr>\n",
       "    <tr>\n",
       "      <th>34</th>\n",
       "      <td>3.303908</td>\n",
       "      <td>1.519871</td>\n",
       "      <td>3.636731</td>\n",
       "      <td>24.703486</td>\n",
       "      <td>129</td>\n",
       "    </tr>\n",
       "    <tr>\n",
       "      <th>35</th>\n",
       "      <td>3.303908</td>\n",
       "      <td>1.649631</td>\n",
       "      <td>3.692843</td>\n",
       "      <td>26.532811</td>\n",
       "      <td>130</td>\n",
       "    </tr>\n",
       "    <tr>\n",
       "      <th>36</th>\n",
       "      <td>3.303908</td>\n",
       "      <td>1.779390</td>\n",
       "      <td>3.752604</td>\n",
       "      <td>28.305633</td>\n",
       "      <td>131</td>\n",
       "    </tr>\n",
       "    <tr>\n",
       "      <th>37</th>\n",
       "      <td>3.303908</td>\n",
       "      <td>1.909149</td>\n",
       "      <td>3.815843</td>\n",
       "      <td>30.021292</td>\n",
       "      <td>132</td>\n",
       "    </tr>\n",
       "    <tr>\n",
       "      <th>38</th>\n",
       "      <td>3.303908</td>\n",
       "      <td>2.038909</td>\n",
       "      <td>3.882390</td>\n",
       "      <td>31.679580</td>\n",
       "      <td>133</td>\n",
       "    </tr>\n",
       "    <tr>\n",
       "      <th>39</th>\n",
       "      <td>3.303908</td>\n",
       "      <td>2.168668</td>\n",
       "      <td>3.952079</td>\n",
       "      <td>33.280690</td>\n",
       "      <td>134</td>\n",
       "    </tr>\n",
       "    <tr>\n",
       "      <th>40</th>\n",
       "      <td>3.303908</td>\n",
       "      <td>2.298427</td>\n",
       "      <td>4.024745</td>\n",
       "      <td>34.825154</td>\n",
       "      <td>135</td>\n",
       "    </tr>\n",
       "    <tr>\n",
       "      <th>41</th>\n",
       "      <td>3.303908</td>\n",
       "      <td>2.428187</td>\n",
       "      <td>4.100231</td>\n",
       "      <td>36.313799</td>\n",
       "      <td>136</td>\n",
       "    </tr>\n",
       "    <tr>\n",
       "      <th>42</th>\n",
       "      <td>3.303908</td>\n",
       "      <td>2.557946</td>\n",
       "      <td>4.178384</td>\n",
       "      <td>37.747696</td>\n",
       "      <td>137</td>\n",
       "    </tr>\n",
       "    <tr>\n",
       "      <th>43</th>\n",
       "      <td>3.303908</td>\n",
       "      <td>2.687706</td>\n",
       "      <td>4.259057</td>\n",
       "      <td>39.128110</td>\n",
       "      <td>138</td>\n",
       "    </tr>\n",
       "    <tr>\n",
       "      <th>44</th>\n",
       "      <td>3.303908</td>\n",
       "      <td>2.817465</td>\n",
       "      <td>4.342109</td>\n",
       "      <td>40.456464</td>\n",
       "      <td>139</td>\n",
       "    </tr>\n",
       "    <tr>\n",
       "      <th>45</th>\n",
       "      <td>3.303908</td>\n",
       "      <td>2.947224</td>\n",
       "      <td>4.427408</td>\n",
       "      <td>41.734300</td>\n",
       "      <td>140</td>\n",
       "    </tr>\n",
       "    <tr>\n",
       "      <th>46</th>\n",
       "      <td>3.303908</td>\n",
       "      <td>3.076984</td>\n",
       "      <td>4.514824</td>\n",
       "      <td>42.963244</td>\n",
       "      <td>141</td>\n",
       "    </tr>\n",
       "    <tr>\n",
       "      <th>47</th>\n",
       "      <td>3.303908</td>\n",
       "      <td>3.206743</td>\n",
       "      <td>4.604238</td>\n",
       "      <td>44.144983</td>\n",
       "      <td>142</td>\n",
       "    </tr>\n",
       "    <tr>\n",
       "      <th>48</th>\n",
       "      <td>3.303908</td>\n",
       "      <td>3.336502</td>\n",
       "      <td>4.695536</td>\n",
       "      <td>45.281235</td>\n",
       "      <td>143</td>\n",
       "    </tr>\n",
       "    <tr>\n",
       "      <th>49</th>\n",
       "      <td>3.303908</td>\n",
       "      <td>3.466262</td>\n",
       "      <td>4.788609</td>\n",
       "      <td>46.373734</td>\n",
       "      <td>144</td>\n",
       "    </tr>\n",
       "    <tr>\n",
       "      <th>50</th>\n",
       "      <td>3.303908</td>\n",
       "      <td>3.596021</td>\n",
       "      <td>4.883357</td>\n",
       "      <td>47.424209</td>\n",
       "      <td>145</td>\n",
       "    </tr>\n",
       "    <tr>\n",
       "      <th>51</th>\n",
       "      <td>3.303908</td>\n",
       "      <td>3.725780</td>\n",
       "      <td>4.979683</td>\n",
       "      <td>48.434373</td>\n",
       "      <td>146</td>\n",
       "    </tr>\n",
       "    <tr>\n",
       "      <th>52</th>\n",
       "      <td>3.303908</td>\n",
       "      <td>3.855540</td>\n",
       "      <td>5.077499</td>\n",
       "      <td>49.405908</td>\n",
       "      <td>147</td>\n",
       "    </tr>\n",
       "    <tr>\n",
       "      <th>53</th>\n",
       "      <td>3.303908</td>\n",
       "      <td>3.985299</td>\n",
       "      <td>5.176719</td>\n",
       "      <td>50.340461</td>\n",
       "      <td>148</td>\n",
       "    </tr>\n",
       "    <tr>\n",
       "      <th>54</th>\n",
       "      <td>3.303908</td>\n",
       "      <td>4.115059</td>\n",
       "      <td>5.277264</td>\n",
       "      <td>51.239635</td>\n",
       "      <td>149</td>\n",
       "    </tr>\n",
       "    <tr>\n",
       "      <th>55</th>\n",
       "      <td>3.303908</td>\n",
       "      <td>4.244818</td>\n",
       "      <td>5.379060</td>\n",
       "      <td>52.104983</td>\n",
       "      <td>150</td>\n",
       "    </tr>\n",
       "    <tr>\n",
       "      <th>56</th>\n",
       "      <td>3.303908</td>\n",
       "      <td>4.374577</td>\n",
       "      <td>5.482037</td>\n",
       "      <td>52.938004</td>\n",
       "      <td>151</td>\n",
       "    </tr>\n",
       "  </tbody>\n",
       "</table>\n",
       "</div>"
      ],
      "text/plain": [
       "    vx_using_curve  vy_using_curve  v_using_curve  angle_using_curve  time\n",
       "0         3.303908       -3.151466       4.565911         -43.647225    93\n",
       "1         3.303908       -3.021706       4.477333         -42.445586    94\n",
       "2         3.303908       -2.891947       4.390804         -41.196017    95\n",
       "3         3.303908       -2.762188       4.306447         -39.896855    96\n",
       "4         3.303908       -2.632428       4.224392         -38.546506    97\n",
       "5         3.303908       -2.502669       4.144775         -37.143474    98\n",
       "6         3.303908       -2.372909       4.067740         -35.686399    99\n",
       "7         3.303908       -2.243150       3.993436         -34.174092   100\n",
       "8         3.303908       -2.113391       3.922018         -32.605583   101\n",
       "9         3.303908       -1.983631       3.853648         -30.980161   102\n",
       "10        3.303908       -1.853872       3.788489         -29.297434   103\n",
       "11        3.303908       -1.724113       3.726710         -27.557374   104\n",
       "12        3.303908       -1.594353       3.668483         -25.760373   105\n",
       "13        3.303908       -1.464594       3.613979         -23.907299   106\n",
       "14        3.303908       -1.334835       3.563368         -21.999541   107\n",
       "15        3.303908       -1.075316       3.474494         -18.028405   109\n",
       "16        3.303908       -0.945557       3.436551         -15.970771   110\n",
       "17        3.303908       -0.815797       3.403136         -13.869972   111\n",
       "18        3.303908       -0.686038       3.374382         -11.730450   112\n",
       "19        3.303908       -0.556278       3.350411          -9.557243   113\n",
       "20        3.303908       -0.426519       3.331325          -7.355934   114\n",
       "21        3.303908       -0.167000       3.308126          -2.893628   116\n",
       "22        3.303908       -0.037241       3.304118          -0.645799   117\n",
       "23        3.303908        0.092518       3.305203           1.604018   118\n",
       "24        3.303908        0.222278       3.311376           3.848901   119\n",
       "25        3.303908        0.352037       3.322610           6.082017   120\n",
       "26        3.303908        0.481796       3.338852           8.296747   121\n",
       "27        3.303908        0.611556       3.360031          10.486799   122\n",
       "28        3.303908        0.741315       3.386053          12.646309   123\n",
       "29        3.303908        0.871075       3.416808          14.769917   124\n",
       "30        3.303908        1.000834       3.452170          16.852835   125\n",
       "31        3.303908        1.130593       3.491998          18.890884   126\n",
       "32        3.303908        1.260353       3.536141          20.880518   127\n",
       "33        3.303908        1.390112       3.584441          22.818818   128\n",
       "34        3.303908        1.519871       3.636731          24.703486   129\n",
       "35        3.303908        1.649631       3.692843          26.532811   130\n",
       "36        3.303908        1.779390       3.752604          28.305633   131\n",
       "37        3.303908        1.909149       3.815843          30.021292   132\n",
       "38        3.303908        2.038909       3.882390          31.679580   133\n",
       "39        3.303908        2.168668       3.952079          33.280690   134\n",
       "40        3.303908        2.298427       4.024745          34.825154   135\n",
       "41        3.303908        2.428187       4.100231          36.313799   136\n",
       "42        3.303908        2.557946       4.178384          37.747696   137\n",
       "43        3.303908        2.687706       4.259057          39.128110   138\n",
       "44        3.303908        2.817465       4.342109          40.456464   139\n",
       "45        3.303908        2.947224       4.427408          41.734300   140\n",
       "46        3.303908        3.076984       4.514824          42.963244   141\n",
       "47        3.303908        3.206743       4.604238          44.144983   142\n",
       "48        3.303908        3.336502       4.695536          45.281235   143\n",
       "49        3.303908        3.466262       4.788609          46.373734   144\n",
       "50        3.303908        3.596021       4.883357          47.424209   145\n",
       "51        3.303908        3.725780       4.979683          48.434373   146\n",
       "52        3.303908        3.855540       5.077499          49.405908   147\n",
       "53        3.303908        3.985299       5.176719          50.340461   148\n",
       "54        3.303908        4.115059       5.277264          51.239635   149\n",
       "55        3.303908        4.244818       5.379060          52.104983   150\n",
       "56        3.303908        4.374577       5.482037          52.938004   151"
      ]
     },
     "execution_count": 27,
     "metadata": {},
     "output_type": "execute_result"
    }
   ],
   "source": [
    "new_info_df"
   ]
  },
  {
   "cell_type": "code",
   "execution_count": 28,
   "metadata": {},
   "outputs": [
    {
     "data": {
      "text/html": [
       "<div>\n",
       "<style scoped>\n",
       "    .dataframe tbody tr th:only-of-type {\n",
       "        vertical-align: middle;\n",
       "    }\n",
       "\n",
       "    .dataframe tbody tr th {\n",
       "        vertical-align: top;\n",
       "    }\n",
       "\n",
       "    .dataframe thead th {\n",
       "        text-align: right;\n",
       "    }\n",
       "</style>\n",
       "<table border=\"1\" class=\"dataframe\">\n",
       "  <thead>\n",
       "    <tr style=\"text-align: right;\">\n",
       "      <th></th>\n",
       "      <th>134</th>\n",
       "      <th>135</th>\n",
       "      <th>136</th>\n",
       "      <th>137</th>\n",
       "      <th>138</th>\n",
       "    </tr>\n",
       "  </thead>\n",
       "  <tbody>\n",
       "    <tr>\n",
       "      <th>id</th>\n",
       "      <td>../../data/extracted_images/h11_short/147.jpg</td>\n",
       "      <td>../../data/extracted_images/h11_short/148.jpg</td>\n",
       "      <td>../../data/extracted_images/h11_short/149.jpg</td>\n",
       "      <td>../../data/extracted_images/h11_short/150.jpg</td>\n",
       "      <td>../../data/extracted_images/h11_short/151.jpg</td>\n",
       "    </tr>\n",
       "    <tr>\n",
       "      <th>x</th>\n",
       "      <td>1103.0</td>\n",
       "      <td>1103.0</td>\n",
       "      <td>1106.0</td>\n",
       "      <td>1108.0</td>\n",
       "      <td>1110.0</td>\n",
       "    </tr>\n",
       "    <tr>\n",
       "      <th>y</th>\n",
       "      <td>678.0</td>\n",
       "      <td>682.0</td>\n",
       "      <td>687.0</td>\n",
       "      <td>689.0</td>\n",
       "      <td>688.0</td>\n",
       "    </tr>\n",
       "    <tr>\n",
       "      <th>r1</th>\n",
       "      <td>8.0</td>\n",
       "      <td>5.0</td>\n",
       "      <td>6.0</td>\n",
       "      <td>13.0</td>\n",
       "      <td>11.0</td>\n",
       "    </tr>\n",
       "    <tr>\n",
       "      <th>r2</th>\n",
       "      <td>11.0</td>\n",
       "      <td>14.0</td>\n",
       "      <td>14.0</td>\n",
       "      <td>5.0</td>\n",
       "      <td>1.0</td>\n",
       "    </tr>\n",
       "    <tr>\n",
       "      <th>theta</th>\n",
       "      <td>55.003948</td>\n",
       "      <td>47.555497</td>\n",
       "      <td>45.836624</td>\n",
       "      <td>-43.544792</td>\n",
       "      <td>-36.669299</td>\n",
       "    </tr>\n",
       "    <tr>\n",
       "      <th>vx</th>\n",
       "      <td>4.285714</td>\n",
       "      <td>3.714286</td>\n",
       "      <td>3.571429</td>\n",
       "      <td>3.428571</td>\n",
       "      <td>3.142857</td>\n",
       "    </tr>\n",
       "    <tr>\n",
       "      <th>vy</th>\n",
       "      <td>2.714286</td>\n",
       "      <td>2.857143</td>\n",
       "      <td>3.285714</td>\n",
       "      <td>3.0</td>\n",
       "      <td>2.714286</td>\n",
       "    </tr>\n",
       "    <tr>\n",
       "      <th>v</th>\n",
       "      <td>5.072937</td>\n",
       "      <td>4.686063</td>\n",
       "      <td>4.852939</td>\n",
       "      <td>4.555777</td>\n",
       "      <td>4.152698</td>\n",
       "    </tr>\n",
       "    <tr>\n",
       "      <th>angle</th>\n",
       "      <td>-32.347443</td>\n",
       "      <td>-37.568592</td>\n",
       "      <td>-42.614056</td>\n",
       "      <td>-41.185925</td>\n",
       "      <td>-40.815084</td>\n",
       "    </tr>\n",
       "    <tr>\n",
       "      <th>Region</th>\n",
       "      <td>III</td>\n",
       "      <td>III</td>\n",
       "      <td>III</td>\n",
       "      <td>III</td>\n",
       "      <td>III</td>\n",
       "    </tr>\n",
       "    <tr>\n",
       "      <th>time</th>\n",
       "      <td>147</td>\n",
       "      <td>148</td>\n",
       "      <td>149</td>\n",
       "      <td>150</td>\n",
       "      <td>151</td>\n",
       "    </tr>\n",
       "    <tr>\n",
       "      <th>vx_using_curve</th>\n",
       "      <td>3.303908</td>\n",
       "      <td>3.303908</td>\n",
       "      <td>3.303908</td>\n",
       "      <td>3.303908</td>\n",
       "      <td>3.303908</td>\n",
       "    </tr>\n",
       "    <tr>\n",
       "      <th>vy_using_curve</th>\n",
       "      <td>3.85554</td>\n",
       "      <td>3.985299</td>\n",
       "      <td>4.115059</td>\n",
       "      <td>4.244818</td>\n",
       "      <td>4.374577</td>\n",
       "    </tr>\n",
       "    <tr>\n",
       "      <th>v_using_curve</th>\n",
       "      <td>5.077499</td>\n",
       "      <td>5.176719</td>\n",
       "      <td>5.277264</td>\n",
       "      <td>5.37906</td>\n",
       "      <td>5.482037</td>\n",
       "    </tr>\n",
       "    <tr>\n",
       "      <th>angle_using_curve</th>\n",
       "      <td>49.405908</td>\n",
       "      <td>50.340461</td>\n",
       "      <td>51.239635</td>\n",
       "      <td>52.104983</td>\n",
       "      <td>52.938004</td>\n",
       "    </tr>\n",
       "  </tbody>\n",
       "</table>\n",
       "</div>"
      ],
      "text/plain": [
       "                                                             134  \\\n",
       "id                 ../../data/extracted_images/h11_short/147.jpg   \n",
       "x                                                         1103.0   \n",
       "y                                                          678.0   \n",
       "r1                                                           8.0   \n",
       "r2                                                          11.0   \n",
       "theta                                                  55.003948   \n",
       "vx                                                      4.285714   \n",
       "vy                                                      2.714286   \n",
       "v                                                       5.072937   \n",
       "angle                                                 -32.347443   \n",
       "Region                                                       III   \n",
       "time                                                         147   \n",
       "vx_using_curve                                          3.303908   \n",
       "vy_using_curve                                           3.85554   \n",
       "v_using_curve                                           5.077499   \n",
       "angle_using_curve                                      49.405908   \n",
       "\n",
       "                                                             135  \\\n",
       "id                 ../../data/extracted_images/h11_short/148.jpg   \n",
       "x                                                         1103.0   \n",
       "y                                                          682.0   \n",
       "r1                                                           5.0   \n",
       "r2                                                          14.0   \n",
       "theta                                                  47.555497   \n",
       "vx                                                      3.714286   \n",
       "vy                                                      2.857143   \n",
       "v                                                       4.686063   \n",
       "angle                                                 -37.568592   \n",
       "Region                                                       III   \n",
       "time                                                         148   \n",
       "vx_using_curve                                          3.303908   \n",
       "vy_using_curve                                          3.985299   \n",
       "v_using_curve                                           5.176719   \n",
       "angle_using_curve                                      50.340461   \n",
       "\n",
       "                                                             136  \\\n",
       "id                 ../../data/extracted_images/h11_short/149.jpg   \n",
       "x                                                         1106.0   \n",
       "y                                                          687.0   \n",
       "r1                                                           6.0   \n",
       "r2                                                          14.0   \n",
       "theta                                                  45.836624   \n",
       "vx                                                      3.571429   \n",
       "vy                                                      3.285714   \n",
       "v                                                       4.852939   \n",
       "angle                                                 -42.614056   \n",
       "Region                                                       III   \n",
       "time                                                         149   \n",
       "vx_using_curve                                          3.303908   \n",
       "vy_using_curve                                          4.115059   \n",
       "v_using_curve                                           5.277264   \n",
       "angle_using_curve                                      51.239635   \n",
       "\n",
       "                                                             137  \\\n",
       "id                 ../../data/extracted_images/h11_short/150.jpg   \n",
       "x                                                         1108.0   \n",
       "y                                                          689.0   \n",
       "r1                                                          13.0   \n",
       "r2                                                           5.0   \n",
       "theta                                                 -43.544792   \n",
       "vx                                                      3.428571   \n",
       "vy                                                           3.0   \n",
       "v                                                       4.555777   \n",
       "angle                                                 -41.185925   \n",
       "Region                                                       III   \n",
       "time                                                         150   \n",
       "vx_using_curve                                          3.303908   \n",
       "vy_using_curve                                          4.244818   \n",
       "v_using_curve                                            5.37906   \n",
       "angle_using_curve                                      52.104983   \n",
       "\n",
       "                                                             138  \n",
       "id                 ../../data/extracted_images/h11_short/151.jpg  \n",
       "x                                                         1110.0  \n",
       "y                                                          688.0  \n",
       "r1                                                          11.0  \n",
       "r2                                                           1.0  \n",
       "theta                                                 -36.669299  \n",
       "vx                                                      3.142857  \n",
       "vy                                                      2.714286  \n",
       "v                                                       4.152698  \n",
       "angle                                                 -40.815084  \n",
       "Region                                                       III  \n",
       "time                                                         151  \n",
       "vx_using_curve                                          3.303908  \n",
       "vy_using_curve                                          4.374577  \n",
       "v_using_curve                                           5.482037  \n",
       "angle_using_curve                                      52.938004  "
      ]
     },
     "execution_count": 28,
     "metadata": {},
     "output_type": "execute_result"
    }
   ],
   "source": [
    "df_final = pd.merge(df_c, new_info_df, on=\"time\", how=\"left\")\n",
    "df_final.tail().T"
   ]
  },
  {
   "cell_type": "markdown",
   "metadata": {},
   "source": [
    "## Adding the Additional Information"
   ]
  },
  {
   "cell_type": "code",
   "execution_count": 29,
   "metadata": {},
   "outputs": [
    {
     "data": {
      "text/plain": [
       "(3.3039077445789164,\n",
       " -3.1514656306830187,\n",
       " 4.565910862693758,\n",
       " -43.64722515611892)"
      ]
     },
     "execution_count": 29,
     "metadata": {},
     "output_type": "execute_result"
    }
   ],
   "source": [
    "x_speed = vx[0]\n",
    "y_speed = vy[0]\n",
    "speed = v[0]\n",
    "angle = angles[0]\n",
    "x_speed, y_speed, speed, angle"
   ]
  },
  {
   "cell_type": "code",
   "execution_count": 30,
   "metadata": {},
   "outputs": [
    {
     "name": "stdout",
     "output_type": "stream",
     "text": [
      "USING CURVE FIT AT LEAVE FRAME\n",
      "### ANGLE: -43.65\n",
      "### VELOCITY: 4.57\n",
      "### X VELOCITY: 3.3\n",
      "### Y VELOCITY: -3.15\n",
      "### g: 0.1298\n",
      "************************************************************\n",
      "\n"
     ]
    }
   ],
   "source": [
    "pattern = \"***\"\n",
    "information = f\"\"\"USING CURVE FIT AT LEAVE FRAME\n",
    "### ANGLE: {np.round(angle, 2)}\n",
    "### VELOCITY: {np.round(speed, 2)}\n",
    "### X VELOCITY: {np.round(x_speed, 2)}\n",
    "### Y VELOCITY: {np.round(y_speed, 2)}\n",
    "### g: {np.round(g, 4)}\n",
    "{pattern*20}\n",
    "\"\"\"\n",
    "print(information)"
   ]
  },
  {
   "cell_type": "markdown",
   "metadata": {},
   "source": [
    "First, create a new string containing just the previous text file. Else we'll duplicate the text file."
   ]
  },
  {
   "cell_type": "code",
   "execution_count": 31,
   "metadata": {},
   "outputs": [
    {
     "name": "stdout",
     "output_type": "stream",
     "text": [
      "### h11_short.tif\n",
      "### First Frame ID: 011\n",
      "### Last Frame ID: 156\n",
      "### Contact Frame ID: 072\n",
      "### Leave Frame ID: 092\n",
      "### Angle:\n"
     ]
    }
   ],
   "source": [
    "with open(RESULT_DIR +\"/info.txt\", \"r+\") as f:\n",
    "    texts = f.readlines()\n",
    "if len(texts)>44:\n",
    "    text = \"\".join(texts[:-6])\n",
    "else:\n",
    "    text = \"\".join(texts)\n",
    "print(text[:125])\n",
    "all_text = text+information"
   ]
  },
  {
   "cell_type": "code",
   "execution_count": 32,
   "metadata": {},
   "outputs": [
    {
     "data": {
      "text/plain": [
       "43"
      ]
     },
     "execution_count": 32,
     "metadata": {},
     "output_type": "execute_result"
    }
   ],
   "source": [
    "len(texts)"
   ]
  },
  {
   "cell_type": "code",
   "execution_count": 33,
   "metadata": {},
   "outputs": [],
   "source": [
    "with open(RESULT_DIR +\"/info.txt\", \"w\") as f:\n",
    "    f.writelines(all_text)"
   ]
  },
  {
   "cell_type": "markdown",
   "metadata": {},
   "source": [
    "### Save the DataFrame"
   ]
  },
  {
   "cell_type": "code",
   "execution_count": 34,
   "metadata": {},
   "outputs": [],
   "source": [
    "df_final.to_csv(RESULT_DIR + f\"/{sequence}_final.csv\", index=False)"
   ]
  }
 ],
 "metadata": {
  "kernelspec": {
   "display_name": "Python 3.7.13 ('data-science')",
   "language": "python",
   "name": "python3"
  },
  "language_info": {
   "codemirror_mode": {
    "name": "ipython",
    "version": 3
   },
   "file_extension": ".py",
   "mimetype": "text/x-python",
   "name": "python",
   "nbconvert_exporter": "python",
   "pygments_lexer": "ipython3",
   "version": "3.7.13"
  },
  "orig_nbformat": 4,
  "vscode": {
   "interpreter": {
    "hash": "2efee1efa502125d01e6b4768ba06d9453d29f3642bfd14ad5d4a769de82e88c"
   }
  }
 },
 "nbformat": 4,
 "nbformat_minor": 2
}
