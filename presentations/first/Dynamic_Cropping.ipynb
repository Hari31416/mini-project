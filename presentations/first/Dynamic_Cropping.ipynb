{
 "cells": [
  {
   "cell_type": "code",
   "execution_count": null,
   "metadata": {},
   "outputs": [],
   "source": [
    "from extract_center import CenterExtracter\n",
    "from run import Run\n",
    "from misc_tools import Plotter\n",
    "import os, glob\n",
    "import imageio.v2 as imageio"
   ]
  },
  {
   "cell_type": "code",
   "execution_count": null,
   "metadata": {},
   "outputs": [],
   "source": [
    "DATA_DIR = \"../../data/images1\"\n",
    "SAVE_DIR = \"dynamic_cropping\""
   ]
  },
  {
   "cell_type": "code",
   "execution_count": null,
   "metadata": {},
   "outputs": [],
   "source": [
    "c = CenterExtracter()\n",
    "r = Run(DATA_DIR, SAVE_DIR)\n",
    "p = Plotter(df=None)"
   ]
  },
  {
   "cell_type": "code",
   "execution_count": null,
   "metadata": {},
   "outputs": [],
   "source": [
    "images = r.get_images()"
   ]
  },
  {
   "cell_type": "code",
   "execution_count": 5,
   "metadata": {},
   "outputs": [],
   "source": [
    "def make_video(dir=\"temp\", name=\"video.mp4\", delete=False):\n",
    "    images = []\n",
    "    files = glob.glob(f\"{dir}\\*.png\")\n",
    "    for file in files:\n",
    "        images.append(imageio.imread(file))\n",
    "    if name.endswith(\".mp4\"):\n",
    "        imageio.mimsave(f\"{dir}\\{name}\", images)\n",
    "    else:\n",
    "        imageio.mimsave(f\"{dir}\\{name}\", images, duration=0.1)\n",
    "    if delete:\n",
    "        for file in files:\n",
    "            os.remove(file)"
   ]
  },
  {
   "cell_type": "code",
   "execution_count": 6,
   "metadata": {},
   "outputs": [],
   "source": [
    "%%capture\n",
    "r.dynamic_cropping(\n",
    "    crop_included=False,\n",
    "    boundary_box=True,\n",
    "    plot=False,\n",
    "    strict=True,\n",
    "    save_dir=SAVE_DIR,\n",
    ")"
   ]
  },
  {
   "cell_type": "code",
   "execution_count": 7,
   "metadata": {},
   "outputs": [
    {
     "name": "stderr",
     "output_type": "stream",
     "text": [
      "IMAGEIO FFMPEG_WRITER WARNING: input image is not divisible by macro_block_size=16, resizing from (1000, 1000) to (1008, 1008) to ensure video compatibility with most codecs and players. To prevent resizing, make your input image divisible by the macro_block_size or set the macro_block_size to 1 (risking incompatibility).\n"
     ]
    }
   ],
   "source": [
    "make_video(dir=\"temp\", name=\"Dynamic Cropping.gif\")\n",
    "make_video(dir=\"temp\", name=\"Dynamic Cropping.mp4\", delete=True)"
   ]
  }
 ],
 "metadata": {
  "kernelspec": {
   "display_name": "Python 3.10.4 64-bit",
   "language": "python",
   "name": "python3"
  },
  "language_info": {
   "codemirror_mode": {
    "name": "ipython",
    "version": 3
   },
   "file_extension": ".py",
   "mimetype": "text/x-python",
   "name": "python",
   "nbconvert_exporter": "python",
   "pygments_lexer": "ipython3",
   "version": "3.10.4"
  },
  "orig_nbformat": 4,
  "vscode": {
   "interpreter": {
    "hash": "916dbcbb3f70747c44a77c7bcd40155683ae19c65e1c03b4aa3499c5328201f1"
   }
  }
 },
 "nbformat": 4,
 "nbformat_minor": 2
}
