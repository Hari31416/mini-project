{
 "cells": [
  {
   "cell_type": "markdown",
   "metadata": {},
   "source": [
    "# Outline of the Presentation"
   ]
  },
  {
   "cell_type": "markdown",
   "metadata": {},
   "source": [
    "1. Introduction\n",
    "    - The Problem\n",
    "    - Background Information\n",
    "        - How Computor Store Images\n",
    "        - Various Types of Image\n",
    "        - The Color Channel\n",
    "2. Our Solution\n",
    "    - Preprocessing\n",
    "       - Load Image\n",
    "       - Cropping\n",
    "       - Thresholding\n",
    "       - Subtracting (Used later)\n",
    "     - The Main Method\n",
    "       - Working of the Main Method\n",
    "     - Problems with the Main Method\n",
    "       - The Needle\n",
    "       - The Thin Film\n",
    "     - Partial Solution to these problems using Dynamic Cropping\n",
    "       - Working of Dynamic Cropping\n",
    "   - More Robust Methods\n",
    "     - Subtracting Image and then using the Main Method\n",
    "     - Fitting an Ellipse to the Image\n",
    "       - Determining the coordinates\n",
    "       - Fitting the ellipse\n",
    "3. Extracting Data and Preliminary Analysis\n",
    "    - Creating Modules\n",
    "      - Why Modules?\n",
    "        - Extracting data in a few lines of codes\n",
    "        - Easier to debug\n",
    "        - Easier to work when get more videos\n",
    "      - The `CenterExtracter` class\n",
    "      - The `Run` class\n",
    "      - The `Plotter` and `Smoother` classes\n",
    "      - Using the `CenterExtracter` and  `Run` modules to extract data\n",
    "    - Preliminary Analysis\n",
    "     - Using the `Smoother` class for smoothing\n",
    "     - Using the `Plotter` class for plotting\n",
    "       - Plots of x, y, vx, vy, r1, r2 and theta against time\n",
    "       - Plots of x vs y; vx vs vy\n",
    "4. What Next?\n",
    "   - Increasing The Accuracy\n",
    "     - Using grayscale image instead of binary image\n",
    "     - Plotting intensity vs time and using it to determine the coordinates\n",
    "   - Smoothing the data\n",
    "     - Using convolution to smooth the data"
   ]
  }
 ],
 "metadata": {
  "language_info": {
   "name": "python"
  },
  "orig_nbformat": 4
 },
 "nbformat": 4,
 "nbformat_minor": 2
}
